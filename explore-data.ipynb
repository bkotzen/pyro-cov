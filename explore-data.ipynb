{
 "cells": [
  {
   "cell_type": "code",
   "execution_count": 1,
   "metadata": {},
   "outputs": [
    {
     "name": "stdout",
     "output_type": "stream",
     "text": [
      "total 7190328\r\n",
      "-rw-------@ 1 fobermey  staff       50752 Aug 30 21:22 County_8_11_2020.csv\r\n",
      "-rw-------@ 1 fobermey  staff  3681260418 Aug 30 21:29 GTR4G_posterior.trees\r\n",
      "-r--------  0 fobermey  staff           0 Dec 31  1969 Icon?\r\n",
      "-rw-------  1 fobermey  staff          78 Sep  1 17:45 README.txt\r\n",
      "-rw-------@ 1 fobermey  staff        4649 Aug 31 09:39 demographics_by_zip_2013_ACS.tsv\r\n",
      "-rw-------@ 1 fobermey  staff       16126 Aug 30 21:24 sample_county.tsv\r\n",
      "-rw-------@ 1 fobermey  staff       47319 Aug 30 21:24 trimmed_alignment.fasta_ML_tree_from_iqtree.contree\r\n"
     ]
    }
   ],
   "source": [
    "!ls -l data/"
   ]
  },
  {
   "cell_type": "markdown",
   "metadata": {},
   "source": [
    "- `GTR4G_posterior.trees` appears to be in NEXUS format\n",
    "- `trimmed_alignment.fasta_ML_tree_from_iqtree.cont` appears to be in Newick format"
   ]
  },
  {
   "cell_type": "code",
   "execution_count": 2,
   "metadata": {},
   "outputs": [],
   "source": [
    "import pandas as pd\n",
    "from Bio import Phylo"
   ]
  },
  {
   "cell_type": "code",
   "execution_count": 3,
   "metadata": {},
   "outputs": [
    {
     "data": {
      "text/html": [
       "<div>\n",
       "<style scoped>\n",
       "    .dataframe tbody tr th:only-of-type {\n",
       "        vertical-align: middle;\n",
       "    }\n",
       "\n",
       "    .dataframe tbody tr th {\n",
       "        vertical-align: top;\n",
       "    }\n",
       "\n",
       "    .dataframe thead th {\n",
       "        text-align: right;\n",
       "    }\n",
       "</style>\n",
       "<table border=\"1\" class=\"dataframe\">\n",
       "  <thead>\n",
       "    <tr style=\"text-align: right;\">\n",
       "      <th></th>\n",
       "      <th>Date</th>\n",
       "      <th>County</th>\n",
       "      <th>Count</th>\n",
       "      <th>Deaths</th>\n",
       "    </tr>\n",
       "  </thead>\n",
       "  <tbody>\n",
       "    <tr>\n",
       "      <th>0</th>\n",
       "      <td>4/17/2020</td>\n",
       "      <td>Barnstable</td>\n",
       "      <td>582.0</td>\n",
       "      <td>NaN</td>\n",
       "    </tr>\n",
       "    <tr>\n",
       "      <th>1</th>\n",
       "      <td>4/17/2020</td>\n",
       "      <td>Berkshire</td>\n",
       "      <td>390.0</td>\n",
       "      <td>NaN</td>\n",
       "    </tr>\n",
       "    <tr>\n",
       "      <th>2</th>\n",
       "      <td>4/17/2020</td>\n",
       "      <td>Bristol</td>\n",
       "      <td>1693.0</td>\n",
       "      <td>NaN</td>\n",
       "    </tr>\n",
       "    <tr>\n",
       "      <th>3</th>\n",
       "      <td>4/17/2020</td>\n",
       "      <td>Dukes</td>\n",
       "      <td>14.0</td>\n",
       "      <td>NaN</td>\n",
       "    </tr>\n",
       "    <tr>\n",
       "      <th>4</th>\n",
       "      <td>4/17/2020</td>\n",
       "      <td>Essex</td>\n",
       "      <td>4668.0</td>\n",
       "      <td>NaN</td>\n",
       "    </tr>\n",
       "  </tbody>\n",
       "</table>\n",
       "</div>"
      ],
      "text/plain": [
       "        Date      County   Count  Deaths\n",
       "0  4/17/2020  Barnstable   582.0     NaN\n",
       "1  4/17/2020   Berkshire   390.0     NaN\n",
       "2  4/17/2020     Bristol  1693.0     NaN\n",
       "3  4/17/2020       Dukes    14.0     NaN\n",
       "4  4/17/2020       Essex  4668.0     NaN"
      ]
     },
     "execution_count": 3,
     "metadata": {},
     "output_type": "execute_result"
    }
   ],
   "source": [
    "incidence_df = pd.read_csv(\"data/County_8_11_2020.csv\")\n",
    "incidence_df.head()"
   ]
  },
  {
   "cell_type": "code",
   "execution_count": 4,
   "metadata": {},
   "outputs": [
    {
     "data": {
      "text/html": [
       "<div>\n",
       "<style scoped>\n",
       "    .dataframe tbody tr th:only-of-type {\n",
       "        vertical-align: middle;\n",
       "    }\n",
       "\n",
       "    .dataframe tbody tr th {\n",
       "        vertical-align: top;\n",
       "    }\n",
       "\n",
       "    .dataframe thead th {\n",
       "        text-align: right;\n",
       "    }\n",
       "</style>\n",
       "<table border=\"1\" class=\"dataframe\">\n",
       "  <thead>\n",
       "    <tr style=\"text-align: right;\">\n",
       "      <th></th>\n",
       "      <th>sample_id</th>\n",
       "      <th>county</th>\n",
       "    </tr>\n",
       "  </thead>\n",
       "  <tbody>\n",
       "    <tr>\n",
       "      <th>0</th>\n",
       "      <td>MA_MGH_00003</td>\n",
       "      <td>Middlesex</td>\n",
       "    </tr>\n",
       "    <tr>\n",
       "      <th>1</th>\n",
       "      <td>MA_MGH_00004</td>\n",
       "      <td>Middlesex</td>\n",
       "    </tr>\n",
       "    <tr>\n",
       "      <th>2</th>\n",
       "      <td>MA_MGH_00005</td>\n",
       "      <td>Norfolk</td>\n",
       "    </tr>\n",
       "    <tr>\n",
       "      <th>3</th>\n",
       "      <td>MA_MGH_00006</td>\n",
       "      <td>Suffolk</td>\n",
       "    </tr>\n",
       "    <tr>\n",
       "      <th>4</th>\n",
       "      <td>MA_MGH_00013</td>\n",
       "      <td>Middlesex</td>\n",
       "    </tr>\n",
       "  </tbody>\n",
       "</table>\n",
       "</div>"
      ],
      "text/plain": [
       "      sample_id     county\n",
       "0  MA_MGH_00003  Middlesex\n",
       "1  MA_MGH_00004  Middlesex\n",
       "2  MA_MGH_00005    Norfolk\n",
       "3  MA_MGH_00006    Suffolk\n",
       "4  MA_MGH_00013  Middlesex"
      ]
     },
     "execution_count": 4,
     "metadata": {},
     "output_type": "execute_result"
    }
   ],
   "source": [
    "sample_df = pd.read_csv(\"data/sample_county.tsv\", sep=\"\\t\")\n",
    "sample_df.head()"
   ]
  },
  {
   "cell_type": "code",
   "execution_count": 5,
   "metadata": {},
   "outputs": [
    {
     "data": {
      "text/html": [
       "<div>\n",
       "<style scoped>\n",
       "    .dataframe tbody tr th:only-of-type {\n",
       "        vertical-align: middle;\n",
       "    }\n",
       "\n",
       "    .dataframe tbody tr th {\n",
       "        vertical-align: top;\n",
       "    }\n",
       "\n",
       "    .dataframe thead th {\n",
       "        text-align: right;\n",
       "    }\n",
       "</style>\n",
       "<table border=\"1\" class=\"dataframe\">\n",
       "  <thead>\n",
       "    <tr style=\"text-align: right;\">\n",
       "      <th></th>\n",
       "      <th>region</th>\n",
       "      <th>value1</th>\n",
       "      <th>total_population</th>\n",
       "      <th>percent_white</th>\n",
       "      <th>percent_black</th>\n",
       "      <th>percent_asian</th>\n",
       "      <th>percent_hispanic</th>\n",
       "      <th>per_capita_income</th>\n",
       "      <th>median_rent</th>\n",
       "      <th>median_age</th>\n",
       "    </tr>\n",
       "  </thead>\n",
       "  <tbody>\n",
       "    <tr>\n",
       "      <th>0</th>\n",
       "      <td>1704</td>\n",
       "      <td>1</td>\n",
       "      <td>NaN</td>\n",
       "      <td>NaN</td>\n",
       "      <td>NaN</td>\n",
       "      <td>NaN</td>\n",
       "      <td>NaN</td>\n",
       "      <td>NaN</td>\n",
       "      <td>NaN</td>\n",
       "      <td>NaN</td>\n",
       "    </tr>\n",
       "    <tr>\n",
       "      <th>1</th>\n",
       "      <td>1719</td>\n",
       "      <td>1</td>\n",
       "      <td>5048.0</td>\n",
       "      <td>81.0</td>\n",
       "      <td>0.0</td>\n",
       "      <td>17.0</td>\n",
       "      <td>1.0</td>\n",
       "      <td>61461.0</td>\n",
       "      <td>842.0</td>\n",
       "      <td>43.7</td>\n",
       "    </tr>\n",
       "    <tr>\n",
       "      <th>2</th>\n",
       "      <td>1730</td>\n",
       "      <td>4</td>\n",
       "      <td>13649.0</td>\n",
       "      <td>81.0</td>\n",
       "      <td>2.0</td>\n",
       "      <td>12.0</td>\n",
       "      <td>4.0</td>\n",
       "      <td>48886.0</td>\n",
       "      <td>1445.0</td>\n",
       "      <td>43.9</td>\n",
       "    </tr>\n",
       "    <tr>\n",
       "      <th>3</th>\n",
       "      <td>1748</td>\n",
       "      <td>1</td>\n",
       "      <td>15271.0</td>\n",
       "      <td>92.0</td>\n",
       "      <td>0.0</td>\n",
       "      <td>5.0</td>\n",
       "      <td>2.0</td>\n",
       "      <td>56899.0</td>\n",
       "      <td>1165.0</td>\n",
       "      <td>39.5</td>\n",
       "    </tr>\n",
       "    <tr>\n",
       "      <th>4</th>\n",
       "      <td>1752</td>\n",
       "      <td>1</td>\n",
       "      <td>38842.0</td>\n",
       "      <td>75.0</td>\n",
       "      <td>2.0</td>\n",
       "      <td>5.0</td>\n",
       "      <td>11.0</td>\n",
       "      <td>35335.0</td>\n",
       "      <td>977.0</td>\n",
       "      <td>39.5</td>\n",
       "    </tr>\n",
       "  </tbody>\n",
       "</table>\n",
       "</div>"
      ],
      "text/plain": [
       "   region  value1  total_population  percent_white  percent_black  \\\n",
       "0    1704       1               NaN            NaN            NaN   \n",
       "1    1719       1            5048.0           81.0            0.0   \n",
       "2    1730       4           13649.0           81.0            2.0   \n",
       "3    1748       1           15271.0           92.0            0.0   \n",
       "4    1752       1           38842.0           75.0            2.0   \n",
       "\n",
       "   percent_asian  percent_hispanic  per_capita_income  median_rent  median_age  \n",
       "0            NaN               NaN                NaN          NaN         NaN  \n",
       "1           17.0               1.0            61461.0        842.0        43.7  \n",
       "2           12.0               4.0            48886.0       1445.0        43.9  \n",
       "3            5.0               2.0            56899.0       1165.0        39.5  \n",
       "4            5.0              11.0            35335.0        977.0        39.5  "
      ]
     },
     "execution_count": 5,
     "metadata": {},
     "output_type": "execute_result"
    }
   ],
   "source": [
    "demo_df = pd.read_csv(\"data/demographics_by_zip_2013_ACS.tsv\", sep=\"\\t\")\n",
    "demo_df.head()"
   ]
  },
  {
   "cell_type": "code",
   "execution_count": 6,
   "metadata": {},
   "outputs": [
    {
     "data": {
      "text/plain": [
       "772"
      ]
     },
     "execution_count": 6,
     "metadata": {},
     "output_type": "execute_result"
    }
   ],
   "source": [
    "ml_tree = Phylo.read(\"data/trimmed_alignment.fasta_ML_tree_from_iqtree.contree\",\n",
    "                     format=\"newick\")\n",
    "ml_tree.count_terminals()"
   ]
  },
  {
   "cell_type": "markdown",
   "metadata": {},
   "source": [
    "The posterior tree file is too large for ``Bio.Phylo``, so we implement a custom parser."
   ]
  },
  {
   "cell_type": "code",
   "execution_count": 7,
   "metadata": {},
   "outputs": [],
   "source": [
    "from pyrophylo.io import read_nexus_trees\n",
    "posterior_trees = read_nexus_trees(\"data/GTR4G_posterior.trees\", format=\"newick\",\n",
    "                                   max_num_trees=10)"
   ]
  },
  {
   "cell_type": "code",
   "execution_count": 8,
   "metadata": {},
   "outputs": [
    {
     "data": {
      "text/plain": [
       "772"
      ]
     },
     "execution_count": 8,
     "metadata": {},
     "output_type": "execute_result"
    }
   ],
   "source": [
    "tree = next(posterior_trees)\n",
    "tree.count_terminals()"
   ]
  },
  {
   "cell_type": "markdown",
   "metadata": {},
   "source": [
    "We also implement a custom conversion to PyTorch. To convert all trees once, run\n",
    "```sh\n",
    "python preprocess_trees.py\n",
    "```\n",
    "We can then load the trees as a batched ``Phylogeny`` object."
   ]
  },
  {
   "cell_type": "code",
   "execution_count": 9,
   "metadata": {},
   "outputs": [
    {
     "name": "stdout",
     "output_type": "stream",
     "text": [
      "total 4822712\r\n",
      "4822712 -rw-r--r--  1 fobermey  staff   2.3G Sep  1 17:42 GTR4G_posterior.pt\r\n"
     ]
    }
   ],
   "source": [
    "!ls -lsh results/"
   ]
  },
  {
   "cell_type": "code",
   "execution_count": 10,
   "metadata": {},
   "outputs": [],
   "source": [
    "import torch\n",
    "phylo = torch.load(\"results/GTR4G_posterior.pt\")"
   ]
  },
  {
   "cell_type": "code",
   "execution_count": 11,
   "metadata": {},
   "outputs": [
    {
     "name": "stdout",
     "output_type": "stream",
     "text": [
      "<class 'pyrophylo.phylo.Phylogeny'>\n",
      "100001\n",
      "torch.Size([100001])\n",
      "1543\n",
      "772\n"
     ]
    }
   ],
   "source": [
    "print(type(phylo))\n",
    "print(len(phylo))\n",
    "print(phylo.batch_shape)\n",
    "print(phylo.num_nodes)\n",
    "print(phylo.num_leaves)"
   ]
  },
  {
   "cell_type": "code",
   "execution_count": null,
   "metadata": {},
   "outputs": [],
   "source": []
  }
 ],
 "metadata": {
  "kernelspec": {
   "display_name": "Python 3",
   "language": "python",
   "name": "python3"
  },
  "language_info": {
   "codemirror_mode": {
    "name": "ipython",
    "version": 3
   },
   "file_extension": ".py",
   "mimetype": "text/x-python",
   "name": "python",
   "nbconvert_exporter": "python",
   "pygments_lexer": "ipython3",
   "version": "3.7.0"
  }
 },
 "nbformat": 4,
 "nbformat_minor": 4
}
