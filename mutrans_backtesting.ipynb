{
 "cells": [
  {
   "cell_type": "markdown",
   "metadata": {},
   "source": [
    "# Backtesting\n",
    "\n",
    "This notebook generates plots for the backtesting. It requires that the script `run_backtesting.sh` has been run prior to execution."
   ]
  },
  {
   "cell_type": "code",
   "execution_count": null,
   "metadata": {},
   "outputs": [],
   "source": [
    "%load_ext autoreload\n",
    "%autoreload 2"
   ]
  },
  {
   "cell_type": "code",
   "execution_count": null,
   "metadata": {},
   "outputs": [],
   "source": [
    "import datetime\n",
    "import math\n",
    "import os\n",
    "import pickle\n",
    "import re\n",
    "import logging\n",
    "from collections import Counter, OrderedDict, defaultdict\n",
    "import numpy as np\n",
    "import matplotlib\n",
    "import matplotlib.pyplot as plt\n",
    "import pandas as pd\n",
    "import torch\n",
    "import pyro.distributions as dist\n",
    "from pyrocov import mutrans, pangolin, stats\n",
    "from pyrocov.stats import normal_log10bf\n",
    "from pyrocov.util import pretty_print, pearson_correlation\n",
    "import seaborn as sns\n",
    "import matplotlib.colors as mcolors\n",
    "import matplotlib.cm as cm\n",
    "import numpy as np"
   ]
  },
  {
   "cell_type": "code",
   "execution_count": null,
   "metadata": {},
   "outputs": [],
   "source": [
    "# configure logging\n",
    "logging.basicConfig(format=\"%(relativeCreated) 9d %(message)s\", level=logging.INFO)\n",
    "# This line can be used to modify logging as required later in the notebook\n",
    "#logging.getLogger().setLevel(logging.INFO)"
   ]
  },
  {
   "cell_type": "code",
   "execution_count": null,
   "metadata": {},
   "outputs": [],
   "source": [
    "# set matplotlib params\n",
    "matplotlib.rcParams[\"figure.dpi\"] = 200\n",
    "matplotlib.rcParams['figure.figsize'] = [8, 8]\n",
    "matplotlib.rcParams[\"axes.edgecolor\"] = \"gray\"\n",
    "matplotlib.rcParams[\"savefig.bbox\"] = \"tight\"\n",
    "matplotlib.rcParams['font.family'] = 'sans-serif'\n",
    "matplotlib.rcParams['font.sans-serif'] = ['Arial', 'Avenir', 'DejaVu Sans']"
   ]
  },
  {
   "cell_type": "markdown",
   "metadata": {},
   "source": [
    "## Load data"
   ]
  },
  {
   "cell_type": "code",
   "execution_count": null,
   "metadata": {},
   "outputs": [],
   "source": [
    "with open(\"results/gisaid.columns.pkl\", \"rb\") as f:\n",
    "    columns = pickle.load(f)\n",
    "print(\"Loaded data from {} samples\".format(len(columns[\"lineage\"])))"
   ]
  },
  {
   "cell_type": "code",
   "execution_count": null,
   "metadata": {},
   "outputs": [],
   "source": [
    "# inspect the loaded data\n",
    "print(columns.keys())\n",
    "print('---')\n",
    "for k in columns.keys():\n",
    "    print(k, columns[k][0:2])"
   ]
  },
  {
   "cell_type": "markdown",
   "metadata": {},
   "source": [
    "## Load trained models"
   ]
  },
  {
   "cell_type": "code",
   "execution_count": null,
   "metadata": {},
   "outputs": [],
   "source": [
    "fits = torch.load(\"results/mutrans.backtesting.pt\", map_location=\"cpu\")"
   ]
  },
  {
   "cell_type": "code",
   "execution_count": null,
   "metadata": {},
   "outputs": [],
   "source": [
    "# print info on available models and what the keys are\n",
    "if False:\n",
    "    for key in fits:\n",
    "        print(key)\n",
    "    first_key = list(fits.keys())[0]\n",
    "    fits[first_key].keys()"
   ]
  },
  {
   "cell_type": "code",
   "execution_count": null,
   "metadata": {},
   "outputs": [],
   "source": [
    "# Print the shape of the weekly strains in each fit\n",
    "if False:\n",
    "    for fit in fits.values():\n",
    "        print(fit[\"weekly_strains_shape\"])"
   ]
  },
  {
   "cell_type": "markdown",
   "metadata": {},
   "source": [
    "Scale `coef` by 1/100 in all results."
   ]
  },
  {
   "cell_type": "code",
   "execution_count": null,
   "metadata": {},
   "outputs": [],
   "source": [
    "ALREADY_SCALED = set()\n",
    "\n",
    "def scale_tensors(x, names={\"coef\"}, scale=0.01, prefix=\"\", verbose=True):\n",
    "    if id(x) in ALREADY_SCALED:\n",
    "        return\n",
    "    if isinstance(x, dict):\n",
    "        for k, v in list(x.items()):\n",
    "            if k in names:\n",
    "                if verbose:\n",
    "                    print(f\"{prefix}.{k}\")\n",
    "                x[k] = v * scale\n",
    "            elif k == \"diagnostics\":\n",
    "                continue\n",
    "            else:\n",
    "                scale_tensors(v, names, scale, f\"{prefix}.{k}\", verbose=verbose)\n",
    "    ALREADY_SCALED.add(id(x))\n",
    "                \n",
    "scale_tensors(fits, verbose=False)"
   ]
  },
  {
   "cell_type": "markdown",
   "metadata": {},
   "source": [
    "# Forecasting"
   ]
  },
  {
   "cell_type": "code",
   "execution_count": null,
   "metadata": {},
   "outputs": [],
   "source": [
    "import importlib\n",
    "from pyrocov import mutrans_helpers"
   ]
  },
  {
   "cell_type": "code",
   "execution_count": null,
   "metadata": {},
   "outputs": [],
   "source": [
    "# customize logging\n",
    "if False:\n",
    "    logging.getLogger().setLevel(logging.ERROR)"
   ]
  },
  {
   "cell_type": "markdown",
   "metadata": {},
   "source": [
    "## Day 542: Last available"
   ]
  },
  {
   "cell_type": "code",
   "execution_count": null,
   "metadata": {},
   "outputs": [],
   "source": [
    "if False:\n",
    "    logging.getLogger().setLevel(logging.INFO)"
   ]
  },
  {
   "cell_type": "code",
   "execution_count": null,
   "metadata": {},
   "outputs": [],
   "source": [
    "importlib.reload(mutrans_helpers)\n",
    "\n",
    "i = len(fits) - 1\n",
    "key, latest_fit = mutrans_helpers.get_fit_by_index(fits, i)\n",
    "print(f\"Max days of model: {key[8]}\")\n",
    "\n",
    "strains_from_manuscript_figure = ['B.1.1.7','B.1.617.2','B.1.177','B.1.429','P.1',\n",
    "                                 'B.1.1','B.1','B.1.427','B.1.2','B.1.177.4']\n",
    "\n",
    "matplotlib.rcParams['figure.figsize'] = [10, 4]\n",
    "mutrans_helpers.plot_fit_forecasts(\n",
    "    fit=latest_fit, \n",
    "    strains_to_show=strains_from_manuscript_figure,\n",
    "    queries=['England'],\n",
    "    filename=\"paper/forecasts/forecast_day_542.png\"\n",
    ")"
   ]
  },
  {
   "cell_type": "markdown",
   "metadata": {},
   "source": [
    "## Day 346:  B.1.1.7 in UK"
   ]
  },
  {
   "cell_type": "code",
   "execution_count": null,
   "metadata": {},
   "outputs": [],
   "source": [
    "importlib.reload(mutrans_helpers)\n",
    "\n",
    "i = 14\n",
    "key, fit_d346 = mutrans_helpers.get_fit_by_index(fits, i)\n",
    "print(f\"Max days of model: {key[8]}\")\n",
    "\n",
    "strains_from_manuscript_figure = ['B.1.1.7','B.1.617.2','B.1.177','B.1.429','P.1',\n",
    "                                 'B.1.1','B.1','B.1.427','B.1.2','B.1.177.4']\n",
    "\n",
    "matplotlib.rcParams['figure.figsize'] = [10, 4]\n",
    "mutrans_helpers.plot_fit_forecasts(\n",
    "    fit=fit_d346, \n",
    "    strains_to_show=strains_from_manuscript_figure,queries=['England'],\n",
    "    future_fit=latest_fit,\n",
    "    filename=\"paper/forecasts/forecast_day_346.png\"\n",
    ")"
   ]
  },
  {
   "cell_type": "code",
   "execution_count": null,
   "metadata": {},
   "outputs": [],
   "source": [
    "q = {\"England\": ['B.1','B.1.1.7','B.1.177','B.1.177.4']}\n",
    "\n",
    "fit_eval_d346 = mutrans_helpers.evaluate_fit_forecast(fit_d346, latest_fit)"
   ]
  },
  {
   "cell_type": "code",
   "execution_count": null,
   "metadata": {},
   "outputs": [],
   "source": [
    "# Plot MAE\n",
    "plt.plot(fit_eval_d346['mae'])\n",
    "plt.ylim(0, None)\n",
    "plt.ylabel(\"MAE\")\n",
    "plt.xlabel(\"Time into future\");"
   ]
  },
  {
   "cell_type": "code",
   "execution_count": null,
   "metadata": {},
   "outputs": [],
   "source": [
    "# Plot KL\n",
    "plt.plot(fit_eval_d346['kl'])\n",
    "plt.ylim(0, None)\n",
    "plt.ylabel(\"KL divergence\")\n",
    "plt.xlabel(\"Time into future\");"
   ]
  },
  {
   "cell_type": "code",
   "execution_count": null,
   "metadata": {},
   "outputs": [],
   "source": [
    "# Entropy\n",
    "if False:\n",
    "    plt.plot(-fit_eval_d346['log_likelihood'], \"r-\");\n",
    "    plt.plot(fit_eval_d346['entropy'], \"k--\");\n",
    "    plt.plot(fit_eval_d346['kl'], \"g--\");"
   ]
  },
  {
   "cell_type": "code",
   "execution_count": null,
   "metadata": {},
   "outputs": [],
   "source": [
    "if False:\n",
    "    plt.plot(fit_eval_d346['log_likelihood'].exp(), \"r-\");\n",
    "    plt.plot((-fit_eval_d346['entropy']).exp(), \"k--\");"
   ]
  },
  {
   "cell_type": "markdown",
   "metadata": {},
   "source": [
    "# Day 514: B.1.617.2 in UK"
   ]
  },
  {
   "cell_type": "code",
   "execution_count": null,
   "metadata": {},
   "outputs": [],
   "source": [
    "i = 26\n",
    "key, fit_d514 = mutrans_helpers.get_fit_by_index(fits, i)\n",
    "print(f\"Max days of model: {key[8]}\")\n",
    "\n",
    "strains_from_manuscript_figure = ['B.1.1.7','B.1.617.2','B.1.177','B.1.429','P.1',\n",
    "                                 'B.1.1','B.1','B.1.427','B.1.2','B.1.177.4']\n",
    "\n",
    "matplotlib.rcParams['figure.figsize'] = [10, 4]\n",
    "mutrans_helpers.plot_fit_forecasts(\n",
    "    fit=fit_d514, \n",
    "    strains_to_show=strains_from_manuscript_figure,\n",
    "    queries=['England'],\n",
    "    future_fit=latest_fit,\n",
    "    filename='paper/forecasts/forecast_day_514.png',\n",
    "    forecast_periods_plot=2,\n",
    ")"
   ]
  },
  {
   "cell_type": "code",
   "execution_count": null,
   "metadata": {},
   "outputs": [],
   "source": [
    "mutrans_helpers.evaluate_fit_forecast(fit_d514, latest_fit)"
   ]
  },
  {
   "cell_type": "code",
   "execution_count": null,
   "metadata": {},
   "outputs": [],
   "source": [
    "evaluations = [(k,mutrans_helpers.evaluate_fit_forecast(f, latest_fit)) for k,f in fits.items()]"
   ]
  },
  {
   "cell_type": "code",
   "execution_count": null,
   "metadata": {},
   "outputs": [],
   "source": [
    "x = np.linspace(0.0, 1.0, len(evaluations)+1)"
   ]
  },
  {
   "cell_type": "code",
   "execution_count": null,
   "metadata": {},
   "outputs": [],
   "source": [
    "cmap = matplotlib.cm.get_cmap('rainbow')"
   ]
  },
  {
   "cell_type": "code",
   "execution_count": null,
   "metadata": {},
   "outputs": [],
   "source": [
    "nValues = [k[8] for k,v in evaluations]\n",
    "nValues = np.array(nValues)"
   ]
  },
  {
   "cell_type": "code",
   "execution_count": null,
   "metadata": {},
   "outputs": [],
   "source": [
    "# setup the normalization and the colormap\n",
    "normalize = mcolors.Normalize(vmin=nValues.min(), vmax=nValues.max())\n",
    "colormap = cm.jet"
   ]
  },
  {
   "cell_type": "code",
   "execution_count": null,
   "metadata": {},
   "outputs": [],
   "source": [
    "for i,(k,v) in enumerate(evaluations):\n",
    "    model_days = k[8]\n",
    "    kl = v['kl']\n",
    "    plt.plot(kl, color=colormap(normalize(model_days)))\n",
    "\n",
    "# setup the colorbar\n",
    "scalarmappaple = cm.ScalarMappable(norm=normalize, cmap=colormap)\n",
    "scalarmappaple.set_array(nValues)\n",
    "plt.colorbar(scalarmappaple, label='Max training day of model')\n",
    "\n",
    "plt.xlim(0, 11)\n",
    "\n",
    "plt.xticks([0, 2, 4, 6, 8, 10], labels=[\"0\", \"4\", \"8\", \"12\", \"16\", \"20\"])\n",
    "\n",
    "plt.xlabel('Forecasted weeks ahead')\n",
    "plt.ylabel('KL Divergence (nats)')\n",
    "\n",
    "plt.show()"
   ]
  },
  {
   "cell_type": "code",
   "execution_count": null,
   "metadata": {},
   "outputs": [],
   "source": [
    "# Alternative representation of KL divergence\n",
    "\n",
    "start_days = []\n",
    "forecast_days = []\n",
    "kl = []\n",
    "\n",
    "for i,(k,v) in enumerate(evaluations):\n",
    "    start_days_c = k[8]\n",
    "    kl_vals = v['kl']\n",
    "    for j, p in enumerate(kl_vals):\n",
    "        start_days.append(start_days_c)\n",
    "        forecast_days.append(j)\n",
    "        kl.append(p.numpy().item())\n",
    "\n",
    "df1 = pd.DataFrame({\"start\":start_days,\"forecast\":forecast_days,\"kl\":kl}).pivot(index='start', columns='forecast')"
   ]
  },
  {
   "cell_type": "code",
   "execution_count": null,
   "metadata": {},
   "outputs": [],
   "source": [
    "# generate heatmap\n",
    "sns.heatmap(df1.T.to_numpy())"
   ]
  },
  {
   "cell_type": "code",
   "execution_count": null,
   "metadata": {},
   "outputs": [],
   "source": [
    "# MAE"
   ]
  },
  {
   "cell_type": "code",
   "execution_count": null,
   "metadata": {},
   "outputs": [],
   "source": [
    "evaluations = [(k,mutrans_helpers.evaluate_fit_forecast(f, latest_fit)) for k,f in fits.items()]"
   ]
  },
  {
   "cell_type": "code",
   "execution_count": null,
   "metadata": {},
   "outputs": [],
   "source": [
    "for i,(k,v) in enumerate(evaluations):\n",
    "    model_days = k[8]\n",
    "    mae = v['mae']\n",
    "    plt.plot(mae, color=colormap(normalize(model_days)))\n",
    "\n",
    "# setup the colorbar\n",
    "scalarmappaple = cm.ScalarMappable(norm=normalize, cmap=colormap)\n",
    "scalarmappaple.set_array(nValues)\n",
    "plt.colorbar(scalarmappaple, label='Max training day of model')\n",
    "\n",
    "plt.xlim(0, 11)\n",
    "\n",
    "plt.xticks([0, 2, 4, 6, 8, 10], labels=[\"0\", \"4\", \"8\", \"12\", \"16\", \"20\"])\n",
    "\n",
    "plt.xlabel('Forecasted weeks ahead')\n",
    "plt.ylabel('Mean Absolute Error')\n",
    "\n",
    "plt.show()"
   ]
  },
  {
   "cell_type": "code",
   "execution_count": null,
   "metadata": {},
   "outputs": [],
   "source": [
    "evaluations = [(k,mutrans_helpers.evaluate_fit_forecast(f, latest_fit)) for k,f in fits.items()]"
   ]
  },
  {
   "cell_type": "code",
   "execution_count": null,
   "metadata": {},
   "outputs": [],
   "source": [
    "# Wasserstein distance\n",
    "\n",
    "for i,(k,v) in enumerate(evaluations):\n",
    "    model_days = k[8]\n",
    "    mae = v['wasserstein']\n",
    "    plt.plot(mae, color=colormap(normalize(model_days)))\n",
    "\n",
    "# setup the colorbar\n",
    "scalarmappaple = cm.ScalarMappable(norm=normalize, cmap=colormap)\n",
    "scalarmappaple.set_array(nValues)\n",
    "plt.colorbar(scalarmappaple, label='Max training day of model')\n",
    "\n",
    "plt.xlim(0, 11)\n",
    "\n",
    "plt.xticks([0, 2, 4, 6, 8, 10], labels=[\"0\", \"4\", \"8\", \"12\", \"16\", \"20\"])\n",
    "\n",
    "plt.xlabel('Forecasted weeks ahead')\n",
    "plt.ylabel('Wasserstein')\n",
    "\n",
    "plt.show()"
   ]
  },
  {
   "cell_type": "markdown",
   "metadata": {},
   "source": [
    "## Why is USA / California total sum going to zero at the end?"
   ]
  },
  {
   "cell_type": "code",
   "execution_count": null,
   "metadata": {},
   "outputs": [],
   "source": [
    "i = len(fits) - 1\n",
    "key, latest_fit = mutrans_helpers.get_fit_by_index(fits, i)\n",
    "print(f\"Max days of model: {key[8]}\")\n",
    "\n",
    "strains_from_manuscript_figure = ['AY.2','B.1.1.7','B.1.617.2','B.1.177','B.1.429','P.1']\n",
    "\n",
    "matplotlib.rcParams['figure.figsize'] = [10, 4]\n",
    "z = mutrans_helpers.plot_fit_forecasts(\n",
    "    fit=latest_fit, \n",
    "    strains_to_show=strains_from_manuscript_figure,\n",
    "    queries=['USA / California'],\n",
    ")"
   ]
  },
  {
   "cell_type": "markdown",
   "metadata": {},
   "source": [
    "## CA latest"
   ]
  },
  {
   "cell_type": "code",
   "execution_count": null,
   "metadata": {},
   "outputs": [],
   "source": [
    "def get_region_names(fit):\n",
    "    return fit['location_id']"
   ]
  },
  {
   "cell_type": "code",
   "execution_count": null,
   "metadata": {},
   "outputs": [],
   "source": [
    "def find_prevalent_strains(fit, region, n=20):\n",
    "    \"\"\"Given a fit and region finds top n strains\"\"\"\n",
    "    assert fit is not None\n",
    "    assert region is not None\n",
    "    \n",
    "    fc0 = mutrans_helpers.generate_forecast(fit)\n",
    "    \n",
    "    region_index = fc0['location_id'][region]\n",
    "    vals, indx = fit['mean']['probs'].max(0)\n",
    "    so = vals[region_index,].sort(descending=True).indices[0:n].numpy()\n",
    "    s0 = np.array(fit['lineage_id_inv'])[so].tolist()\n",
    "    \n",
    "    return s0\n",
    "    "
   ]
  },
  {
   "cell_type": "code",
   "execution_count": null,
   "metadata": {},
   "outputs": [],
   "source": [
    "def find_prevalent_strains(fit, query, n=20):\n",
    "    \"\"\"Given a fit and region finds top n strains\"\"\"\n",
    "    assert fit is not None\n",
    "    assert region is not None\n",
    "    \n",
    "    fc0 = mutrans_helpers.generate_forecast(fit)\n",
    "    \n",
    "    \n",
    "    location_id = fc0['location_id']\n",
    "    \n",
    "    \n",
    "    ids = torch.tensor([i for name, i in location_id.items() if query in name])\n",
    "    \n",
    "    #region_index = fc0['location_id'][region]\n",
    "    \n",
    "    vals, indx = fit['mean']['probs'].index_select(-2, ids).sum(-2).max(0)\n",
    "    \n",
    "    #so = vals[region_index,].sort(descending=True).indices[0:n].numpy()\n",
    "    so = vals.sort(descending=True).indices[0:n].numpy()\n",
    "    s0 = np.array(fit['lineage_id_inv'])[so].tolist()\n",
    "    \n",
    "    return s0"
   ]
  },
  {
   "cell_type": "code",
   "execution_count": null,
   "metadata": {},
   "outputs": [],
   "source": [
    "ca_top_strains = find_prevalent_strains_2(latest_fit, 'North America / USA / California')"
   ]
  },
  {
   "cell_type": "code",
   "execution_count": null,
   "metadata": {},
   "outputs": [],
   "source": [
    "ca_top_strains"
   ]
  },
  {
   "cell_type": "markdown",
   "metadata": {},
   "source": [
    "## North America / USA / California"
   ]
  },
  {
   "cell_type": "code",
   "execution_count": null,
   "metadata": {},
   "outputs": [],
   "source": [
    "ca_top_strains = find_prevalent_strains(latest_fit, 'North America / USA / California')"
   ]
  },
  {
   "cell_type": "code",
   "execution_count": null,
   "metadata": {},
   "outputs": [],
   "source": [
    "mutrans_helpers.plot_fit_forecasts(\n",
    "    fit=latest_fit,\n",
    "    strains_to_show=ca_top_strains,\n",
    "    queries=['North America / USA / California']\n",
    ")"
   ]
  },
  {
   "cell_type": "markdown",
   "metadata": {},
   "source": [
    "## North America / USA / New York"
   ]
  },
  {
   "cell_type": "code",
   "execution_count": null,
   "metadata": {},
   "outputs": [],
   "source": [
    "ny_top_strains = find_prevalent_strains(latest_fit, 'North America / USA / New York')"
   ]
  },
  {
   "cell_type": "code",
   "execution_count": null,
   "metadata": {},
   "outputs": [],
   "source": [
    "mutrans_helpers.plot_fit_forecasts(\n",
    "    fit=latest_fit,\n",
    "    strains_to_show=ny_top_strains,\n",
    "    queries='North America / USA / New York')"
   ]
  },
  {
   "cell_type": "markdown",
   "metadata": {},
   "source": [
    "## Europe / United Kingdom / England"
   ]
  },
  {
   "cell_type": "code",
   "execution_count": null,
   "metadata": {},
   "outputs": [],
   "source": [
    "region = 'Europe / United Kingdom / England'\n",
    "ny_top_strains = find_prevalent_strains(latest_fit, region)\n",
    "mutrans_helpers.plot_fit_forecasts(\n",
    "    fit=latest_fit,\n",
    "    strains_to_show=ny_top_strains,\n",
    "    queries=region,\n",
    "    filename=\"paper/per_region_forecasts/uk_england.png\")"
   ]
  },
  {
   "cell_type": "markdown",
   "metadata": {},
   "source": [
    "## North America / USA'"
   ]
  },
  {
   "cell_type": "code",
   "execution_count": null,
   "metadata": {},
   "outputs": [],
   "source": [
    "region = 'North America / USA'\n",
    "ny_top_strains = find_prevalent_strains(latest_fit, region)\n",
    "mutrans_helpers.plot_fit_forecasts(\n",
    "    fit=latest_fit,\n",
    "    strains_to_show=ny_top_strains,\n",
    "    queries=region,\n",
    "    filename=\"paper/per_region_forecasts/USA.png\")"
   ]
  },
  {
   "cell_type": "code",
   "execution_count": null,
   "metadata": {},
   "outputs": [],
   "source": [
    "## North America / USA / Virginia"
   ]
  },
  {
   "cell_type": "code",
   "execution_count": null,
   "metadata": {},
   "outputs": [],
   "source": [
    "region = 'North America / USA / Virginia'\n",
    "ny_top_strains = find_prevalent_strains(latest_fit, region)\n",
    "mutrans_helpers.plot_fit_forecasts(\n",
    "    fit=latest_fit,\n",
    "    strains_to_show=ny_top_strains,\n",
    "    queries=region,filename=\"paper/per_region_forecasts/virginia.png\")"
   ]
  },
  {
   "cell_type": "code",
   "execution_count": null,
   "metadata": {},
   "outputs": [],
   "source": [
    "## Europe / Greece / Athens"
   ]
  },
  {
   "cell_type": "code",
   "execution_count": null,
   "metadata": {},
   "outputs": [],
   "source": [
    "region = 'Europe / Greece / Athens'\n",
    "ny_top_strains = find_prevalent_strains(latest_fit, region)\n",
    "mutrans_helpers.plot_fit_forecasts(\n",
    "    fit=latest_fit,\n",
    "    strains_to_show=ny_top_strains,\n",
    "    queries=region,\n",
    "    filename=\"paper/per_region_forecasts/europe_athens_greeece.png\")"
   ]
  },
  {
   "cell_type": "code",
   "execution_count": null,
   "metadata": {},
   "outputs": [],
   "source": [
    "## North America / USA / Massachusetts"
   ]
  },
  {
   "cell_type": "code",
   "execution_count": null,
   "metadata": {},
   "outputs": [],
   "source": [
    "region = 'North America / USA / Massachusetts'\n",
    "ny_top_strains = find_prevalent_strains(latest_fit, region)\n",
    "mutrans_helpers.plot_fit_forecasts(\n",
    "    fit=latest_fit,\n",
    "    strains_to_show=ny_top_strains,\n",
    "    queries=region,\n",
    "    filename=\"paper/per_region_forecasts/massachusetts.png\")"
   ]
  },
  {
   "cell_type": "markdown",
   "metadata": {},
   "source": [
    "## Europe / Germany / Hamburg"
   ]
  },
  {
   "cell_type": "code",
   "execution_count": null,
   "metadata": {},
   "outputs": [],
   "source": [
    "region = 'Europe / Germany / Hamburg'\n",
    "ny_top_strains = find_prevalent_strains(latest_fit, region)\n",
    "mutrans_helpers.plot_fit_forecasts(\n",
    "    fit=latest_fit,\n",
    "    strains_to_show=ny_top_strains,\n",
    "    queries=region,\n",
    "    filename=\"paper/per_region_forecasts/europe_germany_hamburg.png\")"
   ]
  },
  {
   "cell_type": "markdown",
   "metadata": {},
   "source": [
    "# Europe / France"
   ]
  },
  {
   "cell_type": "code",
   "execution_count": null,
   "metadata": {},
   "outputs": [],
   "source": [
    "region = 'Europe / France'\n",
    "top_strains = find_prevalent_strains(latest_fit, region,n=20)\n",
    "mutrans_helpers.plot_fit_forecasts(\n",
    "    fit=latest_fit,\n",
    "    strains_to_show=top_strains,\n",
    "    queries=region,\n",
    "    filename=\"paper/per_region_forecasts/europe.png\")"
   ]
  },
  {
   "cell_type": "markdown",
   "metadata": {},
   "source": [
    "# USA"
   ]
  },
  {
   "cell_type": "code",
   "execution_count": null,
   "metadata": {},
   "outputs": [],
   "source": [
    "region = 'USA'\n",
    "top_strains = find_prevalent_strains(latest_fit, region,n=20)\n",
    "mutrans_helpers.plot_fit_forecasts(\n",
    "    fit=latest_fit,\n",
    "    strains_to_show=top_strains,\n",
    "    queries=region,\n",
    "    filename=\"paper/per_region_forecasts/usa.png\")"
   ]
  },
  {
   "cell_type": "markdown",
   "metadata": {},
   "source": [
    "# Europe"
   ]
  },
  {
   "cell_type": "code",
   "execution_count": null,
   "metadata": {},
   "outputs": [],
   "source": [
    "region = 'Europe'\n",
    "top_strains = find_prevalent_strains(latest_fit, region,n=20)\n",
    "mutrans_helpers.plot_fit_forecasts(\n",
    "    fit=latest_fit,\n",
    "    strains_to_show=top_strains,\n",
    "    queries=region,\n",
    "filename=\"paper/per_region_forecasts/europe.png\")"
   ]
  },
  {
   "cell_type": "markdown",
   "metadata": {},
   "source": [
    "# Asia"
   ]
  },
  {
   "cell_type": "code",
   "execution_count": null,
   "metadata": {},
   "outputs": [],
   "source": [
    "region = 'Asia'\n",
    "top_strains = find_prevalent_strains(latest_fit, region,n=20)\n",
    "mutrans_helpers.plot_fit_forecasts(\n",
    "    fit=latest_fit,\n",
    "    strains_to_show=top_strains,\n",
    "    queries=region,\n",
    "    filename=\"paper/per_region_forecasts/asia.png\")"
   ]
  },
  {
   "cell_type": "markdown",
   "metadata": {},
   "source": [
    "# Oceania"
   ]
  },
  {
   "cell_type": "code",
   "execution_count": null,
   "metadata": {},
   "outputs": [],
   "source": [
    "region = 'Oceania'\n",
    "top_strains = find_prevalent_strains(latest_fit, region,n=20)\n",
    "mutrans_helpers.plot_fit_forecasts(\n",
    "    fit=latest_fit,\n",
    "    strains_to_show=top_strains,\n",
    "    queries=region,\n",
    "    filename=\"paper/per_region_forecasts/oceania.png\")"
   ]
  },
  {
   "cell_type": "markdown",
   "metadata": {},
   "source": [
    "# Africa"
   ]
  },
  {
   "cell_type": "code",
   "execution_count": null,
   "metadata": {},
   "outputs": [],
   "source": [
    "region = 'Africa'\n",
    "top_strains = find_prevalent_strains(latest_fit, region,n=20)\n",
    "mutrans_helpers.plot_fit_forecasts(\n",
    "    fit=latest_fit,\n",
    "    strains_to_show=top_strains,\n",
    "    queries=region,\n",
    "    filename=\"paper/per_region_forecasts/africa_latest.png\")"
   ]
  },
  {
   "cell_type": "code",
   "execution_count": null,
   "metadata": {},
   "outputs": [],
   "source": []
  }
 ],
 "metadata": {
  "kernelspec": {
   "display_name": "Python 3",
   "language": "python",
   "name": "python3"
  },
  "language_info": {
   "codemirror_mode": {
    "name": "ipython",
    "version": 3
   },
   "file_extension": ".py",
   "mimetype": "text/x-python",
   "name": "python",
   "nbconvert_exporter": "python",
   "pygments_lexer": "ipython3",
   "version": "3.8.8"
  }
 },
 "nbformat": 4,
 "nbformat_minor": 4
}
