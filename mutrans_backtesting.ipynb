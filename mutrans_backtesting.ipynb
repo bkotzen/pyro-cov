{
 "cells": [
  {
   "cell_type": "markdown",
   "metadata": {},
   "source": [
    "# Plots for backtesting mutation growth rate paper\n",
    "\n",
    "This notebook generates plots for the [paper/](paper/) directory. This assumes you've alread run\n",
    "```sh\n",
    "make update                       # Downloads and preprocesses data.\n",
    "source run_backtesting.sh         # Runs backtesting experiments\n",
    "```\n",
    "Note that `make update` takes a couple hours the first time it is run (mostly in sequence alignment), and `mutrans.py` takes about 15 minutes on a GPU (will take much longer if no GPU is available)."
   ]
  },
  {
   "cell_type": "code",
   "execution_count": null,
   "metadata": {},
   "outputs": [],
   "source": [
    "import datetime\n",
    "import math\n",
    "import os\n",
    "import pickle\n",
    "import re\n",
    "import logging\n",
    "from collections import Counter, OrderedDict, defaultdict\n",
    "import numpy as np\n",
    "import matplotlib\n",
    "import matplotlib.pyplot as plt\n",
    "import pandas as pd\n",
    "import torch\n",
    "import pyro.distributions as dist\n",
    "from pyrocov import mutrans, pangolin, stats\n",
    "from pyrocov.stats import normal_log10bf\n",
    "from pyrocov.util import pretty_print, pearson_correlation"
   ]
  },
  {
   "cell_type": "code",
   "execution_count": null,
   "metadata": {},
   "outputs": [],
   "source": [
    "# configure logging\n",
    "logging.basicConfig(format=\"%(relativeCreated) 9d %(message)s\", level=logging.INFO)"
   ]
  },
  {
   "cell_type": "code",
   "execution_count": null,
   "metadata": {},
   "outputs": [],
   "source": [
    "logging.getLogger().setLevel(logging.DEBUG)"
   ]
  },
  {
   "cell_type": "code",
   "execution_count": null,
   "metadata": {},
   "outputs": [],
   "source": [
    "# set matplotlib params\n",
    "matplotlib.rcParams[\"figure.dpi\"] = 200\n",
    "matplotlib.rcParams['figure.figsize'] = [8, 8]\n",
    "matplotlib.rcParams[\"axes.edgecolor\"] = \"gray\"\n",
    "matplotlib.rcParams[\"savefig.bbox\"] = \"tight\"\n",
    "matplotlib.rcParams['font.family'] = 'sans-serif'\n",
    "matplotlib.rcParams['font.sans-serif'] = ['Arial', 'Avenir', 'DejaVu Sans']"
   ]
  },
  {
   "cell_type": "markdown",
   "metadata": {},
   "source": [
    "## Load data"
   ]
  },
  {
   "cell_type": "code",
   "execution_count": null,
   "metadata": {},
   "outputs": [],
   "source": [
    "with open(\"results/gisaid.columns.pkl\", \"rb\") as f:\n",
    "    columns = pickle.load(f)\n",
    "print(\"Loaded data from {} samples\".format(len(columns[\"lineage\"])))"
   ]
  },
  {
   "cell_type": "code",
   "execution_count": null,
   "metadata": {},
   "outputs": [],
   "source": [
    "type(columns)"
   ]
  },
  {
   "cell_type": "code",
   "execution_count": null,
   "metadata": {},
   "outputs": [],
   "source": [
    "columns.keys()"
   ]
  },
  {
   "cell_type": "code",
   "execution_count": null,
   "metadata": {},
   "outputs": [],
   "source": [
    "for k in columns.keys():\n",
    "    print(k, columns[k][0:2])"
   ]
  },
  {
   "cell_type": "markdown",
   "metadata": {},
   "source": [
    "Sanity checking case count time series:"
   ]
  },
  {
   "cell_type": "code",
   "execution_count": null,
   "metadata": {
    "scrolled": true
   },
   "outputs": [],
   "source": [
    "if False:\n",
    "    plt.figure(figsize=(8, 3))\n",
    "    plt.plot(weekly_cases, lw=1, alpha=0.5)\n",
    "    plt.yscale(\"symlog\", linthresh=10)\n",
    "    plt.ylim(0, None)\n",
    "    plt.xlim(0, len(weekly_cases) - 1)\n",
    "    plt.xlabel(\"week after 2019-12-01\")\n",
    "    plt.ylabel(\"confirmed cases\");\n",
    "\n",
    "    plt.figure(figsize=(8, 3))\n",
    "    plt.plot(weekly_strains.sum(-1), lw=1, alpha=0.5)\n",
    "    plt.yscale(\"symlog\", linthresh=10)\n",
    "    plt.ylim(0, None)\n",
    "    plt.xlim(0, len(weekly_cases) - 1)\n",
    "    plt.xlabel(\"week after 2019-12-01\")\n",
    "    plt.ylabel(\"sequenced samples\");"
   ]
  },
  {
   "cell_type": "code",
   "execution_count": null,
   "metadata": {},
   "outputs": [],
   "source": [
    "# locations = set(location_id)\n",
    "# N_usa = sum(1 for k in locations if \"/ USA /\" in k)\n",
    "# N_uk = sum(1 for k in locations if \"/ United Kingdom /\" in k)\n",
    "# N_other = len(locations) - N_usa - N_uk\n",
    "# print(N_usa, N_uk, N_other)"
   ]
  },
  {
   "cell_type": "markdown",
   "metadata": {},
   "source": [
    "We'll account for epidemiological dynamics in the form of random drift on top of our logistic growth model. Since random drift is inversely proportional to the local number of infections, we'll need a new data source for the number of infections in each region. We'll use JHU's confirmed case counts time series as a proxy for the number of total infections in each region."
   ]
  },
  {
   "cell_type": "markdown",
   "metadata": {},
   "source": [
    "## Load trained models"
   ]
  },
  {
   "cell_type": "code",
   "execution_count": null,
   "metadata": {},
   "outputs": [],
   "source": [
    "fits = torch.load(\"results/mutrans.pt\", map_location=\"cpu\")\n",
    "first_key = list(fits.keys())[0]\n",
    "for key in fits:\n",
    "    print(key)\n",
    "fits[first_key].keys()"
   ]
  },
  {
   "cell_type": "code",
   "execution_count": null,
   "metadata": {},
   "outputs": [],
   "source": [
    "# Print the shape of the weekly strains in each fit\n",
    "for fit in fits.values():\n",
    "    print(fit[\"weekly_strains_shape\"])"
   ]
  },
  {
   "cell_type": "code",
   "execution_count": null,
   "metadata": {},
   "outputs": [],
   "source": [
    "# This is really just the second fit\n",
    "selected_fit = list(fits.values())[1]\n",
    "#pretty_print(selected_fit, max_items=40)"
   ]
  },
  {
   "cell_type": "markdown",
   "metadata": {},
   "source": [
    "Scale `coef` by 1/100 in all results."
   ]
  },
  {
   "cell_type": "code",
   "execution_count": null,
   "metadata": {},
   "outputs": [],
   "source": [
    "ALREADY_SCALED = set()\n",
    "\n",
    "def scale_tensors(x, names={\"coef\"}, scale=0.01, prefix=\"\"):\n",
    "    if id(x) in ALREADY_SCALED:\n",
    "        return\n",
    "    if isinstance(x, dict):\n",
    "        for k, v in list(x.items()):\n",
    "            if k in names:\n",
    "                print(f\"{prefix}.{k}\")\n",
    "                x[k] = v * scale\n",
    "            elif k == \"diagnostics\":\n",
    "                continue\n",
    "            else:\n",
    "                scale_tensors(v, names, scale, f\"{prefix}.{k}\")\n",
    "    ALREADY_SCALED.add(id(x))\n",
    "                \n",
    "scale_tensors(fits)"
   ]
  },
  {
   "cell_type": "code",
   "execution_count": null,
   "metadata": {
    "scrolled": true
   },
   "outputs": [],
   "source": [
    "# plt.figure(figsize=(2,2))\n",
    "# plt.hist(selected_fit[\"params\"][\"local_time\"].reshape(-1).numpy(), bins=50, density=True)\n",
    "# plt.xlabel(\"local time shift\");"
   ]
  },
  {
   "cell_type": "markdown",
   "metadata": {},
   "source": [
    "## Forecasting"
   ]
  },
  {
   "cell_type": "code",
   "execution_count": null,
   "metadata": {},
   "outputs": [],
   "source": [
    "import importlib\n",
    "from pyrocov import mutrans_helpers"
   ]
  },
  {
   "cell_type": "code",
   "execution_count": null,
   "metadata": {
    "tags": []
   },
   "outputs": [],
   "source": [
    "# Reload the import library helpers\n",
    "importlib.reload(mutrans_helpers)"
   ]
  },
  {
   "cell_type": "code",
   "execution_count": null,
   "metadata": {},
   "outputs": [],
   "source": [
    "# customize logging\n",
    "logging.getLogger().setLevel(logging.ERROR)"
   ]
  },
  {
   "cell_type": "markdown",
   "metadata": {},
   "source": [
    "## Day 525 ( as in latest prediction for comparison )"
   ]
  },
  {
   "cell_type": "code",
   "execution_count": null,
   "metadata": {},
   "outputs": [],
   "source": [
    "importlib.reload(mutrans_helpers)\n",
    "\n",
    "i = 15\n",
    "key, latest_fit = mutrans_helpers.get_fit_by_index(fits, i)\n",
    "print(f\"Max days of model: {key[8]}\")\n",
    "\n",
    "strains_from_manuscript_figure = ['B.1.1.7','B.1.617.2','B.1.177','B.1.429','P.1',\n",
    "                                 'B.1.1','B.1','B.1.427','B.1.2','B.1.177.4']\n",
    "\n",
    "matplotlib.rcParams['figure.figsize'] = [10, 4]\n",
    "mutrans_helpers.plot_fit_forecasts(\n",
    "    fit=latest_fit, \n",
    "    strains_to_show=strains_from_manuscript_figure,queries=['England']\n",
    ")"
   ]
  },
  {
   "cell_type": "markdown",
   "metadata": {},
   "source": [
    "## Day 225"
   ]
  },
  {
   "cell_type": "code",
   "execution_count": null,
   "metadata": {},
   "outputs": [],
   "source": [
    "importlib.reload(mutrans_helpers)\n",
    "\n",
    "i = 3\n",
    "key, fit = mutrans_helpers.get_fit_by_index(fits, i)\n",
    "print(f\"Max days of model: {key[8]}\")\n",
    "mutrans_helpers.plot_fit_forecasts(fit)"
   ]
  },
  {
   "cell_type": "code",
   "execution_count": null,
   "metadata": {},
   "outputs": [],
   "source": [
    "i = 16\n",
    "key, fit = mutrans_helpers.get_fit_by_index(fits, i)\n",
    "print(f\"Max days of model: {key[8]}\")"
   ]
  },
  {
   "cell_type": "code",
   "execution_count": null,
   "metadata": {},
   "outputs": [],
   "source": [
    "strains_from_manuscript_figure = ['B.1.1.7','B.1.617.2','B.1.177','B.1.429','P.1',\n",
    "                                 'B.1.1','B.1','B.1.427','B.1.2','B.1.177.4']"
   ]
  },
  {
   "cell_type": "code",
   "execution_count": null,
   "metadata": {},
   "outputs": [],
   "source": [
    "avail_strains = mutrans_helpers.get_available_strains(fit, num_strains=10)\n",
    "avail_strains"
   ]
  },
  {
   "cell_type": "code",
   "execution_count": null,
   "metadata": {},
   "outputs": [],
   "source": [
    "mutrans_helpers.plot_fit_forecasts(fit, strains_to_show=strains_from_manuscript_figure)"
   ]
  },
  {
   "cell_type": "markdown",
   "metadata": {},
   "source": [
    "# Forecasts at the point where B.1.1.7 arises in the UK"
   ]
  },
  {
   "cell_type": "markdown",
   "metadata": {},
   "source": [
    "## Day 325"
   ]
  },
  {
   "cell_type": "code",
   "execution_count": null,
   "metadata": {},
   "outputs": [],
   "source": [
    "importlib.reload(mutrans_helpers)\n",
    "\n",
    "#i = 9\n",
    "i = 7\n",
    "key, fit = mutrans_helpers.get_fit_by_index(fits, i)\n",
    "print(f\"Max days of model: {key[8]}\")\n",
    "\n",
    "strains_from_manuscript_figure = ['B.1.1.7','B.1.617.2','B.1.177','B.1.429','P.1',\n",
    "                                 'B.1.1','B.1','B.1.427','B.1.2','B.1.177.4']\n",
    "\n",
    "matplotlib.rcParams['figure.figsize'] = [10, 4]\n",
    "mutrans_helpers.plot_fit_forecasts(\n",
    "    fit=fit, \n",
    "    strains_to_show=strains_from_manuscript_figure,queries=['England'],num_strains=1000,\n",
    "        future_fit=latest_fit,\n",
    ")"
   ]
  },
  {
   "cell_type": "markdown",
   "metadata": {},
   "source": [
    "## Day 350"
   ]
  },
  {
   "cell_type": "code",
   "execution_count": null,
   "metadata": {},
   "outputs": [],
   "source": [
    "importlib.reload(mutrans_helpers)\n",
    "\n",
    "#i = 9\n",
    "i = 8\n",
    "key, fit = mutrans_helpers.get_fit_by_index(fits, i)\n",
    "print(f\"Max days of model: {key[8]}\")\n",
    "\n",
    "strains_from_manuscript_figure = ['B.1.1.7','B.1.617.2','B.1.177','B.1.429','P.1',\n",
    "                                 'B.1.1','B.1','B.1.427','B.1.2','B.1.177.4']\n",
    "\n",
    "matplotlib.rcParams['figure.figsize'] = [10, 4]\n",
    "mutrans_helpers.plot_fit_forecasts(\n",
    "    fit=fit, \n",
    "    strains_to_show=strains_from_manuscript_figure,queries=['England'],\n",
    "        future_fit=latest_fit,\n",
    ")"
   ]
  },
  {
   "cell_type": "code",
   "execution_count": null,
   "metadata": {},
   "outputs": [],
   "source": [
    "## Day 375"
   ]
  },
  {
   "cell_type": "code",
   "execution_count": null,
   "metadata": {},
   "outputs": [],
   "source": [
    "latest_fit.keys()"
   ]
  },
  {
   "cell_type": "code",
   "execution_count": null,
   "metadata": {},
   "outputs": [],
   "source": [
    "importlib.reload(mutrans_helpers)\n",
    "\n",
    "#i = 9\n",
    "i = 9\n",
    "key, fit = mutrans_helpers.get_fit_by_index(fits, i)\n",
    "print(f\"Max days of model: {key[8]}\")\n",
    "\n",
    "strains_from_manuscript_figure = ['B.1.1.7','B.1.617.2','B.1.177','B.1.429','P.1',\n",
    "                                 'B.1.1','B.1','B.1.427','B.1.2','B.1.177.4']\n",
    "\n",
    "matplotlib.rcParams['figure.figsize'] = [10, 4]\n",
    "mutrans_helpers.plot_fit_forecasts(\n",
    "    fit=fit, \n",
    "    strains_to_show=strains_from_manuscript_figure,\n",
    "    queries=['England'],\n",
    "    future_fit=latest_fit,\n",
    ")"
   ]
  },
  {
   "cell_type": "code",
   "execution_count": null,
   "metadata": {},
   "outputs": [],
   "source": [
    "## Timepoint wher B.1.177 arises\n",
    "importlib.reload(mutrans_helpers)\n",
    "\n",
    "i = 5\n",
    "key, fit = mutrans_helpers.get_fit_by_index(fits, i)\n",
    "print(f\"Max days of model: {key[8]}\")\n",
    "\n",
    "strains_from_manuscript_figure = ['B.1.1.7','B.1.617.2','B.1.177','B.1.429','P.1',\n",
    "                                 'B.1.1','B.1','B.1.427','B.1.2','B.1.177.4']\n",
    "\n",
    "matplotlib.rcParams['figure.figsize'] = [10, 4]\n",
    "mutrans_helpers.plot_fit_forecasts(\n",
    "    fit=fit, \n",
    "    strains_to_show=strains_from_manuscript_figure,\n",
    "    queries=['England'],\n",
    "    future_fit=latest_fit,\n",
    ")"
   ]
  },
  {
   "cell_type": "code",
   "execution_count": null,
   "metadata": {},
   "outputs": [],
   "source": [
    "importlib.reload(mutrans_helpers)\n",
    "\n",
    "i = 6\n",
    "key, fit = mutrans_helpers.get_fit_by_index(fits, i)\n",
    "print(f\"Max days of model: {key[8]}\")\n",
    "\n",
    "strains_from_manuscript_figure = ['B.1.1.7','B.1.617.2','B.1.177','B.1.429','P.1',\n",
    "                                 'B.1.1','B.1','B.1.427','B.1.2','B.1.177.4']\n",
    "\n",
    "matplotlib.rcParams['figure.figsize'] = [10, 4]\n",
    "mutrans_helpers.plot_fit_forecasts(\n",
    "    fit=fit, \n",
    "    strains_to_show=strains_from_manuscript_figure,\n",
    "    queries=['England'],\n",
    "    future_fit=latest_fit,\n",
    ")"
   ]
  },
  {
   "cell_type": "code",
   "execution_count": null,
   "metadata": {},
   "outputs": [],
   "source": [
    "importlib.reload(mutrans_helpers)\n",
    "\n",
    "i = 7\n",
    "key, fit = mutrans_helpers.get_fit_by_index(fits, i)\n",
    "print(f\"Max days of model: {key[8]}\")\n",
    "\n",
    "strains_from_manuscript_figure = ['B.1.1.7','B.1.617.2','B.1.177','B.1.429','P.1',\n",
    "                                 'B.1.1','B.1','B.1.427','B.1.2','B.1.177.4']\n",
    "\n",
    "matplotlib.rcParams['figure.figsize'] = [10, 4]\n",
    "mutrans_helpers.plot_fit_forecasts(\n",
    "    fit=fit, \n",
    "    strains_to_show=strains_from_manuscript_figure,\n",
    "    queries=['England'],\n",
    "    future_fit=latest_fit,\n",
    ")"
   ]
  },
  {
   "cell_type": "code",
   "execution_count": null,
   "metadata": {},
   "outputs": [],
   "source": [
    "importlib.reload(mutrans_helpers)\n",
    "\n",
    "i = 8\n",
    "key, fit = mutrans_helpers.get_fit_by_index(fits, i)\n",
    "print(f\"Max days of model: {key[8]}\")\n",
    "\n",
    "strains_from_manuscript_figure = ['B.1.1.7','B.1.617.2','B.1.177','B.1.429','P.1',\n",
    "                                 'B.1.1','B.1','B.1.427','B.1.2','B.1.177.4']\n",
    "\n",
    "matplotlib.rcParams['figure.figsize'] = [10, 4]\n",
    "mutrans_helpers.plot_fit_forecasts(\n",
    "    fit=fit, \n",
    "    strains_to_show=strains_from_manuscript_figure,\n",
    "    queries=['England'],\n",
    "    future_fit=latest_fit,\n",
    ")"
   ]
  },
  {
   "cell_type": "markdown",
   "metadata": {},
   "source": [
    "## How often do we identify correct future dominant strain?"
   ]
  },
  {
   "cell_type": "code",
   "execution_count": null,
   "metadata": {},
   "outputs": [],
   "source": []
  },
  {
   "cell_type": "code",
   "execution_count": null,
   "metadata": {},
   "outputs": [],
   "source": []
  },
  {
   "cell_type": "code",
   "execution_count": null,
   "metadata": {},
   "outputs": [],
   "source": []
  },
  {
   "cell_type": "code",
   "execution_count": null,
   "metadata": {},
   "outputs": [],
   "source": []
  },
  {
   "cell_type": "raw",
   "metadata": {},
   "source": [
    "# Misc code\n",
    "mutrans_helpers.plot_fit_forecasts(fit, strains_to_show=avail_strains[1:10])\n",
    "mutrans_helpers.plot_fit_forecasts(fits, 16,strains_to_show=avail_strains[0:5])\n",
    "mutrans_helpers.plot_fit_forecasts(fits, 16,strains_to_show=avail_strains[5:10])\n",
    "mutrans_helpers.plot_fit_forecasts(fits, 16,strains_to_show=avail_strains[10:15])\n",
    "mutrans_helpers.plot_fit_forecasts(fits, 16,strains_to_show=['B.1.177.4'])\n",
    "mutrans_helpers.plot_fit_forecasts(fits, 16,strains_to_show=['B.1.2'])\n",
    "mutrans_helpers.plot_fit_forecasts(fits, 16,strains_to_show=['B.1.427'])\n",
    "mutrans_helpers.plot_fit_forecasts(fits, 16,strains_to_show=['B.1'])\n",
    "mutrans_helpers.plot_fit_forecasts(fits, 16,strains_to_show=['P.1'])\n",
    "mutrans_helpers.plot_fit_forecasts(fits, 16,strains_to_show=['B.1.1'])\n",
    "mutrans_helpers.plot_fit_forecasts(fits, 16,strains_to_show=['B.1.429'])\n",
    "mutrans_helpers.plot_fit_forecasts(fits, 16,strains_to_show=['B.1.617.2'])\n",
    "mutrans_helpers.plot_fit_forecasts(fits, 16,strains_to_show=['B.1.177'])\n",
    "mutrans_helpers.plot_fit_forecasts(fits, 16,strains_to_show=['B.1.1.7'])\n",
    "mutrans_helpers.plot_fit_forecasts(fits, 16,strains_to_show=['B.1'])\n",
    "mutrans_helpers.plot_fit_forecasts(fits, 16,strains_to_show=['B.1.1'])"
   ]
  }
 ],
 "metadata": {
  "kernelspec": {
   "display_name": "Python 3",
   "language": "python",
   "name": "python3"
  },
  "language_info": {
   "codemirror_mode": {
    "name": "ipython",
    "version": 3
   },
   "file_extension": ".py",
   "mimetype": "text/x-python",
   "name": "python",
   "nbconvert_exporter": "python",
   "pygments_lexer": "ipython3",
   "version": "3.8.8"
  }
 },
 "nbformat": 4,
 "nbformat_minor": 4
}
