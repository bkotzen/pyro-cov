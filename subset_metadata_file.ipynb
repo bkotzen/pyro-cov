{
 "cells": [
  {
   "cell_type": "code",
   "execution_count": 1,
   "id": "26bc8401-40c4-4ef8-9456-dc051e70ad5f",
   "metadata": {},
   "outputs": [],
   "source": [
    "import os\n",
    "\n",
    "import pandas as pd\n",
    "import gzip\n",
    "from datetime import datetime, date, timedelta"
   ]
  },
  {
   "cell_type": "code",
   "execution_count": 2,
   "id": "3e5dfb2a-3259-4b65-ad01-8f5a8528f165",
   "metadata": {},
   "outputs": [
    {
     "name": "stdout",
     "output_type": "stream",
     "text": [
      "metadata_subsets/alpha_wk0/results.2020-12-02/gisaid/metadata_2020-12-02.csv.gz\n"
     ]
    }
   ],
   "source": [
    "date = '2020-12-02'\n",
    "voc = 'alpha'\n",
    "wk = 0\n",
    "print(\"metadata_subsets/\"+voc+\"_wk\"+str(wk)+\"/results.\"+date+\"/gisaid/metadata_\"+date+\".csv.gz\")"
   ]
  },
  {
   "cell_type": "code",
   "execution_count": 3,
   "id": "33dc3e67-18d7-4832-8a9a-584e783de2bb",
   "metadata": {},
   "outputs": [
    {
     "name": "stdout",
     "output_type": "stream",
     "text": [
      "Unzipping and reading CSV...\n"
     ]
    },
    {
     "name": "stderr",
     "output_type": "stream",
     "text": [
      "/tmp/ipykernel_1815/2679535866.py:5: DtypeWarning: Columns (16) have mixed types. Specify dtype option on import or set low_memory=False.\n",
      "  gisaid = pd.read_csv(g, delimiter = \"\\t\")\n"
     ]
    },
    {
     "name": "stdout",
     "output_type": "stream",
     "text": [
      "Processing...\n",
      "Writing...\n",
      "beta\n",
      "2021-03-26\n",
      "beta\n",
      "2021-04-02\n",
      "beta\n",
      "2021-04-09\n",
      "beta\n",
      "2021-04-23\n",
      "BA.4\n",
      "2022-04-12\n",
      "BA.4\n",
      "2022-04-19\n",
      "BA.4\n",
      "2022-04-26\n",
      "BA.4\n",
      "2022-05-10\n"
     ]
    }
   ],
   "source": [
    "## Read in GISAID metadata file\n",
    "filename = \"results.2022-08-10/gisaid/metadata_2022_08_08.tsv.gz\"\n",
    "with gzip.open(filename) as g:\n",
    "    print(\"Unzipping and reading CSV...\")\n",
    "    gisaid = pd.read_csv(g, delimiter = \"\\t\")\n",
    "    print(\"Processing...\")\n",
    "    gisaid = gisaid.fillna(\"\")\n",
    "    gisaid = gisaid[~gisaid[\"AA Substitutions\"].str.contains(\"stop|B|X|Z\")] # remove sequences with stop codons or ambigous amino acids\n",
    "\n",
    "    voc_date_first_seen = {#\"alpha\": \"2020-12-02\",\n",
    "                           \"beta\": \"2021-03-26\",\n",
    "                           #\"delta\": \"2021-03-31\",\n",
    "                           #\"BA.1\": \"2021-11-22\",\n",
    "                           #\"BA.2\": \"2021-11-27\",\n",
    "                           #\"BA.2.12.1\": \"2022-02-10\",\n",
    "                           \"BA.4\": \"2022-04-12\"}\n",
    "\n",
    "\n",
    "    time_index = {0,1,2,4}\n",
    "\n",
    "    print(\"Writing...\")\n",
    "    for voc in voc_date_first_seen:\n",
    "        for wk in time_index:\n",
    "            print(voc)\n",
    "            date = str(datetime.strptime(voc_date_first_seen[voc], '%Y-%m-%d') + timedelta(weeks= wk))[:10]\n",
    "            print(date)\n",
    "            gisaid_i = gisaid[gisaid[\"Submission date\"] <= date]\n",
    "            filepath = \"metadata_subsets/\"+voc+\"_wk\"+str(wk)+\"/results.\"+date+\"/gisaid\"\n",
    "            os.makedirs(filepath)\n",
    "            gisaid_i.to_csv(filepath+\"/metadata_\"+date+\".tsv.gz\", \n",
    "                            sep = '\\t',\n",
    "                            index = False, \n",
    "                            compression=\"gzip\")"
   ]
  },
  {
   "cell_type": "code",
   "execution_count": null,
   "id": "5d05fccb-438d-4f5a-b2ba-b16cbdf2f3ce",
   "metadata": {},
   "outputs": [],
   "source": []
  }
 ],
 "metadata": {
  "kernelspec": {
   "display_name": "Python 3 (ipykernel)",
   "language": "python",
   "name": "python3"
  },
  "language_info": {
   "codemirror_mode": {
    "name": "ipython",
    "version": 3
   },
   "file_extension": ".py",
   "mimetype": "text/x-python",
   "name": "python",
   "nbconvert_exporter": "python",
   "pygments_lexer": "ipython3",
   "version": "3.9.12"
  }
 },
 "nbformat": 4,
 "nbformat_minor": 5
}
