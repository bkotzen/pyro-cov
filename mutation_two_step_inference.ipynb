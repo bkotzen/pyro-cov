{
 "cells": [
  {
   "cell_type": "markdown",
   "metadata": {},
   "source": [
    "# Ranking mutations by transmissibility\n",
    "\n",
    "This assumes you've acquired GISAID data and run\n",
    "```sh\n",
    "make update               # ~15 minutes on CPU\n",
    "python rank_mutations.py  # ~10 minutes on GPU\n",
    "```"
   ]
  },
  {
   "cell_type": "code",
   "execution_count": null,
   "metadata": {},
   "outputs": [],
   "source": [
    "import math\n",
    "import pickle\n",
    "from collections import Counter\n",
    "import matplotlib\n",
    "import matplotlib.pyplot as plt\n",
    "import torch\n",
    "import pyro\n",
    "import pyro.distributions as dist\n",
    "from pyro import poutine\n",
    "from pyro.distributions import constraints\n",
    "from pyrocov import pangolin\n",
    "\n",
    "matplotlib.rcParams['figure.dpi'] = 200"
   ]
  },
  {
   "cell_type": "markdown",
   "metadata": {},
   "source": [
    "## Loading data"
   ]
  },
  {
   "cell_type": "code",
   "execution_count": null,
   "metadata": {},
   "outputs": [],
   "source": [
    "aa_features = torch.load(\"results/nextclade.features.pt\")\n",
    "print(aa_features.keys())"
   ]
  },
  {
   "cell_type": "code",
   "execution_count": null,
   "metadata": {},
   "outputs": [],
   "source": [
    "rank_results = torch.load(\"results/rank_mutations.pt\", map_location=\"cpu\")\n",
    "print(rank_results.keys())"
   ]
  },
  {
   "cell_type": "markdown",
   "metadata": {},
   "source": [
    "## Assessing model accuracy\n",
    "\n",
    "The inference approach in `rank_mutations.py` is to:\n",
    "1. Fit a mean-field variational model via stochastic variational inference (SVI).\n",
    "2. Initially rank mutations by `|mean|/stddev` of their growth rate coefficietns `log_rate_coef`.\n",
    "3. Fit MAP model parameters via (SVI).\n",
    "4. For each of most postitive and most negative mutations, fit MAP model parameters with that feature removed.\n",
    "5. Rank features by the change in loss for base-model versus model-with-feature-removed.\n",
    "\n",
    "Let's examine the initial versus final ranking metric."
   ]
  },
  {
   "cell_type": "code",
   "execution_count": null,
   "metadata": {},
   "outputs": [],
   "source": [
    "log_rate_coef = rank_results[\"log_rate_coef\"]\n",
    "initial_ranks = rank_results[\"initial_ranks\"]\n",
    "feature_ids = torch.tensor(list(rank_results[\"log_likelihood\"].keys()))\n",
    "log_likelihood = torch.tensor(list(rank_results[\"log_likelihood\"].values()))\n",
    "log_likelihood, ind = log_likelihood.sort(0, descending=True)\n",
    "feature_ids = feature_ids[ind]\n",
    "log_rate_coef = log_rate_coef[feature_ids]\n",
    "mean = initial_ranks[\"mean\"][feature_ids]\n",
    "sigma = mean / initial_ranks[\"std\"][feature_ids]"
   ]
  },
  {
   "cell_type": "code",
   "execution_count": null,
   "metadata": {},
   "outputs": [],
   "source": [
    "pos = log_rate_coef > 0\n",
    "plt.figure(figsize=(5, 5))\n",
    "plt.scatter(mean[pos], log_likelihood[pos], 1, color=\"red\")\n",
    "plt.scatter(mean[~pos], log_likelihood[~pos], 1, color=\"blue\")\n",
    "plt.xlabel(\"variational posterior mean\")\n",
    "plt.ylabel(\"MAP log likelihood ratio of dropping feature\")\n",
    "plt.title(\"Initial versus final mutation metric\");"
   ]
  },
  {
   "cell_type": "code",
   "execution_count": null,
   "metadata": {},
   "outputs": [],
   "source": [
    "pos = log_rate_coef > 0\n",
    "plt.figure(figsize=(5, 5))\n",
    "plt.scatter(sigma[pos], log_likelihood[pos], 1, color=\"red\")\n",
    "plt.scatter(sigma[~pos].abs(), log_likelihood[~pos], 1, color=\"blue\")\n",
    "plt.xlabel(\"variational posterior |mean|/std\")\n",
    "plt.ylabel(\"MAP log likelihood ratio of dropping feature\")\n",
    "plt.title(\"Initial versus final mutation metric\");"
   ]
  },
  {
   "cell_type": "code",
   "execution_count": null,
   "metadata": {
    "scrolled": false
   },
   "outputs": [],
   "source": [
    "def plot_features():\n",
    "    mutations = aa_features['mutations']\n",
    "    xs, idx = rank_results[\"log_rate_coef\"].sort(0)\n",
    "    assert len(idx) == len(mutations)\n",
    "    plt.figure(figsize=(6, 6))\n",
    "    plt.title(\"Regression coefficients (mutations)\")\n",
    "    plt.plot(xs, 'k.', lw=0, markersize=1, zorder=10)\n",
    "    plt.axhline(0, color='black', lw=0.5, linestyle='--', alpha=0.5)\n",
    "    plt.xlabel(f\"rank among {len(xs)} mutations\")\n",
    "    plt.ylabel(\"increased transmissibility\")\n",
    "\n",
    "    I = len(idx)\n",
    "    y0 = float(xs.min())\n",
    "    y1 = float(xs.max())\n",
    "    N = 50\n",
    "    for i in range(N):\n",
    "        x = -I / 8\n",
    "        y = y0 + (y1 - y0) * i / (N - 1)\n",
    "        plt.plot([i, x], [xs[i], y], color='blue', lw=0.3)\n",
    "        plt.text(x, y, mutations[int(idx[i])] + \" \", fontsize=5, color='blue',\n",
    "                 verticalalignment=\"center\", horizontalalignment=\"right\")\n",
    "    for i in range(I - N, I):\n",
    "        x = I + I / 8\n",
    "        y = y1 + (y0 - y1) * (I - i - 1) / (N - 1)\n",
    "        plt.plot([i, x], [xs[i], y], color='red', lw=0.3)\n",
    "        plt.text(x, y, \" \" + mutations[int(idx[i])], fontsize=5, color='red',\n",
    "                 verticalalignment=\"center\", horizontalalignment=\"left\")\n",
    "    plt.ylim(y0 - (y1 - y0) / 40, y1 + (y1 - y0) / 40)\n",
    "    plt.xlim(-0.35 * I, 1.35 * I)\n",
    "    plt.xticks(())\n",
    "    \n",
    "plot_features()"
   ]
  },
  {
   "cell_type": "code",
   "execution_count": null,
   "metadata": {},
   "outputs": [],
   "source": [
    "def plot_volcano(mean, std):\n",
    "    xs = mean\n",
    "    # ys = -log_ndtr(-mean.abs() / std) / math.log(10)\n",
    "    ys = (mean.abs() / std).log().clamp(min=0) / math.log(10)\n",
    "    ys = mean.abs() / std\n",
    "    mutations = aa_features['mutations']\n",
    "    assert len(xs) == len(mutations)\n",
    "    y0, y1 = float(ys.min()), float(ys.max())\n",
    "    x0, x1 = float(xs.min()), float(xs.max())\n",
    "    ys, idx = ys.sort(0, descending=True)\n",
    "    xs = xs[idx]\n",
    "    pos = (0 < xs) & (xs < math.inf)\n",
    "    neg = (-math.inf < xs) & (xs < 0)\n",
    "    ys_pos, ys_neg = ys[pos], ys[neg]\n",
    "    xs_pos, xs_neg = xs[pos], xs[neg]\n",
    "    idx_pos, idx_neg = idx[pos], idx[neg]\n",
    "    N = 50\n",
    "\n",
    "    plt.figure(figsize=(6, 6))\n",
    "    plt.title(f\"Increased transmissibility of {len(mutations)} mutations\")\n",
    "    for mask in [pos, neg]:\n",
    "        xs_mask, ys_mask = xs[mask], ys[mask]\n",
    "        plt.plot(xs_mask[:N], ys_mask[:N], 'k.', lw=0, markersize=1, zorder=10)\n",
    "        plt.plot(xs_mask[N:], ys_mask[N:], 'k.', lw=0, markersize=1, zorder=10, color=\"#aaa\")\n",
    "    plt.xlabel(\"variational posterior mean\")\n",
    "    # plt.ylabel(\"-log10 P(posterior mean has wrong sign)\")\n",
    "    plt.yscale(\"symlog\")\n",
    "    plt.ylabel(\"variational posterior |mean| / stddev\")\n",
    "    plt.xlim(x0 - (x1 - x0) * 0.18, x1 + (x1 - x0) * 0.18)\n",
    "    plt.ylim(0, None)\n",
    "    # plt.ylim(math.log(2) / math.log(10), None)\n",
    "    plt.xticks((0,))\n",
    "    yticks = (0, 1, 2, 5, 10, 20, 50)\n",
    "    plt.yticks(yticks, list(map(str, yticks)))\n",
    "    ax = plt.gca()\n",
    "    for spine in ax.spines.values():\n",
    "        spine.set_linewidth(0.5)\n",
    "        \n",
    "    t = (ax.transScale + ax.transLimits).inverted()\n",
    "    for i in range(N):\n",
    "        x = x0\n",
    "        _, y = t.transform((0, 1 - (i + 1) / (N + 1)))\n",
    "        plt.plot([x, xs_neg[i]], [y, ys_neg[i]], color='blue', lw=0.1)\n",
    "        plt.text(x, y, mutations[int(idx_neg[i])] + \" \", fontsize=5, color='blue',\n",
    "                 verticalalignment=\"center\", horizontalalignment=\"right\")\n",
    "    for i in range(N):\n",
    "        x = x1\n",
    "        _, y = t.transform((0, 1 - (i + 1) / (N + 1)))\n",
    "        plt.plot([x, xs_pos[i]], [y, ys_pos[i]], color='red', lw=0.1)\n",
    "        plt.text(x, y, \" \" + mutations[int(idx_pos[i])], fontsize=5, color='red',\n",
    "                 verticalalignment=\"center\", horizontalalignment=\"left\")\n",
    "\n",
    "plot_volcano(mean, std)"
   ]
  },
  {
   "cell_type": "code",
   "execution_count": null,
   "metadata": {},
   "outputs": [],
   "source": []
  }
 ],
 "metadata": {
  "kernelspec": {
   "display_name": "Python 3",
   "language": "python",
   "name": "python3"
  },
  "language_info": {
   "codemirror_mode": {
    "name": "ipython",
    "version": 3
   },
   "file_extension": ".py",
   "mimetype": "text/x-python",
   "name": "python",
   "nbconvert_exporter": "python",
   "pygments_lexer": "ipython3",
   "version": "3.6.12"
  }
 },
 "nbformat": 4,
 "nbformat_minor": 4
}
