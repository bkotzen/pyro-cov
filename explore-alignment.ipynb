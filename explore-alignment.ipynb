{
 "cells": [
  {
   "cell_type": "markdown",
   "metadata": {},
   "source": [
    "# Exploring COVID sequences"
   ]
  },
  {
   "cell_type": "code",
   "execution_count": null,
   "metadata": {},
   "outputs": [],
   "source": [
    "import os\n",
    "import matplotlib.pyplot as plt\n",
    "from pyrophylo.io import read_alignment"
   ]
  },
  {
   "cell_type": "code",
   "execution_count": null,
   "metadata": {},
   "outputs": [],
   "source": [
    "%%time\n",
    "filename = \"~/github/nextstrain/ncov/results/aligned.fasta\"\n",
    "filename = os.path.expanduser(filename)\n",
    "probs = read_alignment(filename)\n",
    "print(probs.shape)"
   ]
  },
  {
   "cell_type": "markdown",
   "metadata": {},
   "source": [
    "Now let's define diversity of each character as the portion of sequences in which the most commonly possible event (among other sequences) is impossible. This is a worst-case diversity, and is intended to be robust to missing reads. Thus for a given character, a set of sequences `CCCCT` has diversity 0.2 but the set of sequences `CCNNN` has zero diversity."
   ]
  },
  {
   "cell_type": "code",
   "execution_count": null,
   "metadata": {},
   "outputs": [],
   "source": [
    "diversity = 1 - (probs > 0).float().mean(0).max(-1).values"
   ]
  },
  {
   "cell_type": "code",
   "execution_count": null,
   "metadata": {
    "scrolled": true
   },
   "outputs": [],
   "source": [
    "plt.figure(figsize=(6,2), dpi=300)\n",
    "plt.plot(diversity.clamp(min=0.5/len(probs)), lw=1)\n",
    "plt.yscale(\"log\")\n",
    "plt.ylabel(\"diversity\")\n",
    "plt.xlabel(\"position on genome\");"
   ]
  },
  {
   "cell_type": "code",
   "execution_count": null,
   "metadata": {},
   "outputs": [],
   "source": [
    "plt.figure(figsize=(6,2), dpi=300)\n",
    "plt.plot(diversity.neg().sort().values.neg().clamp(min=0.5/len(probs)));\n",
    "plt.yscale(\"log\")\n",
    "plt.ylabel(\"diversity\")\n",
    "plt.xlabel(\"rank\");"
   ]
  },
  {
   "cell_type": "code",
   "execution_count": null,
   "metadata": {},
   "outputs": [],
   "source": []
  }
 ],
 "metadata": {
  "kernelspec": {
   "display_name": "Python 3",
   "language": "python",
   "name": "python3"
  },
  "language_info": {
   "codemirror_mode": {
    "name": "ipython",
    "version": 3
   },
   "file_extension": ".py",
   "mimetype": "text/x-python",
   "name": "python",
   "nbconvert_exporter": "python",
   "pygments_lexer": "ipython3",
   "version": "3.7.0"
  }
 },
 "nbformat": 4,
 "nbformat_minor": 4
}
