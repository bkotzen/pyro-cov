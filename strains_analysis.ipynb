{
 "cells": [
  {
   "cell_type": "markdown",
   "metadata": {},
   "source": [
    "# Analyzing a fit Time-Space-Strain model"
   ]
  },
  {
   "cell_type": "markdown",
   "metadata": {},
   "source": [
    "This notebook assumes you've already acquired data and run:\n",
    "```sh\n",
    "python preprocess_gisaid.py  # takes ~15 minutes\n",
    "python strains.py            # takes ~15 minutes on GPU\n",
    "```"
   ]
  },
  {
   "cell_type": "code",
   "execution_count": null,
   "metadata": {},
   "outputs": [],
   "source": [
    "import torch\n",
    "import matplotlib.pyplot as plt"
   ]
  },
  {
   "cell_type": "code",
   "execution_count": null,
   "metadata": {},
   "outputs": [],
   "source": [
    "result = torch.load(\"results/strains.pt\", map_location=\"cpu\")\n",
    "model = result[\"model\"]"
   ]
  },
  {
   "cell_type": "code",
   "execution_count": null,
   "metadata": {},
   "outputs": [],
   "source": [
    "%%time\n",
    "median = model.median()\n",
    "print(sorted(median.keys()))"
   ]
  },
  {
   "cell_type": "code",
   "execution_count": null,
   "metadata": {},
   "outputs": [],
   "source": [
    "for name, value in sorted(median.items()):\n",
    "    if value.numel() == 1:\n",
    "        print(f\"{name} = {value.item():0.3g}\")\n",
    "    else:\n",
    "        print(f\"{name} in [{value.min().item():0.3g}, {value.max().item():0.3g}]\")"
   ]
  },
  {
   "cell_type": "code",
   "execution_count": null,
   "metadata": {},
   "outputs": [],
   "source": [
    "infections = median[\"infections\"]\n",
    "infections.shape"
   ]
  },
  {
   "cell_type": "code",
   "execution_count": null,
   "metadata": {},
   "outputs": [],
   "source": [
    "totals = infections.sum([0, 1])\n",
    "totals, index = totals.sort(0)\n",
    "series = infections.sum(1)[:-1, index]\n",
    "print(totals.shape, series.shape)"
   ]
  },
  {
   "cell_type": "code",
   "execution_count": null,
   "metadata": {},
   "outputs": [],
   "source": [
    "fig, axes = plt.subplots(2, 1, figsize=(8,6), dpi=300, sharex=True)\n",
    "x = torch.arange(len(series))\n",
    "\n",
    "top_k = series[:, :]\n",
    "axes[0].stackplot(x, *top_k.unbind(-1), lw=1)\n",
    "axes[0].set_ylabel(\"# infections\")\n",
    "\n",
    "top_k = top_k / series.sum(-1, True)\n",
    "axes[1].stackplot(x, *top_k.unbind(-1), lw=1)\n",
    "axes[1].set_ylabel(\"normalized\")\n",
    "axes[1].set_xlabel(\"week after 2019-12-01\")\n",
    "axes[1].set_xlim(0, len(x) - 1)\n",
    "axes[1].set_ylim(0, 1)\n",
    "axes[1].set_yticks(())\n",
    "axes[0].set_title(\"evolution of different strains\")\n",
    "plt.subplots_adjust(hspace=0.02);"
   ]
  },
  {
   "cell_type": "code",
   "execution_count": null,
   "metadata": {},
   "outputs": [],
   "source": []
  }
 ],
 "metadata": {
  "kernelspec": {
   "display_name": "Python 3",
   "language": "python",
   "name": "python3"
  },
  "language_info": {
   "codemirror_mode": {
    "name": "ipython",
    "version": 3
   },
   "file_extension": ".py",
   "mimetype": "text/x-python",
   "name": "python",
   "nbconvert_exporter": "python",
   "pygments_lexer": "ipython3",
   "version": "3.6.12"
  }
 },
 "nbformat": 4,
 "nbformat_minor": 4
}
