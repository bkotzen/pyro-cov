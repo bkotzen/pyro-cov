{
 "cells": [
  {
   "cell_type": "markdown",
   "id": "dc7f40ad",
   "metadata": {},
   "source": [
    "# Exploring pangolin's mutation annotated tree"
   ]
  },
  {
   "cell_type": "code",
   "execution_count": 30,
   "id": "afa2a000",
   "metadata": {},
   "outputs": [],
   "source": [
    "import os\n",
    "from collections import defaultdict\n",
    "from matplotlib import pyplot as plt\n",
    "from Bio.Phylo.NewickIO import Parser\n",
    "from pyrocov.fasta import PANGOLEARN_DATA\n",
    "from pyrocov.external.usher import parsimony_pb2\n",
    "from pyrocov.usher import Mutation, NUCLEOTIDE, refine_mutation_tree"
   ]
  },
  {
   "cell_type": "code",
   "execution_count": 25,
   "id": "9ab905b8",
   "metadata": {},
   "outputs": [],
   "source": [
    "with open(os.path.join(PANGOLEARN_DATA, \"lineageTree.pb\"), \"rb\") as f:\n",
    "    proto = parsimony_pb2.data.FromString(f.read())"
   ]
  },
  {
   "cell_type": "code",
   "execution_count": 26,
   "id": "e3759eb8",
   "metadata": {},
   "outputs": [],
   "source": [
    "tree = next(Parser.from_string(proto.newick).parse())\n",
    "clades = list(tree.find_clades())\n",
    "assert len(proto.metadata) == len(clades)\n",
    "assert len(proto.node_mutations) == len(clades)"
   ]
  },
  {
   "cell_type": "code",
   "execution_count": 27,
   "id": "e3f599f9",
   "metadata": {},
   "outputs": [],
   "source": [
    "clade_to_muts = defaultdict(dict)\n",
    "for clade, muts in zip(clades, proto.node_mutations):\n",
    "    for mut in muts.mutation:\n",
    "        clade_to_muts[clade][mut.position] = Mutation(\n",
    "            mut.position,\n",
    "            NUCLEOTIDE[mut.ref_nuc],\n",
    "            \"\".join(NUCLEOTIDE[n] for n in mut.mut_nuc),\n",
    "        )\n",
    "    for c in clade.clades:\n",
    "        clade_to_muts[c].update(clade_to_muts[clade])"
   ]
  },
  {
   "cell_type": "code",
   "execution_count": 28,
   "id": "1ce3ff5c",
   "metadata": {},
   "outputs": [
    {
     "data": {
      "image/png": "[encoded data removed]",
      "text/plain": [
       "<Figure size 640x480 with 1 Axes>"
      ]
     },
     "metadata": {},
     "output_type": "display_data"
    }
   ],
   "source": [
    "plt.hist([len(m.mutation) for m in proto.node_mutations], bins=range(21))\n",
    "plt.yscale(\"log\")"
   ]
  },
  {
   "cell_type": "code",
   "execution_count": 32,
   "id": "893e86f6",
   "metadata": {},
   "outputs": [],
   "source": [
    "from pyrocov.usher import refine_mutation_tree\n",
    "refine_mutation_tree(\n",
    "    os.path.join(PANGOLEARN_DATA, \"lineageTree.pb\"),\n",
    "    \"results/fine.lineageTree.pb\",\n",
    ")"
   ]
  },
  {
   "cell_type": "code",
   "execution_count": null,
   "id": "58df3d4e",
   "metadata": {},
   "outputs": [],
   "source": [
    "!python preprocess_pangolin.py \\\n",
    "  --tree-file-in results/fine.lineageTree.pb \\\n",
    "  --features-file-out results/fine.features.pt"
   ]
  },
  {
   "cell_type": "code",
   "execution_count": null,
   "id": "a5b2f148",
   "metadata": {},
   "outputs": [],
   "source": []
  }
 ],
 "metadata": {
  "kernelspec": {
   "display_name": "Python 3",
   "language": "python",
   "name": "python3"
  },
  "language_info": {
   "codemirror_mode": {
    "name": "ipython",
    "version": 3
   },
   "file_extension": ".py",
   "mimetype": "text/x-python",
   "name": "python",
   "nbconvert_exporter": "python",
   "pygments_lexer": "ipython3",
   "version": "3.6.12"
  }
 },
 "nbformat": 4,
 "nbformat_minor": 5
}
