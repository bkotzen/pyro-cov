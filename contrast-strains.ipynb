{
 "cells": [
  {
   "cell_type": "markdown",
   "metadata": {},
   "source": [
    "## What are the salient differences between strains?\n",
    "\n",
    "This notebook addresses a [question of Tom Wenseleers](https://twitter.com/TWenseleers/status/1438780125479329792) about the salient differences between two strains, say between B.1.617.1 and the similar B.1.617.2 and B.1.617.3. You should be able to run this notebook merely after git cloning, to explore other salient differences."
   ]
  },
  {
   "cell_type": "markdown",
   "metadata": {},
   "source": [
    "First load the precomputed data."
   ]
  },
  {
   "cell_type": "code",
   "execution_count": 1,
   "metadata": {},
   "outputs": [],
   "source": [
    "import pandas as pd\n",
    "strains_df = pd.read_csv(\"paper/strains.tsv\", sep=\"\\t\")\n",
    "mutations_df = pd.read_csv(\"paper/mutations.tsv\", sep=\"\\t\")"
   ]
  },
  {
   "cell_type": "markdown",
   "metadata": {},
   "source": [
    "Convert to dictionaries for easier use."
   ]
  },
  {
   "cell_type": "code",
   "execution_count": 2,
   "metadata": {},
   "outputs": [],
   "source": [
    "mutations_per_strain = {\n",
    "    strain: frozenset(mutations.split(\",\"))\n",
    "    for strain, mutations in zip(strains_df[\"strain\"], strains_df[\"mutations\"])\n",
    "}"
   ]
  },
  {
   "cell_type": "code",
   "execution_count": 3,
   "metadata": {},
   "outputs": [],
   "source": [
    "effect_size = dict(zip(mutations_df[\"mutation\"], mutations_df[\"Δ log R\"]))"
   ]
  },
  {
   "cell_type": "markdown",
   "metadata": {},
   "source": [
    "Create a helper to explore pairwise differences."
   ]
  },
  {
   "cell_type": "code",
   "execution_count": 4,
   "metadata": {},
   "outputs": [],
   "source": [
    "def print_diff(strain1, strain2, max_results=10):\n",
    "    mutations1 = mutations_per_strain[strain1]\n",
    "    mutations2 = mutations_per_strain[strain2]\n",
    "    diff = [(m, effect_size[m]) for m in mutations1 ^ mutations2]\n",
    "    diff.sort(key=lambda me: -abs(me[1]))\n",
    "    print(f\"{strain1} versus {strain2}\")\n",
    "    print(\"AA mutation     Δ log R    Present in strain\")\n",
    "    print(\"--------------------------------------------\")\n",
    "    for m, e in diff[:max_results]:\n",
    "        strain = strain1 if m in mutations1 else strain2\n",
    "        print(f\"{m: <15s} {e: <10.3g} {strain}\")"
   ]
  },
  {
   "cell_type": "markdown",
   "metadata": {},
   "source": [
    "Examine some example sequences."
   ]
  },
  {
   "cell_type": "code",
   "execution_count": 5,
   "metadata": {},
   "outputs": [
    {
     "name": "stdout",
     "output_type": "stream",
     "text": [
      "B.1.617.2 versus B.1.617.1\n",
      "AA mutation     Δ log R    Present in strain\n",
      "--------------------------------------------\n",
      "ORF8:L84S       0.235      B.1.617.1\n",
      "ORF1a:S318L     0.206      B.1.617.1\n",
      "ORF1a:G392D     0.111      B.1.617.1\n",
      "ORF1b:P314F     0.11       B.1.617.1\n",
      "N:A220V         0.0752     B.1.617.2\n",
      "S:E484Q         0.0703     B.1.617.1\n",
      "S:A222V         0.0677     B.1.617.2\n",
      "ORF1a:M585V     -0.0624    B.1.617.2\n",
      "ORF1a:S2535L    0.0612     B.1.617.1\n",
      "N:S194L         0.0599     B.1.617.1\n"
     ]
    }
   ],
   "source": [
    "print_diff(\"B.1.617.2\", \"B.1.617.1\")"
   ]
  },
  {
   "cell_type": "code",
   "execution_count": 6,
   "metadata": {},
   "outputs": [
    {
     "name": "stdout",
     "output_type": "stream",
     "text": [
      "B.1.617.2 versus B.1.617.3\n",
      "AA mutation     Δ log R    Present in strain\n",
      "--------------------------------------------\n",
      "ORF1a:K680N     0.415      B.1.617.3\n",
      "N:A220V         0.0752     B.1.617.2\n",
      "S:E484Q         0.0703     B.1.617.3\n",
      "S:A222V         0.0677     B.1.617.2\n",
      "ORF1a:M585V     -0.0624    B.1.617.2\n",
      "N:S187L         0.0596     B.1.617.3\n",
      "ORF1a:D2980N    0.0498     B.1.617.2\n",
      "ORF1a:M3655I    0.0413     B.1.617.3\n",
      "ORF1a:P309L     0.0409     B.1.617.2\n",
      "ORF1a:S3675-    0.0409     B.1.617.3\n"
     ]
    }
   ],
   "source": [
    "print_diff(\"B.1.617.2\", \"B.1.617.3\")"
   ]
  },
  {
   "cell_type": "code",
   "execution_count": null,
   "metadata": {},
   "outputs": [],
   "source": []
  }
 ],
 "metadata": {
  "kernelspec": {
   "display_name": "Python 3",
   "language": "python",
   "name": "python3"
  },
  "language_info": {
   "codemirror_mode": {
    "name": "ipython",
    "version": 3
   },
   "file_extension": ".py",
   "mimetype": "text/x-python",
   "name": "python",
   "nbconvert_exporter": "python",
   "pygments_lexer": "ipython3",
   "version": "3.7.0"
  }
 },
 "nbformat": 4,
 "nbformat_minor": 4
}
