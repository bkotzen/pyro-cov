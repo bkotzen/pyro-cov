{
 "cells": [
  {
   "cell_type": "markdown",
   "id": "35c7c777-cb9e-47c4-b5fa-f4bb9b28c659",
   "metadata": {},
   "source": [
    "# Plot per region 'slop'"
   ]
  },
  {
   "cell_type": "code",
   "execution_count": null,
   "id": "6e9d31bd-4453-4f7b-8c4c-b51c5970ede9",
   "metadata": {},
   "outputs": [],
   "source": [
    "import math\n",
    "import os\n",
    "import pickle\n",
    "import re\n",
    "import logging\n",
    "from collections import Counter, OrderedDict, defaultdict\n",
    "import numpy as np\n",
    "import matplotlib\n",
    "import matplotlib.pyplot as plt\n",
    "import pandas as pd\n",
    "import torch\n",
    "import pyro.distributions as dist\n",
    "from pyrocov import mutrans, pangolin, stats\n",
    "from pyrocov.stats import normal_log10bf\n",
    "from pyrocov.util import pretty_print, pearson_correlation\n",
    "import seaborn as sns\n",
    "import matplotlib.colors as mcolors\n",
    "import matplotlib.cm as cm\n",
    "import numpy as np\n",
    "import seaborn as sns\n",
    "from bokeh.io import output_notebook, show, output_file\n",
    "from bokeh.plotting import figure\n",
    "from bokeh.models import GeoJSONDataSource, LinearColorMapper, ColorBar\n",
    "from bokeh.palettes import brewer\n",
    "import geopandas as gpd\n",
    "import json"
   ]
  },
  {
   "cell_type": "code",
   "execution_count": null,
   "id": "fa253018-8cda-4340-9fc2-53119dcf45c1",
   "metadata": {},
   "outputs": [],
   "source": [
    "# result directory\n",
    "results_dir = 'results/'"
   ]
  },
  {
   "cell_type": "code",
   "execution_count": null,
   "id": "f438816f-cd2c-40c1-a55e-be9b64abd180",
   "metadata": {},
   "outputs": [],
   "source": [
    "# get slop values\n",
    "fit = torch.load(results_dir + 'mutrans.svi.3000.1.50.coef_scale=0.1.reparam.full.10001.0.05.0.1.10.0.200.6.None..pt', \n",
    "                 map_location = 'cpu')\n",
    "rate = fit['median']['rate']\n",
    "rate_loc = fit['median']['rate_loc']\n",
    "slop = rate - rate_loc"
   ]
  },
  {
   "cell_type": "code",
   "execution_count": null,
   "id": "cccf90d3-c15c-4206-84b0-d57830ccd6f9",
   "metadata": {},
   "outputs": [],
   "source": [
    "# regions by clades\n",
    "slop.shape"
   ]
  },
  {
   "cell_type": "code",
   "execution_count": null,
   "id": "6e12bbb6-195d-450d-8746-e9bde6fe70bd",
   "metadata": {},
   "outputs": [],
   "source": [
    "# Load the entire constant dataset\n",
    "max_num_clades = 3000\n",
    "min_num_mutations = 1\n",
    "min_region_size = 50\n",
    "ambiguous = False\n",
    "columns_filename=f\"results/columns.{max_num_clades}.pkl\"\n",
    "features_filename=f\"results/features.{max_num_clades}.{min_num_mutations}.pt\""
   ]
  },
  {
   "cell_type": "code",
   "execution_count": null,
   "id": "ef8f2d3b-3aa2-47ab-96fe-e2266ef5db94",
   "metadata": {},
   "outputs": [],
   "source": [
    "input_dataset = mutrans.load_gisaid_data(\n",
    "        device=\"cpu\",\n",
    "        columns_filename=columns_filename,\n",
    "        features_filename=features_filename,\n",
    "        min_region_size=min_region_size\n",
    ")"
   ]
  },
  {
   "cell_type": "code",
   "execution_count": null,
   "id": "b2e6c536-b621-4d31-823e-76b320dfce8c",
   "metadata": {},
   "outputs": [],
   "source": [
    "# Get country labels for the place dimension\n",
    "countries = list(( x.split(' / ')[1] for x in input_dataset['location_id'].keys() ))"
   ]
  },
  {
   "cell_type": "code",
   "execution_count": null,
   "id": "09bafec4-c606-4ee6-880d-ebe127480e35",
   "metadata": {},
   "outputs": [],
   "source": [
    "# specify lineage to plot\n",
    "lineage_to_plot = 'B.1.1.7'"
   ]
  },
  {
   "cell_type": "code",
   "execution_count": null,
   "id": "61bd3d10-29d8-4f7d-87f1-add9aca1e530",
   "metadata": {},
   "outputs": [],
   "source": [
    "# indexes of the clades in the lineage of interest\n",
    "clade_idxs = list( input_dataset['clade_id'][k] for k in input_dataset['clade_to_lineage'] if  input_dataset['clade_to_lineage'][k] == lineage_to_plot ) "
   ]
  },
  {
   "cell_type": "code",
   "execution_count": null,
   "id": "29165e3b-8f1c-4eac-9bd5-af090338c2a4",
   "metadata": {},
   "outputs": [],
   "source": [
    "# Put data in dataframe\n",
    "coarse_data = pd.DataFrame({\n",
    "    'country': countries,\n",
    "    'slop': slop[:,clade_idxs].sum(-1).tolist(),\n",
    "})"
   ]
  },
  {
   "cell_type": "code",
   "execution_count": null,
   "id": "51456149-97a6-4724-a6a2-b98378c76851",
   "metadata": {},
   "outputs": [],
   "source": [
    "# Inspect\n",
    "coarse_data.groupby('country').agg('sum').reset_index()"
   ]
  },
  {
   "cell_type": "markdown",
   "id": "8e417cc6-b9b1-4c12-bca8-51c01fd553b7",
   "metadata": {},
   "source": [
    "# Plotting on Map"
   ]
  },
  {
   "cell_type": "code",
   "execution_count": null,
   "id": "01f1ff95-a760-4464-be2a-0dbfa3d10a5b",
   "metadata": {},
   "outputs": [],
   "source": [
    "shapefile = '~/disk1/geo_data/ne_110m_admin_0_countries.shp'"
   ]
  },
  {
   "cell_type": "code",
   "execution_count": null,
   "id": "eacee7e0-16e7-473a-b602-2f3d175d5df7",
   "metadata": {},
   "outputs": [],
   "source": [
    "#Read shapefile using Geopandas\n",
    "gdf = gpd.read_file(shapefile)[['ADMIN', 'ADM0_A3', 'geometry']]\n",
    "#Rename columns.\n",
    "gdf.columns = ['country', 'country_code', 'geometry']\n",
    "gdf.head()"
   ]
  },
  {
   "cell_type": "code",
   "execution_count": null,
   "id": "f1dd4908-8673-4879-bc40-f77996d30d36",
   "metadata": {},
   "outputs": [],
   "source": [
    "# Merge the data and the coordinates\n",
    "merged = gdf.merge(coarse_data, left_on =\"country\", right_on = 'country', how = 'outer')\n",
    "merged['slop'] = merged['slop'].fillna(0)\n",
    "merged = merged[merged['country_code'].notna()]"
   ]
  },
  {
   "cell_type": "code",
   "execution_count": null,
   "id": "c10cde50-2ee8-42a0-8fba-dcdce284de6e",
   "metadata": {},
   "outputs": [],
   "source": [
    "#Read data to json.\n",
    "merged_json = json.loads(merged.to_json())\n",
    "#Convert to String like object.\n",
    "json_data = json.dumps(merged_json)"
   ]
  },
  {
   "cell_type": "code",
   "execution_count": null,
   "id": "011f51a0-67f6-4c91-a21f-ec9dab621ca7",
   "metadata": {},
   "outputs": [],
   "source": [
    "fit = torch.load(results_dir + 'mutrans.svi.3000.1.50.coef_scale=0.1.reparam.full.10001.0.05.0.1.10.0.200.6.None..pt', \n",
    "                 map_location = 'cpu')"
   ]
  },
  {
   "cell_type": "code",
   "execution_count": null,
   "id": "4704b024-5512-4c3e-8734-adab135251de",
   "metadata": {},
   "outputs": [],
   "source": [
    "max_num_clades = 3000\n",
    "min_num_mutations = 1\n",
    "min_region_size = 50\n",
    "ambiguous = False\n",
    "columns_filename=f\"results/columns.{max_num_clades}.pkl\"\n",
    "features_filename=f\"results/features.{max_num_clades}.{min_num_mutations}.pt\"\n",
    "\n",
    "input_dataset = mutrans.load_gisaid_data(\n",
    "    device=\"cpu\",\n",
    "    columns_filename=columns_filename,\n",
    "    features_filename=features_filename,\n",
    "    min_region_size=min_region_size\n",
    ")"
   ]
  },
  {
   "cell_type": "code",
   "execution_count": null,
   "id": "b952a36c-31e2-491e-bf3c-e1d1eb334aeb",
   "metadata": {},
   "outputs": [],
   "source": [
    "def plot_strain_slop( fit, input_dataset, results_dir = 'results/', lineage_to_plot = 'B.1.1.7'):\n",
    "    shapefile = '~/disk1/geo_data/ne_110m_admin_0_countries.shp'                                                                                                \n",
    "                                                                                        \n",
    "    # get slop values\n",
    "    rate = fit['median']['rate']\n",
    "    rate_loc = fit['median']['rate_loc']\n",
    "    slop = rate - rate_loc\n",
    "\n",
    "    # Get country labels for the place dimension\n",
    "    countries = list(( x.split(' / ')[1] for x in input_dataset['location_id'].keys() ))\n",
    "    \n",
    "    # indexes of the clades in the lineage of interest\n",
    "    clade_idxs = list( input_dataset['clade_id'][k] for k in input_dataset['clade_to_lineage'] if  input_dataset['clade_to_lineage'][k] == lineage_to_plot ) \n",
    "    \n",
    "    # Put data in dataframe\n",
    "    coarse_data = pd.DataFrame({\n",
    "        'country': countries,\n",
    "        'slop': slop[:,clade_idxs].mean(-1).tolist(),\n",
    "    })\n",
    "    \n",
    "    #Read shapefile using Geopandas\n",
    "    gdf = gpd.read_file(shapefile)[['ADMIN', 'ADM0_A3', 'geometry']]\n",
    "    #Rename columns.\n",
    "    gdf.columns = ['country', 'country_code', 'geometry']\n",
    "\n",
    "    # Merge the data and the coordinates\n",
    "    merged = gdf.merge(coarse_data, left_on =\"country\", right_on = 'country', how = 'outer')\n",
    "    merged['slop'] = merged['slop'].fillna(0)\n",
    "    merged = merged[merged['country_code'].notna()]\n",
    "\n",
    "    #Read data to json.\n",
    "    merged_json = json.loads(merged.to_json())\n",
    "    #Convert to String like object.\n",
    "    json_data = json.dumps(merged_json)\n",
    "\n",
    "    #Input GeoJSON source that contains features for plotting.\n",
    "    geosource = GeoJSONDataSource(geojson = json_data)\n",
    "\n",
    "    #Define a sequential multi-hue color palette.\n",
    "    palette = brewer['YlGnBu'][8]\n",
    "\n",
    "    #Reverse color order so that dark blue is highest obesity.\n",
    "    palette = palette[::-1]\n",
    "\n",
    "    #Instantiate LinearColorMapper that linearly maps numbers in a range, into a sequence of colors.\n",
    "    color_mapper = LinearColorMapper(palette = palette, low = merged['slop'].min(), high = merged['slop'].max())\n",
    "\n",
    "    #Create color bar. \n",
    "    color_bar = ColorBar(color_mapper=color_mapper, label_standoff=8,width = 500, height = 20,\n",
    "        border_line_color=None,location = (0,0), orientation = 'horizontal')\n",
    "\n",
    "    #Create figure object.\n",
    "    p = figure(title = '', plot_height = 600 , plot_width = 950, toolbar_location = None)\n",
    "    p.xgrid.grid_line_color = None\n",
    "    p.ygrid.grid_line_color = None\n",
    "\n",
    "    #Add patch renderer to figure. \n",
    "    p.patches('xs','ys', source = geosource,fill_color = {'field' :'slop', 'transform' : color_mapper},\n",
    "              line_color = 'black', line_width = 0.25, fill_alpha = 1)\n",
    "    #Specify figure layout.\n",
    "    p.add_layout(color_bar, 'below')\n",
    "\n",
    "    #Display figure inline in Jupyter Notebook.\n",
    "    output_notebook()\n",
    "\n",
    "    #Display figure.\n",
    "    show(p)\n",
    "    \n",
    "    return p\n"
   ]
  },
  {
   "cell_type": "code",
   "execution_count": null,
   "id": "0c875aae-fa9c-46b2-9cec-d8a844b98a83",
   "metadata": {},
   "outputs": [],
   "source": [
    "plot_strain_slop(fit, input_dataset, lineage_to_plot = 'B.1.351')"
   ]
  },
  {
   "cell_type": "code",
   "execution_count": null,
   "id": "be86b3ea-07ba-4fc0-9495-40defaa89c7d",
   "metadata": {},
   "outputs": [],
   "source": [
    "plot_strain_slop(fit, input_dataset, lineage_to_plot = 'B.1.1.7')"
   ]
  },
  {
   "cell_type": "code",
   "execution_count": null,
   "id": "9306bc0b-1133-4c2f-b706-42799478bb5d",
   "metadata": {},
   "outputs": [],
   "source": [
    "plot_strain_slop(fit, input_dataset, lineage_to_plot = 'B.1.617.2')"
   ]
  },
  {
   "cell_type": "code",
   "execution_count": null,
   "id": "242a3995-6363-41ad-b532-3ecebfb50faa",
   "metadata": {},
   "outputs": [],
   "source": [
    "plot_strain_slop(fit, input_dataset, lineage_to_plot = 'P.1')"
   ]
  },
  {
   "cell_type": "code",
   "execution_count": null,
   "id": "bb0f8571-7388-4613-b1bb-ff6d76f50f8c",
   "metadata": {},
   "outputs": [],
   "source": [
    "plot_strain_slop(fit, input_dataset, lineage_to_plot = 'BA.1')"
   ]
  },
  {
   "cell_type": "code",
   "execution_count": null,
   "id": "84a3f0f6-2f89-40fc-b79b-681beefcbb19",
   "metadata": {},
   "outputs": [],
   "source": [
    "plot_strain_slop(fit, input_dataset, lineage_to_plot = 'BA.2')"
   ]
  }
 ],
 "metadata": {
  "kernelspec": {
   "display_name": "Python 3",
   "language": "python",
   "name": "python3"
  },
  "language_info": {
   "codemirror_mode": {
    "name": "ipython",
    "version": 3
   },
   "file_extension": ".py",
   "mimetype": "text/x-python",
   "name": "python",
   "nbconvert_exporter": "python",
   "pygments_lexer": "ipython3",
   "version": "3.8.8"
  }
 },
 "nbformat": 4,
 "nbformat_minor": 5
}
