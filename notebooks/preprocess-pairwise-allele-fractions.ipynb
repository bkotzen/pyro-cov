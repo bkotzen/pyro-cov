{
 "cells": [
  {
   "cell_type": "code",
   "execution_count": 1,
   "id": "96af8117",
   "metadata": {},
   "outputs": [],
   "source": [
    "import torch"
   ]
  },
  {
   "cell_type": "code",
   "execution_count": 2,
   "id": "7e9fa3b9",
   "metadata": {},
   "outputs": [],
   "source": [
    "max_num_clades = 3000\n",
    "min_num_mutations = 1"
   ]
  },
  {
   "cell_type": "code",
   "execution_count": 3,
   "id": "eb793068",
   "metadata": {},
   "outputs": [
    {
     "name": "stdout",
     "output_type": "stream",
     "text": [
      "clade_id \tdict of size 3000\n",
      "clade_id_inv \tlist of size 3000\n",
      "clade_id_to_lineage_id \tTensor of shape (3000,)\n",
      "clade_to_lineage \tdict of size 3000\n",
      "features \tTensor of shape (3000, 2904)\n",
      "lineage_id \tdict of size 1544\n",
      "lineage_id_inv \tlist of size 1544\n",
      "lineage_id_to_clade_id \tTensor of shape (1544,)\n",
      "lineage_to_clade \tdict of size 1544\n",
      "location_id \tOrderedDict of size 1560\n",
      "location_id_inv \tlist of size 1560\n",
      "mutations \tlist of size 2904\n",
      "pc_index \tTensor of shape (185001,)\n",
      "sparse_counts \tdict of size 3\n",
      "state_to_country \tTensor of shape (1355,)\n",
      "time \tTensor of shape (56,)\n",
      "weekly_clades \tTensor of shape (56, 1560, 3000)\n",
      "CPU times: user 15 ms, sys: 891 ms, total: 906 ms\n",
      "Wall time: 1.46 s\n"
     ]
    }
   ],
   "source": [
    "%%time\n",
    "def load_data():\n",
    "    filename = f\"results/mutrans.data.single.{max_num_clades}.{min_num_mutations}.50.None.pt\"\n",
    "    dataset = torch.load(filename, map_location=\"cpu\")\n",
    "    return dataset\n",
    "dataset = load_data()\n",
    "locals().update(dataset)\n",
    "for k, v in sorted(dataset.items()):\n",
    "    if isinstance(v, torch.Tensor):\n",
    "        print(f\"{k} \\t{type(v).__name__} of shape {tuple(v.shape)}\")\n",
    "    else:\n",
    "        print(f\"{k} \\t{type(v).__name__} of size {len(v)}\")"
   ]
  },
  {
   "cell_type": "code",
   "execution_count": null,
   "id": "ffd0f8ed",
   "metadata": {},
   "outputs": [],
   "source": [
    "# TODO(martin) Use features, mutations, weekly_clades"
   ]
  }
 ],
 "metadata": {
  "kernelspec": {
   "display_name": "Python 3 (ipykernel)",
   "language": "python",
   "name": "python3"
  },
  "language_info": {
   "codemirror_mode": {
    "name": "ipython",
    "version": 3
   },
   "file_extension": ".py",
   "mimetype": "text/x-python",
   "name": "python",
   "nbconvert_exporter": "python",
   "pygments_lexer": "ipython3",
   "version": "3.9.1"
  }
 },
 "nbformat": 4,
 "nbformat_minor": 5
}
