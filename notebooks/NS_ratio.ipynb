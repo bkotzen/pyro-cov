{
 "cells": [
  {
   "cell_type": "markdown",
   "id": "8907ca86-43d8-4d2f-b698-18ee3d4d5747",
   "metadata": {},
   "source": [
    "# Plot N to S ratio along time"
   ]
  },
  {
   "cell_type": "code",
   "execution_count": null,
   "id": "f8a35b9a-b8da-435f-a26b-dcca93f698f5",
   "metadata": {},
   "outputs": [],
   "source": [
    "import pickle\n",
    "import pandas as pd\n",
    "import torch\n",
    "import glob\n",
    "from pyrocov import mutrans, pangolin, stats\n",
    "import matplotlib.pyplot as plt\n",
    "import numpy as np\n",
    "from pyrocov.sarscov2 import GENE_TO_POSITION, GENE_STRUCTURE, aa_mutation_to_position\n",
    "import datetime"
   ]
  },
  {
   "cell_type": "code",
   "execution_count": null,
   "id": "d759b6f3-0e07-4d65-b289-7c8365f59b6d",
   "metadata": {},
   "outputs": [],
   "source": [
    "# Reasonable values might be week (7), fortnight (14), or month (28)\n",
    "TIMESTEP = 14  # in days\n",
    "GENERATION_TIME = 5.5  # in days\n",
    "START_DATE = \"2019-12-01\"\n",
    "\n",
    "\n",
    "def date_range(stop):\n",
    "    start = datetime.datetime.strptime(START_DATE, \"%Y-%m-%d\")\n",
    "    step = datetime.timedelta(days=TIMESTEP)\n",
    "    return np.array([start + step * t for t in range(stop)])\n",
    "\n",
    "def date_map(i):\n",
    "    start = datetime.datetime.strptime(START_DATE, \"%Y-%m-%d\")\n",
    "    step = datetime.timedelta(days=TIMESTEP)\n",
    "    return start + step * i // TIMESTEP"
   ]
  },
  {
   "cell_type": "code",
   "execution_count": null,
   "id": "2990e12c-4f28-4dca-ae3a-124baf56e808",
   "metadata": {},
   "outputs": [],
   "source": [
    "# Load the entire constant dataset\n",
    "max_num_clades = 3000\n",
    "min_num_mutations = 1\n",
    "min_region_size = 50\n",
    "ambiguous = False\n",
    "columns_filename=f\"results/columns.{max_num_clades}.pkl\"\n",
    "features_filename=f\"results/features.{max_num_clades}.{min_num_mutations}.pt\""
   ]
  },
  {
   "cell_type": "code",
   "execution_count": null,
   "id": "48acaef4-e40b-46f4-a903-83d059080aab",
   "metadata": {},
   "outputs": [],
   "source": [
    "input_dataset = mutrans.load_gisaid_data(\n",
    "        device=\"cpu\",\n",
    "        columns_filename=columns_filename,\n",
    "        features_filename=features_filename,\n",
    "        min_region_size=min_region_size\n",
    ")"
   ]
  },
  {
   "cell_type": "code",
   "execution_count": null,
   "id": "05733ee0-2676-404c-a3bd-086e34954bc7",
   "metadata": {},
   "outputs": [],
   "source": [
    "try:\n",
    "    with open(\"results/nextclade.counts.pkl\", \"rb\") as f:\n",
    "        all_mutations = pickle.load(f)\n",
    "except Exception:\n",
    "    with open(\"results/stats.pkl\", \"rb\") as f:\n",
    "        all_mutations = pickle.load(f)[\"aaSubstitutions\"]\n",
    "print(f\"Loaded {len(all_mutations)} mutations\")"
   ]
  },
  {
   "cell_type": "code",
   "execution_count": null,
   "id": "f72da460-e68c-4ec7-85b2-bc8b3405f639",
   "metadata": {},
   "outputs": [],
   "source": [
    "def get_NS_ratio(fit):\n",
    "    mutations = input_dataset['mutations']\n",
    "    position = torch.tensor([aa_mutation_to_position(m) for m in mutations])\n",
    "    gene_id = {gene_name: i for i, gene_name in enumerate(GENE_TO_POSITION)}\n",
    "    gene_ids = torch.tensor([gene_id[m.split(\":\")[0]] for m in mutations])\n",
    "    \n",
    "    N_to_S = fit[\"mean\"][\"coef\"][gene_ids == gene_id['N']].clamp(min=0).mean() / fit[\"mean\"][\"coef\"][gene_ids == gene_id['S']].clamp(min=0).mean()\n",
    "        \n",
    "    return N_to_S.item()"
   ]
  },
  {
   "cell_type": "code",
   "execution_count": null,
   "id": "c6a437ca-45f7-43dc-9376-f97413a51a26",
   "metadata": {},
   "outputs": [],
   "source": [
    "aa_mutation_to_position('N:P207S') # +- 100"
   ]
  },
  {
   "cell_type": "code",
   "execution_count": null,
   "id": "8cf25d43-5f9d-4f7b-b8e1-152c6b42aff8",
   "metadata": {},
   "outputs": [],
   "source": [
    "aa_mutation_to_position('S:T478K') # +- 100"
   ]
  },
  {
   "cell_type": "code",
   "execution_count": null,
   "id": "04743c43-dfe7-4127-96e6-432f07448f33",
   "metadata": {},
   "outputs": [],
   "source": [
    "def get_NS_peak_ratio(fit):\n",
    "    mutations = input_dataset['mutations']\n",
    "    position = torch.tensor([aa_mutation_to_position(m) for m in mutations])\n",
    "    gene_id = {gene_name: i for i, gene_name in enumerate(GENE_TO_POSITION)}\n",
    "    gene_ids = torch.tensor([gene_id[m.split(\":\")[0]] for m in mutations])\n",
    "    \n",
    "    N_start = 28792\n",
    "    N_end = 28992 \n",
    "    \n",
    "    S_start = 22894\n",
    "    S_end = 23094\n",
    "    \n",
    "    N_value = fit[\"mean\"][\"coef\"][(position > N_start) & (position < N_end)].mean() \n",
    "    S_value = fit[\"mean\"][\"coef\"][(position > S_start) & (position < S_end)].mean() \n",
    "    \n",
    "    N_to_S = N_value / S_value\n",
    "        \n",
    "    return N_to_S.item()"
   ]
  },
  {
   "cell_type": "code",
   "execution_count": null,
   "id": "f088a8b1-dd6c-4173-a40e-bfdbe1e33559",
   "metadata": {},
   "outputs": [],
   "source": [
    "model_files = glob.glob('results/mutrans.svi.3000.1.50.coef_scale=0.05.reparam-localinit.full.10001.0.05.0.1.10.0.200.12.*..pt')"
   ]
  },
  {
   "cell_type": "code",
   "execution_count": null,
   "id": "31b97f21-beed-4298-82d7-99b8699a020c",
   "metadata": {},
   "outputs": [],
   "source": [
    "model_files"
   ]
  },
  {
   "cell_type": "code",
   "execution_count": null,
   "id": "9c915802-09fa-4fb3-bc25-9a2c676d4ded",
   "metadata": {},
   "outputs": [],
   "source": [
    "days = []\n",
    "ns_ratio = []\n",
    "ns_peak_ratio = []\n",
    "\n",
    "for model_filename in model_files:\n",
    "    fit = torch.load(model_filename, map_location = 'cpu')\n",
    "    model_days = model_filename.split('.')[18]\n",
    "    days.append(model_days)\n",
    "    ns_ratio.append(get_NS_ratio(fit))\n",
    "    ns_peak_ratio.append(get_NS_peak_ratio(fit))\n",
    "    \n",
    "days = list(int(x) for x in days)\n",
    "\n",
    "df = pd.DataFrame({'days': days, 'ns_ratio': ns_ratio, 'ns_peak_ratio': ns_peak_ratio})"
   ]
  },
  {
   "cell_type": "code",
   "execution_count": null,
   "id": "f1908350-b9c0-4440-9be2-96c89403fefb",
   "metadata": {},
   "outputs": [],
   "source": [
    "df['mapped_time'] = list(date_map(int(x)) for x in df['days'] )"
   ]
  },
  {
   "cell_type": "code",
   "execution_count": null,
   "id": "b0a9404d-62c4-468b-b82c-7c59fb22f5f1",
   "metadata": {},
   "outputs": [],
   "source": [
    "df.plot.scatter(x='mapped_time',y='ns_ratio', title=\"N / S ratio mean\", rot=25)\n",
    "plt.savefig('paper/N_S_ratio.png', dpi=300)"
   ]
  },
  {
   "cell_type": "code",
   "execution_count": null,
   "id": "d02821b9-6450-42d9-b48f-7f67e182acf4",
   "metadata": {},
   "outputs": [],
   "source": [
    "df.plot.scatter(x='mapped_time',y='ns_peak_ratio', title=\"N / S peak ratio mean\", rot = 90)\n",
    "plt.savefig('paper/N_S_peak_ratio.png', dpi=300)"
   ]
  },
  {
   "cell_type": "markdown",
   "id": "9cbf98e7-5a03-4781-8b3d-c602a2b4b85e",
   "metadata": {},
   "source": [
    "# Stack plot"
   ]
  },
  {
   "cell_type": "code",
   "execution_count": null,
   "id": "f9427953-78b7-4156-946a-5731d0379aa3",
   "metadata": {},
   "outputs": [],
   "source": [
    "def get_gene_ratios(fit):\n",
    "    mutations = input_dataset['mutations']\n",
    "    position = torch.tensor([aa_mutation_to_position(m) for m in mutations])\n",
    "    gene_id = {gene_name: i for i, gene_name in enumerate(GENE_TO_POSITION)}\n",
    "    gene_ids = torch.tensor([gene_id[m.split(\":\")[0]] for m in mutations])\n",
    "    \n",
    "    genes = sorted(gene_id)\n",
    "    components = torch.stack([\n",
    "        fit[\"mean\"][\"coef\"][gene_ids == gene_id[gene]].clamp(min=0).mean()\n",
    "        for gene in genes\n",
    "    ])\n",
    "    components /= components.sum(0)\n",
    "        \n",
    "    return genes, components"
   ]
  },
  {
   "cell_type": "code",
   "execution_count": null,
   "id": "2757fe19-a10a-4712-9170-aad80471ed0d",
   "metadata": {},
   "outputs": [],
   "source": [
    "import matplotlib\n",
    "import matplotlib.pyplot as plt\n",
    "import pyrocov.mutrans as mutrans"
   ]
  },
  {
   "cell_type": "code",
   "execution_count": null,
   "id": "da50370b-4b24-4e44-8175-2ce949c80e04",
   "metadata": {},
   "outputs": [],
   "source": [
    "model_files"
   ]
  },
  {
   "cell_type": "code",
   "execution_count": null,
   "id": "0da3dba7-50bb-4e37-b8d9-8acde3d41d08",
   "metadata": {},
   "outputs": [],
   "source": [
    "series = []\n",
    "days = []\n",
    "\n",
    "for model_filename in model_files:\n",
    "    fit = torch.load(model_filename, map_location = 'cpu')\n",
    "    model_days = model_filename.split('.')[18]\n",
    "    days.append(model_days)\n",
    "    genes, components = get_gene_ratios(fit)\n",
    "    series.append(components)\n",
    "    \n",
    "series = torch.stack(series)"
   ]
  },
  {
   "cell_type": "code",
   "execution_count": null,
   "id": "0882cf9b-85da-4e3a-8cc0-bdaf6e7e8470",
   "metadata": {},
   "outputs": [],
   "source": [
    "times = list(date_map(int(x)) for x in days)\n",
    "idx = np.argsort(times)"
   ]
  },
  {
   "cell_type": "code",
   "execution_count": null,
   "id": "9f189e66-7acd-4e6b-866f-14430c380099",
   "metadata": {},
   "outputs": [],
   "source": [
    "import seaborn as sns"
   ]
  },
  {
   "cell_type": "code",
   "execution_count": null,
   "id": "4cc4f6f0-9586-4d03-a00f-f077c5e11750",
   "metadata": {},
   "outputs": [],
   "source": [
    "pal = sns.color_palette('tab20')"
   ]
  },
  {
   "cell_type": "code",
   "execution_count": null,
   "id": "9126f5cf-40b6-40ba-9ef9-72a0e53b6a5b",
   "metadata": {},
   "outputs": [],
   "source": [
    "fig, ax = plt.subplots()\n",
    "plt.stackplot(list( times[i] for i in idx), series[idx,].T, labels = genes, colors=pal)\n",
    "plt.legend(loc='upper left',prop={'size': 8})\n",
    "ax.xaxis.set_major_locator(matplotlib.dates.MonthLocator())\n",
    "ax.xaxis.set_major_formatter(matplotlib.dates.DateFormatter(\"%b %Y\"))\n",
    "plt.xticks(rotation=45);\n",
    "fig.tight_layout()\n",
    "plt.savefig('paper/gene_ratios.png', dpi = 300)"
   ]
  }
 ],
 "metadata": {
  "kernelspec": {
   "display_name": "Python 3",
   "language": "python",
   "name": "python3"
  },
  "language_info": {
   "codemirror_mode": {
    "name": "ipython",
    "version": 3
   },
   "file_extension": ".py",
   "mimetype": "text/x-python",
   "name": "python",
   "nbconvert_exporter": "python",
   "pygments_lexer": "ipython3",
   "version": "3.8.8"
  }
 },
 "nbformat": 4,
 "nbformat_minor": 5
}
