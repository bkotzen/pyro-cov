{
 "cells": [
  {
   "cell_type": "markdown",
   "id": "8907ca86-43d8-4d2f-b698-18ee3d4d5747",
   "metadata": {},
   "source": [
    "# Plot N to S ratio along time"
   ]
  },
  {
   "cell_type": "code",
   "execution_count": null,
   "id": "f8a35b9a-b8da-435f-a26b-dcca93f698f5",
   "metadata": {},
   "outputs": [],
   "source": [
    "import pickle\n",
    "import pandas as pd\n",
    "import torch\n",
    "import glob\n",
    "from pyrocov import mutrans, pangolin, stats\n",
    "import matplotlib.pyplot as plt\n",
    "import numpy as np\n",
    "from pyrocov.sarscov2 import GENE_TO_POSITION, GENE_STRUCTURE, aa_mutation_to_position"
   ]
  },
  {
   "cell_type": "code",
   "execution_count": null,
   "id": "2990e12c-4f28-4dca-ae3a-124baf56e808",
   "metadata": {},
   "outputs": [],
   "source": [
    "# Load the entire constant dataset\n",
    "max_num_clades = 3000\n",
    "min_num_mutations = 1\n",
    "min_region_size = 50\n",
    "ambiguous = False\n",
    "columns_filename=f\"results/columns.{max_num_clades}.pkl\"\n",
    "features_filename=f\"results/features.{max_num_clades}.{min_num_mutations}.pt\""
   ]
  },
  {
   "cell_type": "code",
   "execution_count": null,
   "id": "48acaef4-e40b-46f4-a903-83d059080aab",
   "metadata": {},
   "outputs": [],
   "source": [
    "input_dataset = mutrans.load_gisaid_data(\n",
    "        device=\"cpu\",\n",
    "        columns_filename=columns_filename,\n",
    "        features_filename=features_filename,\n",
    "        min_region_size=min_region_size\n",
    ")"
   ]
  },
  {
   "cell_type": "code",
   "execution_count": null,
   "id": "05733ee0-2676-404c-a3bd-086e34954bc7",
   "metadata": {},
   "outputs": [],
   "source": [
    "try:\n",
    "    with open(\"results/nextclade.counts.pkl\", \"rb\") as f:\n",
    "        all_mutations = pickle.load(f)\n",
    "except Exception:\n",
    "    with open(\"results/stats.pkl\", \"rb\") as f:\n",
    "        all_mutations = pickle.load(f)[\"aaSubstitutions\"]\n",
    "print(f\"Loaded {len(all_mutations)} mutations\")"
   ]
  },
  {
   "cell_type": "code",
   "execution_count": null,
   "id": "f72da460-e68c-4ec7-85b2-bc8b3405f639",
   "metadata": {},
   "outputs": [],
   "source": [
    "def get_NS_ratio(fit):\n",
    "    mutations = input_dataset['mutations']\n",
    "    position = torch.tensor([aa_mutation_to_position(m) for m in mutations])\n",
    "    gene_id = {gene_name: i for i, gene_name in enumerate(GENE_TO_POSITION)}\n",
    "    gene_ids = torch.tensor([gene_id[m.split(\":\")[0]] for m in mutations])\n",
    "    \n",
    "    N_to_S = fit[\"mean\"][\"coef\"][gene_ids == gene_id['N']].clamp(min=0).mean() / fit[\"mean\"][\"coef\"][gene_ids == gene_id['S']].clamp(min=0).mean()\n",
    "        \n",
    "    return N_to_S"
   ]
  },
  {
   "cell_type": "code",
   "execution_count": null,
   "id": "c6a437ca-45f7-43dc-9376-f97413a51a26",
   "metadata": {},
   "outputs": [],
   "source": [
    "aa_mutation_to_position('N:P207S') # +- 100"
   ]
  },
  {
   "cell_type": "code",
   "execution_count": null,
   "id": "8cf25d43-5f9d-4f7b-b8e1-152c6b42aff8",
   "metadata": {},
   "outputs": [],
   "source": [
    "aa_mutation_to_position('S:T478K') # +- 100"
   ]
  },
  {
   "cell_type": "code",
   "execution_count": null,
   "id": "04743c43-dfe7-4127-96e6-432f07448f33",
   "metadata": {},
   "outputs": [],
   "source": [
    "def get_NS_peak_ratio(fit):\n",
    "    mutations = input_dataset['mutations']\n",
    "    position = torch.tensor([aa_mutation_to_position(m) for m in mutations])\n",
    "    gene_id = {gene_name: i for i, gene_name in enumerate(GENE_TO_POSITION)}\n",
    "    gene_ids = torch.tensor([gene_id[m.split(\":\")[0]] for m in mutations])\n",
    "    \n",
    "    N_start = 28792\n",
    "    N_end = 28992 \n",
    "    \n",
    "    S_start = 22894\n",
    "    S_end = 23094\n",
    "    \n",
    "    N_value = fit[\"mean\"][\"coef\"][(position > N_start) & (position < N_end)].mean() \n",
    "    S_value = fit[\"mean\"][\"coef\"][(position > S_start) & (position < S_end)].mean() \n",
    "    \n",
    "    N_to_S = N_value / S_value\n",
    "        \n",
    "    return N_to_S.item()"
   ]
  },
  {
   "cell_type": "code",
   "execution_count": null,
   "id": "f088a8b1-dd6c-4173-a40e-bfdbe1e33559",
   "metadata": {},
   "outputs": [],
   "source": [
    "model_files = glob.glob('results/mutrans.svi.3000.1.50.coef_scale=0.05.reparam.full.10001.0.05.0.1.10.0.200.12.*..pt')"
   ]
  },
  {
   "cell_type": "code",
   "execution_count": null,
   "id": "9c915802-09fa-4fb3-bc25-9a2c676d4ded",
   "metadata": {},
   "outputs": [],
   "source": [
    "days = []\n",
    "ns_ratio = []\n",
    "ns_peak_ratio = []\n",
    "\n",
    "for model_filename in model_files:\n",
    "    fit = torch.load(model_filename, map_location = 'cpu')\n",
    "    model_days = model_filename.split('.')[18]\n",
    "    days.append(model_days)\n",
    "    ns_ratio.append(get_NS_ratio(fit))\n",
    "    ns_peak_ratio.append(get_NS_peak_ratio(fit))\n",
    "    \n",
    "days = list(int(x) for x in days)\n",
    "\n",
    "df = pd.DataFrame({'days': days, 'ns_ratio': ns_ratio, 'ns_peak_ratio': ns_peak_ratio})"
   ]
  },
  {
   "cell_type": "code",
   "execution_count": null,
   "id": "b6d8cae3-5e3f-4a49-994e-b34aafe3b388",
   "metadata": {},
   "outputs": [],
   "source": [
    "fig, ax = plt.subplots(1,2)\n",
    "df.plot.scatter(x='days',y='ns_ratio', ax=ax[0], title=\"N / S ratio mean\")\n",
    "df.plot.scatter(x='days',y='ns_peak_ratio', ax=ax[1], title=\"N / S peak ratio mean\");\n",
    "plt.savefig('paper/N_S_ratio.png', dpi=300)"
   ]
  },
  {
   "cell_type": "markdown",
   "id": "9cbf98e7-5a03-4781-8b3d-c602a2b4b85e",
   "metadata": {},
   "source": [
    "# Stack plot"
   ]
  },
  {
   "cell_type": "code",
   "execution_count": null,
   "id": "f9427953-78b7-4156-946a-5731d0379aa3",
   "metadata": {},
   "outputs": [],
   "source": [
    "def get_gene_ratios(fit):\n",
    "    mutations = input_dataset['mutations']\n",
    "    position = torch.tensor([aa_mutation_to_position(m) for m in mutations])\n",
    "    gene_id = {gene_name: i for i, gene_name in enumerate(GENE_TO_POSITION)}\n",
    "    gene_ids = torch.tensor([gene_id[m.split(\":\")[0]] for m in mutations])\n",
    "    \n",
    "    genes = sorted(gene_id)\n",
    "    components = torch.stack([\n",
    "        fit[\"mean\"][\"coef\"][gene_ids == gene_id[gene]].clamp(min=0).mean()\n",
    "        for gene in genes\n",
    "    ])\n",
    "    components /= components.sum(0)\n",
    "        \n",
    "    return genes, components"
   ]
  },
  {
   "cell_type": "code",
   "execution_count": null,
   "id": "0da3dba7-50bb-4e37-b8d9-8acde3d41d08",
   "metadata": {},
   "outputs": [],
   "source": [
    "series = []\n",
    "days = []\n",
    "\n",
    "for model_filename in model_files:\n",
    "    fit = torch.load(model_filename, map_location = 'cpu')\n",
    "    model_days = model_filename.split('.')[18]\n",
    "    days.append(model_days)\n",
    "    genes, components = get_gene_ratios(fit)\n",
    "    series.append(components)\n",
    "    \n",
    "series = torch.stack(series)"
   ]
  },
  {
   "cell_type": "code",
   "execution_count": null,
   "id": "0882cf9b-85da-4e3a-8cc0-bdaf6e7e8470",
   "metadata": {},
   "outputs": [],
   "source": [
    "times = list(int(x) for x in days)\n",
    "idx = np.argsort(times)"
   ]
  },
  {
   "cell_type": "code",
   "execution_count": null,
   "id": "9126f5cf-40b6-40ba-9ef9-72a0e53b6a5b",
   "metadata": {},
   "outputs": [],
   "source": [
    "plt.stackplot(torch.Tensor(times)[idx], series[idx,].T, labels = genes)\n",
    "plt.legend(loc='upper left')\n",
    "plt.savefig('paper/gene_ratios.png', dpi = 300)"
   ]
  }
 ],
 "metadata": {
  "kernelspec": {
   "display_name": "Python 3",
   "language": "python",
   "name": "python3"
  },
  "language_info": {
   "codemirror_mode": {
    "name": "ipython",
    "version": 3
   },
   "file_extension": ".py",
   "mimetype": "text/x-python",
   "name": "python",
   "nbconvert_exporter": "python",
   "pygments_lexer": "ipython3",
   "version": "3.8.8"
  }
 },
 "nbformat": 4,
 "nbformat_minor": 5
}
