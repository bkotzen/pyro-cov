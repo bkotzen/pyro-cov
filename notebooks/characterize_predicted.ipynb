{
 "cells": [
  {
   "cell_type": "markdown",
   "id": "bad6d62d-f589-4319-bf25-cd1fa81cda53",
   "metadata": {},
   "source": [
    "# Characterize predicted mutations"
   ]
  },
  {
   "cell_type": "markdown",
   "id": "45b3a168-3c60-41de-85f3-1c9afbb36dca",
   "metadata": {},
   "source": [
    "This notebook processes the ranked mutations in `paper/mutations.tsv` and generates output plots for examining mutational enrichment."
   ]
  },
  {
   "cell_type": "code",
   "execution_count": null,
   "id": "fa82e3a6-5497-424c-88fe-dd714f55646a",
   "metadata": {},
   "outputs": [],
   "source": [
    "# imports\n",
    "library(data.table)\n",
    "library(tidyverse)\n",
    "library(testit)\n",
    "library(pheatmap)"
   ]
  },
  {
   "cell_type": "code",
   "execution_count": null,
   "id": "904fadff-954c-4053-90ec-d857db108001",
   "metadata": {},
   "outputs": [],
   "source": [
    "# Set graphics\n",
    "options(repr.plot.width=10, repr.plot.height=10)\n",
    "output_plot_dir <- 'paper/mutation_scoring/'\n",
    "plot_dpi = 300"
   ]
  },
  {
   "cell_type": "code",
   "execution_count": null,
   "id": "bf88eb82-0236-4b25-b3db-cedf1a7d5390",
   "metadata": {},
   "outputs": [],
   "source": [
    "# Read input data\n",
    "res_mutations <- fread('paper/mutations.tsv')"
   ]
  },
  {
   "cell_type": "code",
   "execution_count": null,
   "id": "032c80bd-f4d1-43be-a3fb-5ab46bce64e7",
   "metadata": {},
   "outputs": [],
   "source": [
    "# Helper functions\n",
    "strpart <- function(x, split, n, fixed=FALSE) {\n",
    "    sapply(strsplit(as.character(x),split,fixed=fixed),'[',n)\n",
    "}\n",
    "\n",
    "matrix_to_long_df <- function(matrix) {\n",
    "    rn <- rownames(matrix)\n",
    "    cn <- colnames(matrix)\n",
    "    df <- as.data.frame(matrix)\n",
    "    colnames(df) <- cn\n",
    "    df$rownames <- rn\n",
    "    pivot_longer(df, !rownames, names_to = \"colnames\")\n",
    "}"
   ]
  },
  {
   "cell_type": "markdown",
   "id": "9bd15f4a-8b5b-4813-a99a-f7c9ab54a980",
   "metadata": {},
   "source": [
    "## Get summary of mutations at the top of the list"
   ]
  },
  {
   "cell_type": "code",
   "execution_count": null,
   "id": "ea26bb4d-83f8-4e21-a722-975313f70b90",
   "metadata": {},
   "outputs": [],
   "source": [
    "get_mutation_summary <- function(mutations, n_mutations = NULL, return_matrix = TRUE, select_gene = NULL) {\n",
    "    aa_chars = sort(c('G','A','L','M','F','W','K','Q','E','S','P','V','I','C','Y','H','R','N','D','T'))\n",
    "    \n",
    "    if (!is.null(n_mutations)) {\n",
    "        mutations[1:n_mutations,] %>% pull('mutation') -> mutation_strings\n",
    "    } else {\n",
    "        mutations %>% pull('mutation') -> mutation_strings\n",
    "    }\n",
    "    \n",
    "    # Extract mutation information\n",
    "    gene <- strpart(mutation_strings, ':', 1)\n",
    "    aa_change <- strpart(mutation_strings, ':', 2)\n",
    "    aa_from <- substr(aa_change,1,1)\n",
    "    position <- substr(aa_change,2,nchar(aa_change)-1)\n",
    "    aa_to <- substr(aa_change,nchar(aa_change),nchar(aa_change))\n",
    "    mutation_data_parse <- data.frame(\n",
    "        gene,\n",
    "        aa_from,\n",
    "        position,\n",
    "        aa_to\n",
    "    )\n",
    "    \n",
    "    # Subset to specific gene\n",
    "    if (!is.null(select_gene)) {\n",
    "        mutation_data_parse <- mutation_data_parse[gene == select_gene,]\n",
    "    }\n",
    "    \n",
    "    # Filter to only amino acid changes (otherwise it includes 'e')\n",
    "    mutation_data_parse %>% \n",
    "        filter(aa_from %in% aa_chars) %>%\n",
    "        filter(aa_to %in% aa_chars) -> mutation_data_parse\n",
    "    \n",
    "    # Count mutations\n",
    "    mutation_data_parse[,c('aa_from','aa_to')] %>% \n",
    "        group_by(aa_from, aa_to) %>% summarise(n=n(), .groups=\"drop\") -> summarized_counts\n",
    "    \n",
    "\n",
    "    if (return_matrix) {\n",
    "        # pivot wider\n",
    "        summarized_counts %>% pivot_wider(\n",
    "            id_cols = c(aa_from, aa_to),\n",
    "            names_from = aa_to,\n",
    "            values_from = n,\n",
    "            values_fill=0\n",
    "        ) -> mutation_counts_actual\n",
    "        \n",
    "        # Turn to matrix\n",
    "        rn <- mutation_counts_actual$aa_from\n",
    "        cn <- colnames(mutation_counts_actual)\n",
    "        mutation_counts_actual <- (as.matrix(mutation_counts_actual[,-1]))\n",
    "        rownames(mutation_counts_actual) <- rn\n",
    "        colnames(mutation_counts_actual) <- cn[-1]\n",
    "\n",
    "        # Find missing cols and rows\n",
    "        missing_cols <- setdiff(aa_chars, colnames(mutation_counts_actual))\n",
    "        missing_rows <- setdiff(aa_chars, rownames(mutation_counts_actual))\n",
    "\n",
    "        # Add missing cols\n",
    "        original_cn <- colnames(mutation_counts_actual)\n",
    "        mutation_counts_actual <- cbind(mutation_counts_actual, \n",
    "                                        matrix(0, nrow(mutation_counts_actual), \n",
    "                                               length(missing_cols)))\n",
    "        colnames(mutation_counts_actual) <- c(original_cn, missing_cols)\n",
    "        # Add missing rows\n",
    "        original_rn <- rownames(mutation_counts_actual)\n",
    "        mutation_counts_actual <- rbind(mutation_counts_actual,\n",
    "                                        matrix(0, length(missing_rows),\n",
    "                                              ncol(mutation_counts_actual)))\n",
    "        rownames(mutation_counts_actual) <- c(original_rn, missing_rows)\n",
    "\n",
    "        # Put in order\n",
    "        mutation_counts_actual <- mutation_counts_actual[aa_chars,aa_chars]\n",
    "        \n",
    "        # Rows -- from\n",
    "        # Cols -- to\n",
    "        mutation_counts_actual <- t(mutation_counts_actual)\n",
    "\n",
    "        return(mutation_counts_actual)\n",
    "    } else {\n",
    "        return(summarized_counts)\n",
    "    }\n",
    "\n",
    "}"
   ]
  },
  {
   "cell_type": "code",
   "execution_count": null,
   "id": "7c1b0d14-289f-4a77-94d8-6c54e08463dd",
   "metadata": {},
   "outputs": [],
   "source": [
    "# Mutation type occurences in top 1000 entries\n",
    "n_mutations <- 1000"
   ]
  },
  {
   "cell_type": "code",
   "execution_count": null,
   "id": "3667918b-b2cf-4527-9ff9-865934608675",
   "metadata": {},
   "outputs": [],
   "source": [
    "# For confirming orientation of output\n",
    "get_mutation_summary(res_mutations, n_mutations = n_mutations, return_matrix=FALSE) %>% \n",
    "    filter(aa_from == 'I' & aa_to == 'T')"
   ]
  },
  {
   "cell_type": "code",
   "execution_count": null,
   "id": "c9e95fd5-a522-4c3f-b87f-eda44a8e0baf",
   "metadata": {},
   "outputs": [],
   "source": [
    "matrix_to_long_df(get_mutation_summary(res_mutations, n_mutations = n_mutations)) %>% \n",
    "    ggplot(aes(x=rownames, y=colnames, fill=value)) + \n",
    "    geom_tile() +\n",
    "    theme_bw() +\n",
    "    scale_fill_gradient(low = \"white\", high = \"red\") +\n",
    "    geom_text(aes(label=value)) +\n",
    "    ggtitle(paste0('Mutation Frequencies in Top ', n_mutations, ' mutations')) +\n",
    "    scale_x_discrete(name='To AA') +\n",
    "    scale_y_discrete(name='From AA') -> plot_aa_frequencies\n",
    "\n",
    "plot_aa_frequencies"
   ]
  },
  {
   "cell_type": "code",
   "execution_count": null,
   "id": "ccb1a4c8-888b-4335-a9f6-606643657675",
   "metadata": {},
   "outputs": [],
   "source": [
    "ggsave(paste0(output_plot_dir, 'top_substitutions.png'), width=10, height=10, dpi = plot_dpi)"
   ]
  },
  {
   "cell_type": "markdown",
   "id": "11372db0-29c7-43ec-9ea0-3120920bd911",
   "metadata": {},
   "source": [
    "## Test for enrichment of particular mutations"
   ]
  },
  {
   "cell_type": "code",
   "execution_count": null,
   "id": "ac9eb75c-1ee2-4ddb-a12c-767061758ada",
   "metadata": {},
   "outputs": [],
   "source": [
    "test_mutation_enrichment <- function(res_mutations, n_mutations=1000, symmetric = TRUE) {\n",
    "    aa_chars = sort(c('G','A','L','M','F','W','K','Q','E','S','P','V','I','C','Y','H','R','N','D','T'))\n",
    "    \n",
    "    top_mut <- get_mutation_summary(res_mutations, n_mutations)\n",
    "    universe_mut <- get_mutation_summary(res_mutations, NULL)\n",
    "    \n",
    "    pvals <- matrix(0, length(aa_chars), length(aa_chars))\n",
    "    rownames(pvals) <- colnames(pvals) <- aa_chars\n",
    "    \n",
    "    top_total <- sum(top_mut)\n",
    "    universe_total <- sum(universe_mut)\n",
    "    \n",
    "    universe_rate <- universe_mut / universe_total\n",
    "\n",
    "    for (from_aa in aa_chars) {\n",
    "        for (to_aa in aa_chars) {\n",
    "            if (from_aa == to_aa) {\n",
    "                # Do not test synonymous\n",
    "                pvals[from_aa, to_aa] <- NA\n",
    "            } else {\n",
    "                if (symmetric) {\n",
    "                    this_mutation_count = top_mut[from_aa, to_aa] + top_mut[to_aa, from_aa] # observed count\n",
    "                    this_mutation_global_prob = universe_rate[from_aa, to_aa] + universe_rate[to_aa, from_aa] #expected_rate\n",
    "                } else {\n",
    "                    this_mutation_count = top_mut[from_aa, to_aa] # observed count\n",
    "                    this_mutation_global_prob = universe_rate[from_aa, to_aa] # excpected rate\n",
    "                }\n",
    "                pvals[from_aa, to_aa] <- dbinom(this_mutation_count, top_total, this_mutation_global_prob)\n",
    "            }\n",
    "        }\n",
    "    }\n",
    "    \n",
    "    pvals    \n",
    "}"
   ]
  },
  {
   "cell_type": "code",
   "execution_count": null,
   "id": "0d9ce9b6-ae46-46f0-8aa5-1fd32b7147ed",
   "metadata": {},
   "outputs": [],
   "source": [
    "# Confirm symmetric output when symmetric comparison\n",
    "assert(isSymmetric(test_mutation_enrichment(res_mutations, 100, symmetric=TRUE)))"
   ]
  },
  {
   "cell_type": "code",
   "execution_count": null,
   "id": "cf830616-7dd3-4606-ac99-5fc5c0fe667f",
   "metadata": {},
   "outputs": [],
   "source": [
    "# Look for maximal mutational enrichment while scanning for number of genes considered\n",
    "summary_fn_min <- function(x) {min(x, na.rm = TRUE)}\n",
    "summary_fn_mean <- function(x) {mean(x, na.rm = TRUE)}\n",
    "\n",
    "test_mutation_enrichment_serial <- function(res_mutations, n_start=1, n_end=1000, step=1, symmetric=TRUE, summary_fn=summary_fn_min) {\n",
    "    xs <- seq(n_start, n_end, step)\n",
    "    ys <- unlist(lapply(xs, function(x) {\n",
    "        summary_fn(test_mutation_enrichment(res_mutations,n=x, symmetric=symmetric))\n",
    "    }))\n",
    "    most_sign_pval <- data.frame(n=xs, most_sign_pval= ys)\n",
    "    most_sign_pval\n",
    "}"
   ]
  },
  {
   "cell_type": "code",
   "execution_count": null,
   "id": "0a5b3518-bed2-4a7a-bfd3-393277499215",
   "metadata": {},
   "outputs": [],
   "source": [
    "# Look both with synonymous and non-synonymour changes considered\n",
    "# Get mean and maximal p-value for each\n",
    "n_end <- 3000\n",
    "\n",
    "most_sign_pval_sym <- test_mutation_enrichment_serial(res_mutations, n_end=n_end, step=10, symmetric = TRUE, summary_fn=summary_fn_min)\n",
    "most_sign_pval_sym$type <- 'most'\n",
    "most_sign_pval_sym$sym <- 'synonymous'\n",
    "\n",
    "most_sign_pval_nonsym <- test_mutation_enrichment_serial(res_mutations, n_end=n_end, step=10,symmetric = FALSE, summary_fn=summary_fn_min)\n",
    "most_sign_pval_nonsym$type <- 'most'\n",
    "most_sign_pval_nonsym$sym <- 'non-synonymous'\n",
    "\n",
    "mean_sign_pval_sym <- test_mutation_enrichment_serial(res_mutations, n_end=n_end, step=10,symmetric = TRUE, summary_fn=summary_fn_mean)\n",
    "mean_sign_pval_sym$type <- 'mean'\n",
    "mean_sign_pval_sym$sym <- 'synonymous'\n",
    "\n",
    "mean_sign_pval_nonsym <- test_mutation_enrichment_serial(res_mutations, n_end=n_end, step=10,symmetric = FALSE, summary_fn=summary_fn_mean)\n",
    "mean_sign_pval_nonsym$type <- 'mean'\n",
    "mean_sign_pval_nonsym$sym <- 'non-synonymous'\n",
    "\n",
    "plot_data <- rbind(most_sign_pval_sym, most_sign_pval_nonsym, mean_sign_pval_sym, mean_sign_pval_nonsym)"
   ]
  },
  {
   "cell_type": "code",
   "execution_count": null,
   "id": "63c51670-9d66-4ff7-b9fd-bf40e53002f4",
   "metadata": {},
   "outputs": [],
   "source": [
    "# multiple testing corrected p-value for all tests except diagonal\n",
    "# we can be less stringent in the synonymous case\n",
    "pval_cutoff <- 0.05 / (20*20-20)"
   ]
  },
  {
   "cell_type": "code",
   "execution_count": null,
   "id": "b53adfd2-9e06-4701-a9bd-7225bbf14a1c",
   "metadata": {},
   "outputs": [],
   "source": [
    "dim(res_mutations)"
   ]
  },
  {
   "cell_type": "code",
   "execution_count": null,
   "id": "4d2346b9-b600-4716-9066-be7e7aab8de7",
   "metadata": {},
   "outputs": [],
   "source": [
    "ggplot(plot_data, aes(x=n, y=-log10(most_sign_pval), color=type, linetype=sym)) + \n",
    "    geom_line() +\n",
    "    geom_hline(yintercept = -log10(pval_cutoff)) + \n",
    "    geom_hline(yintercept = -log10(pval_cutoff*2), linetype=2) +\n",
    "    facet_wrap(~sym) +\n",
    "    theme_bw() + scale_x_continuous(name=\"n top genes\") + \n",
    "    scale_y_continuous(name=\"-log10(min(pval))\") -> plot_pval_vs_top_genes\n",
    "\n",
    "plot_pval_vs_top_genes"
   ]
  },
  {
   "cell_type": "code",
   "execution_count": null,
   "id": "13541d00-b028-4d74-8505-7ef65ebca561",
   "metadata": {},
   "outputs": [],
   "source": [
    "ggsave(paste0(output_plot_dir, 'pvals_vs_top_genes.png'), width=15, height=10, dpi = plot_dpi)"
   ]
  },
  {
   "cell_type": "code",
   "execution_count": null,
   "id": "c1d99449-c898-456e-a6b4-b1ef6dbaeb10",
   "metadata": {},
   "outputs": [],
   "source": [
    "test_individual_mutation_enrichment_serial <- function(res_mutations, n_start=1, n_end=1000, step=1, symmetric=TRUE) {\n",
    "    ns <- seq(n_start, n_end, step)\n",
    "    info <- do.call(rbind, lapply(ns, function(x) {\n",
    "        df.tmp <- matrix_to_long_df(test_mutation_enrichment(res_mutations,n=x,symmetric=symmetric))\n",
    "        df.tmp$n <- x\n",
    "        df.tmp$aa_change = paste0(df.tmp$rownames,'->', df.tmp$colnames)\n",
    "        df.tmp$rownames = NULL\n",
    "        df.tmp$colnames = NULL\n",
    "        df.tmp\n",
    "    }))\n",
    "    info\n",
    "}"
   ]
  },
  {
   "cell_type": "code",
   "execution_count": null,
   "id": "b85d8a77-e8e4-473b-a42b-e6b898cd611c",
   "metadata": {},
   "outputs": [],
   "source": [
    "info <- test_individual_mutation_enrichment_serial(res_mutations,1,1000, symmetric=FALSE)"
   ]
  },
  {
   "cell_type": "code",
   "execution_count": null,
   "id": "6142afd0-0619-4213-a33b-cc45883eeacc",
   "metadata": {},
   "outputs": [],
   "source": [
    "info %>%\n",
    "    ggplot(aes(x=n,y=-log10(value), color = aa_change)) + \n",
    "    geom_line() + \n",
    "    theme_bw() + \n",
    "    ggtitle('Individual Mutation Significance') +\n",
    "    theme(legend.position='none') + \n",
    "    scale_x_continuous(name='n top mutations') + \n",
    "    scale_y_continuous(name='-log10(p-value)') -> plot_individual_mutation_significance\n",
    "\n",
    "plot_individual_mutation_significance"
   ]
  },
  {
   "cell_type": "code",
   "execution_count": null,
   "id": "0a4bc6e1-f9ad-40b9-813f-32264a52183f",
   "metadata": {},
   "outputs": [],
   "source": [
    "ggsave(paste0(output_plot_dir,'plot_individual_mutation_significance.png'), width=10, height=10, dpi = plot_dpi)"
   ]
  },
  {
   "cell_type": "code",
   "execution_count": null,
   "id": "c890cfd9-a86e-4b7f-a0b8-d2dddeb9cb56",
   "metadata": {},
   "outputs": [],
   "source": [
    "info %>% filter(!is.na(value)) %>% \n",
    "    group_by(aa_change) %>% \n",
    "    summarise(min_pval = min(value)) %>% \n",
    "    arrange(min_pval) %>% \n",
    "    filter(min_pval < pval_cutoff)"
   ]
  },
  {
   "cell_type": "code",
   "execution_count": null,
   "id": "99627e48-5352-41bf-a412-bee990e1a1e0",
   "metadata": {},
   "outputs": [],
   "source": [
    "info %>% filter(!is.na(value)) %>% \n",
    "    filter(aa_change == 'K->N') %>%\n",
    "    ggplot(aes(x=n,y=-log10(value), color = aa_change)) + \n",
    "    geom_line() + \n",
    "    theme_bw() + \n",
    "    ggtitle('Lys -> Asn (K->N) Mutation Significance') +\n",
    "    theme(legend.position='none') + \n",
    "    scale_x_continuous(name='n top mutations') + \n",
    "    scale_y_continuous(name='-log10(p-value)') -> plot_n_to_k_mutation_significance\n",
    "\n",
    "plot_n_to_k_mutation_significance"
   ]
  },
  {
   "cell_type": "code",
   "execution_count": null,
   "id": "38ee58b2-bf51-4683-a2c1-a474e2f5dc15",
   "metadata": {},
   "outputs": [],
   "source": [
    "ggsave(paste0(output_plot_dir,'plot_k_to_n_mutation_significance.png'), width=10, height=10, dpi = plot_dpi)"
   ]
  },
  {
   "cell_type": "markdown",
   "id": "c814b13d-8bba-47ae-b63c-5ae1b53a66ec",
   "metadata": {},
   "source": [
    "## Tabulate Top 1000 Mutations by Gene"
   ]
  },
  {
   "cell_type": "code",
   "execution_count": null,
   "id": "4f3f527b-839c-48d7-aa2e-b4b8475db858",
   "metadata": {},
   "outputs": [],
   "source": [
    "n_mutations <- 1000\n",
    "\n",
    "unique(strpart(res_mutations$mutation,':',1)) -> sars_cov2_genes\n",
    "names(sars_cov2_genes) <- sars_cov2_genes\n",
    "\n",
    "do.call(rbind, lapply(sars_cov2_genes, function(g) {\n",
    "    get_mutation_summary(res_mutations, n_mutations = n_mutations, select_gene = g,return_matrix = FALSE) %>% \n",
    "        mutate(aa_change=paste0(aa_from, '->', aa_to)) %>%\n",
    "        mutate(aa_from = NULL, aa_to = NULL, gene = g) -> df\n",
    "    df\n",
    "})) -> df\n",
    "\n",
    "df %>% pivot_wider(id_cols = c(aa_change, gene), values_from = n, names_from = aa_change,values_fill = 0) -> tmp1\n",
    "tmp_rn <- tmp1$gene\n",
    "tmp1 <- tmp1[,-1]\n",
    "tmp1 <- as.matrix(tmp1)\n",
    "rownames(tmp1) <- tmp_rn\n",
    "n_mutations_by_gene <- tmp1"
   ]
  },
  {
   "cell_type": "code",
   "execution_count": null,
   "id": "130da76d-bda7-402a-8256-8925bd07bd3b",
   "metadata": {},
   "outputs": [],
   "source": [
    "options(repr.plot.width=10, repr.plot.height=30)\n",
    "pheatmap(t(tmp1),display_numbers = TRUE, number_format = '%.0f', fontsize_number = 12)\n",
    "options(repr.plot.width=10, repr.plot.height=10)"
   ]
  },
  {
   "cell_type": "code",
   "execution_count": null,
   "id": "d8d2cbcf-406f-4dbd-bf3f-94f8484b1e23",
   "metadata": {},
   "outputs": [],
   "source": [
    "pheatmap(t(tmp1),display_numbers = TRUE, number_format = '%.0f', fontsize_number = 12, filename = paste0(output_plot_dir,'by_gene_heatmap.png'), width=10, height=30)"
   ]
  }
 ],
 "metadata": {
  "kernelspec": {
   "display_name": "R",
   "language": "R",
   "name": "ir"
  },
  "language_info": {
   "codemirror_mode": "r",
   "file_extension": ".r",
   "mimetype": "text/x-r-source",
   "name": "R",
   "pygments_lexer": "r",
   "version": "4.1.0"
  }
 },
 "nbformat": 4,
 "nbformat_minor": 5
}
