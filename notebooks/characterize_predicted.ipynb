{
 "cells": [
  {
   "cell_type": "markdown",
   "id": "bad6d62d-f589-4319-bf25-cd1fa81cda53",
   "metadata": {},
   "source": [
    "# Characterize predicted mutations"
   ]
  },
  {
   "cell_type": "markdown",
   "id": "45b3a168-3c60-41de-85f3-1c9afbb36dca",
   "metadata": {},
   "source": [
    "This notebook processes the ranked mutations in `paper/mutations.tsv` and generates output plots for examining mutational enrichment."
   ]
  },
  {
   "cell_type": "code",
   "execution_count": null,
   "id": "fa82e3a6-5497-424c-88fe-dd714f55646a",
   "metadata": {},
   "outputs": [],
   "source": [
    "# imports\n",
    "library(data.table)\n",
    "library(tidyverse)\n",
    "library(testit)\n",
    "library(pheatmap)"
   ]
  },
  {
   "cell_type": "code",
   "execution_count": null,
   "id": "904fadff-954c-4053-90ec-d857db108001",
   "metadata": {},
   "outputs": [],
   "source": [
    "# Set graphics\n",
    "options(repr.plot.width=10, repr.plot.height=10)\n",
    "output_plot_dir <- 'paper/mutation_scoring/'\n",
    "plot_dpi = 300"
   ]
  },
  {
   "cell_type": "code",
   "execution_count": null,
   "id": "bf88eb82-0236-4b25-b3db-cedf1a7d5390",
   "metadata": {},
   "outputs": [],
   "source": [
    "# Read input data\n",
    "res_mutations <- fread('paper/mutations.tsv')"
   ]
  },
  {
   "cell_type": "code",
   "execution_count": null,
   "id": "032c80bd-f4d1-43be-a3fb-5ab46bce64e7",
   "metadata": {},
   "outputs": [],
   "source": [
    "# Helper functions\n",
    "strpart <- function(x, split, n, fixed=FALSE) {\n",
    "    sapply(strsplit(as.character(x),split,fixed=fixed),'[',n)\n",
    "}\n",
    "\n",
    "matrix_to_long_df <- function(matrix) {\n",
    "    rn <- rownames(matrix)\n",
    "    cn <- colnames(matrix)\n",
    "    df <- as.data.frame(matrix)\n",
    "    colnames(df) <- cn\n",
    "    df$rownames <- rn\n",
    "    pivot_longer(df, !rownames, names_to = \"colnames\")\n",
    "}"
   ]
  },
  {
   "cell_type": "markdown",
   "id": "9bd15f4a-8b5b-4813-a99a-f7c9ab54a980",
   "metadata": {},
   "source": [
    "## Get summary of mutations at the top of the list"
   ]
  },
  {
   "cell_type": "code",
   "execution_count": null,
   "id": "ea26bb4d-83f8-4e21-a722-975313f70b90",
   "metadata": {},
   "outputs": [],
   "source": [
    "get_mutation_summary <- function(mutations, n_mutations = NULL, return_matrix = TRUE, select_gene = NULL) {\n",
    "    aa_chars = sort(c('G','A','L','M','F','W','K','Q','E','S','P','V','I','C','Y','H','R','N','D','T'))\n",
    "    \n",
    "    if (!is.null(n_mutations)) {\n",
    "        mutations[1:n_mutations,] %>% pull('mutation') -> mutation_strings\n",
    "    } else {\n",
    "        mutations %>% pull('mutation') -> mutation_strings\n",
    "    }\n",
    "    \n",
    "    # Extract mutation information\n",
    "    gene <- strpart(mutation_strings, ':', 1)\n",
    "    aa_change <- strpart(mutation_strings, ':', 2)\n",
    "    aa_from <- substr(aa_change,1,1)\n",
    "    position <- substr(aa_change,2,nchar(aa_change)-1)\n",
    "    aa_to <- substr(aa_change,nchar(aa_change),nchar(aa_change))\n",
    "    mutation_data_parse <- data.frame(\n",
    "        gene,\n",
    "        aa_from,\n",
    "        position,\n",
    "        aa_to\n",
    "    )\n",
    "    \n",
    "    # Subset to specific gene\n",
    "    if (!is.null(select_gene)) {\n",
    "        mutation_data_parse <- mutation_data_parse[gene == select_gene,]\n",
    "    }\n",
    "    \n",
    "    # Filter to only amino acid changes (otherwise it includes 'e')\n",
    "    mutation_data_parse %>% \n",
    "        filter(aa_from %in% aa_chars) %>%\n",
    "        filter(aa_to %in% aa_chars) -> mutation_data_parse\n",
    "    \n",
    "    # Count mutations\n",
    "    mutation_data_parse[,c('aa_from','aa_to')] %>% \n",
    "        group_by(aa_from, aa_to) %>% summarise(n=n(), .groups=\"drop\") -> summarized_counts\n",
    "    \n",
    "\n",
    "    if (return_matrix) {\n",
    "        # pivot wider\n",
    "        summarized_counts %>% pivot_wider(\n",
    "            id_cols = c(aa_from, aa_to),\n",
    "            names_from = aa_to,\n",
    "            values_from = n,\n",
    "            values_fill=0\n",
    "        ) -> mutation_counts_actual\n",
    "        \n",
    "        # Turn to matrix\n",
    "        rn <- mutation_counts_actual$aa_from\n",
    "        cn <- colnames(mutation_counts_actual)\n",
    "        mutation_counts_actual <- (as.matrix(mutation_counts_actual[,-1]))\n",
    "        rownames(mutation_counts_actual) <- rn\n",
    "        colnames(mutation_counts_actual) <- cn[-1]\n",
    "\n",
    "        # Find missing cols and rows\n",
    "        missing_cols <- setdiff(aa_chars, colnames(mutation_counts_actual))\n",
    "        missing_rows <- setdiff(aa_chars, rownames(mutation_counts_actual))\n",
    "\n",
    "        # Add missing cols\n",
    "        original_cn <- colnames(mutation_counts_actual)\n",
    "        mutation_counts_actual <- cbind(mutation_counts_actual, \n",
    "                                        matrix(0, nrow(mutation_counts_actual), \n",
    "                                               length(missing_cols)))\n",
    "        colnames(mutation_counts_actual) <- c(original_cn, missing_cols)\n",
    "        # Add missing rows\n",
    "        original_rn <- rownames(mutation_counts_actual)\n",
    "        mutation_counts_actual <- rbind(mutation_counts_actual,\n",
    "                                        matrix(0, length(missing_rows),\n",
    "                                              ncol(mutation_counts_actual)))\n",
    "        rownames(mutation_counts_actual) <- c(original_rn, missing_rows)\n",
    "\n",
    "        # Put in order\n",
    "        mutation_counts_actual <- mutation_counts_actual[aa_chars,aa_chars]\n",
    "        \n",
    "        # Rows -- from\n",
    "        # Cols -- to\n",
    "        mutation_counts_actual <- t(mutation_counts_actual)\n",
    "\n",
    "        return(mutation_counts_actual)\n",
    "    } else {\n",
    "        return(summarized_counts)\n",
    "    }\n",
    "\n",
    "}"
   ]
  },
  {
   "cell_type": "code",
   "execution_count": null,
   "id": "7c1b0d14-289f-4a77-94d8-6c54e08463dd",
   "metadata": {},
   "outputs": [],
   "source": [
    "# Mutation type occurences in top 1000 entries\n",
    "n_mutations <- 1000"
   ]
  },
  {
   "cell_type": "code",
   "execution_count": null,
   "id": "3667918b-b2cf-4527-9ff9-865934608675",
   "metadata": {},
   "outputs": [],
   "source": [
    "# For confirming orientation of output\n",
    "get_mutation_summary(res_mutations, n_mutations = n_mutations, return_matrix=FALSE) %>% \n",
    "    filter(aa_from == 'I' & aa_to == 'T')"
   ]
  },
  {
   "cell_type": "code",
   "execution_count": null,
   "id": "c9e95fd5-a522-4c3f-b87f-eda44a8e0baf",
   "metadata": {},
   "outputs": [],
   "source": [
    "matrix_to_long_df(get_mutation_summary(res_mutations, n_mutations = n_mutations)) %>% \n",
    "    ggplot(aes(x=rownames, y=colnames, fill=value)) + \n",
    "    geom_tile() +\n",
    "    theme_bw() +\n",
    "    theme(axis.text.x = element_text(color='black', size=14), axis.text.y = element_text(color='black', size=14), axis.title.x = element_text(color='black', size=14), axis.title.y = element_text(color='black', size=14),\n",
    "         legend.position = \"none\") +\n",
    "    scale_fill_gradient(low = \"white\", high = \"red\") +\n",
    "    geom_text(aes(label=value)) +\n",
    "    ggtitle(paste0('Mutation Frequencies in Top ', n_mutations, ' mutations')) +\n",
    "    scale_x_discrete(name='To AA') +\n",
    "    scale_y_discrete(name='From AA') -> plot_aa_frequencies\n",
    "\n",
    "plot_aa_frequencies"
   ]
  },
  {
   "cell_type": "code",
   "execution_count": null,
   "id": "ccb1a4c8-888b-4335-a9f6-606643657675",
   "metadata": {},
   "outputs": [],
   "source": [
    "ggsave(paste0(output_plot_dir, 'top_substitutions.png'), width=6, height=6, dpi = plot_dpi)"
   ]
  },
  {
   "cell_type": "markdown",
   "id": "11372db0-29c7-43ec-9ea0-3120920bd911",
   "metadata": {},
   "source": [
    "## Test for enrichment of particular mutations"
   ]
  },
  {
   "cell_type": "code",
   "execution_count": null,
   "id": "ac9eb75c-1ee2-4ddb-a12c-767061758ada",
   "metadata": {},
   "outputs": [],
   "source": [
    "test_mutation_enrichment <- function(res_mutations, n_mutations=1000, symmetric = TRUE, select_gene = NULL) {\n",
    "    aa_chars = sort(c('G','A','L','M','F','W','K','Q','E','S','P','V','I','C','Y','H','R','N','D','T'))\n",
    "    \n",
    "    top_mut <- get_mutation_summary(res_mutations, n_mutations, select_gene = select_gene)\n",
    "    universe_mut <- get_mutation_summary(res_mutations, NULL, select_gene = select_gene)\n",
    "    \n",
    "    pvals <- matrix(0, length(aa_chars), length(aa_chars))\n",
    "    rownames(pvals) <- colnames(pvals) <- aa_chars\n",
    "    \n",
    "    top_total <- sum(top_mut)\n",
    "    universe_total <- sum(universe_mut)\n",
    "    \n",
    "    universe_rate <- universe_mut / universe_total\n",
    "\n",
    "    for (from_aa in aa_chars) {\n",
    "        for (to_aa in aa_chars) {\n",
    "            if (from_aa == to_aa) {\n",
    "                # Do not test synonymous\n",
    "                pvals[from_aa, to_aa] <- NA\n",
    "            } else {\n",
    "                if (symmetric) {\n",
    "                    this_mutation_count = top_mut[from_aa, to_aa] + top_mut[to_aa, from_aa] # observed count\n",
    "                    this_mutation_global_prob = universe_rate[from_aa, to_aa] + universe_rate[to_aa, from_aa] #expected_rate\n",
    "                } else {\n",
    "                    this_mutation_count = top_mut[from_aa, to_aa] # observed count\n",
    "                    this_mutation_global_prob = universe_rate[from_aa, to_aa] # excpected rate\n",
    "                }\n",
    "                pvals[from_aa, to_aa] <- dbinom(this_mutation_count, top_total, this_mutation_global_prob)\n",
    "            }\n",
    "        }\n",
    "    }\n",
    "    \n",
    "    pvals    \n",
    "}"
   ]
  },
  {
   "cell_type": "code",
   "execution_count": null,
   "id": "0d9ce9b6-ae46-46f0-8aa5-1fd32b7147ed",
   "metadata": {},
   "outputs": [],
   "source": [
    "# Confirm symmetric output when symmetric comparison\n",
    "assert(isSymmetric(test_mutation_enrichment(res_mutations, 100, symmetric=TRUE)))"
   ]
  },
  {
   "cell_type": "code",
   "execution_count": null,
   "id": "cf830616-7dd3-4606-ac99-5fc5c0fe667f",
   "metadata": {},
   "outputs": [],
   "source": [
    "# Look for maximal mutational enrichment while scanning for number of genes considered\n",
    "summary_fn_min <- function(x) {min(x, na.rm = TRUE)}\n",
    "summary_fn_mean <- function(x) {mean(x, na.rm = TRUE)}\n",
    "\n",
    "test_mutation_enrichment_serial <- function(res_mutations, n_start=1, n_end=1000, step=1, symmetric=TRUE, summary_fn=summary_fn_min, select_gene = NULL) {\n",
    "    xs <- seq(n_start, n_end, step)\n",
    "    ys <- unlist(lapply(xs, function(x) {\n",
    "        summary_fn(test_mutation_enrichment(res_mutations,n=x, symmetric=symmetric, select_gene = select_gene))\n",
    "    }))\n",
    "    most_sign_pval <- data.frame(n=xs, most_sign_pval= ys)\n",
    "    most_sign_pval\n",
    "}"
   ]
  },
  {
   "cell_type": "code",
   "execution_count": null,
   "id": "0a5b3518-bed2-4a7a-bfd3-393277499215",
   "metadata": {},
   "outputs": [],
   "source": [
    "# Look both with synonymous and non-synonymour changes considered\n",
    "# Get mean and maximal p-value for each\n",
    "n_end <- 3000\n",
    "\n",
    "most_sign_pval_sym <- test_mutation_enrichment_serial(res_mutations, n_end=n_end, step=10, symmetric = TRUE, summary_fn=summary_fn_min)\n",
    "most_sign_pval_sym$type <- 'most'\n",
    "most_sign_pval_sym$sym <- 'symmetric'\n",
    "\n",
    "most_sign_pval_nonsym <- test_mutation_enrichment_serial(res_mutations, n_end=n_end, step=10,symmetric = FALSE, summary_fn=summary_fn_min)\n",
    "most_sign_pval_nonsym$type <- 'most'\n",
    "most_sign_pval_nonsym$sym <- 'non-symmetric'\n",
    "\n",
    "mean_sign_pval_sym <- test_mutation_enrichment_serial(res_mutations, n_end=n_end, step=10,symmetric = TRUE, summary_fn=summary_fn_mean)\n",
    "mean_sign_pval_sym$type <- 'mean'\n",
    "mean_sign_pval_sym$sym <- 'symmetric'\n",
    "\n",
    "mean_sign_pval_nonsym <- test_mutation_enrichment_serial(res_mutations, n_end=n_end, step=10,symmetric = FALSE, summary_fn=summary_fn_mean)\n",
    "mean_sign_pval_nonsym$type <- 'mean'\n",
    "mean_sign_pval_nonsym$sym <- 'non-symmetric'\n",
    "\n",
    "plot_data <- rbind(most_sign_pval_sym, most_sign_pval_nonsym, mean_sign_pval_sym, mean_sign_pval_nonsym)"
   ]
  },
  {
   "cell_type": "code",
   "execution_count": null,
   "id": "63c51670-9d66-4ff7-b9fd-bf40e53002f4",
   "metadata": {},
   "outputs": [],
   "source": [
    "# multiple testing corrected p-value for all tests except diagonal\n",
    "# we can be less stringent in the synonymous case\n",
    "pval_cutoff <- 0.05 / (20*20-20)"
   ]
  },
  {
   "cell_type": "code",
   "execution_count": null,
   "id": "b53adfd2-9e06-4701-a9bd-7225bbf14a1c",
   "metadata": {},
   "outputs": [],
   "source": [
    "dim(res_mutations)"
   ]
  },
  {
   "cell_type": "code",
   "execution_count": null,
   "id": "4d2346b9-b600-4716-9066-be7e7aab8de7",
   "metadata": {},
   "outputs": [],
   "source": [
    "ggplot(plot_data, aes(x=n, y=-log10(most_sign_pval), color=type, linetype=sym)) + \n",
    "    geom_line() +\n",
    "    geom_hline(yintercept = -log10(pval_cutoff)) + \n",
    "    geom_hline(yintercept = -log10(pval_cutoff*2), linetype=2) +\n",
    "    facet_wrap(~sym) +\n",
    "    theme_bw() + \n",
    "    theme(axis.text.x = element_text(color='black', size=14), axis.text.y = element_text(color='black', size=16), axis.title.x = element_text(color='black', size=16), axis.title.y = element_text(color='black', size=14),\n",
    "         legend.position = \"none\") +\n",
    "    scale_x_continuous(name=\"n top genes\") + \n",
    "    scale_y_continuous(name=\"-log10(min(pval))\") -> plot_pval_vs_top_genes\n",
    "\n",
    "plot_pval_vs_top_genes"
   ]
  },
  {
   "cell_type": "code",
   "execution_count": null,
   "id": "13541d00-b028-4d74-8505-7ef65ebca561",
   "metadata": {},
   "outputs": [],
   "source": [
    "ggsave(paste0(output_plot_dir, 'pvals_vs_top_genes.png'), width=6, height=6, dpi = plot_dpi)"
   ]
  },
  {
   "cell_type": "code",
   "execution_count": null,
   "id": "c1d99449-c898-456e-a6b4-b1ef6dbaeb10",
   "metadata": {},
   "outputs": [],
   "source": [
    "test_individual_mutation_enrichment_serial <- function(res_mutations, n_start=1, n_end=1000, step=1, symmetric=TRUE, select_gene = NULL) {\n",
    "    ns <- seq(n_start, n_end, step)\n",
    "    info <- do.call(rbind, lapply(ns, function(x) {\n",
    "        df.tmp <- matrix_to_long_df(test_mutation_enrichment(res_mutations,n=x,symmetric=symmetric, select_gene = select_gene))\n",
    "        df.tmp$n <- x\n",
    "        df.tmp$aa_change = paste0(df.tmp$rownames,'->', df.tmp$colnames)\n",
    "        df.tmp$rownames = NULL\n",
    "        df.tmp$colnames = NULL\n",
    "        df.tmp\n",
    "    }))\n",
    "    info\n",
    "}"
   ]
  },
  {
   "cell_type": "code",
   "execution_count": null,
   "id": "b85d8a77-e8e4-473b-a42b-e6b898cd611c",
   "metadata": {},
   "outputs": [],
   "source": [
    "info <- test_individual_mutation_enrichment_serial(res_mutations,1,1000, symmetric=FALSE)"
   ]
  },
  {
   "cell_type": "code",
   "execution_count": null,
   "id": "6142afd0-0619-4213-a33b-cc45883eeacc",
   "metadata": {
    "tags": []
   },
   "outputs": [],
   "source": [
    "info %>%\n",
    "    ggplot(aes(x=n,y=-log10(value), color = aa_change)) + \n",
    "    geom_line() + \n",
    "    theme_bw() + \n",
    "    ggtitle('Individual Mutation Significance') +\n",
    "    theme(legend.position='none') + \n",
    "    scale_x_continuous(name='n top mutations') + \n",
    "    scale_y_continuous(name='-log10(p-value)') -> plot_individual_mutation_significance\n",
    "\n",
    "plot_individual_mutation_significance"
   ]
  },
  {
   "cell_type": "code",
   "execution_count": null,
   "id": "0a4bc6e1-f9ad-40b9-813f-32264a52183f",
   "metadata": {},
   "outputs": [],
   "source": [
    "ggsave(paste0(output_plot_dir,'plot_individual_mutation_significance.png'), width=6, height=6, dpi = plot_dpi)"
   ]
  },
  {
   "cell_type": "code",
   "execution_count": null,
   "id": "c890cfd9-a86e-4b7f-a0b8-d2dddeb9cb56",
   "metadata": {},
   "outputs": [],
   "source": [
    "info %>% filter(!is.na(value)) %>% \n",
    "    group_by(aa_change) %>% \n",
    "    summarise(min_pval = min(value)) %>% \n",
    "    arrange(min_pval) %>% \n",
    "    filter(min_pval < pval_cutoff)"
   ]
  },
  {
   "cell_type": "code",
   "execution_count": null,
   "id": "99627e48-5352-41bf-a412-bee990e1a1e0",
   "metadata": {},
   "outputs": [],
   "source": [
    "info %>% filter(!is.na(value)) %>% \n",
    "    filter(aa_change == 'K->N') %>%\n",
    "    ggplot(aes(x=n,y=-log10(value), color = aa_change)) + \n",
    "    geom_line() + \n",
    "    theme_bw() + \n",
    "    ggtitle('Lys -> Asn (K->N) Mutation Significance') +\n",
    "    theme(legend.position='none') + \n",
    "    scale_x_continuous(name='n top mutations') + \n",
    "    scale_y_continuous(name='-log10(p-value)') -> plot_n_to_k_mutation_significance\n",
    "\n",
    "plot_n_to_k_mutation_significance"
   ]
  },
  {
   "cell_type": "code",
   "execution_count": null,
   "id": "38ee58b2-bf51-4683-a2c1-a474e2f5dc15",
   "metadata": {},
   "outputs": [],
   "source": [
    "ggsave(paste0(output_plot_dir,'plot_k_to_n_mutation_significance.png'), width=6, height=6, dpi = plot_dpi)"
   ]
  },
  {
   "cell_type": "markdown",
   "id": "c814b13d-8bba-47ae-b63c-5ae1b53a66ec",
   "metadata": {},
   "source": [
    "## Tabulate Top 1000 Mutations by Gene"
   ]
  },
  {
   "cell_type": "code",
   "execution_count": null,
   "id": "4f3f527b-839c-48d7-aa2e-b4b8475db858",
   "metadata": {},
   "outputs": [],
   "source": [
    "n_mutations <- 1000\n",
    "\n",
    "unique(strpart(res_mutations$mutation,':',1)) -> sars_cov2_genes\n",
    "names(sars_cov2_genes) <- sars_cov2_genes\n",
    "\n",
    "do.call(rbind, lapply(sars_cov2_genes, function(g) {\n",
    "    get_mutation_summary(res_mutations, n_mutations = n_mutations, select_gene = g,return_matrix = FALSE) %>% \n",
    "        mutate(aa_change=paste0(aa_from, '->', aa_to)) %>%\n",
    "        mutate(aa_from = NULL, aa_to = NULL, gene = g) -> df\n",
    "    df\n",
    "})) -> df\n",
    "\n",
    "df %>% pivot_wider(id_cols = c(aa_change, gene), values_from = n, names_from = aa_change,values_fill = 0) -> tmp1\n",
    "tmp_rn <- tmp1$gene\n",
    "tmp1 <- tmp1[,-1]\n",
    "tmp1 <- as.matrix(tmp1)\n",
    "rownames(tmp1) <- tmp_rn\n",
    "n_mutations_by_gene <- tmp1"
   ]
  },
  {
   "cell_type": "code",
   "execution_count": null,
   "id": "130da76d-bda7-402a-8256-8925bd07bd3b",
   "metadata": {},
   "outputs": [],
   "source": [
    "options(repr.plot.width=10, repr.plot.height=30)\n",
    "pheatmap(t(tmp1),display_numbers = TRUE, number_format = '%.0f', fontsize_number = 12)\n",
    "options(repr.plot.width=10, repr.plot.height=10)"
   ]
  },
  {
   "cell_type": "code",
   "execution_count": null,
   "id": "d8d2cbcf-406f-4dbd-bf3f-94f8484b1e23",
   "metadata": {},
   "outputs": [],
   "source": [
    "# repeat saving to disk\n",
    "pheatmap(t(tmp1),display_numbers = TRUE, number_format = '%.0f', fontsize_number = 12, filename = paste0(output_plot_dir,'by_gene_heatmap.png'), width=10, height=30)"
   ]
  },
  {
   "cell_type": "markdown",
   "id": "640b47a0-d042-4f75-842c-04d52c7dc0b3",
   "metadata": {},
   "source": [
    "# Mutational Enrichment on a per-gene basis"
   ]
  },
  {
   "cell_type": "code",
   "execution_count": null,
   "id": "fcd27e12-b1da-4482-8472-f75b9f513a19",
   "metadata": {},
   "outputs": [],
   "source": [
    "unique(strpart(res_mutations$mutation, ':', 1)) -> available_genes\n",
    "available_genes"
   ]
  },
  {
   "cell_type": "markdown",
   "id": "45578077-dbbf-4e94-bf75-a08b4e071b40",
   "metadata": {},
   "source": [
    "## S gene"
   ]
  },
  {
   "cell_type": "code",
   "execution_count": null,
   "id": "b45d2104-599d-4b8b-9ef8-30a941c1a853",
   "metadata": {},
   "outputs": [],
   "source": [
    "get_serial_enrichment_by_gene <- function(res_mutations, select_gene, n_end = 3000,  step=10) {\n",
    "    most_sign_pval_sym <- test_mutation_enrichment_serial(res_mutations, n_end=n_end, step=10, symmetric = TRUE, summary_fn=summary_fn_min, select_gene = select_gene)\n",
    "    most_sign_pval_sym$type <- 'most'\n",
    "    most_sign_pval_sym$sym <- 'symmetric'\n",
    "\n",
    "    most_sign_pval_nonsym <- test_mutation_enrichment_serial(res_mutations, n_end=n_end, step=10,symmetric = FALSE, summary_fn=summary_fn_min, select_gene = select_gene)\n",
    "    most_sign_pval_nonsym$type <- 'most'\n",
    "    most_sign_pval_nonsym$sym <- 'non-symmetric'\n",
    "\n",
    "    mean_sign_pval_sym <- test_mutation_enrichment_serial(res_mutations, n_end=n_end, step=10,symmetric = TRUE, summary_fn=summary_fn_mean, select_gene = select_gene)\n",
    "    mean_sign_pval_sym$type <- 'mean'\n",
    "    mean_sign_pval_sym$sym <- 'symmetric'\n",
    "\n",
    "    mean_sign_pval_nonsym <- test_mutation_enrichment_serial(res_mutations, n_end=n_end, step=10,symmetric = FALSE, summary_fn=summary_fn_mean, select_gene = select_gene)\n",
    "    mean_sign_pval_nonsym$type <- 'mean'\n",
    "    mean_sign_pval_nonsym$sym <- 'non-symmetric'\n",
    "\n",
    "    rbind(most_sign_pval_sym, most_sign_pval_nonsym, mean_sign_pval_sym, mean_sign_pval_nonsym)   \n",
    "}"
   ]
  },
  {
   "cell_type": "code",
   "execution_count": null,
   "id": "571a9d49-30e2-4cd5-a96d-24d6174e425d",
   "metadata": {},
   "outputs": [],
   "source": [
    "get_serial_enrichment_by_gene(res_mutations, select_gene = 'S') -> serial_enrichment_S"
   ]
  },
  {
   "cell_type": "code",
   "execution_count": null,
   "id": "6df3bd6b-f85b-43ad-b32f-879b5b7e68cd",
   "metadata": {},
   "outputs": [],
   "source": [
    "serial_enrichment_S %>% \n",
    "    ggplot(aes(x=n, y=-log10(most_sign_pval), color=type, linetype=sym)) + \n",
    "        geom_line() +\n",
    "        geom_hline(yintercept = -log10(pval_cutoff)) + \n",
    "        geom_hline(yintercept = -log10(pval_cutoff*2), linetype=2) +\n",
    "        facet_wrap(~sym) +\n",
    "        theme_bw() + \n",
    "        theme(axis.text.x = element_text(color='black', size=14), axis.text.y = element_text(color='black', size=16), axis.title.x = element_text(color='black', size=16), axis.title.y = element_text(color='black', size=14),\n",
    "         legend.position = \"none\") +\n",
    "        scale_x_continuous(name=\"n top genes\") + \n",
    "        scale_y_continuous(name=\"-log10(min(pval))\") +\n",
    "        ggtitle('Enrichment in Spike') -> plot_pval_vs_top_genes_S\n",
    "\n",
    "plot_pval_vs_top_genes_S"
   ]
  },
  {
   "cell_type": "code",
   "execution_count": null,
   "id": "babc9717-457f-4b14-9c8e-84efae317703",
   "metadata": {},
   "outputs": [],
   "source": [
    "ggsave(paste0(output_plot_dir,'plot_pval_vs_top_genes_S.png'), width=6, height=6, dpi = plot_dpi, plot = plot_pval_vs_top_genes_S)"
   ]
  },
  {
   "cell_type": "markdown",
   "id": "4299f49f-dce9-4942-88b1-e37c6f7a39dc",
   "metadata": {},
   "source": [
    "Look at per aa"
   ]
  },
  {
   "cell_type": "code",
   "execution_count": null,
   "id": "5da3246c-1554-4deb-a24a-5a250cd78441",
   "metadata": {},
   "outputs": [],
   "source": [
    "info <- test_individual_mutation_enrichment_serial(res_mutations,1,1000, symmetric=FALSE, select_gene = 'S')"
   ]
  },
  {
   "cell_type": "code",
   "execution_count": null,
   "id": "7e5d89fa-285b-41a9-87ee-d71e0e036b41",
   "metadata": {
    "tags": []
   },
   "outputs": [],
   "source": [
    "info %>%\n",
    "    ggplot(aes(x=n,y=-log10(value), color = aa_change)) + \n",
    "    geom_line() + \n",
    "    theme_bw() + \n",
    "    ggtitle('Individual Mutation Significance') +\n",
    "    theme(legend.position='none') + \n",
    "    scale_x_continuous(name='n top mutations') + \n",
    "    scale_y_continuous(name='-log10(p-value)') -> plot_individual_mutation_significance_S\n",
    "\n",
    "plot_individual_mutation_significance_S"
   ]
  },
  {
   "cell_type": "code",
   "execution_count": null,
   "id": "a4e22c85-9883-4dc6-b354-4c463d088009",
   "metadata": {},
   "outputs": [],
   "source": [
    "ggsave(paste0(output_plot_dir,'plot_individual_mutation_significance_S.png'), width=6, height=6, dpi = plot_dpi, plot = plot_individual_mutation_significance_S)"
   ]
  },
  {
   "cell_type": "code",
   "execution_count": null,
   "id": "a841e3aa-af9e-4aa6-b172-bbf424a90c2e",
   "metadata": {},
   "outputs": [],
   "source": [
    "info %>% filter(!is.na(value)) %>% \n",
    "    group_by(aa_change) %>% \n",
    "    summarise(min_pval = min(value)) %>% \n",
    "    arrange(min_pval) %>% \n",
    "    filter(min_pval < pval_cutoff)"
   ]
  },
  {
   "cell_type": "code",
   "execution_count": null,
   "id": "382bd932-543c-45c1-bd04-103da221df91",
   "metadata": {},
   "outputs": [],
   "source": [
    "info %>% filter(!is.na(value)) %>% \n",
    "    filter(aa_change == 'K->N') %>%\n",
    "    ggplot(aes(x=n,y=-log10(value), color = aa_change)) + \n",
    "    geom_line() + \n",
    "    theme_bw() + \n",
    "    theme(axis.text.x = element_text(color='black', size=14), axis.text.y = element_text(color='black', size=16), axis.title.x = element_text(color='black', size=16), axis.title.y = element_text(color='black', size=14), legend.position = \"none\") +\n",
    "    ggtitle('Lys -> Asn (K->N) Mutation Significance') +\n",
    "    theme(legend.position='none') + \n",
    "    scale_x_continuous(name='n top mutations') + \n",
    "    scale_y_continuous(name='-log10(p-value)') -> plot_n_to_k_mutation_significance_S__K_to_N\n",
    "\n",
    "plot_n_to_k_mutation_significance_S__K_to_N"
   ]
  },
  {
   "cell_type": "code",
   "execution_count": null,
   "id": "63cdaf21-99cf-499c-afaa-e2d6df8587d6",
   "metadata": {},
   "outputs": [],
   "source": [
    "ggsave(paste0(output_plot_dir,'plot_individual_mutation_significance_S__K_to_N.png'), width=6, height=6, dpi = plot_dpi, plot = plot_n_to_k_mutation_significance_S__K_to_N)"
   ]
  },
  {
   "cell_type": "markdown",
   "id": "c1b5873d-9fc2-43fa-a62d-e7289544079c",
   "metadata": {},
   "source": [
    "## M gene"
   ]
  },
  {
   "cell_type": "code",
   "execution_count": null,
   "id": "aea5b22d-e3f1-4a65-95fb-ad926310df73",
   "metadata": {},
   "outputs": [],
   "source": [
    "get_serial_enrichment_by_gene(res_mutations, select_gene = 'M') -> serial_enrichment_M"
   ]
  },
  {
   "cell_type": "code",
   "execution_count": null,
   "id": "9e444166-b853-4fad-b1fe-c80b9b4f0c6a",
   "metadata": {},
   "outputs": [],
   "source": [
    "serial_enrichment_M %>% \n",
    "    ggplot(aes(x=n, y=-log10(most_sign_pval), color=type, linetype=sym)) + \n",
    "        geom_line() +\n",
    "        geom_hline(yintercept = -log10(pval_cutoff)) + \n",
    "        geom_hline(yintercept = -log10(pval_cutoff*2), linetype=2) +\n",
    "        theme(axis.text.x = element_text(color='black', size=14), axis.text.y = element_text(color='black', size=16), axis.title.x = element_text(color='black', size=16), axis.title.y = element_text(color='black', size=14), legend.position = \"none\") +\n",
    "        facet_wrap(~sym) +\n",
    "        theme_bw() + scale_x_continuous(name=\"n top genes\") + \n",
    "        scale_y_continuous(name=\"-log10(min(pval))\") +\n",
    "        ggtitle('Enrichment in M') -> plot_pval_vs_top_genes_M\n",
    "\n",
    "plot_pval_vs_top_genes_M"
   ]
  },
  {
   "cell_type": "code",
   "execution_count": null,
   "id": "d99c4d9e-65e3-4ff8-8280-ab494c032ec3",
   "metadata": {},
   "outputs": [],
   "source": [
    "ggsave(paste0(output_plot_dir,'plot_individual_mutation_significance_M.png'), width=6, height=6, dpi = plot_dpi, plot = plot_pval_vs_top_genes_M)"
   ]
  },
  {
   "cell_type": "markdown",
   "id": "5b743907-dcd1-4bcf-b90f-b693f42ef573",
   "metadata": {},
   "source": [
    "## N gene"
   ]
  },
  {
   "cell_type": "code",
   "execution_count": null,
   "id": "ca178a6b-d88b-455a-92ae-160e3777c45b",
   "metadata": {},
   "outputs": [],
   "source": [
    "get_serial_enrichment_by_gene(res_mutations, select_gene = 'N') -> serial_enrichment_N"
   ]
  },
  {
   "cell_type": "code",
   "execution_count": null,
   "id": "3dfdde8a-8ea3-4e38-a5c3-218a9183651f",
   "metadata": {},
   "outputs": [],
   "source": [
    "serial_enrichment_N %>% \n",
    "    ggplot(aes(x=n, y=-log10(most_sign_pval), color=type, linetype=sym)) + \n",
    "        geom_line() +\n",
    "        theme_bw() +\n",
    "        geom_hline(yintercept = -log10(pval_cutoff)) + \n",
    "        geom_hline(yintercept = -log10(pval_cutoff*2), linetype=2) +\n",
    "        theme(axis.text.x = element_text(color='black', size=14), axis.text.y = element_text(color='black', size=16), axis.title.x = element_text(color='black', size=16), axis.title.y = element_text(color='black', size=14), legend.position = \"none\") +\n",
    "        facet_wrap(~sym) +\n",
    "         scale_x_continuous(name=\"n top genes\") + \n",
    "        scale_y_continuous(name=\"-log10(min(pval))\") +\n",
    "        ggtitle('Enrichment in N') -> plot_pval_vs_top_genes_N\n",
    "\n",
    "plot_pval_vs_top_genes_N"
   ]
  },
  {
   "cell_type": "code",
   "execution_count": null,
   "id": "304acc90-f8d2-41c0-9525-c9e9a4ccfac2",
   "metadata": {},
   "outputs": [],
   "source": [
    "ggsave(paste0(output_plot_dir,'plot_pval_vs_top_genes_N.png'), width=6, height=6, dpi = plot_dpi, plot = plot_pval_vs_top_genes_N)"
   ]
  },
  {
   "cell_type": "markdown",
   "id": "e4f06455-90cb-4f35-9a5b-ae13db38d91d",
   "metadata": {},
   "source": [
    "## ORF9b"
   ]
  },
  {
   "cell_type": "code",
   "execution_count": null,
   "id": "c279d71e-5f53-4d2b-a1b1-a8f4bf1f7f85",
   "metadata": {},
   "outputs": [],
   "source": [
    "get_serial_enrichment_by_gene(res_mutations, select_gene = 'ORF9b') -> serial_enrichment_ORF9b"
   ]
  },
  {
   "cell_type": "code",
   "execution_count": null,
   "id": "f40a0b2e-ba01-4143-b09e-328cbdb23281",
   "metadata": {},
   "outputs": [],
   "source": [
    "serial_enrichment_ORF9b %>% \n",
    "    ggplot(aes(x=n, y=-log10(most_sign_pval), color=type, linetype=sym)) + \n",
    "        geom_line() +\n",
    "        geom_hline(yintercept = -log10(pval_cutoff)) + \n",
    "        geom_hline(yintercept = -log10(pval_cutoff*2), linetype=2) +\n",
    "        facet_wrap(~sym) +\n",
    "        theme_bw() + scale_x_continuous(name=\"n top genes\") + \n",
    "        scale_y_continuous(name=\"-log10(min(pval))\") +\n",
    "        ggtitle('Enrichment in ORF9b') -> plot_pval_vs_top_genes_ORF9b\n",
    "\n",
    "plot_pval_vs_top_genes_ORF9b"
   ]
  },
  {
   "cell_type": "code",
   "execution_count": null,
   "id": "cbdc6ea7-ee95-4a5d-bcce-8b4d0782f958",
   "metadata": {},
   "outputs": [],
   "source": [
    "ggsave(paste0(output_plot_dir,'plot_pval_vs_top_genes_ORF9b.png'), width=6, height=6, dpi = plot_dpi, plot = plot_pval_vs_top_genes_ORF9b)"
   ]
  },
  {
   "cell_type": "markdown",
   "id": "3e9b275c-79e6-4acb-bdb0-3a7d30234e12",
   "metadata": {
    "tags": []
   },
   "source": [
    "## ORF1a"
   ]
  },
  {
   "cell_type": "code",
   "execution_count": null,
   "id": "534afdf1-8a2f-4436-a1e5-af97481387ea",
   "metadata": {},
   "outputs": [],
   "source": [
    "get_serial_enrichment_by_gene(res_mutations, select_gene = 'ORF1a') -> serial_enrichment_ORF1a"
   ]
  },
  {
   "cell_type": "code",
   "execution_count": null,
   "id": "9ab51a57-6f6c-4f31-ba31-9d6f6f402522",
   "metadata": {},
   "outputs": [],
   "source": [
    "serial_enrichment_ORF1a %>% \n",
    "    ggplot(aes(x=n, y=-log10(most_sign_pval), color=type, linetype=sym)) + \n",
    "        geom_line() +\n",
    "        geom_hline(yintercept = -log10(pval_cutoff)) + \n",
    "        geom_hline(yintercept = -log10(pval_cutoff*2), linetype=2) +\n",
    "        facet_wrap(~sym) +\n",
    "        theme_bw() + scale_x_continuous(name=\"n top genes\") + \n",
    "        scale_y_continuous(name=\"-log10(min(pval))\") +\n",
    "        ggtitle('Enrichment in ORF1a') -> plot_pval_vs_top_genes_ORF1a\n",
    "\n",
    "plot_pval_vs_top_genes_ORF1a"
   ]
  },
  {
   "cell_type": "code",
   "execution_count": null,
   "id": "cd9f5945-10b6-4eba-bfe8-e36f99fb3a86",
   "metadata": {},
   "outputs": [],
   "source": [
    "ggsave(paste0(output_plot_dir,'plot_pval_vs_top_genes_ORF1a.png'), width=6, height=6, dpi = plot_dpi, plot = plot_pval_vs_top_genes_ORF1a)"
   ]
  },
  {
   "cell_type": "markdown",
   "id": "93ed7a09-be33-44bd-b946-f5a89558c430",
   "metadata": {},
   "source": [
    "## ORF1b"
   ]
  },
  {
   "cell_type": "code",
   "execution_count": null,
   "id": "02440bbd-6566-451a-bab6-24306a587df2",
   "metadata": {},
   "outputs": [],
   "source": [
    "get_serial_enrichment_by_gene(res_mutations, select_gene = 'ORF1b') -> serial_enrichment_ORF1b"
   ]
  },
  {
   "cell_type": "code",
   "execution_count": null,
   "id": "a1b7de94-c946-4dab-b65c-eda454b51f86",
   "metadata": {},
   "outputs": [],
   "source": [
    "serial_enrichment_ORF1b %>% \n",
    "    ggplot(aes(x=n, y=-log10(most_sign_pval), color=type, linetype=sym)) + \n",
    "        geom_line() +\n",
    "        geom_hline(yintercept = -log10(pval_cutoff)) + \n",
    "        geom_hline(yintercept = -log10(pval_cutoff*2), linetype=2) +\n",
    "        facet_wrap(~sym) +\n",
    "        theme_bw() + scale_x_continuous(name=\"n top genes\") + \n",
    "        scale_y_continuous(name=\"-log10(min(pval))\") +\n",
    "        ggtitle('Enrichment in ORF1b') -> plot_pval_vs_top_genes_ORF1b\n",
    "\n",
    "plot_pval_vs_top_genes_ORF1b"
   ]
  },
  {
   "cell_type": "code",
   "execution_count": null,
   "id": "0a9e35aa-62a9-4e32-b51d-3dc29e160be5",
   "metadata": {},
   "outputs": [],
   "source": [
    "ggsave(paste0(output_plot_dir,'plot_pval_vs_top_genes_ORF1b.png'), width=6, height=6, dpi = plot_dpi, plot = plot_pval_vs_top_genes_ORF1b)"
   ]
  },
  {
   "cell_type": "markdown",
   "id": "b3873c00-2c2a-4fc2-8b71-3f633a25a39f",
   "metadata": {},
   "source": [
    "## ORF3a"
   ]
  },
  {
   "cell_type": "code",
   "execution_count": null,
   "id": "0007307a-a5f1-4703-a05b-2c387af32e12",
   "metadata": {},
   "outputs": [],
   "source": [
    "get_serial_enrichment_by_gene(res_mutations, select_gene = 'ORF3a') -> serial_enrichment_ORF3a"
   ]
  },
  {
   "cell_type": "code",
   "execution_count": null,
   "id": "634d8cab-70e0-435a-a2ac-688e9cf75d7a",
   "metadata": {},
   "outputs": [],
   "source": [
    "serial_enrichment_ORF3a %>% \n",
    "    ggplot(aes(x=n, y=-log10(most_sign_pval), color=type, linetype=sym)) + \n",
    "        geom_line() +\n",
    "        geom_hline(yintercept = -log10(pval_cutoff)) + \n",
    "        geom_hline(yintercept = -log10(pval_cutoff*2), linetype=2) +\n",
    "        facet_wrap(~sym) +\n",
    "        theme_bw() + scale_x_continuous(name=\"n top genes\") + \n",
    "        scale_y_continuous(name=\"-log10(min(pval))\") +\n",
    "        ggtitle('Enrichment in ORF3a') -> plot_pval_vs_top_genes_ORF3a\n",
    "\n",
    "plot_pval_vs_top_genes_ORF3a"
   ]
  },
  {
   "cell_type": "code",
   "execution_count": null,
   "id": "a4503417-ee94-4b91-a736-b12426107ea7",
   "metadata": {},
   "outputs": [],
   "source": [
    "ggsave(paste0(output_plot_dir,'plot_pval_vs_top_genes_ORF3a.png'), width=6, height=6, dpi = plot_dpi, plot = plot_pval_vs_top_genes_ORF3a)"
   ]
  },
  {
   "cell_type": "markdown",
   "id": "ed03cf33-02f8-4e88-942a-9ab8fa926d46",
   "metadata": {},
   "source": [
    "## E"
   ]
  },
  {
   "cell_type": "code",
   "execution_count": null,
   "id": "07849519-e288-497b-b52d-7fafe03b2b38",
   "metadata": {},
   "outputs": [],
   "source": [
    "get_serial_enrichment_by_gene(res_mutations, select_gene = 'E') -> serial_enrichment_E"
   ]
  },
  {
   "cell_type": "code",
   "execution_count": null,
   "id": "5731ba5e-205a-4a6c-b26c-6837e5f822b9",
   "metadata": {},
   "outputs": [],
   "source": [
    "serial_enrichment_E %>% \n",
    "    ggplot(aes(x=n, y=-log10(most_sign_pval), color=type, linetype=sym)) + \n",
    "        geom_line() +\n",
    "        geom_hline(yintercept = -log10(pval_cutoff)) + \n",
    "        geom_hline(yintercept = -log10(pval_cutoff*2), linetype=2) +\n",
    "        facet_wrap(~sym) +\n",
    "        theme_bw() + scale_x_continuous(name=\"n top genes\") + \n",
    "        scale_y_continuous(name=\"-log10(min(pval))\") +\n",
    "        ggtitle('Enrichment in E') -> plot_pval_vs_top_genes_E\n",
    "\n",
    "plot_pval_vs_top_genes_E"
   ]
  },
  {
   "cell_type": "code",
   "execution_count": null,
   "id": "a419d6a3-27ce-4ba5-9793-1373d31a1bf5",
   "metadata": {},
   "outputs": [],
   "source": [
    "ggsave(paste0(output_plot_dir,'plot_pval_vs_top_genes_E.png'), width=6, height=6, dpi = plot_dpi, plot = plot_pval_vs_top_genes_E)"
   ]
  },
  {
   "cell_type": "markdown",
   "id": "9390edbe-d458-4322-ad2b-dadb78dbc268",
   "metadata": {},
   "source": [
    "# ORF7b"
   ]
  },
  {
   "cell_type": "code",
   "execution_count": null,
   "id": "e7abcc7a-0de8-4738-8ac6-1800506f9a9d",
   "metadata": {},
   "outputs": [],
   "source": [
    "get_serial_enrichment_by_gene(res_mutations, select_gene = 'ORF7b') -> serial_enrichment_ORF7b"
   ]
  },
  {
   "cell_type": "code",
   "execution_count": null,
   "id": "9dc06279-5515-47be-bc07-a236242e557c",
   "metadata": {},
   "outputs": [],
   "source": [
    "serial_enrichment_ORF7b %>% \n",
    "    ggplot(aes(x=n, y=-log10(most_sign_pval), color=type, linetype=sym)) + \n",
    "        geom_line() +\n",
    "        geom_hline(yintercept = -log10(pval_cutoff)) + \n",
    "        geom_hline(yintercept = -log10(pval_cutoff*2), linetype=2) +\n",
    "        facet_wrap(~sym) +\n",
    "        theme_bw() + scale_x_continuous(name=\"n top genes\") + \n",
    "        scale_y_continuous(name=\"-log10(min(pval))\") +\n",
    "        ggtitle('Enrichment in ORF7b') -> plot_pval_vs_top_genes\n",
    "\n",
    "plot_pval_vs_top_genes_ORF7b"
   ]
  },
  {
   "cell_type": "code",
   "execution_count": null,
   "id": "3a4d7fa6-7ca7-44fa-b512-851ccd59abec",
   "metadata": {},
   "outputs": [],
   "source": [
    "ggsave(paste0(output_plot_dir,'plot_pval_vs_top_genes_ORF7b.png'), width=6, height=6, dpi = plot_dpi, plot = plot_pval_vs_top_genes_ORF7b)"
   ]
  },
  {
   "cell_type": "markdown",
   "id": "c87b6dd8-9c6c-4c3b-8765-f165df23469a",
   "metadata": {},
   "source": [
    "# ORF8"
   ]
  },
  {
   "cell_type": "code",
   "execution_count": null,
   "id": "5895547b-0cc5-45cd-923b-ee8b91de9fb5",
   "metadata": {},
   "outputs": [],
   "source": [
    "get_serial_enrichment_by_gene(res_mutations, select_gene = 'ORF8') -> serial_enrichment_ORF8"
   ]
  },
  {
   "cell_type": "code",
   "execution_count": null,
   "id": "08567fdb-314d-455f-b0e4-46ad9316c9b1",
   "metadata": {},
   "outputs": [],
   "source": [
    "serial_enrichment_ORF8 %>% \n",
    "    ggplot(aes(x=n, y=-log10(most_sign_pval), color=type, linetype=sym)) + \n",
    "        geom_line() +\n",
    "        geom_hline(yintercept = -log10(pval_cutoff)) + \n",
    "        geom_hline(yintercept = -log10(pval_cutoff*2), linetype=2) +\n",
    "        facet_wrap(~sym) +\n",
    "        theme_bw() + scale_x_continuous(name=\"n top genes\") + \n",
    "        scale_y_continuous(name=\"-log10(min(pval))\") +\n",
    "        ggtitle('Enrichment in ORF8') -> plot_pval_vs_top_genes_ORF8\n",
    "\n",
    "plot_pval_vs_top_genes_ORF8"
   ]
  },
  {
   "cell_type": "code",
   "execution_count": null,
   "id": "3d29607f-f41f-417c-94b6-0bcb32de9462",
   "metadata": {},
   "outputs": [],
   "source": [
    "ggsave(paste0(output_plot_dir,'plot_pval_vs_top_genes_ORF8.png'), width=6, height=6, dpi = plot_dpi, plot = plot_pval_vs_top_genes_ORF8)"
   ]
  },
  {
   "cell_type": "markdown",
   "id": "e114aa08-9b39-4bef-9566-d5f38efaa0c7",
   "metadata": {},
   "source": [
    "# ORF6"
   ]
  },
  {
   "cell_type": "code",
   "execution_count": null,
   "id": "48b0e921-e4a4-4160-9261-050a2dead955",
   "metadata": {},
   "outputs": [],
   "source": [
    "get_serial_enrichment_by_gene(res_mutations, select_gene = 'ORF6') -> serial_enrichment_ORF6"
   ]
  },
  {
   "cell_type": "code",
   "execution_count": null,
   "id": "a6c90c86-1fd4-4cd9-b716-dc7f59552f4b",
   "metadata": {},
   "outputs": [],
   "source": [
    "serial_enrichment_ORF6 %>% \n",
    "    ggplot(aes(x=n, y=-log10(most_sign_pval), color=type, linetype=sym)) + \n",
    "        geom_line() +\n",
    "        geom_hline(yintercept = -log10(pval_cutoff)) + \n",
    "        geom_hline(yintercept = -log10(pval_cutoff*2), linetype=2) +\n",
    "        facet_wrap(~sym) +\n",
    "        theme_bw() + scale_x_continuous(name=\"n top genes\") + \n",
    "        scale_y_continuous(name=\"-log10(min(pval))\") +\n",
    "        ggtitle('Enrichment in ORF6') -> plot_pval_vs_top_genes_ORF6\n",
    "\n",
    "plot_pval_vs_top_genes_ORF6"
   ]
  },
  {
   "cell_type": "code",
   "execution_count": null,
   "id": "48bcd5ac-5edc-4859-93e7-d3dc831e2f4f",
   "metadata": {},
   "outputs": [],
   "source": [
    "ggsave(paste0(output_plot_dir,'plot_pval_vs_top_genes_ORF6.png'), width=6, height=6, dpi = plot_dpi, plot = plot_pval_vs_top_genes_ORF6)"
   ]
  },
  {
   "cell_type": "markdown",
   "id": "693de0c6-e20d-4166-8670-7627156bd5ec",
   "metadata": {},
   "source": [
    "# ORF10"
   ]
  },
  {
   "cell_type": "code",
   "execution_count": null,
   "id": "b67ed9f2-0081-40c0-9f6e-2f4cad444378",
   "metadata": {},
   "outputs": [],
   "source": [
    "get_serial_enrichment_by_gene(res_mutations, select_gene = 'ORF10') -> serial_enrichment_ORF10"
   ]
  },
  {
   "cell_type": "code",
   "execution_count": null,
   "id": "525b9c5b-1c04-4859-a3a7-3dfaee88059a",
   "metadata": {},
   "outputs": [],
   "source": [
    "serial_enrichment_ORF10 %>% \n",
    "    ggplot(aes(x=n, y=-log10(most_sign_pval), color=type, linetype=sym)) + \n",
    "        geom_line() +\n",
    "        geom_hline(yintercept = -log10(pval_cutoff)) + \n",
    "        geom_hline(yintercept = -log10(pval_cutoff*2), linetype=2) +\n",
    "        facet_wrap(~sym) +\n",
    "        theme_bw() + scale_x_continuous(name=\"n top genes\") + \n",
    "        scale_y_continuous(name=\"-log10(min(pval))\") +\n",
    "        ggtitle('Enrichment in ORF10') -> plot_pval_vs_top_genes_ORF10\n",
    "\n",
    "plot_pval_vs_top_genes_ORF10"
   ]
  },
  {
   "cell_type": "code",
   "execution_count": null,
   "id": "cfae90df-5e94-4fe8-ad2c-a32725034613",
   "metadata": {},
   "outputs": [],
   "source": [
    "ggsave(paste0(output_plot_dir,'plot_pval_vs_top_genes_ORF10.png'), width=6, height=6, dpi = plot_dpi, plot = plot_pval_vs_top_genes_ORF10)"
   ]
  }
 ],
 "metadata": {
  "kernelspec": {
   "display_name": "R",
   "language": "R",
   "name": "ir"
  },
  "language_info": {
   "codemirror_mode": "r",
   "file_extension": ".r",
   "mimetype": "text/x-r-source",
   "name": "R",
   "pygments_lexer": "r",
   "version": "4.1.0"
  }
 },
 "nbformat": 4,
 "nbformat_minor": 5
}
