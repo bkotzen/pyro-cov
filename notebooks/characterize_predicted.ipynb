{
 "cells": [
  {
   "cell_type": "markdown",
   "id": "bad6d62d-f589-4319-bf25-cd1fa81cda53",
   "metadata": {},
   "source": [
    "# Characterize predicted mutations"
   ]
  },
  {
   "cell_type": "code",
   "execution_count": null,
   "id": "fa82e3a6-5497-424c-88fe-dd714f55646a",
   "metadata": {},
   "outputs": [],
   "source": [
    "library(data.table)\n",
    "library(tidyverse)"
   ]
  },
  {
   "cell_type": "code",
   "execution_count": null,
   "id": "904fadff-954c-4053-90ec-d857db108001",
   "metadata": {},
   "outputs": [],
   "source": [
    "options(repr.plot.width=8, repr.plot.height=8)"
   ]
  },
  {
   "cell_type": "code",
   "execution_count": null,
   "id": "bf88eb82-0236-4b25-b3db-cedf1a7d5390",
   "metadata": {},
   "outputs": [],
   "source": [
    "res_mutations <- fread('../notebooks/paper/mutations.tsv')"
   ]
  },
  {
   "cell_type": "code",
   "execution_count": null,
   "id": "032c80bd-f4d1-43be-a3fb-5ab46bce64e7",
   "metadata": {},
   "outputs": [],
   "source": [
    "# Helper functions\n",
    "strpart <- function(x, split, n, fixed=FALSE) {\n",
    "    sapply(strsplit(as.character(x),split,fixed=fixed),'[',n)\n",
    "}\n",
    "\n",
    "matrix_to_long_df <- function(matrix) {\n",
    "    rn <- rownames(matrix)\n",
    "    cn <- colnames(matrix)\n",
    "    df <- as.data.frame(matrix)\n",
    "    colnames(df) <- cn\n",
    "    df$rownames <- rn\n",
    "    pivot_longer(df, !rownames, names_to = \"colnames\")\n",
    "}"
   ]
  },
  {
   "cell_type": "markdown",
   "id": "9bd15f4a-8b5b-4813-a99a-f7c9ab54a980",
   "metadata": {},
   "source": [
    "### Get summary of mutations a the top of the list"
   ]
  },
  {
   "cell_type": "code",
   "execution_count": null,
   "id": "ea26bb4d-83f8-4e21-a722-975313f70b90",
   "metadata": {},
   "outputs": [],
   "source": [
    "get_mutation_summary <- function(mutations, n_mutations = NULL) {\n",
    "    # TODO: Order mutations\n",
    "    aa_chars = sort(c('G','A','L','M','F','W','K','Q','E','S','P','V','I','C','Y','H','R','N','D','T'))\n",
    "    \n",
    "    if (!is.null(n_mutations)) {\n",
    "        mutations[1:n_mutations,] %>% pull('mutation') -> mutation_strings\n",
    "    } else {\n",
    "        mutations %>% pull('mutation') -> mutation_strings\n",
    "    }\n",
    "    \n",
    "    # Extract mutation information\n",
    "    gene <- strpart(mutation_strings, ':', 1)\n",
    "    aa_change <- strpart(mutation_strings, ':', 2)\n",
    "    aa_from <- substr(aa_change,1,1)\n",
    "    position <- substr(aa_change,2,nchar(aa_change)-1)\n",
    "    aa_to <- substr(aa_change,nchar(aa_change),nchar(aa_change))\n",
    "    mutation_data_parse <- data.frame(\n",
    "        gene,\n",
    "        aa_from,\n",
    "        position,\n",
    "        aa_to\n",
    "    )\n",
    "    mutation_data_parse %>% \n",
    "        filter(aa_from %in% aa_chars) %>%\n",
    "        filter(aa_to %in% aa_chars) -> mutation_data_parse\n",
    "    \n",
    "    # Count mutations\n",
    "    mutation_data_parse[,c('aa_from','aa_to')] %>% \n",
    "        group_by(aa_from, aa_to) %>% summarise(n=n(), .groups=\"drop\") -> summarized_counts\n",
    "    \n",
    "    # pivot wider\n",
    "    summarized_counts %>% pivot_wider(\n",
    "        id_cols = c(aa_from, aa_to),\n",
    "        names_from = aa_to,\n",
    "        values_from = n,\n",
    "        values_fill=0\n",
    "    ) -> mutation_counts_actual\n",
    "    \n",
    "    # Turn to matrix\n",
    "    rn <- mutation_counts_actual$aa_from\n",
    "    cn <- colnames(mutation_counts_actual)\n",
    "    mutation_counts_actual <- (as.matrix(mutation_counts_actual[,-1]))\n",
    "    rownames(mutation_counts_actual) <- rn\n",
    "    colnames(mutation_counts_actual) <- cn[-1]\n",
    "    \n",
    "    # Find missing cols and rows\n",
    "    missing_cols <- setdiff(aa_chars, colnames(mutation_counts_actual))\n",
    "    missing_rows <- setdiff(aa_chars, rownames(mutation_counts_actual))\n",
    "    \n",
    "    # Add missing cols\n",
    "    original_cn <- colnames(mutation_counts_actual)\n",
    "    mutation_counts_actual <- cbind(mutation_counts_actual, \n",
    "                                    matrix(0, nrow(mutation_counts_actual), \n",
    "                                           length(missing_cols)))\n",
    "    colnames(mutation_counts_actual) <- c(original_cn, missing_cols)\n",
    "    # Add missing rows\n",
    "    original_rn <- rownames(mutation_counts_actual)\n",
    "    mutation_counts_actual <- rbind(mutation_counts_actual,\n",
    "                                    matrix(0, length(missing_rows),\n",
    "                                          ncol(mutation_counts_actual)))\n",
    "    rownames(mutation_counts_actual) <- c(original_rn, missing_rows)\n",
    "    \n",
    "    # Put in order\n",
    "    mutation_counts_actual <- mutation_counts_actual[aa_chars,aa_chars]\n",
    "    \n",
    "    mutation_counts_actual\n",
    "}"
   ]
  },
  {
   "cell_type": "code",
   "execution_count": null,
   "id": "c9e95fd5-a522-4c3f-b87f-eda44a8e0baf",
   "metadata": {},
   "outputs": [],
   "source": [
    "n_mutations <- 1000\n",
    "\n",
    "matrix_to_long_df(get_mutation_summary(res_mutations, n_mutations = n_mutations)) %>% \n",
    "    ggplot(aes(x=rownames, y=colnames, fill=value)) + \n",
    "    geom_tile() +\n",
    "    theme_bw() +\n",
    "    scale_fill_gradient(low = \"white\", high = \"red\") +\n",
    "    geom_text(aes(label=value)) +\n",
    "    ggtitle(paste0('Mutation Frequencies in Top ', n_mutations, ' mutations'))"
   ]
  },
  {
   "cell_type": "markdown",
   "id": "11372db0-29c7-43ec-9ea0-3120920bd911",
   "metadata": {},
   "source": [
    "### Test for enrichment of particular mutations"
   ]
  },
  {
   "cell_type": "code",
   "execution_count": null,
   "id": "ac9eb75c-1ee2-4ddb-a12c-767061758ada",
   "metadata": {},
   "outputs": [],
   "source": [
    "test_mutation_enrichment <- function(res_mutations, n_mutations=1000, symmetric = TRUE) {\n",
    "    aa_chars = sort(c('G','A','L','M','F','W','K','Q','E','S','P','V','I','C','Y','H','R','N','D','T'))\n",
    "    \n",
    "    top_mut <- get_mutation_summary(res_mutations, n_mutations)\n",
    "    universe_mut <- get_mutation_summary(res_mutations, NULL)\n",
    "    \n",
    "    pvals <- matrix(0, length(aa_chars), length(aa_chars))\n",
    "    rownames(pvals) <- colnames(pvals) <- aa_chars\n",
    "    \n",
    "    top_total <- sum(top_mut)\n",
    "    universe_total <- sum(universe_mut)\n",
    "    \n",
    "    universe_rate <- universe_mut / universe_total\n",
    "\n",
    "    for (from_aa in aa_chars) {\n",
    "        for (to_aa in aa_chars) {\n",
    "            if (symmetric) {\n",
    "                this_mutation_count = top_mut[from_aa, to_aa] + top_mut[to_aa, from_aa] # observed count\n",
    "                this_mutation_global_prob = universe_rate[from_aa, to_aa] + universe_rate[to_aa, from_aa] #expected_rate\n",
    "            } else {\n",
    "                this_mutation_count = top_mut[from_aa, to_aa] # observed count\n",
    "                this_mutation_global_prob = universe_rate[from_aa, to_aa] # excpected rate\n",
    "            }\n",
    "\n",
    "            pvals[from_aa, to_aa] <- dbinom(this_mutation_count, top_total, this_mutation_global_prob)\n",
    "        }\n",
    "    }\n",
    "    \n",
    "    pvals    \n",
    "}"
   ]
  },
  {
   "cell_type": "code",
   "execution_count": null,
   "id": "cf830616-7dd3-4606-ac99-5fc5c0fe667f",
   "metadata": {},
   "outputs": [],
   "source": [
    "test_mutation_enrichment_serial <- function(res_mutations, n_start=1, n_end=1000, step=1, symmetric=TRUE, summary_fn=min) {\n",
    "    xs <- seq(n_start, n_end, step)\n",
    "    ys <- unlist(lapply(xs, function(x) {\n",
    "        summary_fn(test_mutation_enrichment(res_mutations,n=x,symmetric=symmetric))\n",
    "    }))\n",
    "    most_sign_pval <- data.frame(n=xs, most_sign_pval= ys)\n",
    "}"
   ]
  },
  {
   "cell_type": "code",
   "execution_count": null,
   "id": "0a5b3518-bed2-4a7a-bfd3-393277499215",
   "metadata": {},
   "outputs": [],
   "source": [
    "most_sign_pval_sym <- test_mutation_enrichment_serial(res_mutations, n_end=5000, step=10, symmetric = TRUE, summary_fn=min)\n",
    "most_sign_pval_sym$type <- 'most'\n",
    "most_sign_pval_sym$sym <- 'sym'\n",
    "\n",
    "most_sign_pval_nonsym <- test_mutation_enrichment_serial(res_mutations, n_end=5000, step=10,symmetric = FALSE, summary_fn=min)\n",
    "most_sign_pval_nonsym$type <- 'most'\n",
    "most_sign_pval_nonsym$sym <- 'nonsym'\n",
    "\n",
    "mean_sign_pval_sym <- test_mutation_enrichment_serial(res_mutations, n_end=5000, step=10,symmetric = TRUE, summary_fn=mean)\n",
    "mean_sign_pval_sym$type <- 'mean'\n",
    "mean_sign_pval_sym$sym <- 'sym'\n",
    "\n",
    "mean_sign_pval_nonsym <- test_mutation_enrichment_serial(res_mutations, n_end=5000, step=10,symmetric = FALSE, summary_fn=mean)\n",
    "mean_sign_pval_nonsym$type <- 'mean'\n",
    "mean_sign_pval_nonsym$sym <- 'nonsym'\n",
    "\n",
    "plot_data <- rbind(most_sign_pval_sym, most_sign_pval_nonsym, mean_sign_pval_sym, mean_sign_pval_nonsym)"
   ]
  },
  {
   "cell_type": "code",
   "execution_count": null,
   "id": "4d2346b9-b600-4716-9066-be7e7aab8de7",
   "metadata": {},
   "outputs": [],
   "source": [
    "ggplot(plot_data, aes(x=n, y=-log10(most_sign_pval), color=type, linetype=sym)) + \n",
    "    geom_line() + \n",
    "    geom_hline(yintercept = -log10(0.05/(20*20))) + facet_wrap(~sym)"
   ]
  }
 ],
 "metadata": {
  "kernelspec": {
   "display_name": "R",
   "language": "R",
   "name": "ir"
  },
  "language_info": {
   "codemirror_mode": "r",
   "file_extension": ".r",
   "mimetype": "text/x-r-source",
   "name": "R",
   "pygments_lexer": "r",
   "version": "4.1.0"
  }
 },
 "nbformat": 4,
 "nbformat_minor": 5
}
