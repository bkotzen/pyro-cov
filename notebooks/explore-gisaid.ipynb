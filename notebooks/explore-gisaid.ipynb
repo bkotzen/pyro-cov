{
 "cells": [
  {
   "cell_type": "markdown",
   "metadata": {},
   "source": [
    "# Explore GISAID data\n"
   ]
  },
  {
   "cell_type": "code",
   "execution_count": 2,
   "metadata": {},
   "outputs": [],
   "source": [
    "import os\n",
    "import math\n",
    "import pickle\n",
    "import numpy as np\n",
    "import torch\n",
    "from pprint import pprint\n",
    "from collections import Counter, defaultdict\n",
    "from pyrocov import mutrans, pangolin, geo\n",
    "import matplotlib\n",
    "import matplotlib.pyplot as plt\n",
    "\n",
    "matplotlib.rcParams[\"figure.dpi\"] = 200\n",
    "matplotlib.rcParams[\"axes.edgecolor\"] = \"gray\"\n",
    "matplotlib.rcParams[\"figure.facecolor\"] = \"white\""
   ]
  },
  {
   "cell_type": "code",
   "execution_count": null,
   "metadata": {},
   "outputs": [],
   "source": [
    "with open(\"results/usher.columns.pkl\", \"rb\") as f:\n",
    "    columns = pickle.load(f)\n",
    "print(\"loaded {} rows\".format(len(columns[\"day\"])))\n",
    "print(list(columns.keys()))"
   ]
  },
  {
   "cell_type": "markdown",
   "metadata": {},
   "source": [
    "## Phylogenetic distribution of samples"
   ]
  },
  {
   "cell_type": "code",
   "execution_count": 6,
   "metadata": {},
   "outputs": [
    {
     "name": "stdout",
     "output_type": "stream",
     "text": [
      "(5000, 0)\n",
      "CPU times: user 144 ms, sys: 59.1 ms, total: 203 ms\n",
      "Wall time: 226 ms\n"
     ]
    }
   ],
   "source": [
    "%%time\n",
    "clade_counts = {\"full\": Counter(columns[\"clade\"])}\n",
    "for max_num_clades in [2000, 5000, 10000]:\n",
    "    with open(f\"results/columns.{max_num_clades}.pkl\", \"rb\") as f:\n",
    "        counts = Counter(pickle.load(f)[\"clade\"])\n",
    "        clade_counts[max_num_clades] = counts\n",
    "        print((max_num_clades, len(counts)))"
   ]
  },
  {
   "cell_type": "code",
   "execution_count": 7,
   "metadata": {},
   "outputs": [
    {
     "ename": "NameError",
     "evalue": "name 'columns' is not defined",
     "output_type": "error",
     "traceback": [
      "\u001b[0;31m---------------------------------------------------------------------------\u001b[0m",
      "\u001b[0;31mNameError\u001b[0m                                 Traceback (most recent call last)",
      "\u001b[0;32m/var/folders/1r/v0h5nd7x4nvd1x0m14_qrgmm0000gp/T/ipykernel_5185/1159351986.py\u001b[0m in \u001b[0;36m<module>\u001b[0;34m\u001b[0m\n\u001b[0;32m----> 1\u001b[0;31m \u001b[0mstrain_counts\u001b[0m \u001b[0;34m=\u001b[0m \u001b[0mCounter\u001b[0m\u001b[0;34m(\u001b[0m\u001b[0mcolumns\u001b[0m\u001b[0;34m[\u001b[0m\u001b[0;34m\"lineage\"\u001b[0m\u001b[0;34m]\u001b[0m\u001b[0;34m)\u001b[0m\u001b[0;34m\u001b[0m\u001b[0;34m\u001b[0m\u001b[0m\n\u001b[0m\u001b[1;32m      2\u001b[0m \u001b[0mplt\u001b[0m\u001b[0;34m.\u001b[0m\u001b[0mfigure\u001b[0m\u001b[0;34m(\u001b[0m\u001b[0mfigsize\u001b[0m\u001b[0;34m=\u001b[0m\u001b[0;34m(\u001b[0m\u001b[0;36m6\u001b[0m\u001b[0;34m,\u001b[0m\u001b[0;36m4\u001b[0m\u001b[0;34m)\u001b[0m\u001b[0;34m)\u001b[0m\u001b[0;34m\u001b[0m\u001b[0;34m\u001b[0m\u001b[0m\n\u001b[1;32m      3\u001b[0m \u001b[0mY\u001b[0m \u001b[0;34m=\u001b[0m \u001b[0;34m[\u001b[0m\u001b[0mc\u001b[0m \u001b[0;32mfor\u001b[0m \u001b[0m_\u001b[0m\u001b[0;34m,\u001b[0m \u001b[0mc\u001b[0m \u001b[0;32min\u001b[0m \u001b[0mstrain_counts\u001b[0m\u001b[0;34m.\u001b[0m\u001b[0mmost_common\u001b[0m\u001b[0;34m(\u001b[0m\u001b[0;34m)\u001b[0m\u001b[0;34m]\u001b[0m\u001b[0;34m\u001b[0m\u001b[0;34m\u001b[0m\u001b[0m\n\u001b[1;32m      4\u001b[0m \u001b[0mplt\u001b[0m\u001b[0;34m.\u001b[0m\u001b[0mplot\u001b[0m\u001b[0;34m(\u001b[0m\u001b[0mtorch\u001b[0m\u001b[0;34m.\u001b[0m\u001b[0marange\u001b[0m\u001b[0;34m(\u001b[0m\u001b[0;36m1\u001b[0m\u001b[0;34m,\u001b[0m\u001b[0;36m1\u001b[0m \u001b[0;34m+\u001b[0m \u001b[0mlen\u001b[0m\u001b[0;34m(\u001b[0m\u001b[0mY\u001b[0m\u001b[0;34m)\u001b[0m\u001b[0;34m)\u001b[0m\u001b[0;34m,\u001b[0m \u001b[0mY\u001b[0m\u001b[0;34m,\u001b[0m \u001b[0;34m\"k--\"\u001b[0m\u001b[0;34m,\u001b[0m \u001b[0mlabel\u001b[0m\u001b[0;34m=\u001b[0m\u001b[0;34m\"Pango lineages\"\u001b[0m\u001b[0;34m)\u001b[0m\u001b[0;34m\u001b[0m\u001b[0;34m\u001b[0m\u001b[0m\n\u001b[1;32m      5\u001b[0m \u001b[0;32mfor\u001b[0m \u001b[0mk\u001b[0m\u001b[0;34m,\u001b[0m \u001b[0mv\u001b[0m \u001b[0;32min\u001b[0m \u001b[0mclade_counts\u001b[0m\u001b[0;34m.\u001b[0m\u001b[0mitems\u001b[0m\u001b[0;34m(\u001b[0m\u001b[0;34m)\u001b[0m\u001b[0;34m:\u001b[0m\u001b[0;34m\u001b[0m\u001b[0;34m\u001b[0m\u001b[0m\n",
      "\u001b[0;31mNameError\u001b[0m: name 'columns' is not defined"
     ]
    }
   ],
   "source": [
    "strain_counts = Counter(columns[\"lineage\"])\n",
    "plt.figure(figsize=(6,4))\n",
    "Y = [c for _, c in strain_counts.most_common()]\n",
    "plt.plot(torch.arange(1,1 + len(Y)), Y, \"k--\", label=\"Pango lineages\")\n",
    "for k, v in clade_counts.items():\n",
    "    Y = [c for _, c in v.most_common()]\n",
    "    plt.plot(torch.arange(1,1 + len(Y)), Y, label=f\"{k} clusters\")\n",
    "plt.yscale(\"log\")\n",
    "plt.xscale(\"log\")\n",
    "plt.xlim(1, None)\n",
    "plt.ylim(0.95, None)\n",
    "plt.xlabel(\"Cluster Rank\")\n",
    "plt.ylabel(\"Number of Samples\")\n",
    "plt.legend(loc=\"upper right\")\n",
    "plt.title(\"Distribution of samples among clusters\")\n",
    "plt.tight_layout()\n",
    "plt.savefig(\"paper/clade_distribution.png\")"
   ]
  },
  {
   "cell_type": "code",
   "execution_count": null,
   "metadata": {},
   "outputs": [],
   "source": [
    "keys = sorted(clade_counts[\"full\"])\n",
    "X = [clade_counts[\"full\"][k] for k in keys]\n",
    "Y = [clade_counts[2000][k] for k in keys]\n",
    "plt.scatter(X, Y, 10, alpha=0.3, lw=0)\n",
    "plt.xscale(\"symlog\")\n",
    "plt.yscale(\"symlog\")\n",
    "plt.xlabel(f\"Full tree with {len(clade_counts['full'])} nodes\")\n",
    "plt.ylabel(\"Pruned tree with 2000 nodes\")\n",
    "plt.title(\"Clade sizes in two different trees\")\n",
    "plt.tight_layout()"
   ]
  },
  {
   "cell_type": "markdown",
   "metadata": {},
   "source": [
    "## Geographic distribution of samples"
   ]
  },
  {
   "cell_type": "code",
   "execution_count": null,
   "metadata": {
    "scrolled": true
   },
   "outputs": [],
   "source": [
    "%%time\n",
    "pprint(sorted(Counter(map(geo.gisaid_normalize, columns[\"location\"])).items()))"
   ]
  },
  {
   "cell_type": "code",
   "execution_count": null,
   "metadata": {},
   "outputs": [],
   "source": [
    "counts = Counter()\n",
    "for location in columns[\"location\"]:\n",
    "    parts = location.split(\"/\")\n",
    "    if len(parts) < 2:\n",
    "        continue\n",
    "    parts = tuple(p.strip() for p in parts[:3])\n",
    "    counts[parts] += 1\n",
    "total_counts = [c for _, c in counts.most_common()]"
   ]
  },
  {
   "cell_type": "code",
   "execution_count": null,
   "metadata": {},
   "outputs": [],
   "source": [
    "countries = Counter()\n",
    "regions = defaultdict(Counter)\n",
    "for location in columns[\"location\"]:\n",
    "    location = geo.gisaid_normalize(location)\n",
    "    parts = location.split(\" / \")\n",
    "    location = \" / \".join(parts[:3])\n",
    "    country = \" / \".join(parts[:2])\n",
    "    countries[country] += 1\n",
    "    regions[country][location] += 1\n",
    "print(\"Total Regions\")\n",
    "print(\"------------------------------------------------------\")\n",
    "for c, count in countries.most_common():\n",
    "    rs = \" \".join(str(v) for k, v in regions[c].most_common())\n",
    "    print(f\"{c}\\n{count}\\t{rs}\")"
   ]
  },
  {
   "cell_type": "code",
   "execution_count": null,
   "metadata": {},
   "outputs": [],
   "source": [
    "plt.figure(figsize=(8, 5))\n",
    "Y = total_counts\n",
    "X = torch.arange(1, 1 + len(Y))\n",
    "plt.plot(X, Y, \"k--\", label=\"total\")\n",
    "for c, count in countries.most_common():\n",
    "    Y = [v for k, v in regions[c].most_common()]\n",
    "    X = torch.arange(1, 1 + len(Y))\n",
    "    plt.plot(X, Y, alpha=0.5, label=c if len(Y) > 100 else None)\n",
    "plt.axhline(50, color=\"k\", linestyle=\":\", lw=1, label=\"threshold = 50\")\n",
    "plt.xscale(\"log\")\n",
    "plt.yscale(\"log\")\n",
    "plt.xlim(1, 1 + len(total_counts))\n",
    "plt.ylim(0.95, None)\n",
    "plt.legend(loc=\"upper right\")\n",
    "plt.title(\"Distribution of samples among regions\")\n",
    "plt.xlabel(\"Region Rank\")\n",
    "plt.ylabel(\"Number of samples\")\n",
    "plt.tight_layout()\n",
    "plt.savefig(\"paper/region_distribution.png\")"
   ]
  },
  {
   "cell_type": "code",
   "execution_count": null,
   "metadata": {},
   "outputs": [],
   "source": [
    "strain_counts = Counter(columns[\"lineage\"])\n",
    "for strain, count in strain_counts.most_common(20):\n",
    "    short = pangolin.compress(strain)\n",
    "    long = pangolin.decompress(strain)\n",
    "    assert strain == short, (strain, long)\n",
    "    if short == long:\n",
    "        print(f\"{count: >10d} {short}\")\n",
    "    else:\n",
    "        print(f\"{count: >10d} {short} (aka {long})\")"
   ]
  },
  {
   "cell_type": "code",
   "execution_count": null,
   "metadata": {},
   "outputs": [],
   "source": [
    "fine_countries = set()\n",
    "for parts, count in counts.items():\n",
    "    if count >= 5000:\n",
    "        fine_countries.add(parts[1])\n",
    "fine_countries = list(sorted(fine_countries))\n",
    "print(\"\\n\".join(fine_countries))"
   ]
  },
  {
   "cell_type": "code",
   "execution_count": null,
   "metadata": {},
   "outputs": [],
   "source": [
    "locations = Counter(columns[\"location\"])\n",
    "print(\"\\n\".join(f\"{c}\\t{p}\" for p, c in locations.most_common() if \"United Kingdom\" in p))"
   ]
  },
  {
   "cell_type": "code",
   "execution_count": null,
   "metadata": {},
   "outputs": [],
   "source": [
    "print(\"Europe:\", sum(1 for l in columns[\"location\"] if \"Europe\" in l))\n",
    "print(\"World - Europe:\", sum(1 for l in columns[\"location\"] if \"Europe\" not in l))"
   ]
  },
  {
   "cell_type": "markdown",
   "metadata": {},
   "source": [
    "## When were lineages born?"
   ]
  },
  {
   "cell_type": "code",
   "execution_count": null,
   "metadata": {},
   "outputs": [],
   "source": [
    "days = defaultdict(list)\n",
    "for lineage, day in zip(columns[\"lineage\"], columns[\"day\"]):\n",
    "    days[lineage].append(day)"
   ]
  },
  {
   "cell_type": "code",
   "execution_count": null,
   "metadata": {
    "scrolled": false
   },
   "outputs": [],
   "source": [
    "def plot_birth(lineage):\n",
    "    plt.figure(figsize=(6,2))\n",
    "    plt.hist(np.array(days[lineage]), bins=50)\n",
    "    plt.yscale(\"log\")\n",
    "    plt.ylabel(lineage)\n",
    "    plt.tight_layout()\n",
    "    plt.xlim(0, None)\n",
    "plot_birth(\"A\")\n",
    "plot_birth(\"B\")\n",
    "plot_birth(\"B.1\")\n",
    "plot_birth(\"B.1.1\")\n",
    "plot_birth(\"B.1.1.7\")\n",
    "plot_birth(\"B.1.617.2\")\n",
    "plot_birth(\"AY.4\")\n",
    "plot_birth(\"AY.4.2\")"
   ]
  },
  {
   "cell_type": "code",
   "execution_count": null,
   "metadata": {},
   "outputs": [],
   "source": [
    "pdf = torch.zeros(max(days) + 1).scatter_add(0, torch.tensor(days), torch.ones(len(days)))\n",
    "pdf /= pdf.sum()\n",
    "cdf = pdf.cumsum(0)"
   ]
  },
  {
   "cell_type": "code",
   "execution_count": null,
   "metadata": {},
   "outputs": [],
   "source": [
    "plt.plot(cdf)\n",
    "plt.yscale(\"log\")\n",
    "plt.title(\"CDF of B.1.1.7 observations\")"
   ]
  },
  {
   "cell_type": "markdown",
   "metadata": {},
   "source": [
    "## Explore count data"
   ]
  },
  {
   "cell_type": "code",
   "execution_count": null,
   "metadata": {},
   "outputs": [],
   "source": [
    "def load_data():\n",
    "    filename = \"results/mutrans.data.single.pt\"\n",
    "    if os.path.exists(filename):\n",
    "        dataset = torch.load(filename)\n",
    "    else:\n",
    "        dataset = mutrans.load_gisaid_data()\n",
    "        torch.save(dataset, filename)\n",
    "    dataset.update(mutrans.load_jhu_data(dataset))\n",
    "    return dataset\n",
    "\n",
    "dataset = load_data()\n",
    "locals().update(dataset)\n",
    "for k, v in sorted(dataset.items()):\n",
    "    if isinstance(v, torch.Tensor):\n",
    "        print(f\"{k} \\t{type(v).__name__} of shape {tuple(v.shape)}\")\n",
    "    else:\n",
    "        print(f\"{k} \\t{type(v).__name__} of size {len(v)}\")"
   ]
  },
  {
   "cell_type": "code",
   "execution_count": null,
   "metadata": {},
   "outputs": [],
   "source": [
    "daily_cases.shape"
   ]
  },
  {
   "cell_type": "code",
   "execution_count": null,
   "metadata": {},
   "outputs": [],
   "source": [
    "probs = weekly_clades + 1 / weekly_clades.size(-1)\n",
    "probs /= probs.sum(-1, True)\n",
    "logits = probs.log()\n",
    "logits -= logits.median(-1, True).values\n",
    "plt.hist(logits.reshape(-1).numpy(), bins=100)\n",
    "plt.yscale(\"symlog\");"
   ]
  },
  {
   "cell_type": "code",
   "execution_count": null,
   "metadata": {
    "scrolled": true
   },
   "outputs": [],
   "source": [
    "logits -= logits.mean(-1, True)\n",
    "plt.hist(logits.reshape(-1).numpy(), bins=100)\n",
    "plt.yscale(\"symlog\");"
   ]
  },
  {
   "cell_type": "markdown",
   "metadata": {},
   "source": [
    "## How heterogeneous are lineages?"
   ]
  },
  {
   "cell_type": "code",
   "execution_count": null,
   "metadata": {
    "scrolled": false
   },
   "outputs": [],
   "source": [
    "def plot_agreement(pairs):\n",
    "    M = int(len(pairs) ** 0.5 + 0.5)\n",
    "    N = int(math.ceil(len(pairs) / M))\n",
    "    assert len(pairs) <= M * N\n",
    "    fig, axes = plt.subplots(M, N, figsize=(2 * N, 2 * M + 0.5))\n",
    "    fig.suptitle(\"Mutation correlation between parent-child lineage pairs\", y=0.91)\n",
    "    pairs = iter(pairs)\n",
    "    for axe in axes:\n",
    "        for ax in axe:\n",
    "            ax.set_xticks(())\n",
    "            ax.set_yticks(())\n",
    "            ax.set_xlim(-0.05, 1.05)\n",
    "            ax.set_ylim(-0.05, 1.05)\n",
    "            try:\n",
    "                x, y = next(pairs)\n",
    "            except StopIteration:\n",
    "                continue\n",
    "            ax.set_xlabel(x)\n",
    "            ax.set_ylabel(y)\n",
    "            X = dataset[\"features\"][dataset[\"lineage_id\"][x]]\n",
    "            Y = dataset[\"features\"][dataset[\"lineage_id\"][y]]\n",
    "            ax.scatter(X.numpy(), Y.numpy(), alpha=0.3, lw=0)\n",
    "            X = (X - X.mean()) / X.std()\n",
    "            Y = (Y - Y.mean()) / Y.std()\n",
    "            ax.text(0.5, 0.5, \"{:0.3g}\".format((X * Y).mean()),\n",
    "                    va=\"center\", ha=\"center\")\n",
    "plot_agreement([\n",
    "    # Alpha\n",
    "    (\"A\", \"B\"),\n",
    "    (\"B\", \"B.1\"),\n",
    "    (\"B.1\", \"B.1.1\"),\n",
    "    (\"B.1.1\", \"B.1.1.7\"),\n",
    "    # Beta\n",
    "    (\"B.1\", \"B.1.351\"),\n",
    "    (\"B.1\", \"B.1.351.2\"),\n",
    "    (\"B.1\", \"B.1.351.3\"),\n",
    "    # Gamma\n",
    "    (\"B.1.1\", \"P.1\"),\n",
    "    (\"P.1\", \"P.1.1\"),\n",
    "    (\"P.1\", \"P.1.2\"),\n",
    "    # Delta\n",
    "    # (\"B.1.617\", \"B.1.617.1\"),\n",
    "    # (\"B.1.617\", \"B.1.617.2\"),\n",
    "    # (\"B.1.617\", \"B.1.617.3\"),\n",
    "    (\"B.1\", \"B.1.617.1\"),\n",
    "    (\"B.1\", \"B.1.617.2\"),\n",
    "    (\"B.1\", \"B.1.617.3\"),\n",
    "    (\"B.1.617.2\", \"AY.1\"),\n",
    "    # Epsilon\n",
    "    (\"B.1\", \"B.1.427\"),\n",
    "])"
   ]
  },
  {
   "cell_type": "code",
   "execution_count": null,
   "metadata": {},
   "outputs": [],
   "source": []
  }
 ],
 "metadata": {
  "kernelspec": {
   "display_name": "Python 3 (ipykernel)",
   "language": "python",
   "name": "python3"
  },
  "language_info": {
   "codemirror_mode": {
    "name": "ipython",
    "version": 3
   },
   "file_extension": ".py",
   "mimetype": "text/x-python",
   "name": "python",
   "nbconvert_exporter": "python",
   "pygments_lexer": "ipython3",
   "version": "3.9.1"
  }
 },
 "nbformat": 4,
 "nbformat_minor": 4
}
