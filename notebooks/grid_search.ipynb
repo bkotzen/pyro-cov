{
 "cells": [
  {
   "cell_type": "markdown",
   "metadata": {},
   "source": [
    "# Analyzing results of grid search\n",
    "\n",
    "This notebook assumes you've downloaded data and run a grid search experiment\n",
    "```sh\n",
    "make update  # many hours\n",
    "python mutrans.py --grid-search  # many hours\n",
    "```"
   ]
  },
  {
   "cell_type": "code",
   "execution_count": null,
   "metadata": {},
   "outputs": [],
   "source": [
    "import math\n",
    "import re\n",
    "import numpy as np\n",
    "import pandas as pd\n",
    "import matplotlib\n",
    "import matplotlib.pyplot as plt\n",
    "from pyrocov.util import pearson_correlation\n",
    "from pyrocov.plotting import force_apart\n",
    "\n",
    "matplotlib.rcParams[\"figure.dpi\"] = 200"
   ]
  },
  {
   "cell_type": "code",
   "execution_count": null,
   "metadata": {
    "scrolled": false
   },
   "outputs": [],
   "source": [
    "df = pd.read_csv(\"results/grid_search.tsv\", sep=\"\\t\")\n",
    "df = df.fillna(\"\")\n",
    "df"
   ]
  },
  {
   "cell_type": "code",
   "execution_count": null,
   "metadata": {},
   "outputs": [],
   "source": [
    "df.columns"
   ]
  },
  {
   "cell_type": "code",
   "execution_count": null,
   "metadata": {
    "scrolled": false
   },
   "outputs": [],
   "source": [
    "model_type = df[\"model_type\"].to_list()\n",
    "cond_data = df[\"cond_data\"].to_list()\n",
    "mutation_corr = df[\"mutation_corr\"].to_numpy()\n",
    "mutation_error = df[\"mutation_rmse\"].to_numpy() / df[\"mutation_stddev\"].to_numpy()\n",
    "mae_pred = df[\"England B.1.1.7 MAE\"].to_numpy()\n",
    "\n",
    "loss = df[\"loss\"].to_numpy()\n",
    "min_loss, max_loss = loss.min(), loss.max()\n",
    "assert (loss > 0).all(), \"you'll need to switch to symlog or sth\"\n",
    "loss = np.log(loss)\n",
    "loss -= loss.min()\n",
    "loss /= loss.max()\n",
    "R_alpha = df[\"R(B.1.1.7)/R(A)\"].to_numpy()\n",
    "R_delta = df[\"R(B.1.617.2)/R(A)\"].to_numpy()\n",
    "\n",
    "def plot_concordance(filenames=[], colorby=\"R\"):\n",
    "    legend = {}\n",
    "    def abbreviate_param(match):\n",
    "        k = match.group()[:-1]\n",
    "        v = k[0].upper()\n",
    "        legend[v] = k\n",
    "        return v\n",
    "    def abbreviate_sample(match):\n",
    "        k = match.group()[:-1]\n",
    "        v = k[0]\n",
    "        legend[v] = k\n",
    "        return v + \"꞊\"\n",
    "    fig, axes = plt.subplots(2, figsize=(8, 12))\n",
    "    for ax, X, Y, xlabel, ylabel in zip(\n",
    "        axes, [mutation_error, R_alpha], [mae_pred, R_delta],\n",
    "        [\n",
    "            # \"Pearson correlation of mutaitons\",\n",
    "            \"Cross-validation error of mutation coefficients   (lower is better)\",\n",
    "            \"R(α) / R(A)\"],\n",
    "        [\"England α portion MAE   (lower is better)\", \"R(δ) / R(A)\"]\n",
    "    ):\n",
    "        ax.scatter(X, Y, 30, loss, lw=0, alpha=0.8, cmap=\"coolwarm\")\n",
    "        ax.set_xlabel(xlabel)\n",
    "        ax.set_ylabel(ylabel)\n",
    "        \n",
    "        X_, Y_ = force_apart(X, Y, stepsize=2)\n",
    "        assert X_.dim() == 1\n",
    "        X_X = []\n",
    "        Y_Y = []\n",
    "        for x_, x, y_, y in zip(X_, X, Y_, Y):\n",
    "            X_X.extend([float(x_), float(x), None])\n",
    "            Y_Y.extend([float(y_), float(y), None])\n",
    "        ax.plot(X_X, Y_Y, \"k-\", lw=0.5, alpha=0.5, zorder=-10)\n",
    "        for x, y, mt, cd, l in zip(X_, Y_, model_type, cond_data, loss):\n",
    "            name = f\"{mt}-{cd}\"\n",
    "            name = re.sub(\"[a-z_]+-\", abbreviate_param, name)\n",
    "            name = re.sub(\"[a-z_]+=\", abbreviate_sample, name)\n",
    "            name = name.replace(\"-\", \"\")\n",
    "            ax.text(x, y, name, fontsize=7, va=\"center\", alpha=1 - 0.666 * l)\n",
    "            \n",
    "    axes[0].set_xscale(\"log\")\n",
    "    axes[0].set_yscale(\"log\")\n",
    "    axes[0].plot([], [], \"bo\", markeredgewidth=0, markersize=5, alpha=0.5,\n",
    "                 label=f\"loss={min_loss:0.2g} (better)\")\n",
    "    axes[0].plot([], [], \"ro\", markeredgewidth=0, markersize=5, alpha=0.5,\n",
    "                 label=f\"loss={max_loss:0.2g} (worse)\")\n",
    "    for k, v in sorted(legend.items()):\n",
    "        axes[0].plot([], [], \"wo\", label=f\"{k} = {v}\")\n",
    "    axes[0].legend(loc=\"upper right\", fontsize=\"small\")\n",
    "    min_max = [max(X.min(), Y.min()), min(X.max(), Y.max())]\n",
    "    axes[1].plot(min_max, min_max, \"k--\", alpha=0.2, zorder=-10)\n",
    "    plt.subplots_adjust(hspace=0.15)\n",
    "    for filename in filenames:\n",
    "        plt.savefig(filename)\n",
    "        \n",
    "plot_concordance([\"paper/grid_search.png\"])"
   ]
  },
  {
   "cell_type": "code",
   "execution_count": null,
   "metadata": {
    "scrolled": false
   },
   "outputs": [],
   "source": [
    "import torch\n",
    "grid = torch.load(\"results/mutrans.grid.pt\")\n",
    "\n",
    "def plot_mutation_agreements(grid):\n",
    "    fig, axes = plt.subplots(len(grid), 3, figsize=(8, 1 + 3 * len(grid)))\n",
    "    for axe, (name, holdouts) in zip(axes, sorted(grid.items())):\n",
    "        (name0, fit0), (name1, fit1), (name2, fit2) = holdouts.items()\n",
    "        pairs = [\n",
    "            [(name0, fit0), (name1, fit1)],\n",
    "            [(name0, fit0), (name2, fit2)],\n",
    "            [(name1, fit1), (name2, fit2)],\n",
    "        ]\n",
    "        means = [v[\"coef\"] * 0.01 for v in holdouts.values()]\n",
    "        x0 = min(mean.min().item() for mean in means)\n",
    "        x1 = max(mean.max().item() for mean in means)\n",
    "        lb = 1.05 * x0 - 0.05 * x1\n",
    "        ub = 1.05 * x1 - 0.05 * x0\n",
    "        axe[1].set_title(str(name))\n",
    "        axe[0].set_ylabel(str(name).replace(\"-\", \"\\n\").replace(\",\", \"\\n\"), fontsize=8)\n",
    "        for ax, ((name1, fit1), (name2, fit2)) in zip(axe, pairs):\n",
    "            mutations = sorted(set(fit1[\"mutations\"]) & set(fit2[\"mutations\"]))\n",
    "            means = []\n",
    "            for fit in (fit1, fit2):\n",
    "                m_to_i = {m: i for i, m in enumerate(fit[\"mutations\"])}\n",
    "                idx = torch.tensor([m_to_i[m] for m in mutations])\n",
    "                means.append(fit[\"coef\"])\n",
    "            ax.plot([lb, ub], [lb, ub], 'k--', alpha=0.3, zorder=-100)\n",
    "            ax.scatter(means[1].numpy(), means[0].numpy(), 30, alpha=0.3, lw=0, color=\"darkred\")\n",
    "            ax.axis(\"equal\")\n",
    "            ax.set_title(\"ρ = {:0.2g}\".format(pearson_correlation(means[0], means[1])))\n",
    "plot_mutation_agreements(grid)"
   ]
  },
  {
   "cell_type": "markdown",
   "metadata": {},
   "source": [
    "## Debugging plotting code"
   ]
  },
  {
   "cell_type": "code",
   "execution_count": null,
   "metadata": {
    "scrolled": false
   },
   "outputs": [],
   "source": [
    "from pyrocov.plotting import force_apart\n",
    "torch.manual_seed(1234567890)\n",
    "X, Y = torch.randn(2, 200)\n",
    "X_, Y_ = force_apart(X, Y)\n",
    "plt.plot(X, Y, \"ko\")\n",
    "for i in range(8):\n",
    "    plt.plot(X_ + i / 20, Y_, \"r.\")\n",
    "X_X = []\n",
    "Y_Y = []\n",
    "for x_, x, y_, y in zip(X_, X, Y_, Y):\n",
    "    X_X.extend([float(x_), float(x), None])\n",
    "    Y_Y.extend([float(y_), float(y), None])\n",
    "plt.plot(X_X, Y_Y, \"k-\", lw=0.5, alpha=0.5, zorder=-10);"
   ]
  },
  {
   "cell_type": "code",
   "execution_count": null,
   "metadata": {},
   "outputs": [],
   "source": []
  }
 ],
 "metadata": {
  "kernelspec": {
   "display_name": "Python 3",
   "language": "python",
   "name": "python3"
  },
  "language_info": {
   "codemirror_mode": {
    "name": "ipython",
    "version": 3
   },
   "file_extension": ".py",
   "mimetype": "text/x-python",
   "name": "python",
   "nbconvert_exporter": "python",
   "pygments_lexer": "ipython3",
   "version": "3.6.12"
  }
 },
 "nbformat": 4,
 "nbformat_minor": 4
}
