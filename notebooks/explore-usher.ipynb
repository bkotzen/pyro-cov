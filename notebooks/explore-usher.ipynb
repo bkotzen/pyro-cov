{
 "cells": [
  {
   "cell_type": "markdown",
   "id": "039ed797",
   "metadata": {},
   "source": [
    "# Usher trees and metadata\n",
    "\n",
    "This notebook explores data available [from the usher team](http://hgdownload.soe.ucsc.edu/goldenPath/wuhCor1/UShER_SARS-CoV-2/). Before running this notebook, run\n",
    "```sh\n",
    "scripts/pull_usher.sh  # takes <1 minute\n",
    "```"
   ]
  },
  {
   "cell_type": "code",
   "execution_count": 26,
   "id": "ef42f3d5",
   "metadata": {},
   "outputs": [],
   "source": [
    "import os\n",
    "import pickle\n",
    "from collections import Counter, defaultdict\n",
    "import pandas as pd\n",
    "import torch\n",
    "import matplotlib\n",
    "import matplotlib.pyplot as plt\n",
    "\n",
    "matplotlib.rcParams[\"figure.dpi\"] = 200\n",
    "matplotlib.rcParams[\"axes.edgecolor\"] = \"gray\"\n",
    "matplotlib.rcParams[\"figure.facecolor\"] = \"white\""
   ]
  },
  {
   "cell_type": "code",
   "execution_count": 2,
   "id": "b7347ec5",
   "metadata": {},
   "outputs": [
    {
     "data": {
      "text/html": [
       "<div>\n",
       "<style scoped>\n",
       "    .dataframe tbody tr th:only-of-type {\n",
       "        vertical-align: middle;\n",
       "    }\n",
       "\n",
       "    .dataframe tbody tr th {\n",
       "        vertical-align: top;\n",
       "    }\n",
       "\n",
       "    .dataframe thead th {\n",
       "        text-align: right;\n",
       "    }\n",
       "</style>\n",
       "<table border=\"1\" class=\"dataframe\">\n",
       "  <thead>\n",
       "    <tr style=\"text-align: right;\">\n",
       "      <th></th>\n",
       "      <th>strain</th>\n",
       "      <th>genbank_accession</th>\n",
       "      <th>date</th>\n",
       "      <th>country</th>\n",
       "      <th>host</th>\n",
       "      <th>completeness</th>\n",
       "      <th>length</th>\n",
       "      <th>Nextstrain_clade</th>\n",
       "      <th>pangolin_lineage</th>\n",
       "      <th>Nextstrain_clade_usher</th>\n",
       "      <th>pango_lineage_usher</th>\n",
       "    </tr>\n",
       "  </thead>\n",
       "  <tbody>\n",
       "    <tr>\n",
       "      <th>0</th>\n",
       "      <td>100002|LR824035.1|2020-03-05</td>\n",
       "      <td>LR824035.1</td>\n",
       "      <td>2020-03-05</td>\n",
       "      <td>Switzerland</td>\n",
       "      <td>Homo sapiens</td>\n",
       "      <td>NaN</td>\n",
       "      <td>29903</td>\n",
       "      <td>20A</td>\n",
       "      <td>B.1</td>\n",
       "      <td>20A</td>\n",
       "      <td>B.1</td>\n",
       "    </tr>\n",
       "    <tr>\n",
       "      <th>1</th>\n",
       "      <td>100003|LR824038.1|2020-03-04</td>\n",
       "      <td>LR824038.1</td>\n",
       "      <td>2020-03-04</td>\n",
       "      <td>Switzerland</td>\n",
       "      <td>Homo sapiens</td>\n",
       "      <td>NaN</td>\n",
       "      <td>29903</td>\n",
       "      <td>20B</td>\n",
       "      <td>B.1.1</td>\n",
       "      <td>20B</td>\n",
       "      <td>B.1.1</td>\n",
       "    </tr>\n",
       "    <tr>\n",
       "      <th>2</th>\n",
       "      <td>100004|LR824040.1|2020-03-06</td>\n",
       "      <td>LR824040.1</td>\n",
       "      <td>2020-03-06</td>\n",
       "      <td>Switzerland</td>\n",
       "      <td>Homo sapiens</td>\n",
       "      <td>NaN</td>\n",
       "      <td>29903</td>\n",
       "      <td>20A</td>\n",
       "      <td>B.1</td>\n",
       "      <td>20A</td>\n",
       "      <td>B.1</td>\n",
       "    </tr>\n",
       "    <tr>\n",
       "      <th>3</th>\n",
       "      <td>100005|LR824037.1|2020-03-06</td>\n",
       "      <td>LR824037.1</td>\n",
       "      <td>2020-03-06</td>\n",
       "      <td>Switzerland</td>\n",
       "      <td>Homo sapiens</td>\n",
       "      <td>NaN</td>\n",
       "      <td>29903</td>\n",
       "      <td>20A</td>\n",
       "      <td>B.1</td>\n",
       "      <td>20A</td>\n",
       "      <td>B.1</td>\n",
       "    </tr>\n",
       "    <tr>\n",
       "      <th>4</th>\n",
       "      <td>100006|LR824041.1|2020-03-06</td>\n",
       "      <td>LR824041.1</td>\n",
       "      <td>2020-03-06</td>\n",
       "      <td>Switzerland</td>\n",
       "      <td>Homo sapiens</td>\n",
       "      <td>NaN</td>\n",
       "      <td>29903</td>\n",
       "      <td>20A</td>\n",
       "      <td>B.1</td>\n",
       "      <td>20A</td>\n",
       "      <td>B.1</td>\n",
       "    </tr>\n",
       "    <tr>\n",
       "      <th>...</th>\n",
       "      <td>...</td>\n",
       "      <td>...</td>\n",
       "      <td>...</td>\n",
       "      <td>...</td>\n",
       "      <td>...</td>\n",
       "      <td>...</td>\n",
       "      <td>...</td>\n",
       "      <td>...</td>\n",
       "      <td>...</td>\n",
       "      <td>...</td>\n",
       "      <td>...</td>\n",
       "    </tr>\n",
       "    <tr>\n",
       "      <th>3559016</th>\n",
       "      <td>tiger/USA/Tiger3-VA/2021|MZ305031.1|2021-04-13</td>\n",
       "      <td>MZ305031.1</td>\n",
       "      <td>2021-04-13</td>\n",
       "      <td>USA</td>\n",
       "      <td>Panthera tigris</td>\n",
       "      <td>NaN</td>\n",
       "      <td>29712</td>\n",
       "      <td>20I (Alpha, V1)</td>\n",
       "      <td>B.1.1.7</td>\n",
       "      <td>20I (Alpha,V1)</td>\n",
       "      <td>B.1.1.7</td>\n",
       "    </tr>\n",
       "    <tr>\n",
       "      <th>3559017</th>\n",
       "      <td>tiger/USA/tiger-2-040420/2020|MT704313.1|2020-...</td>\n",
       "      <td>MT704313.1</td>\n",
       "      <td>2020-04-04</td>\n",
       "      <td>USA</td>\n",
       "      <td>Panthera tigris</td>\n",
       "      <td>NaN</td>\n",
       "      <td>29872</td>\n",
       "      <td>20C</td>\n",
       "      <td>B.1</td>\n",
       "      <td>20C</td>\n",
       "      <td>B.1</td>\n",
       "    </tr>\n",
       "    <tr>\n",
       "      <th>3559018</th>\n",
       "      <td>tiger/USA/tiger-3-040420/2020|MT704315.1|2020-...</td>\n",
       "      <td>MT704315.1</td>\n",
       "      <td>2020-04-04</td>\n",
       "      <td>USA</td>\n",
       "      <td>Panthera tigris</td>\n",
       "      <td>NaN</td>\n",
       "      <td>29863</td>\n",
       "      <td>20C</td>\n",
       "      <td>B.1</td>\n",
       "      <td>20C</td>\n",
       "      <td>B.1</td>\n",
       "    </tr>\n",
       "    <tr>\n",
       "      <th>3559019</th>\n",
       "      <td>tiger/USA/tiger-4-040420/2020|MT704316.1|2020-...</td>\n",
       "      <td>MT704316.1</td>\n",
       "      <td>2020-04-04</td>\n",
       "      <td>USA</td>\n",
       "      <td>Panthera tigris</td>\n",
       "      <td>NaN</td>\n",
       "      <td>29834</td>\n",
       "      <td>20C</td>\n",
       "      <td>B.1</td>\n",
       "      <td>20C</td>\n",
       "      <td>B.1</td>\n",
       "    </tr>\n",
       "    <tr>\n",
       "      <th>3559020</th>\n",
       "      <td>wt-S614G_ID#49_vial_2|OV076251.1|2021</td>\n",
       "      <td>OV076251.1</td>\n",
       "      <td>2021</td>\n",
       "      <td>Germany</td>\n",
       "      <td>NaN</td>\n",
       "      <td>NaN</td>\n",
       "      <td>29889</td>\n",
       "      <td>19A</td>\n",
       "      <td>B</td>\n",
       "      <td>19A</td>\n",
       "      <td>B</td>\n",
       "    </tr>\n",
       "  </tbody>\n",
       "</table>\n",
       "<p>3559021 rows × 11 columns</p>\n",
       "</div>"
      ],
      "text/plain": [
       "                                                    strain genbank_accession  \\\n",
       "0                             100002|LR824035.1|2020-03-05        LR824035.1   \n",
       "1                             100003|LR824038.1|2020-03-04        LR824038.1   \n",
       "2                             100004|LR824040.1|2020-03-06        LR824040.1   \n",
       "3                             100005|LR824037.1|2020-03-06        LR824037.1   \n",
       "4                             100006|LR824041.1|2020-03-06        LR824041.1   \n",
       "...                                                    ...               ...   \n",
       "3559016     tiger/USA/Tiger3-VA/2021|MZ305031.1|2021-04-13        MZ305031.1   \n",
       "3559017  tiger/USA/tiger-2-040420/2020|MT704313.1|2020-...        MT704313.1   \n",
       "3559018  tiger/USA/tiger-3-040420/2020|MT704315.1|2020-...        MT704315.1   \n",
       "3559019  tiger/USA/tiger-4-040420/2020|MT704316.1|2020-...        MT704316.1   \n",
       "3559020              wt-S614G_ID#49_vial_2|OV076251.1|2021        OV076251.1   \n",
       "\n",
       "               date      country             host completeness length  \\\n",
       "0        2020-03-05  Switzerland     Homo sapiens          NaN  29903   \n",
       "1        2020-03-04  Switzerland     Homo sapiens          NaN  29903   \n",
       "2        2020-03-06  Switzerland     Homo sapiens          NaN  29903   \n",
       "3        2020-03-06  Switzerland     Homo sapiens          NaN  29903   \n",
       "4        2020-03-06  Switzerland     Homo sapiens          NaN  29903   \n",
       "...             ...          ...              ...          ...    ...   \n",
       "3559016  2021-04-13          USA  Panthera tigris          NaN  29712   \n",
       "3559017  2020-04-04          USA  Panthera tigris          NaN  29872   \n",
       "3559018  2020-04-04          USA  Panthera tigris          NaN  29863   \n",
       "3559019  2020-04-04          USA  Panthera tigris          NaN  29834   \n",
       "3559020        2021      Germany              NaN          NaN  29889   \n",
       "\n",
       "        Nextstrain_clade pangolin_lineage Nextstrain_clade_usher  \\\n",
       "0                    20A              B.1                    20A   \n",
       "1                    20B            B.1.1                    20B   \n",
       "2                    20A              B.1                    20A   \n",
       "3                    20A              B.1                    20A   \n",
       "4                    20A              B.1                    20A   \n",
       "...                  ...              ...                    ...   \n",
       "3559016  20I (Alpha, V1)          B.1.1.7         20I (Alpha,V1)   \n",
       "3559017              20C              B.1                    20C   \n",
       "3559018              20C              B.1                    20C   \n",
       "3559019              20C              B.1                    20C   \n",
       "3559020              19A                B                    19A   \n",
       "\n",
       "        pango_lineage_usher  \n",
       "0                       B.1  \n",
       "1                     B.1.1  \n",
       "2                       B.1  \n",
       "3                       B.1  \n",
       "4                       B.1  \n",
       "...                     ...  \n",
       "3559016             B.1.1.7  \n",
       "3559017                 B.1  \n",
       "3559018                 B.1  \n",
       "3559019                 B.1  \n",
       "3559020                   B  \n",
       "\n",
       "[3559021 rows x 11 columns]"
      ]
     },
     "execution_count": 2,
     "metadata": {},
     "output_type": "execute_result"
    }
   ],
   "source": [
    "df = pd.read_csv(\"results/usher/metadata.tsv\", sep=\"\\t\", dtype=str)\n",
    "df"
   ]
  },
  {
   "cell_type": "code",
   "execution_count": 3,
   "id": "3e99b40b",
   "metadata": {},
   "outputs": [
    {
     "data": {
      "text/html": [
       "<div>\n",
       "<style scoped>\n",
       "    .dataframe tbody tr th:only-of-type {\n",
       "        vertical-align: middle;\n",
       "    }\n",
       "\n",
       "    .dataframe tbody tr th {\n",
       "        vertical-align: top;\n",
       "    }\n",
       "\n",
       "    .dataframe thead th {\n",
       "        text-align: right;\n",
       "    }\n",
       "</style>\n",
       "<table border=\"1\" class=\"dataframe\">\n",
       "  <thead>\n",
       "    <tr style=\"text-align: right;\">\n",
       "      <th></th>\n",
       "      <th>strain</th>\n",
       "      <th>virus</th>\n",
       "      <th>gisaid_epi_isl</th>\n",
       "      <th>genbank_accession</th>\n",
       "      <th>sra_accession</th>\n",
       "      <th>date</th>\n",
       "      <th>region</th>\n",
       "      <th>country</th>\n",
       "      <th>division</th>\n",
       "      <th>location</th>\n",
       "      <th>...</th>\n",
       "      <th>QC_mixed_sites</th>\n",
       "      <th>QC_rare_mutations</th>\n",
       "      <th>QC_snp_clusters</th>\n",
       "      <th>QC_frame_shifts</th>\n",
       "      <th>QC_stop_codons</th>\n",
       "      <th>frame_shifts</th>\n",
       "      <th>insertions</th>\n",
       "      <th>substitutions</th>\n",
       "      <th>aaSubstitutions</th>\n",
       "      <th>clock_deviation</th>\n",
       "    </tr>\n",
       "  </thead>\n",
       "  <tbody>\n",
       "    <tr>\n",
       "      <th>0</th>\n",
       "      <td>?</td>\n",
       "      <td>ncov</td>\n",
       "      <td>EPI_ISL_1333564</td>\n",
       "      <td>OU089159</td>\n",
       "      <td>ERR5536607</td>\n",
       "      <td>?</td>\n",
       "      <td>Europe</td>\n",
       "      <td>United Kingdom</td>\n",
       "      <td>?</td>\n",
       "      <td>NaN</td>\n",
       "      <td>...</td>\n",
       "      <td>good</td>\n",
       "      <td>good</td>\n",
       "      <td>good</td>\n",
       "      <td>NaN</td>\n",
       "      <td>NaN</td>\n",
       "      <td>NaN</td>\n",
       "      <td>23584:CAGACT</td>\n",
       "      <td>T1947C,C3037T,C3587T,C3927T,A8081C,C14408T,G15...</td>\n",
       "      <td>ORF1a:V561A,ORF1a:H1108Y,ORF1a:S1221L,ORF1a:M2...</td>\n",
       "      <td>?</td>\n",
       "    </tr>\n",
       "    <tr>\n",
       "      <th>1</th>\n",
       "      <td>ARG/Cordoba-1006-155/2020</td>\n",
       "      <td>ncov</td>\n",
       "      <td>?</td>\n",
       "      <td>MW553298</td>\n",
       "      <td>NaN</td>\n",
       "      <td>2020-06-04</td>\n",
       "      <td>South America</td>\n",
       "      <td>Argentina</td>\n",
       "      <td>Argentina</td>\n",
       "      <td>NaN</td>\n",
       "      <td>...</td>\n",
       "      <td>good</td>\n",
       "      <td>good</td>\n",
       "      <td>good</td>\n",
       "      <td>NaN</td>\n",
       "      <td>NaN</td>\n",
       "      <td>NaN</td>\n",
       "      <td>NaN</td>\n",
       "      <td>C241T,C3037T,C3261T,C9711T,C14408T,C17012T,A20...</td>\n",
       "      <td>ORF1a:T999I,ORF1a:S3149F,ORF1b:P314L,ORF1b:S11...</td>\n",
       "      <td>4.0</td>\n",
       "    </tr>\n",
       "    <tr>\n",
       "      <th>2</th>\n",
       "      <td>ARG/Cordoba-1083-6/2020</td>\n",
       "      <td>ncov</td>\n",
       "      <td>?</td>\n",
       "      <td>MW553296</td>\n",
       "      <td>NaN</td>\n",
       "      <td>2020-06-04</td>\n",
       "      <td>South America</td>\n",
       "      <td>Argentina</td>\n",
       "      <td>Argentina</td>\n",
       "      <td>NaN</td>\n",
       "      <td>...</td>\n",
       "      <td>good</td>\n",
       "      <td>good</td>\n",
       "      <td>good</td>\n",
       "      <td>NaN</td>\n",
       "      <td>NaN</td>\n",
       "      <td>NaN</td>\n",
       "      <td>NaN</td>\n",
       "      <td>C241T,C3037T,C3261T,C9711T,C14408T,C17012T,A20...</td>\n",
       "      <td>ORF1a:T999I,ORF1a:S3149F,ORF1b:P314L,ORF1b:S11...</td>\n",
       "      <td>5.0</td>\n",
       "    </tr>\n",
       "    <tr>\n",
       "      <th>3</th>\n",
       "      <td>ARG/Cordoba-11300-61/2020</td>\n",
       "      <td>ncov</td>\n",
       "      <td>?</td>\n",
       "      <td>MW553301</td>\n",
       "      <td>NaN</td>\n",
       "      <td>2020-06-04</td>\n",
       "      <td>South America</td>\n",
       "      <td>Argentina</td>\n",
       "      <td>Argentina</td>\n",
       "      <td>NaN</td>\n",
       "      <td>...</td>\n",
       "      <td>good</td>\n",
       "      <td>good</td>\n",
       "      <td>good</td>\n",
       "      <td>NaN</td>\n",
       "      <td>NaN</td>\n",
       "      <td>NaN</td>\n",
       "      <td>NaN</td>\n",
       "      <td>C241T,C3037T,C3261T,C9711T,C14408T,C17012T,A20...</td>\n",
       "      <td>ORF1a:T999I,ORF1a:S3149F,ORF1b:P314L,ORF1b:S11...</td>\n",
       "      <td>2.0</td>\n",
       "    </tr>\n",
       "    <tr>\n",
       "      <th>4</th>\n",
       "      <td>ARG/Cordoba-11301-61/2020</td>\n",
       "      <td>ncov</td>\n",
       "      <td>?</td>\n",
       "      <td>MW553314</td>\n",
       "      <td>NaN</td>\n",
       "      <td>2020-06-04</td>\n",
       "      <td>South America</td>\n",
       "      <td>Argentina</td>\n",
       "      <td>Argentina</td>\n",
       "      <td>NaN</td>\n",
       "      <td>...</td>\n",
       "      <td>good</td>\n",
       "      <td>good</td>\n",
       "      <td>good</td>\n",
       "      <td>NaN</td>\n",
       "      <td>NaN</td>\n",
       "      <td>NaN</td>\n",
       "      <td>NaN</td>\n",
       "      <td>C241T,C3037T,C3261T,C9711T,C14408T,C17012T,A20...</td>\n",
       "      <td>ORF1a:T999I,ORF1a:S3149F,ORF1b:P314L,ORF1b:S11...</td>\n",
       "      <td>4.0</td>\n",
       "    </tr>\n",
       "    <tr>\n",
       "      <th>...</th>\n",
       "      <td>...</td>\n",
       "      <td>...</td>\n",
       "      <td>...</td>\n",
       "      <td>...</td>\n",
       "      <td>...</td>\n",
       "      <td>...</td>\n",
       "      <td>...</td>\n",
       "      <td>...</td>\n",
       "      <td>...</td>\n",
       "      <td>...</td>\n",
       "      <td>...</td>\n",
       "      <td>...</td>\n",
       "      <td>...</td>\n",
       "      <td>...</td>\n",
       "      <td>...</td>\n",
       "      <td>...</td>\n",
       "      <td>...</td>\n",
       "      <td>...</td>\n",
       "      <td>...</td>\n",
       "      <td>...</td>\n",
       "      <td>...</td>\n",
       "    </tr>\n",
       "    <tr>\n",
       "      <th>3244157</th>\n",
       "      <td>mink/USA/WI-CDC-3892924-001/2020</td>\n",
       "      <td>ncov</td>\n",
       "      <td>?</td>\n",
       "      <td>MW626382</td>\n",
       "      <td>NaN</td>\n",
       "      <td>2020-10-15</td>\n",
       "      <td>North America</td>\n",
       "      <td>USA</td>\n",
       "      <td>USA</td>\n",
       "      <td>NaN</td>\n",
       "      <td>...</td>\n",
       "      <td>good</td>\n",
       "      <td>good</td>\n",
       "      <td>good</td>\n",
       "      <td>ORF6:23-62</td>\n",
       "      <td>NaN</td>\n",
       "      <td>ORF6:23-62</td>\n",
       "      <td>NaN</td>\n",
       "      <td>C241T,C1059T,C3037T,A5877G,A10875G,T11968C,C14...</td>\n",
       "      <td>N:S194L,N:K355N,ORF1a:T265I,ORF1a:N1871S,ORF1a...</td>\n",
       "      <td>-1.0</td>\n",
       "    </tr>\n",
       "    <tr>\n",
       "      <th>3244158</th>\n",
       "      <td>mink/USA/WI-CDC-3892928-001/2020</td>\n",
       "      <td>ncov</td>\n",
       "      <td>EPI_ISL_1014952</td>\n",
       "      <td>MW626383</td>\n",
       "      <td>NaN</td>\n",
       "      <td>2020-10-15</td>\n",
       "      <td>North America</td>\n",
       "      <td>USA</td>\n",
       "      <td>USA</td>\n",
       "      <td>NaN</td>\n",
       "      <td>...</td>\n",
       "      <td>good</td>\n",
       "      <td>good</td>\n",
       "      <td>good</td>\n",
       "      <td>NaN</td>\n",
       "      <td>NaN</td>\n",
       "      <td>NaN</td>\n",
       "      <td>NaN</td>\n",
       "      <td>C241T,C1059T,C3037T,A5877G,A10875G,T11968C,C14...</td>\n",
       "      <td>N:S194L,N:K355N,ORF1a:T265I,ORF1a:N1871S,ORF1a...</td>\n",
       "      <td>-1.0</td>\n",
       "    </tr>\n",
       "    <tr>\n",
       "      <th>3244159</th>\n",
       "      <td>mink/USA/WI-CDC-3892938-001/2020</td>\n",
       "      <td>ncov</td>\n",
       "      <td>EPI_ISL_1014953</td>\n",
       "      <td>MW626384</td>\n",
       "      <td>NaN</td>\n",
       "      <td>2020-10-15</td>\n",
       "      <td>North America</td>\n",
       "      <td>USA</td>\n",
       "      <td>USA</td>\n",
       "      <td>NaN</td>\n",
       "      <td>...</td>\n",
       "      <td>good</td>\n",
       "      <td>good</td>\n",
       "      <td>good</td>\n",
       "      <td>NaN</td>\n",
       "      <td>NaN</td>\n",
       "      <td>NaN</td>\n",
       "      <td>NaN</td>\n",
       "      <td>C241T,C1059T,C2675T,C3037T,A5877G,A10875G,T119...</td>\n",
       "      <td>N:S194L,N:K355N,ORF1a:T265I,ORF1a:P804S,ORF1a:...</td>\n",
       "      <td>1.0</td>\n",
       "    </tr>\n",
       "    <tr>\n",
       "      <th>3244160</th>\n",
       "      <td>mouse/CHN/MP7/2021</td>\n",
       "      <td>ncov</td>\n",
       "      <td>?</td>\n",
       "      <td>OM062573</td>\n",
       "      <td>NaN</td>\n",
       "      <td>2021-05-01</td>\n",
       "      <td>Asia</td>\n",
       "      <td>China</td>\n",
       "      <td>Beijing</td>\n",
       "      <td>NaN</td>\n",
       "      <td>...</td>\n",
       "      <td>good</td>\n",
       "      <td>good</td>\n",
       "      <td>good</td>\n",
       "      <td>NaN</td>\n",
       "      <td>NaN</td>\n",
       "      <td>NaN</td>\n",
       "      <td>NaN</td>\n",
       "      <td>T3C,G174T,C241T,C1059T,A2692T,C3037T,C3817T,C3...</td>\n",
       "      <td>E:T30I,E:P71L,N:T205I,ORF1a:T265I,ORF1a:P1220L...</td>\n",
       "      <td>0.0</td>\n",
       "    </tr>\n",
       "    <tr>\n",
       "      <th>3244161</th>\n",
       "      <td>tiger/NY/040420/2020</td>\n",
       "      <td>ncov</td>\n",
       "      <td>?</td>\n",
       "      <td>MT365033</td>\n",
       "      <td>NaN</td>\n",
       "      <td>2020-04-02</td>\n",
       "      <td>North America</td>\n",
       "      <td>USA</td>\n",
       "      <td>New York</td>\n",
       "      <td>NaN</td>\n",
       "      <td>...</td>\n",
       "      <td>good</td>\n",
       "      <td>good</td>\n",
       "      <td>good</td>\n",
       "      <td>NaN</td>\n",
       "      <td>NaN</td>\n",
       "      <td>NaN</td>\n",
       "      <td>NaN</td>\n",
       "      <td>C241T,C1059T,C3037T,C14408T,A23403G,G25563T</td>\n",
       "      <td>ORF1a:T265I,ORF1b:P314L,ORF3a:Q57H,S:D614G</td>\n",
       "      <td>0.0</td>\n",
       "    </tr>\n",
       "  </tbody>\n",
       "</table>\n",
       "<p>3244162 rows × 44 columns</p>\n",
       "</div>"
      ],
      "text/plain": [
       "                                   strain virus   gisaid_epi_isl  \\\n",
       "0                                       ?  ncov  EPI_ISL_1333564   \n",
       "1               ARG/Cordoba-1006-155/2020  ncov                ?   \n",
       "2                 ARG/Cordoba-1083-6/2020  ncov                ?   \n",
       "3               ARG/Cordoba-11300-61/2020  ncov                ?   \n",
       "4               ARG/Cordoba-11301-61/2020  ncov                ?   \n",
       "...                                   ...   ...              ...   \n",
       "3244157  mink/USA/WI-CDC-3892924-001/2020  ncov                ?   \n",
       "3244158  mink/USA/WI-CDC-3892928-001/2020  ncov  EPI_ISL_1014952   \n",
       "3244159  mink/USA/WI-CDC-3892938-001/2020  ncov  EPI_ISL_1014953   \n",
       "3244160                mouse/CHN/MP7/2021  ncov                ?   \n",
       "3244161              tiger/NY/040420/2020  ncov                ?   \n",
       "\n",
       "        genbank_accession sra_accession        date         region  \\\n",
       "0                OU089159    ERR5536607           ?         Europe   \n",
       "1                MW553298           NaN  2020-06-04  South America   \n",
       "2                MW553296           NaN  2020-06-04  South America   \n",
       "3                MW553301           NaN  2020-06-04  South America   \n",
       "4                MW553314           NaN  2020-06-04  South America   \n",
       "...                   ...           ...         ...            ...   \n",
       "3244157          MW626382           NaN  2020-10-15  North America   \n",
       "3244158          MW626383           NaN  2020-10-15  North America   \n",
       "3244159          MW626384           NaN  2020-10-15  North America   \n",
       "3244160          OM062573           NaN  2021-05-01           Asia   \n",
       "3244161          MT365033           NaN  2020-04-02  North America   \n",
       "\n",
       "                country   division location  ... QC_mixed_sites  \\\n",
       "0        United Kingdom          ?      NaN  ...           good   \n",
       "1             Argentina  Argentina      NaN  ...           good   \n",
       "2             Argentina  Argentina      NaN  ...           good   \n",
       "3             Argentina  Argentina      NaN  ...           good   \n",
       "4             Argentina  Argentina      NaN  ...           good   \n",
       "...                 ...        ...      ...  ...            ...   \n",
       "3244157             USA        USA      NaN  ...           good   \n",
       "3244158             USA        USA      NaN  ...           good   \n",
       "3244159             USA        USA      NaN  ...           good   \n",
       "3244160           China    Beijing      NaN  ...           good   \n",
       "3244161             USA   New York      NaN  ...           good   \n",
       "\n",
       "        QC_rare_mutations QC_snp_clusters QC_frame_shifts QC_stop_codons  \\\n",
       "0                    good            good             NaN            NaN   \n",
       "1                    good            good             NaN            NaN   \n",
       "2                    good            good             NaN            NaN   \n",
       "3                    good            good             NaN            NaN   \n",
       "4                    good            good             NaN            NaN   \n",
       "...                   ...             ...             ...            ...   \n",
       "3244157              good            good      ORF6:23-62            NaN   \n",
       "3244158              good            good             NaN            NaN   \n",
       "3244159              good            good             NaN            NaN   \n",
       "3244160              good            good             NaN            NaN   \n",
       "3244161              good            good             NaN            NaN   \n",
       "\n",
       "        frame_shifts    insertions  \\\n",
       "0                NaN  23584:CAGACT   \n",
       "1                NaN           NaN   \n",
       "2                NaN           NaN   \n",
       "3                NaN           NaN   \n",
       "4                NaN           NaN   \n",
       "...              ...           ...   \n",
       "3244157   ORF6:23-62           NaN   \n",
       "3244158          NaN           NaN   \n",
       "3244159          NaN           NaN   \n",
       "3244160          NaN           NaN   \n",
       "3244161          NaN           NaN   \n",
       "\n",
       "                                             substitutions  \\\n",
       "0        T1947C,C3037T,C3587T,C3927T,A8081C,C14408T,G15...   \n",
       "1        C241T,C3037T,C3261T,C9711T,C14408T,C17012T,A20...   \n",
       "2        C241T,C3037T,C3261T,C9711T,C14408T,C17012T,A20...   \n",
       "3        C241T,C3037T,C3261T,C9711T,C14408T,C17012T,A20...   \n",
       "4        C241T,C3037T,C3261T,C9711T,C14408T,C17012T,A20...   \n",
       "...                                                    ...   \n",
       "3244157  C241T,C1059T,C3037T,A5877G,A10875G,T11968C,C14...   \n",
       "3244158  C241T,C1059T,C3037T,A5877G,A10875G,T11968C,C14...   \n",
       "3244159  C241T,C1059T,C2675T,C3037T,A5877G,A10875G,T119...   \n",
       "3244160  T3C,G174T,C241T,C1059T,A2692T,C3037T,C3817T,C3...   \n",
       "3244161        C241T,C1059T,C3037T,C14408T,A23403G,G25563T   \n",
       "\n",
       "                                           aaSubstitutions clock_deviation  \n",
       "0        ORF1a:V561A,ORF1a:H1108Y,ORF1a:S1221L,ORF1a:M2...               ?  \n",
       "1        ORF1a:T999I,ORF1a:S3149F,ORF1b:P314L,ORF1b:S11...             4.0  \n",
       "2        ORF1a:T999I,ORF1a:S3149F,ORF1b:P314L,ORF1b:S11...             5.0  \n",
       "3        ORF1a:T999I,ORF1a:S3149F,ORF1b:P314L,ORF1b:S11...             2.0  \n",
       "4        ORF1a:T999I,ORF1a:S3149F,ORF1b:P314L,ORF1b:S11...             4.0  \n",
       "...                                                    ...             ...  \n",
       "3244157  N:S194L,N:K355N,ORF1a:T265I,ORF1a:N1871S,ORF1a...            -1.0  \n",
       "3244158  N:S194L,N:K355N,ORF1a:T265I,ORF1a:N1871S,ORF1a...            -1.0  \n",
       "3244159  N:S194L,N:K355N,ORF1a:T265I,ORF1a:P804S,ORF1a:...             1.0  \n",
       "3244160  E:T30I,E:P71L,N:T205I,ORF1a:T265I,ORF1a:P1220L...             0.0  \n",
       "3244161         ORF1a:T265I,ORF1b:P314L,ORF3a:Q57H,S:D614G             0.0  \n",
       "\n",
       "[3244162 rows x 44 columns]"
      ]
     },
     "execution_count": 3,
     "metadata": {},
     "output_type": "execute_result"
    }
   ],
   "source": [
    "df2 = pd.read_csv(\"results/nextstrain/metadata.tsv\", sep=\"\\t\", dtype=str)\n",
    "df2"
   ]
  },
  {
   "cell_type": "code",
   "execution_count": 17,
   "id": "b8af7fde",
   "metadata": {},
   "outputs": [
    {
     "data": {
      "text/plain": [
       "Index(['strain', 'virus', 'gisaid_epi_isl', 'genbank_accession',\n",
       "       'sra_accession', 'date', 'region', 'country', 'division', 'location',\n",
       "       'region_exposure', 'country_exposure', 'division_exposure', 'segment',\n",
       "       'length', 'host', 'age', 'sex', 'Nextstrain_clade', 'pango_lineage',\n",
       "       'GISAID_clade', 'originating_lab', 'submitting_lab', 'authors', 'url',\n",
       "       'title', 'paper_url', 'date_submitted', 'sampling_strategy',\n",
       "       'missing_data', 'divergence', 'nonACGTN', 'rare_mutations',\n",
       "       'QC_missing_data', 'QC_mixed_sites', 'QC_rare_mutations',\n",
       "       'QC_snp_clusters', 'QC_frame_shifts', 'QC_stop_codons', 'frame_shifts',\n",
       "       'insertions', 'substitutions', 'aaSubstitutions', 'clock_deviation'],\n",
       "      dtype='object')"
      ]
     },
     "execution_count": 17,
     "metadata": {},
     "output_type": "execute_result"
    }
   ],
   "source": [
    "df2.columns"
   ]
  },
  {
   "cell_type": "code",
   "execution_count": 4,
   "id": "f1191998",
   "metadata": {},
   "outputs": [
    {
     "name": "stdout",
     "output_type": "stream",
     "text": [
      "['LR824035.1', 'LR824038.1', 'LR824040.1', 'LR824037.1', 'LR824041.1', 'LR824039.1', 'LR824042.1', 'LR824046.1']\n"
     ]
    }
   ],
   "source": [
    "l = df[\"genbank_accession\"].tolist()\n",
    "print(repr(l[:8]))"
   ]
  },
  {
   "cell_type": "code",
   "execution_count": 5,
   "id": "e59c05b8",
   "metadata": {},
   "outputs": [],
   "source": [
    "ids1 = set(df[\"genbank_accession\"].tolist())"
   ]
  },
  {
   "cell_type": "code",
   "execution_count": 6,
   "id": "8724b754",
   "metadata": {},
   "outputs": [],
   "source": [
    "ids2 = set(df2[\"genbank_accession\"].tolist())"
   ]
  },
  {
   "cell_type": "code",
   "execution_count": 7,
   "id": "95527398",
   "metadata": {},
   "outputs": [
    {
     "name": "stdout",
     "output_type": "stream",
     "text": [
      "2977158 3244162\n",
      "0 2977158 3244162\n"
     ]
    }
   ],
   "source": [
    "print(len(ids1), len(ids2))\n",
    "print(len(ids1 & ids2), len(ids1 - ids2), len(ids2 - ids1))"
   ]
  },
  {
   "cell_type": "code",
   "execution_count": 9,
   "id": "dbe73cb7",
   "metadata": {},
   "outputs": [
    {
     "name": "stdout",
     "output_type": "stream",
     "text": [
      "2923985 53088 320177\n"
     ]
    }
   ],
   "source": [
    "ids12 = {i.split(\".\")[0] for i in ids1 if isinstance(i, str)}\n",
    "print(len(ids12 & ids2), len(ids12 - ids2), len(ids2 - ids12))"
   ]
  },
  {
   "cell_type": "code",
   "execution_count": 10,
   "id": "499f5d11",
   "metadata": {},
   "outputs": [
    {
     "name": "stdout",
     "output_type": "stream",
     "text": [
      "2919897 57261 324265\n"
     ]
    }
   ],
   "source": [
    "ids21 = {i + \".1\" for i in ids2}\n",
    "print(len(ids1 & ids21), len(ids1 - ids21), len(ids21 - ids1))"
   ]
  },
  {
   "cell_type": "code",
   "execution_count": 11,
   "id": "3821c5b8",
   "metadata": {},
   "outputs": [
    {
     "data": {
      "text/plain": [
       "Counter({'1': 2972985, '2': 4054, '3': 107, '4': 11})"
      ]
     },
     "execution_count": 11,
     "metadata": {},
     "output_type": "execute_result"
    }
   ],
   "source": [
    "Counter(i.split(\".\", 1)[1] for i in ids1 if isinstance(i, str))"
   ]
  },
  {
   "cell_type": "code",
   "execution_count": 13,
   "id": "5b500289",
   "metadata": {},
   "outputs": [
    {
     "data": {
      "text/plain": [
       "Counter({1: 2976989, 2: 84})"
      ]
     },
     "execution_count": 13,
     "metadata": {},
     "output_type": "execute_result"
    }
   ],
   "source": [
    "versions = defaultdict(set)\n",
    "for i in ids1:\n",
    "    if isinstance(i, str):\n",
    "        lhs, rhs = i.split(\".\")\n",
    "        versions[lhs].add(rhs)\n",
    "Counter(map(len, versions.values()))"
   ]
  },
  {
   "cell_type": "markdown",
   "id": "fe869009",
   "metadata": {},
   "source": [
    "## Comparison with the usher tree"
   ]
  },
  {
   "cell_type": "code",
   "execution_count": 10,
   "id": "321cd51b",
   "metadata": {},
   "outputs": [],
   "source": [
    "from pyrocov.external.usher import parsimony_pb2\n",
    "from Bio.Phylo.NewickIO import Parser, Writer\n",
    "\n",
    "with open(\"results/usher/all.masked.pb\", \"rb\") as f:\n",
    "    proto = parsimony_pb2.data.FromString(f.read())\n",
    "tree = next(Parser.from_string(proto.newick).parse())"
   ]
  },
  {
   "cell_type": "code",
   "execution_count": 9,
   "id": "3a96a4a6",
   "metadata": {},
   "outputs": [
    {
     "data": {
      "text/plain": [
       "['ByteSize',\n",
       " 'Clear',\n",
       " 'ClearExtension',\n",
       " 'ClearField',\n",
       " 'CopyFrom',\n",
       " 'DESCRIPTOR',\n",
       " 'DiscardUnknownFields',\n",
       " 'Extensions',\n",
       " 'FindInitializationErrors',\n",
       " 'FromString',\n",
       " 'HasExtension',\n",
       " 'HasField',\n",
       " 'IsInitialized',\n",
       " 'ListFields',\n",
       " 'MergeFrom',\n",
       " 'MergeFromString',\n",
       " 'ParseFromString',\n",
       " 'RegisterExtension',\n",
       " 'SerializePartialToString',\n",
       " 'SerializeToString',\n",
       " 'SetInParent',\n",
       " 'UnknownFields',\n",
       " 'WhichOneof',\n",
       " '_CheckCalledFromGeneratedFile',\n",
       " '_SetListener',\n",
       " '__class__',\n",
       " '__deepcopy__',\n",
       " '__delattr__',\n",
       " '__dir__',\n",
       " '__doc__',\n",
       " '__eq__',\n",
       " '__format__',\n",
       " '__ge__',\n",
       " '__getattribute__',\n",
       " '__getstate__',\n",
       " '__gt__',\n",
       " '__hash__',\n",
       " '__init__',\n",
       " '__init_subclass__',\n",
       " '__le__',\n",
       " '__lt__',\n",
       " '__module__',\n",
       " '__ne__',\n",
       " '__new__',\n",
       " '__reduce__',\n",
       " '__reduce_ex__',\n",
       " '__repr__',\n",
       " '__setattr__',\n",
       " '__setstate__',\n",
       " '__sizeof__',\n",
       " '__slots__',\n",
       " '__str__',\n",
       " '__subclasshook__',\n",
       " '__unicode__',\n",
       " '_extensions_by_name',\n",
       " '_extensions_by_number',\n",
       " 'condensed_nodes',\n",
       " 'metadata',\n",
       " 'newick',\n",
       " 'node_mutations']"
      ]
     },
     "execution_count": 9,
     "metadata": {},
     "output_type": "execute_result"
    }
   ],
   "source": [
    "dir(proto)"
   ]
  },
  {
   "cell_type": "code",
   "execution_count": 12,
   "id": "6577fe67",
   "metadata": {},
   "outputs": [
    {
     "name": "stdout",
     "output_type": "stream",
     "text": [
      "438507\n",
      "[node_name: \"node_277374_condensed_9_leaves\"\n",
      "condensed_leaves: \"Switzerland/LU-ETHZ-33951295/2021|OU727802.1|2021-09-01\"\n",
      "condensed_leaves: \"Switzerland/LU-UHB-43030285/2021|OU736801.1|2021-08-30\"\n",
      "condensed_leaves: \"Switzerland/LU-DIA-011423482501/2021|OU754404.1|2021-08-19\"\n",
      "condensed_leaves: \"Switzerland/LU-UHB-43024430/2021|OU735359.1|2021-08-24\"\n",
      "condensed_leaves: \"Switzerland/LU-DIA-011424149101/2021|OU754794.1|2021-08-28\"\n",
      "condensed_leaves: \"Switzerland/LU-DIA-011424153001/2021|OU755170.1|2021-09-01\"\n",
      "condensed_leaves: \"Switzerland/LU-DIA-011424150001/2021|OU755371.1|2021-08-30\"\n",
      "condensed_leaves: \"Switzerland/LU-DIA-011424150401/2021|OU754379.1|2021-08-30\"\n",
      "condensed_leaves: \"Switzerland/LU-UHB-43043568/2021|OU734798.1|2021-09-05\"\n",
      ", node_name: \"node_238668_condensed_2_leaves\"\n",
      "condensed_leaves: \"USA/TN-CDC-ASC210198292/2021|OK404919.1|2021-08-24\"\n",
      "condensed_leaves: \"USA/TN-GD-090621-284/2021|OK162661.1|2021-08-27\"\n",
      ", node_name: \"node_365383_condensed_3_leaves\"\n",
      "condensed_leaves: \"England/QEUH-2C913DC/2021|2021-11-28\"\n",
      "condensed_leaves: \"England/QEUH-2B617E9/2021|OV249026.1|2021-11-17\"\n",
      "condensed_leaves: \"England/ALDP-2B007CE/2021|OV203866.1|2021-11-18\"\n",
      ", node_name: \"node_57878_condensed_2_leaves\"\n",
      "condensed_leaves: \"NorthernIreland/QEUH-96DB61/2020|OA968044.1|2020-08-20\"\n",
      "condensed_leaves: \"Scotland/QEUH-96C78C/2020|OA967897.1|2020-08-21\"\n",
      ", node_name: \"node_33739_condensed_13_leaves\"\n",
      "condensed_leaves: \"IMS-10013-CVDP-01488|OU075851.1|2021-02-01\"\n",
      "condensed_leaves: \"IMS-10013-CVDP-01281|OU075843.1|2021-02-01\"\n",
      "condensed_leaves: \"IMS-10013-CVDP-01421|OU075845.1|2021-02-01\"\n",
      "condensed_leaves: \"IMS-10013-CVDP-01476|OU075849.1|2021-02-01\"\n",
      "condensed_leaves: \"IMS-10295-CVDP-00022|OU076644.1|2020-12-24\"\n",
      "condensed_leaves: \"IMS-10013-CVDP-01947|OU075918.1|2021-02-03\"\n",
      "condensed_leaves: \"IMS-10013-CVDP-01548|OU075891.1|2021-02-02\"\n",
      "condensed_leaves: \"IMS-10013-CVDP-01993|OU075922.1|2021-02-03\"\n",
      "condensed_leaves: \"IMS-10061-CVDP-00291|OU076606.1|2021-01-28\"\n",
      "condensed_leaves: \"IMS-10061-CVDP-01394|OU076722.1|2021-02-05\"\n",
      "condensed_leaves: \"IMS-10061-CVDP-00145|OU076524.1|2021-01-20\"\n",
      "condensed_leaves: \"IMS-10061-CVDP-00274|OU076583.1|2021-01-20\"\n",
      "condensed_leaves: \"IMS-10013-CVDP-00F6A420-7315-4B2F-9C76-DB106CD0D307|OU081125.1|2021-02-08\"\n",
      ", node_name: \"node_201370_condensed_15_leaves\"\n",
      "condensed_leaves: \"England/MILK-1AAA9B5/2021|OU518437.1|2021-08-03\"\n",
      "condensed_leaves: \"England/PHEP-041932/2021|2021-08-25\"\n",
      "condensed_leaves: \"England/MILK-1B08C60/2021|OU542052.1|2021-08-05\"\n",
      "condensed_leaves: \"England/MILK-1B08A75/2021|OU541848.1|2021-08-05\"\n",
      "condensed_leaves: \"England/ALDP-1A73D7D/2021|OU512895.1|2021-07-30\"\n",
      "condensed_leaves: \"Wales/PHWC-PYHHAY/2021|2021-08-01\"\n",
      "condensed_leaves: \"England/ALDP-1B1A06F/2021|OU554124.1|2021-08-06\"\n",
      "condensed_leaves: \"England/NORT-YYNE1X/2021|OU802918.1|2021-08-28\"\n",
      "condensed_leaves: \"England/MILK-1CDB166/2021|OU641001.1|2021-08-25\"\n",
      "condensed_leaves: \"England/MILK-1D04E02/2021|OU686066.1|2021-08-29\"\n",
      "condensed_leaves: \"England/MILK-1D04C71/2021|OU686096.1|2021-08-29\"\n",
      "condensed_leaves: \"England/ALDP-1CE2EED/2021|OU644134.1|2021-08-25\"\n",
      "condensed_leaves: \"England/MILK-1DC93FB/2021|OU671997.1|2021-09-06\"\n",
      "condensed_leaves: \"England/MILK-1DCE824/2021|OU709365.1|2021-09-06\"\n",
      "condensed_leaves: \"England/PHEP-YYBOP91/2021|2021-10-20\"\n",
      ", node_name: \"node_410736_condensed_8_leaves\"\n",
      "condensed_leaves: \"England/NORT-YBB5FA/2021|2021-12-11\"\n",
      "condensed_leaves: \"England/NORT-YY9W34/2021|2021-12-11\"\n",
      "condensed_leaves: \"England/LOND-135ADEC/2021|2021-12-01\"\n",
      "condensed_leaves: \"England/MILK-2CB11CD/2021|2021-11-30\"\n",
      "condensed_leaves: \"England/MILK-29D6B6D/2021|OV096607.1|2021-11-08\"\n",
      "condensed_leaves: \"England/MILK-2994F8D/2021|OV067481.1|2021-11-06\"\n",
      "condensed_leaves: \"England/MILK-2B308A4/2021|OV170322.1|2021-11-17\"\n",
      "condensed_leaves: \"England/HSLL-2BAB6B9/2021|OV242045.1|2021-11-23\"\n",
      ", node_name: \"node_76726_condensed_10_leaves\"\n",
      "condensed_leaves: \"England/MILK-2E7BA3B/2021|2021-12-13\"\n",
      "condensed_leaves: \"England/MILK-2F8302E/2021|2021-12-18\"\n",
      "condensed_leaves: \"England/LSPA-2FB7DEE/2021|2021-12-19\"\n",
      "condensed_leaves: \"England/BRBR-304F5C1/2021|2021-12-29\"\n",
      "condensed_leaves: \"England/MILK-305F82F/2021|2021-12-30\"\n",
      "condensed_leaves: \"England/MILK-2FE8D4E/2021|2021-12-25\"\n",
      "condensed_leaves: \"England/LSPA-309D342/2022|2022-01-01\"\n",
      "condensed_leaves: \"England/MILK-30D0352/2022|2022-01-01\"\n",
      "condensed_leaves: \"England/ALDP-3124A0E/2022|2022-01-03\"\n",
      "condensed_leaves: \"England/NORT-YBMG16/2021|2021-12-28\"\n",
      ", node_name: \"node_231919_condensed_2_leaves\"\n",
      "condensed_leaves: \"England/ALDP-1DED555/2021|OU709384.1|2021-09-07\"\n",
      "condensed_leaves: \"England/ALDP-1DED6DA/2021|OU708757.1|2021-09-07\"\n",
      ", node_name: \"node_286366_condensed_4_leaves\"\n",
      "condensed_leaves: \"USA/MN-CDC-IBX963857362566/2021|OL669912.1|2021-11-15\"\n",
      "condensed_leaves: \"USA/MN-CDC-IBX221128443608/2021|OL640201.1|2021-11-09\"\n",
      "condensed_leaves: \"USA/MN-CDC-ASC210394671/2021|OL775724.1|2021-11-09\"\n",
      "condensed_leaves: \"USA/MN-CDC-IBX505986884349/2021|OL935551.1|2021-12-01\"\n",
      "]\n"
     ]
    }
   ],
   "source": [
    "print(len(proto.condensed_nodes))\n",
    "print(proto.condensed_nodes[:10])"
   ]
  },
  {
   "cell_type": "code",
   "execution_count": 13,
   "id": "a80d5761",
   "metadata": {},
   "outputs": [],
   "source": [
    "strains = set(df2[\"strain\"])"
   ]
  },
  {
   "cell_type": "code",
   "execution_count": 14,
   "id": "1d4ee4ff",
   "metadata": {},
   "outputs": [
    {
     "data": {
      "text/plain": [
       "False"
      ]
     },
     "execution_count": 14,
     "metadata": {},
     "output_type": "execute_result"
    }
   ],
   "source": [
    "\"Switzerland/LU-DIA-011424153001/2021|OU755170.1|2021-09-01\" in strains"
   ]
  },
  {
   "cell_type": "code",
   "execution_count": 15,
   "id": "f59c508a",
   "metadata": {},
   "outputs": [
    {
     "data": {
      "text/plain": [
       "True"
      ]
     },
     "execution_count": 15,
     "metadata": {},
     "output_type": "execute_result"
    }
   ],
   "source": [
    "\"Switzerland/LU-DIA-011424153001/2021\" in strains"
   ]
  },
  {
   "cell_type": "code",
   "execution_count": 18,
   "id": "68ed8fcd",
   "metadata": {},
   "outputs": [
    {
     "data": {
      "text/plain": [
       "Counter({False: 744501, True: 1671748})"
      ]
     },
     "execution_count": 18,
     "metadata": {},
     "output_type": "execute_result"
    }
   ],
   "source": [
    "Counter(bool(node.name) for node in tree.find_clades())"
   ]
  },
  {
   "cell_type": "markdown",
   "id": "838e9688",
   "metadata": {},
   "source": [
    "## Phylogenetic distribution of samples in pruned trees"
   ]
  },
  {
   "cell_type": "code",
   "execution_count": 54,
   "id": "ac303214",
   "metadata": {},
   "outputs": [
    {
     "name": "stdout",
     "output_type": "stream",
     "text": [
      "(2000, 1972)\n",
      "(5000, 4968)\n",
      "(10000, 9946)\n",
      "CPU times: user 4.5 s, sys: 934 ms, total: 5.44 s\n",
      "Wall time: 5.49 s\n"
     ]
    }
   ],
   "source": [
    "%%time\n",
    "with open(f\"results/columns.pkl\", \"rb\") as f:\n",
    "    columns = pickle.load(f)\n",
    "clade_counts = {}\n",
    "for max_num_clades in [2000, 5000, 10000]:\n",
    "    filename = f\"results/columns.{max_num_clades}.pkl\"\n",
    "    if os.path.exists(filename):\n",
    "        with open(filename, \"rb\") as f:\n",
    "            counts = Counter(pickle.load(f)[\"clade\"])\n",
    "            clade_counts[max_num_clades] = counts\n",
    "            print((max_num_clades, len(counts)))"
   ]
  },
  {
   "cell_type": "code",
   "execution_count": 55,
   "id": "12047917",
   "metadata": {},
   "outputs": [
    {
     "data": {
      "image/png": "[encoded data removed]",
      "text/plain": [
       "<Figure size 1200x800 with 1 Axes>"
      ]
     },
     "metadata": {},
     "output_type": "display_data"
    }
   ],
   "source": [
    "strain_counts = Counter(columns[\"lineage\"])\n",
    "plt.figure(figsize=(6,4))\n",
    "Y = [c for _, c in strain_counts.most_common()]\n",
    "plt.plot(torch.arange(1,1 + len(Y)), Y, \"k--\", label=\"Pango lineages\")\n",
    "for k, v in clade_counts.items():\n",
    "    Y = [c for _, c in v.most_common()]\n",
    "    plt.plot(torch.arange(1,1 + len(Y)), Y, label=f\"{k} clusters\")\n",
    "plt.yscale(\"log\")\n",
    "plt.xscale(\"log\")\n",
    "plt.xlim(1, None)\n",
    "plt.ylim(0.95, None)\n",
    "plt.xlabel(\"Cluster Rank\")\n",
    "plt.ylabel(\"Number of Samples\")\n",
    "plt.legend(loc=\"upper right\")\n",
    "plt.title(\"Distribution of samples among clusters\")\n",
    "plt.tight_layout()\n",
    "plt.savefig(\"paper/clade_distribution.png\")"
   ]
  },
  {
   "cell_type": "code",
   "execution_count": 28,
   "id": "ff4b4099",
   "metadata": {},
   "outputs": [
    {
     "name": "stdout",
     "output_type": "stream",
     "text": [
      "{'full': 0, 2000: 1992, 5000: 0, 10000: 9986}\n"
     ]
    }
   ],
   "source": [
    "print({k: len(v) for k, v in clade_counts.items()})"
   ]
  },
  {
   "cell_type": "code",
   "execution_count": 33,
   "id": "f3973b6c",
   "metadata": {},
   "outputs": [
    {
     "name": "stdout",
     "output_type": "stream",
     "text": [
      "{'genbank_accession': 8, 'day': 2923152, 'location': 14, 'clade': 0, 'lineage': 0}\n"
     ]
    }
   ],
   "source": [
    "print({k: len(v) for k, v in columns.items()})"
   ]
  },
  {
   "cell_type": "code",
   "execution_count": 29,
   "id": "9aa2ee27",
   "metadata": {
    "scrolled": true
   },
   "outputs": [
    {
     "data": {
      "text/plain": [
       "dict_keys(['genbank_accession', 'day', 'location', 'clade', 'lineage'])"
      ]
     },
     "execution_count": 29,
     "metadata": {},
     "output_type": "execute_result"
    }
   ],
   "source": [
    "columns.keys()"
   ]
  },
  {
   "cell_type": "code",
   "execution_count": 32,
   "id": "e356ed6f",
   "metadata": {},
   "outputs": [
    {
     "data": {
      "text/plain": [
       "[186, 186, 186, 186, 186, 186, 186, 186, 186, 186]"
      ]
     },
     "execution_count": 32,
     "metadata": {},
     "output_type": "execute_result"
    }
   ],
   "source": [
    "columns[\"day\"][:10]"
   ]
  },
  {
   "cell_type": "code",
   "execution_count": 41,
   "id": "bfcd2c88",
   "metadata": {},
   "outputs": [],
   "source": [
    "with open(\"results/columns.2000.pkl\", \"rb\") as f:\n",
    "    columns2000 = pickle.load(f)"
   ]
  },
  {
   "cell_type": "code",
   "execution_count": 44,
   "id": "256c5701",
   "metadata": {},
   "outputs": [
    {
     "data": {
      "text/plain": [
       "{'genbank_accession': 2913523,\n",
       " 'day': 2913523,\n",
       " 'location': 2913523,\n",
       " 'lineage': 2913523,\n",
       " 'clade': 0}"
      ]
     },
     "execution_count": 44,
     "metadata": {},
     "output_type": "execute_result"
    }
   ],
   "source": [
    "{k: len(v) for k, v in columns.items()}"
   ]
  },
  {
   "cell_type": "code",
   "execution_count": 43,
   "id": "c10684be",
   "metadata": {},
   "outputs": [
    {
     "data": {
      "text/plain": [
       "{'genbank_accession': 2913523,\n",
       " 'day': 2913523,\n",
       " 'location': 2913523,\n",
       " 'lineage': 0,\n",
       " 'clade': 0}"
      ]
     },
     "execution_count": 43,
     "metadata": {},
     "output_type": "execute_result"
    }
   ],
   "source": [
    "{k: len(v) for k, v in columns2000.items()}"
   ]
  },
  {
   "cell_type": "code",
   "execution_count": 47,
   "id": "3ff1b7b4",
   "metadata": {},
   "outputs": [
    {
     "name": "stdout",
     "output_type": "stream",
     "text": [
      "2416249\n",
      "1671748\n"
     ]
    }
   ],
   "source": [
    "print(sum(1 for clade in tree.find_clades()))\n",
    "print(sum(bool(clade.name) for clade in tree.find_clades()))"
   ]
  },
  {
   "cell_type": "code",
   "execution_count": 51,
   "id": "954655a0",
   "metadata": {},
   "outputs": [
    {
     "data": {
      "text/plain": [
       "['Switzerland/LU-ETHZ-33951295/2021|OU727802.1|2021-09-01',\n",
       " 'Switzerland/LU-UHB-43030285/2021|OU736801.1|2021-08-30',\n",
       " 'Switzerland/LU-DIA-011423482501/2021|OU754404.1|2021-08-19',\n",
       " 'Switzerland/LU-UHB-43024430/2021|OU735359.1|2021-08-24',\n",
       " 'Switzerland/LU-DIA-011424149101/2021|OU754794.1|2021-08-28',\n",
       " 'Switzerland/LU-DIA-011424153001/2021|OU755170.1|2021-09-01',\n",
       " 'Switzerland/LU-DIA-011424150001/2021|OU755371.1|2021-08-30',\n",
       " 'Switzerland/LU-DIA-011424150401/2021|OU754379.1|2021-08-30',\n",
       " 'Switzerland/LU-UHB-43043568/2021|OU734798.1|2021-09-05']"
      ]
     },
     "execution_count": 51,
     "metadata": {},
     "output_type": "execute_result"
    }
   ],
   "source": [
    "list(proto.condensed_nodes[0].condensed_leaves)"
   ]
  },
  {
   "cell_type": "code",
   "execution_count": null,
   "id": "426ed357",
   "metadata": {},
   "outputs": [],
   "source": []
  }
 ],
 "metadata": {
  "kernelspec": {
   "display_name": "Python 3 (ipykernel)",
   "language": "python",
   "name": "python3"
  },
  "language_info": {
   "codemirror_mode": {
    "name": "ipython",
    "version": 3
   },
   "file_extension": ".py",
   "mimetype": "text/x-python",
   "name": "python",
   "nbconvert_exporter": "python",
   "pygments_lexer": "ipython3",
   "version": "3.9.1"
  }
 },
 "nbformat": 4,
 "nbformat_minor": 5
}
