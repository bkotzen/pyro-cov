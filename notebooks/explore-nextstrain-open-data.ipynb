{
 "cells": [
  {
   "cell_type": "markdown",
   "id": "c366c5b4",
   "metadata": {},
   "source": [
    "# Explore Nextstrain's open data\n",
    "\n",
    "This notebook assumes you've downloaded nextstrain's [open metadata](https://docs.nextstrain.org/projects/ncov/en/latest/reference/remote_inputs.html):\n",
    "```sh\n",
    "mkdir -p results/nextstrain\n",
    "gsutil cp gs://nextstrain-data/files/ncov/metadata.tsv.gz results/nextstrain/\n",
    "python scripts/preprocess_nextstrain.py\n",
    "```"
   ]
  },
  {
   "cell_type": "code",
   "execution_count": 1,
   "id": "3e80adb7",
   "metadata": {},
   "outputs": [],
   "source": [
    "import torch\n",
    "import pickle\n",
    "import matplotlib.pyplot as plt"
   ]
  },
  {
   "cell_type": "code",
   "execution_count": 2,
   "id": "7e707955",
   "metadata": {},
   "outputs": [],
   "source": [
    "columns = pickle.load(open(\"results/nextstrain.columns.pkl\", \"rb\"))\n",
    "stats = pickle.load(open(\"results/nextstrain.stats.pkl\", \"rb\"))\n",
    "features = torch.load(\"results/nextstrain.features.pt\")"
   ]
  },
  {
   "cell_type": "code",
   "execution_count": 3,
   "id": "748a2873",
   "metadata": {},
   "outputs": [
    {
     "name": "stdout",
     "output_type": "stream",
     "text": [
      "74861\n"
     ]
    }
   ],
   "source": [
    "print(len(columns[\"lineage\"]))"
   ]
  },
  {
   "cell_type": "code",
   "execution_count": null,
   "id": "d4b5770e",
   "metadata": {},
   "outputs": [],
   "source": []
  }
 ],
 "metadata": {
  "kernelspec": {
   "display_name": "Python 3",
   "language": "python",
   "name": "python3"
  },
  "language_info": {
   "codemirror_mode": {
    "name": "ipython",
    "version": 3
   },
   "file_extension": ".py",
   "mimetype": "text/x-python",
   "name": "python",
   "nbconvert_exporter": "python",
   "pygments_lexer": "ipython3",
   "version": "3.6.12"
  }
 },
 "nbformat": 4,
 "nbformat_minor": 5
}
