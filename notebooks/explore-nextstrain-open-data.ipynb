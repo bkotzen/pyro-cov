{
 "cells": [
  {
   "cell_type": "markdown",
   "id": "7722f8c6",
   "metadata": {},
   "source": [
    "# Explore Nextstrain's open data\n",
    "\n",
    "This notebook assumes you've downloaded nextstrain's [open metadata](https://docs.nextstrain.org/projects/ncov/en/latest/reference/remote_inputs.html):\n",
    "```sh\n",
    "mkdir -p results/nextstrain\n",
    "gsutil cp gs://nextstrain-data/files/ncov/metadata.tsv.gz results/nextstrain/\n",
    "python scripts/preprocess_nextstrain.py\n",
    "```"
   ]
  },
  {
   "cell_type": "code",
   "execution_count": 1,
   "id": "0ad08e49",
   "metadata": {},
   "outputs": [],
   "source": [
    "from collections import Counter\n",
    "from pprint import pprint\n",
    "import pickle\n",
    "import torch\n",
    "import matplotlib.pyplot as plt"
   ]
  },
  {
   "cell_type": "code",
   "execution_count": 2,
   "id": "4a7ffbe8",
   "metadata": {},
   "outputs": [],
   "source": [
    "columns = pickle.load(open(\"results/nextstrain.columns.pkl\", \"rb\"))\n",
    "stats = pickle.load(open(\"results/nextstrain.stats.pkl\", \"rb\"))\n",
    "features = torch.load(\"results/nextstrain.features.pt\")"
   ]
  },
  {
   "cell_type": "code",
   "execution_count": 3,
   "id": "a282c79a",
   "metadata": {},
   "outputs": [
    {
     "name": "stdout",
     "output_type": "stream",
     "text": [
      "2473305\n"
     ]
    }
   ],
   "source": [
    "print(len(columns[\"lineage\"]))"
   ]
  },
  {
   "cell_type": "code",
   "execution_count": 4,
   "id": "387f0f2b",
   "metadata": {},
   "outputs": [
    {
     "name": "stdout",
     "output_type": "stream",
     "text": [
      "day (len = 693):\n",
      "[(639, 18303),\n",
      " (646, 17060),\n",
      " (611, 15856),\n",
      " (612, 15482),\n",
      " (652, 15323),\n",
      " (613, 15315),\n",
      " (641, 15119),\n",
      " (638, 15004),\n",
      " (610, 14950),\n",
      " (648, 14884)]\n",
      "location (len = 399):\n",
      "[('United Kingdom / England', 808894),\n",
      " ('USA / California', 160482),\n",
      " ('USA / USA', 149134),\n",
      " ('United Kingdom / Scotland', 101029),\n",
      " ('USA / Florida', 100159),\n",
      " ('USA / Minnesota', 74819),\n",
      " ('USA / Massachusetts', 65694),\n",
      " ('USA / Texas', 64377),\n",
      " ('Germany / North Rhine Westphalia', 42608),\n",
      " ('USA / Washington', 36111)]\n",
      "lineage (len = 1316):\n",
      "[('B.1.1.7', 487438),\n",
      " ('AY.4', 449422),\n",
      " ('AY.103', 145082),\n",
      " ('AY.44', 140791),\n",
      " ('AY.25', 115460),\n",
      " ('AY.3', 83979),\n",
      " ('B.1.2', 53488),\n",
      " ('B.1.617.2', 52487),\n",
      " ('AY.122', 36236),\n",
      " ('AY.43', 34169)]\n",
      "aa (len = 42556):\n",
      "[('S:D614G', 2454382),\n",
      " ('ORF1b:P314L', 2444997),\n",
      " ('S:L452R', 1531293),\n",
      " ('ORF3a:S26L', 1526863),\n",
      " ('M:I82T', 1526670),\n",
      " ('S:P681R', 1526016),\n",
      " ('N:D377Y', 1517684),\n",
      " ('ORF1b:P1000L', 1517147),\n",
      " ('N:R203M', 1513010),\n",
      " ('ORF1b:G662S', 1507063)]\n",
      "lineage_aa (len = 543523):\n",
      "[(('B.1.1.7', 'ORF1a:T1001I'), 486093),\n",
      " (('B.1.1.7', 'S:S982A'), 485906),\n",
      " (('B.1.1.7', 'S:D614G'), 485673),\n",
      " (('B.1.1.7', 'S:T716I'), 485557),\n",
      " (('B.1.1.7', 'S:P681H'), 485492),\n",
      " (('B.1.1.7', 'ORF1a:A1708D'), 484862),\n",
      " (('B.1.1.7', 'S:D1118H'), 484802),\n",
      " (('B.1.1.7', 'ORF1b:P314L'), 484653),\n",
      " (('B.1.1.7', 'S:A570D'), 484515),\n",
      " (('B.1.1.7', 'N:S235F'), 484255)]\n"
     ]
    }
   ],
   "source": [
    "for k, v in stats.items():\n",
    "    print(f\"{k} (len = {len(v)}):\")\n",
    "    pprint(v.most_common(10))"
   ]
  }
 ],
 "metadata": {
  "kernelspec": {
   "display_name": "Python 3",
   "language": "python",
   "name": "python3"
  },
  "language_info": {
   "codemirror_mode": {
    "name": "ipython",
    "version": 3
   },
   "file_extension": ".py",
   "mimetype": "text/x-python",
   "name": "python",
   "nbconvert_exporter": "python",
   "pygments_lexer": "ipython3",
   "version": "3.6.12"
  }
 },
 "nbformat": 4,
 "nbformat_minor": 5
}
