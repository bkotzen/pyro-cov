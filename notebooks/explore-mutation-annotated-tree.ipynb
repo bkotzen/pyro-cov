{
 "cells": [
  {
   "cell_type": "markdown",
   "id": "69663086",
   "metadata": {},
   "source": [
    "# Exploring pangolin's mutation annotated tree"
   ]
  },
  {
   "cell_type": "code",
   "execution_count": 1,
   "id": "b548091a",
   "metadata": {},
   "outputs": [],
   "source": [
    "import os\n",
    "from collections import defaultdict\n",
    "from matplotlib import pyplot as plt\n",
    "from Bio.Phylo.NewickIO import Parser\n",
    "from pyrocov.align import PANGOLEARN_DATA\n",
    "from pyrocov.external.usher import parsimony_pb2\n",
    "from pyrocov.usher import Mutation, NUCLEOTIDE, refine_mutation_tree"
   ]
  },
  {
   "cell_type": "code",
   "execution_count": 2,
   "id": "e09affb3",
   "metadata": {},
   "outputs": [],
   "source": [
    "with open(os.path.join(PANGOLEARN_DATA, \"lineageTree.pb\"), \"rb\") as f:\n",
    "    proto = parsimony_pb2.data.FromString(f.read())"
   ]
  },
  {
   "cell_type": "code",
   "execution_count": 3,
   "id": "2dfc68c5",
   "metadata": {},
   "outputs": [],
   "source": [
    "tree = next(Parser.from_string(proto.newick).parse())\n",
    "clades = list(tree.find_clades())\n",
    "assert len(proto.metadata) == len(clades)\n",
    "assert len(proto.node_mutations) == len(clades)"
   ]
  },
  {
   "cell_type": "code",
   "execution_count": 4,
   "id": "d030252b",
   "metadata": {},
   "outputs": [],
   "source": [
    "clade_to_muts = defaultdict(dict)\n",
    "for clade, muts in zip(clades, proto.node_mutations):\n",
    "    for mut in muts.mutation:\n",
    "        clade_to_muts[clade][mut.position] = Mutation(\n",
    "            mut.position,\n",
    "            NUCLEOTIDE[mut.ref_nuc],\n",
    "            \"\".join(NUCLEOTIDE[n] for n in mut.mut_nuc),\n",
    "        )\n",
    "    for c in clade.clades:\n",
    "        clade_to_muts[c].update(clade_to_muts[clade])"
   ]
  },
  {
   "cell_type": "code",
   "execution_count": 5,
   "id": "a49dab50",
   "metadata": {},
   "outputs": [
    {
     "data": {
      "image/png": "[encoded data removed]",
      "text/plain": [
       "<Figure size 640x480 with 1 Axes>"
      ]
     },
     "metadata": {},
     "output_type": "display_data"
    }
   ],
   "source": [
    "plt.hist([len(m.mutation) for m in proto.node_mutations], bins=range(21))\n",
    "plt.yscale(\"log\")"
   ]
  },
  {
   "cell_type": "markdown",
   "id": "7d68d258",
   "metadata": {},
   "source": [
    "## After pruning"
   ]
  },
  {
   "cell_type": "code",
   "execution_count": 6,
   "id": "1277d31a",
   "metadata": {},
   "outputs": [],
   "source": [
    "max_num_clades = 2000\n",
    "with open(f\"results/lineageTree.{max_num_clades}.pb\", \"rb\") as f:\n",
    "    proto = parsimony_pb2.data.FromString(f.read())"
   ]
  },
  {
   "cell_type": "code",
   "execution_count": 7,
   "id": "3afd1400",
   "metadata": {},
   "outputs": [
    {
     "data": {
      "text/plain": [
       "2000"
      ]
     },
     "execution_count": 7,
     "metadata": {},
     "output_type": "execute_result"
    }
   ],
   "source": [
    "sum(1 for m in proto.metadata if m.clade)"
   ]
  },
  {
   "cell_type": "code",
   "execution_count": null,
   "id": "05fd4061",
   "metadata": {},
   "outputs": [],
   "source": []
  }
 ],
 "metadata": {
  "kernelspec": {
   "display_name": "Python 3",
   "language": "python",
   "name": "python3"
  },
  "language_info": {
   "codemirror_mode": {
    "name": "ipython",
    "version": 3
   },
   "file_extension": ".py",
   "mimetype": "text/x-python",
   "name": "python",
   "nbconvert_exporter": "python",
   "pygments_lexer": "ipython3",
   "version": "3.6.12"
  }
 },
 "nbformat": 4,
 "nbformat_minor": 5
}
