{
 "cells": [
  {
   "cell_type": "markdown",
   "id": "88d08bd5",
   "metadata": {},
   "source": [
    "# Exploring pangolin's mutation annotated tree"
   ]
  },
  {
   "cell_type": "code",
   "execution_count": 1,
   "id": "96a50208",
   "metadata": {},
   "outputs": [],
   "source": [
    "import os\n",
    "import matplotlib\n",
    "from collections import defaultdict\n",
    "from matplotlib import pyplot as plt\n",
    "from Bio.Phylo.NewickIO import Parser\n",
    "from pyrocov.align import PANGOLEARN_DATA\n",
    "from pyrocov.external.usher import parsimony_pb2\n",
    "from pyrocov.usher import Mutation, NUCLEOTIDE, refine_mutation_tree\n",
    "\n",
    "# matplotlib.rcParams[\"figure.dpi\"] = 200\n",
    "matplotlib.rcParams[\"figure.facecolor\"] = \"white\""
   ]
  },
  {
   "cell_type": "code",
   "execution_count": 2,
   "id": "f71338a9",
   "metadata": {},
   "outputs": [],
   "source": [
    "filename = os.path.join(PANGOLEARN_DATA, \"lineageTree.pb\")\n",
    "# filename = \"results/usher/all.masked.pb\"\n",
    "with open(filename, \"rb\") as f:\n",
    "    proto = parsimony_pb2.data.FromString(f.read())"
   ]
  },
  {
   "cell_type": "code",
   "execution_count": 3,
   "id": "991377c0",
   "metadata": {},
   "outputs": [
    {
     "name": "stdout",
     "output_type": "stream",
     "text": [
      "89074\n"
     ]
    }
   ],
   "source": [
    "print(len(proto.metadata))"
   ]
  },
  {
   "cell_type": "code",
   "execution_count": 4,
   "id": "22f60e6c",
   "metadata": {},
   "outputs": [
    {
     "data": {
      "text/plain": [
       "False"
      ]
     },
     "execution_count": 4,
     "metadata": {},
     "output_type": "execute_result"
    }
   ],
   "source": [
    "lineages = sorted(set(m.clade for m in proto.metadata if m.clade))\n",
    "\"B.1.1.529\" in lineages"
   ]
  },
  {
   "cell_type": "code",
   "execution_count": 5,
   "id": "6af078f1",
   "metadata": {},
   "outputs": [],
   "source": [
    "tree = next(Parser.from_string(proto.newick).parse())"
   ]
  },
  {
   "cell_type": "code",
   "execution_count": 6,
   "id": "2f46b860",
   "metadata": {},
   "outputs": [],
   "source": [
    "clade = next(tree.find_clades())"
   ]
  },
  {
   "cell_type": "code",
   "execution_count": 7,
   "id": "3533d517",
   "metadata": {},
   "outputs": [
    {
     "name": "stdout",
     "output_type": "stream",
     "text": [
      "['__bool__', '__class__', '__delattr__', '__dict__', '__dir__', '__doc__', '__eq__', '__format__', '__ge__', '__getattribute__', '__getitem__', '__gt__', '__hash__', '__init__', '__init_subclass__', '__iter__', '__le__', '__len__', '__lt__', '__module__', '__ne__', '__new__', '__reduce__', '__reduce_ex__', '__repr__', '__setattr__', '__sizeof__', '__str__', '__subclasshook__', '__weakref__', '_color', '_filter_search', '_get_color', '_set_color', 'branch_length', 'clades', 'collapse', 'collapse_all', 'color', 'comment', 'common_ancestor', 'confidence', 'count_terminals', 'depths', 'distance', 'find_any', 'find_clades', 'find_elements', 'get_nonterminals', 'get_path', 'get_terminals', 'is_bifurcating', 'is_monophyletic', 'is_parent_of', 'is_preterminal', 'is_terminal', 'ladderize', 'name', 'prune', 'root', 'split', 'total_branch_length', 'trace', 'width']\n",
      "None\n"
     ]
    }
   ],
   "source": [
    "print(dir(clade))\n",
    "print(clade.name)"
   ]
  },
  {
   "cell_type": "code",
   "execution_count": 8,
   "id": "1ceb0b50",
   "metadata": {},
   "outputs": [
    {
     "name": "stdout",
     "output_type": "stream",
     "text": [
      "l34086\n"
     ]
    }
   ],
   "source": [
    "for clade in tree.find_clades():\n",
    "    if clade.name:\n",
    "        print(clade.name)\n",
    "        break"
   ]
  },
  {
   "cell_type": "code",
   "execution_count": 9,
   "id": "ca80ab49",
   "metadata": {},
   "outputs": [],
   "source": [
    "def plot_mutation_histogram(proto):\n",
    "    tree = next(Parser.from_string(proto.newick).parse())\n",
    "    clades = list(tree.find_clades())\n",
    "    assert len(proto.metadata) == len(clades)\n",
    "    assert len(proto.node_mutations) == len(clades)\n",
    "    clade_to_muts = defaultdict(dict)\n",
    "    for clade, muts in zip(clades, proto.node_mutations):\n",
    "        for mut in muts.mutation:\n",
    "            clade_to_muts[clade][mut.position] = Mutation(\n",
    "                mut.position,\n",
    "                NUCLEOTIDE[mut.ref_nuc],\n",
    "                \"\".join(NUCLEOTIDE[n] for n in mut.mut_nuc),\n",
    "            )\n",
    "        for c in clade.clades:\n",
    "            clade_to_muts[c].update(clade_to_muts[clade])\n",
    "    plt.hist([len(m.mutation) for m in proto.node_mutations], bins=range(21))\n",
    "    plt.yscale(\"log\")"
   ]
  },
  {
   "cell_type": "code",
   "execution_count": 10,
   "id": "f5689f47",
   "metadata": {},
   "outputs": [
    {
     "data": {
      "image/png": "[encoded data removed]",
      "text/plain": [
       "<Figure size 432x288 with 1 Axes>"
      ]
     },
     "metadata": {},
     "output_type": "display_data"
    }
   ],
   "source": [
    "plot_mutation_histogram(proto)"
   ]
  },
  {
   "cell_type": "markdown",
   "id": "68af7626",
   "metadata": {},
   "source": [
    "## After pruning"
   ]
  },
  {
   "cell_type": "code",
   "execution_count": 11,
   "id": "0c3bf95b",
   "metadata": {},
   "outputs": [],
   "source": [
    "max_num_clades = 10000\n",
    "with open(f\"results/lineageTree.{max_num_clades}.pb\", \"rb\") as f:\n",
    "    proto = parsimony_pb2.data.FromString(f.read())"
   ]
  },
  {
   "cell_type": "code",
   "execution_count": 12,
   "id": "6cb07678",
   "metadata": {},
   "outputs": [
    {
     "data": {
      "text/plain": [
       "10000"
      ]
     },
     "execution_count": 12,
     "metadata": {},
     "output_type": "execute_result"
    }
   ],
   "source": [
    "sum(1 for m in proto.metadata if m.clade)"
   ]
  },
  {
   "cell_type": "code",
   "execution_count": 13,
   "id": "806fabde",
   "metadata": {},
   "outputs": [
    {
     "data": {
      "image/png": "[encoded data removed]",
      "text/plain": [
       "<Figure size 432x288 with 1 Axes>"
      ]
     },
     "metadata": {},
     "output_type": "display_data"
    }
   ],
   "source": [
    "plot_mutation_histogram(proto)"
   ]
  },
  {
   "cell_type": "code",
   "execution_count": null,
   "id": "223486a3",
   "metadata": {},
   "outputs": [],
   "source": []
  }
 ],
 "metadata": {
  "kernelspec": {
   "display_name": "Python 3 (ipykernel)",
   "language": "python",
   "name": "python3"
  },
  "language_info": {
   "codemirror_mode": {
    "name": "ipython",
    "version": 3
   },
   "file_extension": ".py",
   "mimetype": "text/x-python",
   "name": "python",
   "nbconvert_exporter": "python",
   "pygments_lexer": "ipython3",
   "version": "3.9.1"
  }
 },
 "nbformat": 4,
 "nbformat_minor": 5
}
