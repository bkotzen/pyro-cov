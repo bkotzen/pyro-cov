{
 "cells": [
  {
   "cell_type": "markdown",
   "id": "6ae05c8f",
   "metadata": {},
   "source": [
    "## Experiment to determine prior regularization `coef_scale`\n",
    "\n",
    "This notebook assumes you have run\n",
    "```sh\n",
    "make update\n",
    "make preprocess\n",
    "python mutrans.py --vary-coef-scale=0.01,0.02,0.05,0.1,0.2,0.5\n",
    "```"
   ]
  },
  {
   "cell_type": "code",
   "execution_count": null,
   "id": "cdbce531",
   "metadata": {},
   "outputs": [],
   "source": [
    "from collections import defaultdict\n",
    "import matplotlib\n",
    "import matplotlib.pyplot as plt\n",
    "import torch\n",
    "import pyro.distributions as dist\n",
    "from pyro.ops.tensor_utils import convolve\n",
    "from pyrocov.util import pearson_correlation\n",
    "from pyrocov.sarscov2 import GENE_TO_POSITION, GENE_STRUCTURE, aa_mutation_to_position\n",
    "\n",
    "matplotlib.rcParams[\"figure.dpi\"] = 200\n",
    "matplotlib.rcParams[\"axes.edgecolor\"] = \"gray\"\n",
    "matplotlib.rcParams[\"figure.facecolor\"] = \"white\"\n",
    "matplotlib.rcParams[\"savefig.bbox\"] = \"tight\"\n",
    "matplotlib.rcParams['font.family'] = 'sans-serif'\n",
    "matplotlib.rcParams['font.sans-serif'] = ['Arial', 'Avenir', 'DejaVu Sans']"
   ]
  },
  {
   "cell_type": "code",
   "execution_count": null,
   "id": "4fa266b6",
   "metadata": {},
   "outputs": [],
   "source": [
    "results = torch.load(\"results/mutrans.vary_coef_scale.pt\")\n",
    "assert len(results) == 3 * 6"
   ]
  },
  {
   "cell_type": "code",
   "execution_count": null,
   "id": "ac1a8761",
   "metadata": {},
   "outputs": [],
   "source": [
    "collated = defaultdict(dict)\n",
    "for config, result in results.items():\n",
    "    holdout = config[-1]\n",
    "    if holdout:\n",
    "        holdout = holdout[0][0]\n",
    "        assert holdout in (\"include\", \"exclude\")\n",
    "    else:\n",
    "        holdout = None\n",
    "    coef_scale = float(config[0].split(\"=\")[-1])\n",
    "    collated[coef_scale / 100][holdout] = {\n",
    "        \"mean\": result[\"mean\"][\"coef\"] / 100,\n",
    "        \"std\": result[\"std\"][\"coef\"] / 100,\n",
    "    }\n",
    "    mutations = result[\"mutations\"]"
   ]
  },
  {
   "cell_type": "code",
   "execution_count": null,
   "id": "d81dc690",
   "metadata": {},
   "outputs": [],
   "source": [
    "for coef_scale, col in collated.items():\n",
    "    col[\"pearson\"] = pearson_correlation(col[\"include\"][\"mean\"], col[\"exclude\"][\"mean\"])"
   ]
  },
  {
   "cell_type": "code",
   "execution_count": null,
   "id": "ac478bba",
   "metadata": {},
   "outputs": [],
   "source": [
    "pearson = [float(col[\"pearson\"]) for col in collated.values()]\n",
    "plt.figure(figsize=(6,2.5))\n",
    "plt.plot(list(collated), pearson, zorder=-1);\n",
    "plt.plot([list(collated)[2]], [pearson[2]], \"ro\", zorder=0)\n",
    "plt.xscale(\"log\")\n",
    "plt.ylabel(\"$\\\\rho$ = Pearson correlation\")\n",
    "plt.xlabel(\"$\\sigma_3$ = regularization strength\")\n",
    "plt.tight_layout(pad=0)\n",
    "plt.savefig(\"paper/coef_scale_pearson.png\")"
   ]
  },
  {
   "cell_type": "code",
   "execution_count": null,
   "id": "ea7a7c5c",
   "metadata": {},
   "outputs": [],
   "source": [
    "fig, axes = plt.subplots(1, 6, figsize=(8, 1.5), sharey=True, sharex=True)\n",
    "for ax, (coef_scale, col) in zip(axes, sorted(collated.items())):\n",
    "    ax.scatter(col[\"exclude\"][\"mean\"].numpy(), col[\"include\"][\"mean\"].numpy(),\n",
    "               0.5, color=\"darkred\", alpha=0.5)\n",
    "    ax.set_title(f\"$\\\\sigma_3$ = {coef_scale}\", fontsize=9)\n",
    "    ax.set_xticks(())\n",
    "    ax.set_yticks(())\n",
    "    ax.text(0, 0.4, f\"$\\\\rho$ = {col['pearson']:0.3g}\", fontsize=9, ha=\"center\", va=\"center\")\n",
    "for spine in axes[2].spines.values():\n",
    "    spine.set_linewidth(2.0)\n",
    "    spine.set_color(\"darkred\")\n",
    "    \n",
    "fig.add_subplot(111, frameon=False)\n",
    "plt.xticks(())\n",
    "plt.yticks(())\n",
    "plt.xlabel(\"world w/o Europe\")\n",
    "plt.ylabel(\"only Europe\")\n",
    "plt.subplots_adjust(wspace=0.01)\n",
    "plt.savefig(\"paper/coef_scale_scatter.png\")"
   ]
  },
  {
   "cell_type": "code",
   "execution_count": null,
   "id": "685dc6bd",
   "metadata": {},
   "outputs": [],
   "source": [
    "sigma = 5.0\n",
    "p_sig = dist.Normal(torch.zeros(()).double(),1).cdf(torch.tensor(-sigma).double()).item()\n",
    "\n",
    "fig, axes = plt.subplots(1, 6, figsize=(8, 1.5), sharey=True, sharex=True)\n",
    "x0 = min(col[None][\"mean\"].min().item() for col in collated.values()) * 1.05\n",
    "x1 = max(col[None][\"mean\"].max().item() for col in collated.values()) * 1.05\n",
    "y1 = max((col[None][\"mean\"] / col[None][\"std\"]).abs().max().item() * 1.05\n",
    "         for col in collated.values())\n",
    "for ax, (coef_scale, col) in zip(axes, sorted(collated.items())):\n",
    "    mean = col[None][\"mean\"]\n",
    "    std = col[None][\"std\"]\n",
    "    z = (mean / std).abs()\n",
    "    ok = (mean > 0) & (z > sigma)\n",
    "    ax.scatter(mean[ok].numpy(), z[ok].numpy(), 0.5, color=\"black\", alpha=0.3)\n",
    "    ax.scatter(mean[~ok].numpy(), z[~ok].numpy(), 0.5, color=\"gray\", alpha=0.3)\n",
    "    ax.set_title(f\"$\\\\sigma_3$ = {coef_scale}\", fontsize=9)\n",
    "    ax.set_yscale(\"symlog\")\n",
    "    ax.set_xticks(())\n",
    "    ax.set_yticks(())\n",
    "    ax.set_xlim(x0, x1)\n",
    "    ax.set_ylim(0, y1)\n",
    "    \n",
    "    ax.plot([0, 0, x1], [y1, sigma, sigma], 'k--', lw=1, alpha=0.2)\n",
    "    ax.plot([x0, 0, 0], [sigma, sigma, 0], 'k-', lw=1, alpha=0.1)\n",
    "for spine in axes[2].spines.values():\n",
    "    spine.set_linewidth(2.0)\n",
    "    spine.set_color(\"darkred\")\n",
    "\n",
    "fig.add_subplot(111, frameon=False)\n",
    "plt.xticks(())\n",
    "plt.yticks(())\n",
    "plt.xlabel(\"effect size $R_m/R_{wt}$\")\n",
    "plt.ylabel(\"statistical significance\\n(z-score)\")\n",
    "plt.subplots_adjust(wspace=0.01)\n",
    "plt.savefig(\"paper/coef_scale_volcano.png\")"
   ]
  },
  {
   "cell_type": "code",
   "execution_count": null,
   "id": "88782942",
   "metadata": {},
   "outputs": [],
   "source": [
    "def plot_density(mean, ax=None, *, gene_name=None, kernel_radius=200):\n",
    "    fg_position = torch.tensor([aa_mutation_to_position(m) for m in mutations])\n",
    "    assert fg_position.shape == mean.shape\n",
    "    N = 1 + max(fg_position.max().item(),\n",
    "                max([end for start, end in GENE_TO_POSITION.values()]))\n",
    "    kernel = torch.cat([torch.arange(1, 1.0 + kernel_radius / 2),\n",
    "                        torch.arange(1.0 + kernel_radius / 2, 0, -1)])\n",
    "    kernel = convolve(kernel, kernel)  # smooth out kernel\n",
    "    kernel /= kernel.sum()\n",
    "    def smooth(signal):\n",
    "        result = convolve(kernel, signal)[kernel_radius:-kernel_radius]\n",
    "        assert len(result) == N\n",
    "        return result\n",
    "    foreground = torch.zeros(N).scatter_add_(0, fg_position, mean.abs())\n",
    "    if ax is None:\n",
    "        plt.figure(figsize=(1,1))\n",
    "        ax = plt.gca()\n",
    "    X = torch.arange(N)\n",
    "    Y0 = torch.zeros_like(X)\n",
    "    Y_fg = smooth(foreground)\n",
    "    y1 = Y_fg.max().item()\n",
    "    ax.fill_between(X, Y0, Y_fg, lw=0.1, color=\"#005\")\n",
    "    ax.set_xticks(())\n",
    "    ax.set_yticks(())\n",
    "    ax.set_ylim(0, None)\n",
    "    if gene_name:\n",
    "        start, end = GENE_TO_POSITION[gene_name]\n",
    "        ax.set_xlim(start, end)\n",
    "    else:\n",
    "        ax.set_xlim(0, N)\n",
    "    \n",
    "plot_density(list(results.values())[0][\"mean\"][\"coef\"])\n",
    "plot_density(list(results.values())[0][\"mean\"][\"coef\"], gene_name=\"N\")"
   ]
  },
  {
   "cell_type": "code",
   "execution_count": null,
   "id": "53d9f38e",
   "metadata": {},
   "outputs": [],
   "source": [
    "fig, axes = plt.subplots(2, 6, figsize=(8, 2.5), dpi=300)\n",
    "for i, (coef_scale, col) in enumerate(sorted(collated.items())):\n",
    "    plot_density(col[None][\"mean\"], axes[0][i], kernel_radius=400)\n",
    "    plot_density(col[None][\"mean\"], axes[1][i], kernel_radius=80, gene_name=\"N\")\n",
    "for i, names in {0: [\"left\", \"top\", \"right\"], 1: [\"left\", \"right\", \"bottom\"]}.items():\n",
    "    ax = axes[i][2]\n",
    "    for name in names:\n",
    "        spine = ax.spines[name]\n",
    "        spine.set_linewidth(2.0)\n",
    "        spine.set_color(\"darkred\")\n",
    "        \n",
    "fig.add_subplot(111, frameon=False)\n",
    "plt.xticks(())\n",
    "plt.yticks(())\n",
    "plt.xlabel(\"aa position within genome (top) or N gene (bottom)\")\n",
    "axes[0][0].set_ylabel(\"whole genome\")\n",
    "axes[1][0].set_ylabel(\"N gene\")\n",
    "plt.subplots_adjust(hspace=0, wspace=0.01)\n",
    "plt.savefig(\"paper/coef_scale_manhattan.png\")"
   ]
  },
  {
   "cell_type": "code",
   "execution_count": null,
   "id": "b51b0f4c",
   "metadata": {},
   "outputs": [],
   "source": []
  }
 ],
 "metadata": {
  "kernelspec": {
   "display_name": "Python 3",
   "language": "python",
   "name": "python3"
  },
  "language_info": {
   "codemirror_mode": {
    "name": "ipython",
    "version": 3
   },
   "file_extension": ".py",
   "mimetype": "text/x-python",
   "name": "python",
   "nbconvert_exporter": "python",
   "pygments_lexer": "ipython3",
   "version": "3.6.12"
  }
 },
 "nbformat": 4,
 "nbformat_minor": 5
}
