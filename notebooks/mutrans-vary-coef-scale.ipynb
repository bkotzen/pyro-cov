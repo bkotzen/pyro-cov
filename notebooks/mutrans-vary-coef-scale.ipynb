{
 "cells": [
  {
   "cell_type": "markdown",
   "id": "f1b3db7b",
   "metadata": {},
   "source": [
    "## Experiment to determine prior regularization `coef_scale`\n",
    "\n",
    "This notebook assumes you have run\n",
    "```sh\n",
    "make update\n",
    "make preprocess\n",
    "python mutrans.py --vary-coef-scale=0.01,0.02,0.05,0.1,0.2,0.5\n",
    "```"
   ]
  },
  {
   "cell_type": "code",
   "execution_count": null,
   "id": "af0881ef",
   "metadata": {},
   "outputs": [],
   "source": [
    "from collections import defaultdict\n",
    "import matplotlib\n",
    "import matplotlib.pyplot as plt\n",
    "import torch\n",
    "import pyro.distributions as dist\n",
    "from pyrocov.util import pearson_correlation\n",
    "\n",
    "matplotlib.rcParams[\"figure.dpi\"] = 200\n",
    "matplotlib.rcParams[\"axes.edgecolor\"] = \"gray\"\n",
    "matplotlib.rcParams[\"figure.facecolor\"] = \"white\"\n",
    "matplotlib.rcParams[\"savefig.bbox\"] = \"tight\"\n",
    "matplotlib.rcParams['font.family'] = 'sans-serif'\n",
    "matplotlib.rcParams['font.sans-serif'] = ['Arial', 'Avenir', 'DejaVu Sans']"
   ]
  },
  {
   "cell_type": "code",
   "execution_count": null,
   "id": "e69f6bd7",
   "metadata": {},
   "outputs": [],
   "source": [
    "results = torch.load(\"results/mutrans.vary_coef_scale.pt\")\n",
    "assert len(results) == 3 * 6"
   ]
  },
  {
   "cell_type": "code",
   "execution_count": null,
   "id": "d45123ed",
   "metadata": {},
   "outputs": [],
   "source": [
    "collated = defaultdict(dict)\n",
    "for config, result in results.items():\n",
    "    holdout = config[-1]\n",
    "    if holdout:\n",
    "        holdout = holdout[0][0]\n",
    "        assert holdout in (\"include\", \"exclude\")\n",
    "    else:\n",
    "        holdout = None\n",
    "    coef_scale = float(config[0].split(\"=\")[-1])\n",
    "    collated[coef_scale][holdout] = {\n",
    "        \"mean\": result[\"mean\"][\"coef\"] / 100,\n",
    "        \"std\": result[\"std\"][\"coef\"] / 100,\n",
    "    }"
   ]
  },
  {
   "cell_type": "code",
   "execution_count": null,
   "id": "6de9e13f",
   "metadata": {},
   "outputs": [],
   "source": [
    "for coef_scale, col in collated.items():\n",
    "    col[\"pearson\"] = pearson_correlation(col[\"include\"][\"mean\"], col[\"exclude\"][\"mean\"])"
   ]
  },
  {
   "cell_type": "code",
   "execution_count": null,
   "id": "200b1e1c",
   "metadata": {},
   "outputs": [],
   "source": [
    "pearson = [float(col[\"pearson\"]) for col in collated.values()]\n",
    "plt.figure(figsize=(6,2.5))\n",
    "plt.plot(list(collated), pearson, zorder=-1);\n",
    "plt.plot([list(collated)[2]], [pearson[2]], \"ro\", zorder=0)\n",
    "plt.xscale(\"log\")\n",
    "plt.xlabel(\"Pearson correlation\")\n",
    "plt.ylabel(\"$\\sigma_3$ = regularization strength\")\n",
    "plt.tight_layout(pad=0)\n",
    "plt.savefig(\"paper/coef_scale_pearson.png\")"
   ]
  },
  {
   "cell_type": "code",
   "execution_count": null,
   "id": "7001c6ea",
   "metadata": {},
   "outputs": [],
   "source": [
    "fig, axes = plt.subplots(1, 6, figsize=(8, 1.5), sharey=True, sharex=True)\n",
    "for ax, (coef_scale, col) in zip(axes, sorted(collated.items())):\n",
    "    ax.scatter(col[\"exclude\"][\"mean\"].numpy(), col[\"include\"][\"mean\"].numpy(),\n",
    "               0.5, color=\"darkred\", alpha=0.5)\n",
    "    ax.set_title(f\"$\\\\sigma_3$ = {coef_scale}\\n$\\\\rho$ = {col['pearson']:0.3g}\", fontsize=9)\n",
    "    ax.set_xticks(())\n",
    "    ax.set_yticks(())\n",
    "for spine in axes[2].spines.values():\n",
    "    spine.set_linewidth(2.0)\n",
    "    spine.set_color(\"darkred\")\n",
    "    \n",
    "fig.add_subplot(111, frameon=False)\n",
    "plt.xticks(())\n",
    "plt.yticks(())\n",
    "plt.xlabel(\"World w/o Europe\")\n",
    "plt.ylabel(\"only Europe\")\n",
    "plt.subplots_adjust(wspace=0.01)\n",
    "plt.savefig(\"paper/coef_scale_scatter.png\")"
   ]
  },
  {
   "cell_type": "code",
   "execution_count": null,
   "id": "5abca19a",
   "metadata": {},
   "outputs": [],
   "source": [
    "sigma = 5.0\n",
    "p_sig = dist.Normal(torch.zeros(()).double(),1).cdf(torch.tensor(-sigma).double()).item()\n",
    "    \n",
    "fig, axes = plt.subplots(1, 6, figsize=(8, 1.5), sharey=True, sharex=True)\n",
    "x0 = min(col[None][\"mean\"].min().item() for col in collated.values()) * 1.05\n",
    "x1 = max(col[None][\"mean\"].max().item() for col in collated.values()) * 1.05\n",
    "y1 = max((col[None][\"mean\"] / col[None][\"std\"]).abs().max().item() * 1.05\n",
    "         for col in collated.values())\n",
    "for ax, (coef_scale, col) in zip(axes, sorted(collated.items())):\n",
    "    mean = col[None][\"mean\"]\n",
    "    std = col[None][\"std\"]\n",
    "    z = (mean / std).abs()\n",
    "    ok = (mean > 0) & (z > sigma)\n",
    "    ax.scatter(mean[ok].numpy(), z[ok].numpy(), 0.5, color=\"black\", alpha=0.3)\n",
    "    ax.scatter(mean[~ok].numpy(), z[~ok].numpy(), 0.5, color=\"gray\", alpha=0.3)\n",
    "    ax.set_title(f\"$\\\\sigma_3$ = {coef_scale}\", fontsize=9)\n",
    "    ax.set_yscale(\"symlog\")\n",
    "    ax.set_xticks(())\n",
    "    ax.set_yticks(())\n",
    "    ax.set_xlim(x0, x1)\n",
    "    ax.set_ylim(0, y1)\n",
    "    \n",
    "    ax.plot([0, 0, x1], [y1, sigma, sigma], 'k--', lw=1, alpha=0.2)\n",
    "    ax.plot([x0, 0, 0], [sigma, sigma, 0], 'k-', lw=1, alpha=0.1)\n",
    "for spine in axes[2].spines.values():\n",
    "    spine.set_linewidth(2.0)\n",
    "    spine.set_color(\"darkred\")\n",
    "\n",
    "fig.add_subplot(111, frameon=False)\n",
    "plt.xticks(())\n",
    "plt.yticks(())\n",
    "plt.xlabel(\"effect size $R_m/R_{wt}$\")\n",
    "plt.ylabel(\"statistical significance\\n(z-score)\")\n",
    "plt.subplots_adjust(wspace=0.01)\n",
    "plt.savefig(\"paper/coef_scale_volcano.png\")"
   ]
  },
  {
   "cell_type": "code",
   "execution_count": null,
   "id": "37c79f7a",
   "metadata": {},
   "outputs": [],
   "source": []
  }
 ],
 "metadata": {
  "kernelspec": {
   "display_name": "Python 3",
   "language": "python",
   "name": "python3"
  },
  "language_info": {
   "codemirror_mode": {
    "name": "ipython",
    "version": 3
   },
   "file_extension": ".py",
   "mimetype": "text/x-python",
   "name": "python",
   "nbconvert_exporter": "python",
   "pygments_lexer": "ipython3",
   "version": "3.6.12"
  }
 },
 "nbformat": 4,
 "nbformat_minor": 5
}
