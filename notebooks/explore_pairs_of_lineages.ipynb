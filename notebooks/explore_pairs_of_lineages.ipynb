{
 "cells": [
  {
   "cell_type": "markdown",
   "metadata": {},
   "source": [
    "# Compare pairs of lineages w.r.t. mutational profiles and determinants of transmissibility"
   ]
  },
  {
   "cell_type": "code",
   "execution_count": 1,
   "metadata": {},
   "outputs": [],
   "source": [
    "import pickle\n",
    "import numpy as np\n",
    "import matplotlib\n",
    "import matplotlib.pyplot as plt\n",
    "import torch\n",
    "from pyrocov import pangolin\n",
    "import pandas as pd\n",
    "\n",
    "matplotlib.rcParams[\"figure.dpi\"] = 200\n",
    "matplotlib.rcParams[\"axes.edgecolor\"] = \"gray\"\n",
    "matplotlib.rcParams[\"savefig.bbox\"] = \"tight\"\n",
    "matplotlib.rcParams['font.family'] = 'sans-serif'\n",
    "matplotlib.rcParams['font.sans-serif'] = ['Arial', 'Avenir', 'DejaVu Sans']"
   ]
  },
  {
   "cell_type": "code",
   "execution_count": 2,
   "metadata": {},
   "outputs": [
    {
     "name": "stdout",
     "output_type": "stream",
     "text": [
      "dict_keys(['location_id', 'mutations', 'weekly_clades', 'features', 'lineage_id', 'lineage_id_inv', 'time_shift'])\n"
     ]
    }
   ],
   "source": [
    "dataset = torch.load(\"results/mutrans.data.single.None.pt\", map_location=\"cpu\")\n",
    "print(dataset.keys())\n",
    "locals().update(dataset)"
   ]
  },
  {
   "cell_type": "code",
   "execution_count": 3,
   "metadata": {},
   "outputs": [],
   "source": [
    "features = dataset['features']\n",
    "coefficients = pd.read_csv(\"paper/mutations.tsv\", sep=\"\\t\", index_col=1)\n",
    "coefficients = coefficients.loc[dataset['mutations']].copy()\n",
    "feature_names = coefficients.index.values.tolist()\n",
    "\n",
    "lineage_id = {name: i for i, name in enumerate(lineage_id_inv)}\n",
    "lineage_id_inv = dataset['lineage_id_inv']\n",
    "\n",
    "deltaR = coefficients['Δ log R'].values\n",
    "zscore = coefficients['mean/stddev'].values"
   ]
  },
  {
   "cell_type": "code",
   "execution_count": 4,
   "metadata": {},
   "outputs": [],
   "source": [
    "##########################################\n",
    "### select pair of lineages to compare ###\n",
    "##########################################\n",
    "A, B = 'B.1.617.2', 'B.1'\n",
    "#A, B = 'B.1.1.7', 'B.1.1'\n",
    "#A, B = 'B.1.427', 'B.1'\n",
    "#A, B = 'B.1.351', 'B.1'\n",
    "#A, B = 'P.1', 'B.1.1'\n",
    "#A, B = 'AY.2', 'B.1.617.2'\n",
    "\n",
    "A_id, B_id = lineage_id[A], lineage_id[B]\n",
    "A_feat, B_feat = features[A_id].numpy(), features[B_id].numpy()\n",
    "\n",
    "delta_cov = A_feat - B_feat\n",
    "delta_cov_abs = np.fabs(A_feat - B_feat)"
   ]
  },
  {
   "cell_type": "code",
   "execution_count": 5,
   "metadata": {},
   "outputs": [
    {
     "name": "stdout",
     "output_type": "stream",
     "text": [
      "deltaR_cutoff 0.042476400000000004\n",
      "ORF1a:P2287S \t deltaR: 0.044  zscore: 253.71 \t\t delta_feature: 0.80\n",
      "ORF1a:T3255I \t deltaR: 0.045  zscore: 240.18 \t\t delta_feature: 0.80\n",
      "S:L452R \t deltaR: 0.048  zscore: 244.88 \t\t delta_feature: 0.98\n",
      "S:P681R \t deltaR: 0.051  zscore: 300.61 \t\t delta_feature: 0.97\n",
      "\n",
      " B.1.617.2 over B.1\n",
      "ORF1a:P2287S, ORF1a:T3255I, S:L452R, S:P681R, "
     ]
    }
   ],
   "source": [
    "# look at top 100 mutations w.r.t. effect size\n",
    "deltaR_cutoff = np.fabs(deltaR)[np.argsort(np.fabs(deltaR))[-100]]\n",
    "print(\"deltaR_cutoff\", deltaR_cutoff)\n",
    "\n",
    "selected_features = []\n",
    "\n",
    "for i, name in enumerate(feature_names):\n",
    "    if len(name) <= 6:\n",
    "        name = name + \"  \"\n",
    "    dR = deltaR[i]\n",
    "    dC = delta_cov[i]\n",
    "    z = zscore[i]\n",
    "    if dR > deltaR_cutoff and np.fabs(dC) > 0.5:\n",
    "        selected_features.append(name)\n",
    "        print(\"{} \\t deltaR: {:.3f}  zscore: {:.2f} \\t\\t delta_feature: {:.2f}\".format(name, dR, z, dC))\n",
    "\n",
    "print(\"\\n\", A, \"over\" ,B)\n",
    "for s in selected_features:\n",
    "    print(s + \", \", end='')"
   ]
  },
  {
   "cell_type": "code",
   "execution_count": 6,
   "metadata": {},
   "outputs": [
    {
     "name": "stdout",
     "output_type": "stream",
     "text": [
      "M:I82T   \t deltaR: 0.038  zscore: 230.30 \t\t delta_feature: 1.00\n",
      "N:D63G   \t deltaR: 0.028  zscore: 201.31 \t\t delta_feature: 0.99\n",
      "ORF1a:P2287S \t deltaR: 0.044  zscore: 253.71 \t\t delta_feature: 0.80\n",
      "ORF1a:T3255I \t deltaR: 0.045  zscore: 240.18 \t\t delta_feature: 0.80\n",
      "ORF1b:G662S \t deltaR: 0.027  zscore: 228.74 \t\t delta_feature: 0.98\n",
      "ORF1b:P1000L \t deltaR: 0.035  zscore: 211.10 \t\t delta_feature: 0.98\n",
      "S:D950N \t deltaR: 0.036  zscore: 231.28 \t\t delta_feature: 0.98\n",
      "S:E156- \t deltaR: 0.028  zscore: 203.85 \t\t delta_feature: 0.95\n",
      "S:L452R \t deltaR: 0.048  zscore: 244.88 \t\t delta_feature: 0.98\n",
      "S:P681R \t deltaR: 0.051  zscore: 300.61 \t\t delta_feature: 0.97\n",
      "\n",
      " B.1.617.2 over B.1\n",
      "M:I82T  , N:D63G  , ORF1a:P2287S, ORF1a:T3255I, ORF1b:G662S, ORF1b:P1000L, S:D950N, S:E156-, S:L452R, S:P681R, "
     ]
    }
   ],
   "source": [
    "selected_features = []\n",
    "\n",
    "# look at large z-score mutations (i.e. increase growth rate)\n",
    "for i, name in enumerate(feature_names):\n",
    "    if len(name) <= 6:\n",
    "        name = name + \"  \"\n",
    "    dR = deltaR[i]\n",
    "    dC = delta_cov[i]\n",
    "    z = zscore[i]\n",
    "    if z > 200.0 and np.fabs(dC) > 0.5:\n",
    "        selected_features.append(name)\n",
    "        print(\"{} \\t deltaR: {:.3f}  zscore: {:.2f} \\t\\t delta_feature: {:.2f}\".format(name, dR, z, dC))\n",
    "\n",
    "print(\"\\n\", A, \"over\" ,B)\n",
    "for s in selected_features:\n",
    "    print(s + \", \", end='')"
   ]
  },
  {
   "cell_type": "code",
   "execution_count": 7,
   "metadata": {},
   "outputs": [],
   "source": [
    "def findfeat(s):\n",
    "    for i, n in enumerate(feature_names):\n",
    "        if n==s:\n",
    "            return i\n",
    "    return -1"
   ]
  },
  {
   "cell_type": "code",
   "execution_count": 8,
   "metadata": {},
   "outputs": [
    {
     "name": "stdout",
     "output_type": "stream",
     "text": [
      "0.0054945056\n",
      "0.96954316\n"
     ]
    }
   ],
   "source": [
    "print(features[lineage_id['B.1']].numpy()[findfeat('S:H69-')])\n",
    "print(features[lineage_id['B.1.1.7']].numpy()[findfeat('S:H69-')])"
   ]
  },
  {
   "cell_type": "code",
   "execution_count": 9,
   "metadata": {},
   "outputs": [
    {
     "data": {
      "text/plain": [
       "array([[1.73514e-02, 2.10334e+02]])"
      ]
     },
     "execution_count": 9,
     "metadata": {},
     "output_type": "execute_result"
    }
   ],
   "source": [
    "coefficients[coefficients.index == 'S:H69-'][['Δ log R', 'mean/stddev']].values"
   ]
  }
 ],
 "metadata": {
  "kernelspec": {
   "display_name": "Python 3",
   "language": "python",
   "name": "python3"
  },
  "language_info": {
   "codemirror_mode": {
    "name": "ipython",
    "version": 3
   },
   "file_extension": ".py",
   "mimetype": "text/x-python",
   "name": "python",
   "nbconvert_exporter": "python",
   "pygments_lexer": "ipython3",
   "version": "3.8.3"
  }
 },
 "nbformat": 4,
 "nbformat_minor": 4
}
