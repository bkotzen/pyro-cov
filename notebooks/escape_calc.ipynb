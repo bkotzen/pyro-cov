{
 "cells": [
  {
   "cell_type": "code",
   "execution_count": 1,
   "id": "2600cb32",
   "metadata": {},
   "outputs": [],
   "source": [
    "# the following python script is necessary to run this notebook.\n",
    "# it is available here: \n",
    "# https://github.com/jbloomlab/SARS2_RBD_Ab_escape_maps/blob/main/bindingcalculator.py\n",
    "from bindingcalculator import BindingCalculator\n",
    "\n",
    "import pandas as pd\n",
    "import numpy as np\n",
    "import matplotlib.pyplot as plt\n",
    "from scipy import stats\n",
    "import pickle\n",
    "import torch"
   ]
  },
  {
   "cell_type": "markdown",
   "id": "49c6aeab",
   "metadata": {},
   "source": [
    "## Load binding calculator"
   ]
  },
  {
   "cell_type": "code",
   "execution_count": 2,
   "id": "b8419885",
   "metadata": {},
   "outputs": [
    {
     "name": "stdout",
     "output_type": "stream",
     "text": [
      "A total of 201 RBD sites have escape data\n",
      "Sites span 331 to 531\n"
     ]
    }
   ],
   "source": [
    "# instantiate binding calculator based on escape data\n",
    "# https://github.com/jbloomlab/SARS2_RBD_Ab_escape_maps/\n",
    "\n",
    "url = 'https://raw.githubusercontent.com/jbloomlab/' + \\\n",
    "      'SARS2_RBD_Ab_escape_maps/main/processed_data/escape_calculator_data.csv'\n",
    "metric = 'sum of mutations at site' # metric='mean of mutations at site',\n",
    "bindcalc = BindingCalculator(csv_or_url=url,\n",
    "                             eliciting_virus='SARS-CoV-2',\n",
    "                             source_lab='all',\n",
    "                             neutralizes_Omicron='either',\n",
    "                             metric=metric,\n",
    "                             mutation_escape_strength=2.0)\n",
    "sites = bindcalc.sites\n",
    "print(\"A total of {} RBD sites have escape data\".format(len(bindcalc.sites)))\n",
    "print(\"Sites span {} to {}\".format(min(sites), max(sites)))"
   ]
  },
  {
   "cell_type": "code",
   "execution_count": 3,
   "id": "520edf16",
   "metadata": {},
   "outputs": [
    {
     "name": "stdout",
     "output_type": "stream",
     "text": [
      "Our model considers 415 mutations in the S gene.\n",
      "Of these, 47 mutations have escape data:\n",
      "[339, 344, 346, 352, 356, 357, 370, 371, 373, 375, 376, 384, 385, 394, 405, 408, 411, 414, 415, 417, 439, 440, 445, 446, 449, 450, 452, 453, 459, 460, 470, 477, 478, 479, 481, 483, 484, 490, 493, 494, 496, 498, 499, 501, 505, 520, 522]\n"
     ]
    }
   ],
   "source": [
    "# ingest pyro-cov inferences\n",
    "mutations = pd.read_csv('../paper/mutations.tsv', sep='\\t')\n",
    "# filter to S gene only\n",
    "mutations = mutations[[m[:2]=='S:' for m in mutations.mutation]]\n",
    "print(\"Our model considers {} mutations in the S gene.\".format(len(mutations)))\n",
    "# filter to sites that we have escape data for\n",
    "mutations = mutations[[int(m[3:-1]) in sites for m in mutations.mutation]]\n",
    "sites = list(set([int(m[3:-1]) if int(m[3:-1]) in sites else None for m in mutations.mutation]))\n",
    "print(\"Of these, {} mutations have escape data:\".format(len(sites)))\n",
    "print(sorted(sites))"
   ]
  },
  {
   "cell_type": "markdown",
   "id": "b347c0e9",
   "metadata": {},
   "source": [
    "### All lineage analysis"
   ]
  },
  {
   "cell_type": "code",
   "execution_count": 4,
   "id": "64ecf4b3",
   "metadata": {},
   "outputs": [
    {
     "name": "stdout",
     "output_type": "stream",
     "text": [
      "rbd_features (3000, 68)\n",
      "rbd_coef (68,)\n"
     ]
    }
   ],
   "source": [
    "results_dir = '../results/'\n",
    "filename = 'mutrans.svi.3000.1.50.coef_scale=0.05.reparam-localinit.full.10001.0.05.0.1.10.0.200.6.None..pt'\n",
    "fit = torch.load(results_dir + filename, map_location=torch.device('cpu'))\n",
    "\n",
    "coef = fit['median']['coef'].data.cpu()\n",
    "\n",
    "features = torch.load(results_dir + 'features.3000.1.pt', map_location=torch.device('cpu'))\n",
    "\n",
    "clades = features['clades']\n",
    "clade_to_lineage = features['clade_to_lineage']\n",
    "mutations = features['aa_mutations']\n",
    "features = features['aa_features'].data.cpu().float()\n",
    "\n",
    "rbd = []\n",
    "for m in mutations:\n",
    "    if m[:2] != 'S:':\n",
    "        rbd.append(0)\n",
    "        continue\n",
    "\n",
    "    pos = int(m[3:-1])\n",
    "    if pos >= 319 and pos <= 541:\n",
    "        rbd.append(1)\n",
    "    else:\n",
    "        rbd.append(0)\n",
    "\n",
    "rbd = torch.tensor(rbd).bool()\n",
    "rbd_mutations = np.array(mutations)[rbd].tolist()\n",
    "rbd_features = features[:, rbd].data.numpy()\n",
    "rbd_coef = coef[rbd].data.numpy()\n",
    "\n",
    "print(\"rbd_features\", rbd_features.shape)\n",
    "print(\"rbd_coef\", rbd_coef.shape)"
   ]
  },
  {
   "cell_type": "code",
   "execution_count": 5,
   "id": "d9c428a9",
   "metadata": {},
   "outputs": [
    {
     "name": "stdout",
     "output_type": "stream",
     "text": [
      "68 (68,) (3000, 68)\n",
      "67 68\n"
     ]
    }
   ],
   "source": [
    "print(len(rbd_mutations), rbd_coef.shape, rbd_features.shape)\n",
    "\n",
    "common_mutations = []\n",
    "for m in rbd_mutations:\n",
    "    m = int(m[3:-1])\n",
    "    if m in sites:\n",
    "        common_mutations.append(1)\n",
    "    else:\n",
    "        common_mutations.append(0)\n",
    "common_mutations = np.array(common_mutations, dtype=bool)   \n",
    "print(common_mutations.sum(), common_mutations.shape[0])"
   ]
  },
  {
   "cell_type": "code",
   "execution_count": 6,
   "id": "2c5a2f01",
   "metadata": {},
   "outputs": [
    {
     "name": "stdout",
     "output_type": "stream",
     "text": [
      "(1701, 67)\n",
      "(1701,)\n"
     ]
    }
   ],
   "source": [
    "rbd_mutations = np.array(rbd_mutations)[common_mutations]\n",
    "rbd_features = rbd_features[:, common_mutations]\n",
    "\n",
    "at_least_one_rbd_mutation = rbd_features.sum(-1) > 0\n",
    "rbd_features = np.array(rbd_features[at_least_one_rbd_mutation], dtype=bool)\n",
    "print(rbd_features.shape)\n",
    "\n",
    "rbd_pred = 0.01 * rbd_features @ rbd_coef[common_mutations]\n",
    "print(rbd_pred.shape)"
   ]
  },
  {
   "cell_type": "code",
   "execution_count": 7,
   "id": "fccf3773",
   "metadata": {},
   "outputs": [
    {
     "name": "stdout",
     "output_type": "stream",
     "text": [
      "1701\n"
     ]
    }
   ],
   "source": [
    "binding = []\n",
    "\n",
    "for variant in rbd_features:\n",
    "    mutations = rbd_mutations[variant]\n",
    "    mutations = [int(m[3:-1]) for m in mutations]\n",
    "    assert len(mutations) == len(set(mutations))\n",
    "    binding.append( 1 - bindcalc.binding_retained(mutations) )\n",
    "        \n",
    "print(len(binding))"
   ]
  },
  {
   "cell_type": "code",
   "execution_count": 8,
   "id": "de8ea233",
   "metadata": {},
   "outputs": [
    {
     "data": {
      "image/png": "[encoded data removed]",
      "text/plain": [
       "<Figure size 432x288 with 1 Axes>"
      ]
     },
     "metadata": {
      "needs_background": "light"
     },
     "output_type": "display_data"
    }
   ],
   "source": [
    "spearman = stats.spearmanr(binding, rbd_pred)[0]\n",
    "\n",
    "plt.scatter(binding, rbd_pred, alpha=0.5, s=12)\n",
    "plt.xlabel(\"1 - binding_retained (Greaney et. al.)\", fontsize=16)\n",
    "plt.ylabel(\"Δ log R (RBD only)\", fontsize=16)\n",
    "plt.text(0.0, 0.83, \"$\\\\rho_{\\\\rm spearman}$\" +\": {:.2f}\".format(spearman), fontsize=18)\n",
    "plt.tick_params(axis='both', which='major', labelsize=14)\n",
    "plt.tick_params(axis='both', which='minor', labelsize=14)\n",
    "    \n",
    "plt.tight_layout()\n",
    "plt.savefig(\"binding_retained.png\")\n",
    "plt.show()"
   ]
  }
 ],
 "metadata": {
  "kernelspec": {
   "display_name": "Python 3",
   "language": "python",
   "name": "python3"
  },
  "language_info": {
   "codemirror_mode": {
    "name": "ipython",
    "version": 3
   },
   "file_extension": ".py",
   "mimetype": "text/x-python",
   "name": "python",
   "nbconvert_exporter": "python",
   "pygments_lexer": "ipython3",
   "version": "3.8.2"
  }
 },
 "nbformat": 4,
 "nbformat_minor": 5
}
