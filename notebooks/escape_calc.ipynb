{
 "cells": [
  {
   "cell_type": "code",
   "execution_count": null,
   "id": "6df5e2ca",
   "metadata": {},
   "outputs": [],
   "source": [
    "from bindingcalculator import BindingCalculator\n",
    "import pandas as pd\n",
    "import numpy as np\n",
    "import matplotlib.pyplot as plt\n",
    "from scipy import stats\n",
    "import pickle"
   ]
  },
  {
   "cell_type": "markdown",
   "id": "0beceab5",
   "metadata": {},
   "source": [
    "## Load binding calculator"
   ]
  },
  {
   "cell_type": "code",
   "execution_count": null,
   "id": "0ba1d0e3",
   "metadata": {},
   "outputs": [],
   "source": [
    "# instantiate binding calculator based on escape data\n",
    "# https://github.com/jbloomlab/SARS2_RBD_Ab_escape_maps/\n",
    "\n",
    "metric='sum of mutations at site' # metric='mean of mutations at site',\n",
    "bindcalc = BindingCalculator(csv_or_url='./escape_calculator_data.csv',\n",
    "                             eliciting_virus='SARS-CoV-2',\n",
    "                             source_lab='all',\n",
    "                             neutralizes_Omicron='either',\n",
    "                             metric=metric,\n",
    "                             mutation_escape_strength=2.0)\n",
    "sites = bindcalc.sites\n",
    "print(\"A total of {} RBD sites have escape data\".format(len(bindcalc.sites)))\n",
    "print(\"Sites span {} to {}\".format(min(sites), max(sites)))"
   ]
  },
  {
   "cell_type": "code",
   "execution_count": null,
   "id": "bab1fe21",
   "metadata": {},
   "outputs": [],
   "source": [
    "# ingest pyro-cov inferences\n",
    "mutations = pd.read_csv('../paper/mutations.tsv', sep='\\t')\n",
    "# filter to S gene only\n",
    "mutations = mutations[[m[:2]=='S:' for m in mutations.mutation]]\n",
    "print(\"Our model considers {} mutations in the S gene.\".format(len(mutations)))\n",
    "# filter to sites that we have escape data for\n",
    "mutations = mutations[[int(m[3:-1]) in sites for m in mutations.mutation]]\n",
    "sites = list(set([int(m[3:-1]) if int(m[3:-1]) in sites else None for m in mutations.mutation]))\n",
    "print(\"Of these, {} mutations have escape data:\".format(len(sites)))\n",
    "print(sorted(sites))"
   ]
  },
  {
   "cell_type": "markdown",
   "id": "0357a456",
   "metadata": {},
   "source": [
    "### All lineage analysis"
   ]
  },
  {
   "cell_type": "code",
   "execution_count": null,
   "id": "bf79df59",
   "metadata": {},
   "outputs": [],
   "source": [
    "_, rbd_mutations, _, rbd_coef, _, _, rbd_features, clades, clade_to_lineage = \\\n",
    "    pickle.load(open('rbd_data.pkl', 'rb'))\n",
    "\n",
    "print(len(rbd_mutations), rbd_coef.shape, rbd_features.shape)\n",
    "\n",
    "common_mutations = []\n",
    "for m in rbd_mutations:\n",
    "    m = int(m[3:-1])\n",
    "    if m in sites:\n",
    "        common_mutations.append(1)\n",
    "    else:\n",
    "        common_mutations.append(0)\n",
    "common_mutations = np.array(common_mutations, dtype=bool)   \n",
    "print(common_mutations.sum(), common_mutations.shape[0])"
   ]
  },
  {
   "cell_type": "code",
   "execution_count": null,
   "id": "a2c5ef98",
   "metadata": {},
   "outputs": [],
   "source": [
    "rbd_mutations = np.array(rbd_mutations)[common_mutations]\n",
    "rbd_features = rbd_features[:, common_mutations]\n",
    "\n",
    "at_least_one_rbd_mutation = rbd_features.sum(-1) > 0\n",
    "rbd_features = np.array(rbd_features[at_least_one_rbd_mutation], dtype=bool)\n",
    "print(rbd_features.shape)\n",
    "\n",
    "rbd_pred = 0.01 * rbd_features @ rbd_coef[common_mutations]\n",
    "print(rbd_pred.shape)"
   ]
  },
  {
   "cell_type": "code",
   "execution_count": null,
   "id": "123f0ef0",
   "metadata": {},
   "outputs": [],
   "source": [
    "binding = []\n",
    "\n",
    "for variant in rbd_features:\n",
    "    mutations = rbd_mutations[variant]\n",
    "    mutations = [int(m[3:-1]) for m in mutations]\n",
    "    assert len(mutations) == len(set(mutations))\n",
    "    binding.append( 1 - bindcalc.binding_retained(mutations) )\n",
    "        \n",
    "print(len(binding))"
   ]
  },
  {
   "cell_type": "code",
   "execution_count": null,
   "id": "28eb9e15",
   "metadata": {},
   "outputs": [],
   "source": [
    "spearman = stats.spearmanr(binding, rbd_pred)[0]\n",
    "\n",
    "plt.scatter(binding, rbd_pred, alpha=0.5, s=12)\n",
    "plt.xlabel(\"1 - binding_retained (Greaney et. al.)\", fontsize=16)\n",
    "plt.ylabel(\"Δ log R (RBD only)\", fontsize=16)\n",
    "plt.text(0.0, 0.52, \"$\\\\rho_{\\\\rm spearman}$\" +\": {:.2f}\".format(spearman), fontsize=18)\n",
    "plt.tick_params(axis='both', which='major', labelsize=14)\n",
    "plt.tick_params(axis='both', which='minor', labelsize=14)\n",
    "    \n",
    "plt.tight_layout()\n",
    "plt.savefig(\"binding_retained.png\")\n",
    "plt.show()"
   ]
  }
 ],
 "metadata": {
  "kernelspec": {
   "display_name": "Python 3",
   "language": "python",
   "name": "python3"
  },
  "language_info": {
   "codemirror_mode": {
    "name": "ipython",
    "version": 3
   },
   "file_extension": ".py",
   "mimetype": "text/x-python",
   "name": "python",
   "nbconvert_exporter": "python",
   "pygments_lexer": "ipython3",
   "version": "3.8.2"
  }
 },
 "nbformat": 4,
 "nbformat_minor": 5
}
