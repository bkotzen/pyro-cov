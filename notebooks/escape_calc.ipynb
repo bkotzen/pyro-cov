{
 "cells": [
  {
   "cell_type": "code",
   "execution_count": 1,
   "id": "fcf350cb",
   "metadata": {},
   "outputs": [],
   "source": [
    "from bindingcalculator import BindingCalculator\n",
    "import pandas as pd\n",
    "import numpy as np\n",
    "import matplotlib.pyplot as plt\n",
    "from scipy import stats"
   ]
  },
  {
   "cell_type": "code",
   "execution_count": 2,
   "id": "c67487e6",
   "metadata": {},
   "outputs": [
    {
     "name": "stdout",
     "output_type": "stream",
     "text": [
      "A total of 201 RBD sites have escape data\n"
     ]
    }
   ],
   "source": [
    "# instantiate binding calculator based on escape data\n",
    "# https://github.com/jbloomlab/SARS2_RBD_Ab_escape_maps/\n",
    "bindcalc = BindingCalculator(csv_or_url='./escape_calculator_data.csv',\n",
    "                             eliciting_virus='SARS-CoV-2',\n",
    "                             source_lab='all',\n",
    "                             neutralizes_Omicron='either',\n",
    "                             metric='sum of mutations at site',\n",
    "                             mutation_escape_strength=2.0)\n",
    "sites = bindcalc.sites\n",
    "print(\"A total of {} RBD sites have escape data\".format(len(bindcalc.sites)))"
   ]
  },
  {
   "cell_type": "code",
   "execution_count": 3,
   "id": "0863d149",
   "metadata": {},
   "outputs": [
    {
     "name": "stdout",
     "output_type": "stream",
     "text": [
      "Our model considers 321 mutations in the S gene.\n",
      "Of these, 41 mutations have escape data:\n",
      "[484, 501, 452, 477, 417, 478, 490, 439, 452, 484, 440, 501, 520, 346, 494, 478, 522, 346, 449, 414, 411, 484, 450, 452, 385, 479, 446, 486, 357, 481, 477, 384, 445, 483, 382, 493, 522, 408, 477, 453, 417]\n"
     ]
    }
   ],
   "source": [
    "# ingest pyro-cov inferences\n",
    "mutations = pd.read_csv('../paper/mutations.tsv', sep='\\t')\n",
    "# filter to S gene only\n",
    "mutations = mutations[[m[:2]=='S:' for m in mutations.mutation]]\n",
    "print(\"Our model considers {} mutations in the S gene.\".format(len(mutations)))\n",
    "# filter to sites that we have escape data for\n",
    "mutations = mutations[[int(m[3:-1]) in sites for m in mutations.mutation]]\n",
    "sites = [int(m[3:-1]) if int(m[3:-1]) in sites else None for m in mutations.mutation]\n",
    "print(\"Of these, {} mutations have escape data:\".format(len(sites)))\n",
    "print(sites)"
   ]
  },
  {
   "cell_type": "code",
   "execution_count": 4,
   "id": "328b14b5",
   "metadata": {},
   "outputs": [],
   "source": [
    "#binding = [-np.log(bindcalc.binding_retained([s])) for s in sites]\n",
    "binding = np.array([1 - bindcalc.binding_retained([s]) for s in sites])\n",
    "inferred_log_growth = mutations['Δ log R'].values\n",
    "#inferred_log_growth = inferred_log_growth[binding > 0.03]\n",
    "#binding = binding[binding > 0.03]"
   ]
  },
  {
   "cell_type": "code",
   "execution_count": 5,
   "id": "f03f5409",
   "metadata": {},
   "outputs": [
    {
     "data": {
      "image/png": "[encoded data removed]",
      "text/plain": [
       "<Figure size 432x288 with 1 Axes>"
      ]
     },
     "metadata": {
      "needs_background": "light"
     },
     "output_type": "display_data"
    }
   ],
   "source": [
    "pearson = stats.pearsonr(binding, inferred_log_growth)[0]\n",
    "spearman = stats.spearmanr(binding, inferred_log_growth)[0]\n",
    "\n",
    "plt.scatter(binding, inferred_log_growth)\n",
    "plt.xlabel(\"1 - binding retained (Greaney et. al.)\", fontsize=16)\n",
    "plt.ylabel(\"PyR0 Δ log R\", fontsize=16)\n",
    "plt.text(0.11, 0.11, \"Pearson = {:.2f}\".format(pearson), fontsize=14)\n",
    "plt.text(0.11, 0.098, \"Spearman = {:.2f}\".format(spearman), fontsize=14)\n",
    "plt.title(\"{} RBD sites\".format(len(binding)))\n",
    "plt.show()"
   ]
  }
 ],
 "metadata": {
  "kernelspec": {
   "display_name": "Python 3",
   "language": "python",
   "name": "python3"
  },
  "language_info": {
   "codemirror_mode": {
    "name": "ipython",
    "version": 3
   },
   "file_extension": ".py",
   "mimetype": "text/x-python",
   "name": "python",
   "nbconvert_exporter": "python",
   "pygments_lexer": "ipython3",
   "version": "3.8.2"
  }
 },
 "nbformat": 4,
 "nbformat_minor": 5
}
