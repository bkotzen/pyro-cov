{
 "cells": [
  {
   "cell_type": "markdown",
   "metadata": {},
   "source": [
    "# Explore GISAID data\n",
    "\n",
    "This notebook is used to update `FINE_COUNTRIES` in `pyrocov/mutrans.py`."
   ]
  },
  {
   "cell_type": "code",
   "execution_count": 1,
   "metadata": {},
   "outputs": [],
   "source": [
    "import pickle\n",
    "import torch\n",
    "from collections import Counter"
   ]
  },
  {
   "cell_type": "code",
   "execution_count": 2,
   "metadata": {},
   "outputs": [
    {
     "name": "stdout",
     "output_type": "stream",
     "text": [
      "loaded 1425131 rows\n",
      "['lineage', 'virus_name', 'accession_id', 'collection_date', 'location', 'add_location', 'day']\n"
     ]
    }
   ],
   "source": [
    "with open(\"results/gisaid.columns.pkl\", \"rb\") as f:\n",
    "    columns = pickle.load(f)\n",
    "print(\"loaded {} rows\".format(len(columns[\"day\"])))\n",
    "print(list(columns.keys()))"
   ]
  },
  {
   "cell_type": "code",
   "execution_count": 3,
   "metadata": {},
   "outputs": [],
   "source": [
    "counts = Counter()\n",
    "for location in columns[\"location\"]:\n",
    "    parts = location.split(\"/\")\n",
    "    if len(parts) < 2:\n",
    "        continue\n",
    "    parts = tuple(p.strip() for p in parts[:3])\n",
    "    counts[parts] += 1"
   ]
  },
  {
   "cell_type": "code",
   "execution_count": 4,
   "metadata": {},
   "outputs": [
    {
     "name": "stdout",
     "output_type": "stream",
     "text": [
      "Australia\n",
      "Canada\n",
      "Denmark\n",
      "France\n",
      "Germany\n",
      "Iceland\n",
      "Italy\n",
      "Japan\n",
      "Luxembourg\n",
      "Portugal\n",
      "Spain\n",
      "Sweden\n",
      "USA\n",
      "United Kingdom\n"
     ]
    }
   ],
   "source": [
    "fine_countries = set()\n",
    "for parts, count in counts.items():\n",
    "    if count >= 5000:\n",
    "        fine_countries.add(parts[1])\n",
    "fine_countries = list(sorted(fine_countries))\n",
    "print(\"\\n\".join(fine_countries))"
   ]
  },
  {
   "cell_type": "code",
   "execution_count": 9,
   "metadata": {},
   "outputs": [
    {
     "name": "stdout",
     "output_type": "stream",
     "text": [
      "Australia\n",
      "Belgium\n",
      "Brazil\n",
      "Canada\n",
      "Denmark\n",
      "France\n",
      "Germany\n",
      "India\n",
      "Italy\n",
      "Lithuania\n",
      "Netherlands\n",
      "Norway\n",
      "Poland\n",
      "Slovenia\n",
      "South Africa\n",
      "Spain\n",
      "Sweden\n",
      "Switzerland\n",
      "USA\n",
      "United Kingdom\n"
     ]
    }
   ],
   "source": [
    "from pyrocov.mutrans import get_fine_countries\n",
    "print(\"\\n\".join(sorted(get_fine_countries(columns))))"
   ]
  },
  {
   "cell_type": "code",
   "execution_count": 15,
   "metadata": {},
   "outputs": [
    {
     "name": "stdout",
     "output_type": "stream",
     "text": [
      "316448\tEurope / United Kingdom / England\n",
      "36773\tEurope / United Kingdom / Scotland\n",
      "33397\tEurope / United Kingdom / Wales\n",
      "4746\tEurope / United Kingdom / Northern Ireland\n",
      "171\tEurope / United Kingdom / England / South Yorkshire\n",
      "109\tEurope / United Kingdom / England / London\n",
      "11\tEurope / United Kingdom / England / Derbyshire\n",
      "2\tEurope / United Kingdom / England / Yorkshire / Sheffield\n",
      "2\tEurope / United Kingdom\n",
      "1\tEurope / United Kingdom / England / Northamtonshire\n",
      "1\tEurope / United Kingdom / England / Nottinghamhisre\n",
      "1\tEurope / United Kingdom / Wales / Cardiff\n",
      "1\tEurope / United Kingdom / England / Warwickshire\n",
      "1\tEurope / United Kingdom / London\n",
      "1\tEurope / United Kingdom / Scotland / Fraserburg\n"
     ]
    }
   ],
   "source": [
    "locations = Counter(columns[\"location\"])\n",
    "print(\"\\n\".join(f\"{c}\\t{p}\" for p, c in locations.most_common() if \"United Kingdom\" in p))"
   ]
  },
  {
   "cell_type": "code",
   "execution_count": null,
   "metadata": {},
   "outputs": [],
   "source": []
  }
 ],
 "metadata": {
  "kernelspec": {
   "display_name": "Python 3",
   "language": "python",
   "name": "python3"
  },
  "language_info": {
   "codemirror_mode": {
    "name": "ipython",
    "version": 3
   },
   "file_extension": ".py",
   "mimetype": "text/x-python",
   "name": "python",
   "nbconvert_exporter": "python",
   "pygments_lexer": "ipython3",
   "version": "3.7.0"
  }
 },
 "nbformat": 4,
 "nbformat_minor": 4
}
