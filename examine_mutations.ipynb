{
 "cells": [
  {
   "cell_type": "markdown",
   "id": "405d1f9d-3828-4524-9710-906d64ba057e",
   "metadata": {},
   "source": [
    "# Examine mutations"
   ]
  },
  {
   "cell_type": "code",
   "execution_count": null,
   "id": "c217a8a1-218b-47d7-86f8-fd431b6f58c2",
   "metadata": {},
   "outputs": [],
   "source": [
    "# load libraries\n",
    "library(tidyverse)\n",
    "library(gridExtra)"
   ]
  },
  {
   "cell_type": "code",
   "execution_count": null,
   "id": "4886aa93-95cd-44ab-8145-e0d68be7c832",
   "metadata": {},
   "outputs": [],
   "source": [
    "# Load the mutation data\n",
    "mutations_raw <- data.table::fread('paper/mutations.tsv')"
   ]
  },
  {
   "cell_type": "code",
   "execution_count": null,
   "id": "40867435-3754-42b9-a148-4b946c6911ec",
   "metadata": {},
   "outputs": [],
   "source": [
    "# inspect data\n",
    "head(mutations_raw, n=2)"
   ]
  },
  {
   "cell_type": "code",
   "execution_count": null,
   "id": "55a0d306-a44d-455e-9a4c-fdeda59d3c30",
   "metadata": {},
   "outputs": [],
   "source": [
    "# extract substition information\n",
    "mutations_raw %>% \n",
    "    select(rank, mutation) %>% \n",
    "    mutate(protein = sapply(strsplit(x = mutation, split=':', fixed=T), `[`, 1)) %>%\n",
    "    mutate(aachange = sapply(strsplit(x = mutation, split=':', fixed=T), `[`, 2)) %>%\n",
    "    mutate(aa_from = substr(aachange,1,1)) %>%\n",
    "    mutate(aa_to = substr(aachange,nchar(aachange),nchar(aachange))) -> mutation_info"
   ]
  },
  {
   "cell_type": "code",
   "execution_count": null,
   "id": "3b000456-4b49-4492-96f3-9650a0fcf7f0",
   "metadata": {},
   "outputs": [],
   "source": [
    "# inspect\n",
    "head(mutation_info)"
   ]
  },
  {
   "cell_type": "code",
   "execution_count": null,
   "id": "ddd2a3f5-a226-4c7c-a828-38252154bcb2",
   "metadata": {},
   "outputs": [],
   "source": [
    "# Get counts of each substitution\n",
    "mutation_info %>% \n",
    "    group_by(aa_from, aa_to) %>%\n",
    "    summarise( count = n() ) %>%\n",
    "    arrange(desc(count))-> substitution_count_data"
   ]
  },
  {
   "cell_type": "code",
   "execution_count": null,
   "id": "d13b6e94-e5c7-4c48-bf55-590152efcfa8",
   "metadata": {},
   "outputs": [],
   "source": [
    "# Look at top substitutions\n",
    "substitution_count_data  %>% head(10)"
   ]
  },
  {
   "cell_type": "code",
   "execution_count": null,
   "id": "5ad8b2f1-f9ac-48b0-bb76-fd24d1eb745c",
   "metadata": {},
   "outputs": [],
   "source": [
    "write.table(substitution_count_data, 'paper/top_substitions/top_substitions.csv')"
   ]
  },
  {
   "cell_type": "code",
   "execution_count": null,
   "id": "20102e4e-8c42-4e45-b687-b8466d06b251",
   "metadata": {},
   "outputs": [],
   "source": [
    "generate_substitions_plots <- function(substitution_count_data) {\n",
    "    substitution_count_data %>%\n",
    "        ggplot(aes(x=aa_from, y=count)) + \n",
    "        geom_bar(stat='identity') +\n",
    "        ggtitle('Substitions From') -> p_from\n",
    "    substitution_count_data %>%\n",
    "        ggplot(aes(x=aa_to, y=count)) + \n",
    "        geom_bar(stat='identity') +\n",
    "        ggtitle('Substitions From') -> p_to\n",
    "    substitution_count_data %>% \n",
    "        ggplot(aes(x=aa_from,y=aa_to,fill=count)) +\n",
    "        geom_tile() + \n",
    "        geom_text(aes(label=count), size=1) +\n",
    "        ggtitle(\"Heatmap of aa substitutions\") -> p_heat\n",
    "    grid.arrange(p_heat, p_from, p_to, ncol=3) -> p\n",
    "    invisible(p)\n",
    "}"
   ]
  },
  {
   "cell_type": "code",
   "execution_count": null,
   "id": "ceaad972-547b-4f03-9fe7-4859f98854a9",
   "metadata": {},
   "outputs": [],
   "source": [
    "options(repr.plot.width = 12, repr.plot.height = 5)\n",
    "generate_substitions_plots(substitution_count_data) -> p\n",
    "p"
   ]
  },
  {
   "cell_type": "code",
   "execution_count": null,
   "id": "60617675-e952-4578-a6b6-519354eced48",
   "metadata": {},
   "outputs": [],
   "source": [
    "ggsave(\"paper/top_substitions/top_substitions.png\", w=12,h=5,plot=p)"
   ]
  },
  {
   "cell_type": "markdown",
   "id": "d9c0f4e1-653b-496d-a958-265f531e2aa7",
   "metadata": {},
   "source": [
    "# Stratify by gene"
   ]
  },
  {
   "cell_type": "code",
   "execution_count": null,
   "id": "436a3430-daec-4edf-be6a-6f79122a9669",
   "metadata": {},
   "outputs": [],
   "source": [
    "# get list of genes\n",
    "mutation_info %>% \n",
    "    pull(protein) %>% \n",
    "    unique() -> gene_list"
   ]
  },
  {
   "cell_type": "markdown",
   "id": "02a1ae0e-8bf4-4689-a7d7-71cf33edd2c4",
   "metadata": {},
   "source": [
    "## ORF1b"
   ]
  },
  {
   "cell_type": "code",
   "execution_count": null,
   "id": "acdb5734-263b-4744-90a6-7bcb32ad7648",
   "metadata": {},
   "outputs": [],
   "source": [
    "for (g in gene_list) {\n",
    "    mutation_info %>% \n",
    "        filter(protein == g) %>%\n",
    "        group_by(aa_from, aa_to) %>%\n",
    "        summarise( count = n() ) %>%\n",
    "        arrange(desc(count)) -> gene_mutation_info\n",
    "    \n",
    "    write.table(gene_mutation_info, file = paste0(\"paper/top_substitions/top_substitutions__\",g,\".csv\"))\n",
    "    \n",
    "    generate_substitions_plots(gene_mutation_info) -> p_gene\n",
    "    \n",
    "    ggsave(filename = paste0(\"paper/top_substitions/top_substitutions__\",g,\".png\"), plot = p_gene, w= 12,h=5)\n",
    "}"
   ]
  },
  {
   "cell_type": "code",
   "execution_count": null,
   "id": "dd235d1b-06a7-4e26-8c65-fba74a0d6435",
   "metadata": {},
   "outputs": [],
   "source": []
  },
  {
   "cell_type": "code",
   "execution_count": null,
   "id": "c472d0e4-dd62-473e-ac34-edff0860bd9b",
   "metadata": {},
   "outputs": [],
   "source": []
  }
 ],
 "metadata": {
  "kernelspec": {
   "display_name": "R",
   "language": "R",
   "name": "ir"
  },
  "language_info": {
   "codemirror_mode": "r",
   "file_extension": ".r",
   "mimetype": "text/x-r-source",
   "name": "R",
   "pygments_lexer": "r",
   "version": "4.1.0"
  }
 },
 "nbformat": 4,
 "nbformat_minor": 5
}
