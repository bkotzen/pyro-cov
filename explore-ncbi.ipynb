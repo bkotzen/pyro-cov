{
 "cells": [
  {
   "cell_type": "code",
   "execution_count": null,
   "metadata": {},
   "outputs": [],
   "source": [
    "from collections import defaultdict\n",
    "import os\n",
    "\n",
    "import torch\n",
    "import numpy as np\n",
    "import matplotlib.pyplot as plt\n",
    "from pyrophylo.io import read_alignment"
   ]
  },
  {
   "cell_type": "code",
   "execution_count": null,
   "metadata": {},
   "outputs": [],
   "source": [
    "%%time\n",
    "filename = os.path.expanduser(\"~/data/ncbi/all.sequences.fasta\")\n",
    "sizes = defaultdict(int)\n",
    "size = 0\n",
    "with open(filename) as f:\n",
    "    for line in f:\n",
    "        if line.startswith(\">\"):\n",
    "            if size:\n",
    "                sizes[size] += 1\n",
    "                size = 0\n",
    "        else:\n",
    "            size += len(line) - 1"
   ]
  },
  {
   "cell_type": "code",
   "execution_count": null,
   "metadata": {},
   "outputs": [],
   "source": [
    "xs = sorted(sizes.keys())\n",
    "ys = [sizes[x] for x in xs]\n",
    "plt.figure(figsize=(5, 2), dpi=300)\n",
    "plt.scatter(xs, ys, alpha=0.25, lw=0)\n",
    "plt.yscale(\"log\")\n",
    "plt.ylabel(\"count\")\n",
    "plt.xlabel(\"sequence length\")\n",
    "plt.title(f\"lengths of {sum(ys)} sequences\");"
   ]
  },
  {
   "cell_type": "code",
   "execution_count": null,
   "metadata": {},
   "outputs": [],
   "source": []
  }
 ],
 "metadata": {
  "kernelspec": {
   "display_name": "Python 3",
   "language": "python",
   "name": "python3"
  },
  "language_info": {
   "codemirror_mode": {
    "name": "ipython",
    "version": 3
   },
   "file_extension": ".py",
   "mimetype": "text/x-python",
   "name": "python",
   "nbconvert_exporter": "python",
   "pygments_lexer": "ipython3",
   "version": "3.7.0"
  }
 },
 "nbformat": 4,
 "nbformat_minor": 4
}
