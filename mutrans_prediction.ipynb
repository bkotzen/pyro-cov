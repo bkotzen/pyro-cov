{
 "cells": [
  {
   "cell_type": "markdown",
   "metadata": {},
   "source": [
    "# Predictive accuracy of mutrans model on new lineages\n",
    "\n",
    "This notebook assumes you have run\n",
    "```sh\n",
    "make update  # downloads and preprocesses data\n",
    "python mutrans.py --vary-leaves=50  # or some largish number\n",
    "```"
   ]
  },
  {
   "cell_type": "code",
   "execution_count": 1,
   "metadata": {},
   "outputs": [],
   "source": [
    "import pickle\n",
    "import numpy as np\n",
    "import matplotlib\n",
    "import matplotlib.pyplot as plt\n",
    "import torch\n",
    "from pyrocov import pangolin\n",
    "from pyrocov.util import pearson_correlation\n",
    "\n",
    "matplotlib.rcParams[\"figure.dpi\"] = 200\n",
    "matplotlib.rcParams[\"axes.edgecolor\"] = \"gray\"\n",
    "matplotlib.rcParams[\"savefig.bbox\"] = \"tight\"\n",
    "matplotlib.rcParams['font.family'] = 'sans-serif'\n",
    "matplotlib.rcParams['font.sans-serif'] = ['Arial', 'Avenir', 'DejaVu Sans']"
   ]
  },
  {
   "cell_type": "code",
   "execution_count": 2,
   "metadata": {},
   "outputs": [
    {
     "name": "stdout",
     "output_type": "stream",
     "text": [
      "dict_keys(['location_id', 'mutations', 'weekly_strains', 'features', 'lineage_id', 'lineage_id_inv', 'local_time'])\n"
     ]
    }
   ],
   "source": [
    "dataset = torch.load(\"results/mutrans.data.single.None.pt\", map_location=\"cpu\")\n",
    "print(dataset.keys())\n",
    "locals().update(dataset)"
   ]
  },
  {
   "cell_type": "code",
   "execution_count": 3,
   "metadata": {},
   "outputs": [],
   "source": [
    "lineage_id = {name: i for i, name in enumerate(lineage_id_inv)}"
   ]
  },
  {
   "cell_type": "code",
   "execution_count": 4,
   "metadata": {},
   "outputs": [
    {
     "name": "stdout",
     "output_type": "stream",
     "text": [
      "('coef_scale=0.5', 'custom', 10001, 0.05, 0.1, 10.0, 200, 12, 150, ())\n",
      "('coef_scale=0.5', 'custom', 10001, 0.05, 0.1, 10.0, 200, 12, 164, ())\n",
      "('coef_scale=0.5', 'custom', 10001, 0.05, 0.1, 10.0, 200, 12, 178, ())\n",
      "('coef_scale=0.5', 'custom', 10001, 0.05, 0.1, 10.0, 200, 12, 192, ())\n",
      "('coef_scale=0.5', 'custom', 10001, 0.05, 0.1, 10.0, 200, 12, 206, ())\n",
      "('coef_scale=0.5', 'custom', 10001, 0.05, 0.1, 10.0, 200, 12, 220, ())\n",
      "('coef_scale=0.5', 'custom', 10001, 0.05, 0.1, 10.0, 200, 12, 234, ())\n",
      "('coef_scale=0.5', 'custom', 10001, 0.05, 0.1, 10.0, 200, 12, 248, ())\n",
      "('coef_scale=0.5', 'custom', 10001, 0.05, 0.1, 10.0, 200, 12, 262, ())\n",
      "('coef_scale=0.5', 'custom', 10001, 0.05, 0.1, 10.0, 200, 12, 276, ())\n",
      "('coef_scale=0.5', 'custom', 10001, 0.05, 0.1, 10.0, 200, 12, 290, ())\n",
      "('coef_scale=0.5', 'custom', 10001, 0.05, 0.1, 10.0, 200, 12, 304, ())\n",
      "('coef_scale=0.5', 'custom', 10001, 0.05, 0.1, 10.0, 200, 12, 318, ())\n",
      "('coef_scale=0.5', 'custom', 10001, 0.05, 0.1, 10.0, 200, 12, 332, ())\n",
      "('coef_scale=0.5', 'custom', 10001, 0.05, 0.1, 10.0, 200, 12, 346, ())\n",
      "('coef_scale=0.5', 'custom', 10001, 0.05, 0.1, 10.0, 200, 12, 360, ())\n",
      "('coef_scale=0.5', 'custom', 10001, 0.05, 0.1, 10.0, 200, 12, 374, ())\n",
      "('coef_scale=0.5', 'custom', 10001, 0.05, 0.1, 10.0, 200, 12, 388, ())\n",
      "('coef_scale=0.5', 'custom', 10001, 0.05, 0.1, 10.0, 200, 12, 402, ())\n",
      "('coef_scale=0.5', 'custom', 10001, 0.05, 0.1, 10.0, 200, 12, 416, ())\n",
      "('coef_scale=0.5', 'custom', 10001, 0.05, 0.1, 10.0, 200, 12, 430, ())\n",
      "('coef_scale=0.5', 'custom', 10001, 0.05, 0.1, 10.0, 200, 12, 444, ())\n",
      "('coef_scale=0.5', 'custom', 10001, 0.05, 0.1, 10.0, 200, 12, 458, ())\n",
      "('coef_scale=0.5', 'custom', 10001, 0.05, 0.1, 10.0, 200, 12, 472, ())\n",
      "('coef_scale=0.5', 'custom', 10001, 0.05, 0.1, 10.0, 200, 12, 486, ())\n",
      "('coef_scale=0.5', 'custom', 10001, 0.05, 0.1, 10.0, 200, 12, 500, ())\n",
      "('coef_scale=0.5', 'custom', 10001, 0.05, 0.1, 10.0, 200, 12, 514, ())\n",
      "('coef_scale=0.5', 'custom', 10001, 0.05, 0.1, 10.0, 200, 12, 528, ())\n",
      "('coef_scale=0.5', 'custom', 10001, 0.05, 0.1, 10.0, 200, 12, 542, ())\n"
     ]
    }
   ],
   "source": [
    "results = torch.load(\"results/mutrans.pt\")\n",
    "for key in results:\n",
    "    print(key)"
   ]
  },
  {
   "cell_type": "code",
   "execution_count": 5,
   "metadata": {},
   "outputs": [
    {
     "name": "stdout",
     "output_type": "stream",
     "text": [
      "dict_keys(['median', 'mean', 'std', 'losses', 'series', 'params', 'walltime', 'args', 'mutations', 'weekly_strains', 'weekly_cases', 'weekly_strains_shape', 'location_id', 'lineage_id_inv'])\n"
     ]
    }
   ],
   "source": [
    "best_fit = list(results.values())[0]\n",
    "print(best_fit.keys())"
   ]
  },
  {
   "cell_type": "code",
   "execution_count": 6,
   "metadata": {},
   "outputs": [
    {
     "ename": "FileNotFoundError",
     "evalue": "[Errno 2] No such file or directory: 'results/mutrans.vary_leaves.pt'",
     "output_type": "error",
     "traceback": [
      "\u001b[0;31m---------------------------------------------------------------------------\u001b[0m",
      "\u001b[0;31mFileNotFoundError\u001b[0m                         Traceback (most recent call last)",
      "\u001b[0;32m<ipython-input-6-f7e6520032fe>\u001b[0m in \u001b[0;36m<module>\u001b[0;34m\u001b[0m\n\u001b[0;32m----> 1\u001b[0;31m \u001b[0mloo\u001b[0m \u001b[0;34m=\u001b[0m \u001b[0mtorch\u001b[0m\u001b[0;34m.\u001b[0m\u001b[0mload\u001b[0m\u001b[0;34m(\u001b[0m\u001b[0;34m\"results/mutrans.vary_leaves.pt\"\u001b[0m\u001b[0;34m,\u001b[0m \u001b[0mmap_location\u001b[0m\u001b[0;34m=\u001b[0m\u001b[0;34m\"cpu\"\u001b[0m\u001b[0;34m)\u001b[0m\u001b[0;34m\u001b[0m\u001b[0;34m\u001b[0m\u001b[0m\n\u001b[0m\u001b[1;32m      2\u001b[0m \u001b[0mprint\u001b[0m\u001b[0;34m(\u001b[0m\u001b[0mlen\u001b[0m\u001b[0;34m(\u001b[0m\u001b[0mloo\u001b[0m\u001b[0;34m)\u001b[0m\u001b[0;34m)\u001b[0m\u001b[0;34m\u001b[0m\u001b[0;34m\u001b[0m\u001b[0m\n\u001b[1;32m      3\u001b[0m \u001b[0mprint\u001b[0m\u001b[0;34m(\u001b[0m\u001b[0mlist\u001b[0m\u001b[0;34m(\u001b[0m\u001b[0mloo\u001b[0m\u001b[0;34m)\u001b[0m\u001b[0;34m[\u001b[0m\u001b[0;36m0\u001b[0m\u001b[0;34m]\u001b[0m\u001b[0;34m)\u001b[0m\u001b[0;34m\u001b[0m\u001b[0;34m\u001b[0m\u001b[0m\n\u001b[1;32m      4\u001b[0m \u001b[0mprint\u001b[0m\u001b[0;34m(\u001b[0m\u001b[0mlist\u001b[0m\u001b[0;34m(\u001b[0m\u001b[0mloo\u001b[0m\u001b[0;34m.\u001b[0m\u001b[0mvalues\u001b[0m\u001b[0;34m(\u001b[0m\u001b[0;34m)\u001b[0m\u001b[0;34m)\u001b[0m\u001b[0;34m[\u001b[0m\u001b[0;36m0\u001b[0m\u001b[0;34m]\u001b[0m\u001b[0;34m.\u001b[0m\u001b[0mkeys\u001b[0m\u001b[0;34m(\u001b[0m\u001b[0;34m)\u001b[0m\u001b[0;34m)\u001b[0m\u001b[0;34m\u001b[0m\u001b[0;34m\u001b[0m\u001b[0m\n",
      "\u001b[0;32m~/anaconda3/lib/python3.8/site-packages/torch/serialization.py\u001b[0m in \u001b[0;36mload\u001b[0;34m(f, map_location, pickle_module, **pickle_load_args)\u001b[0m\n\u001b[1;32m    592\u001b[0m         \u001b[0mpickle_load_args\u001b[0m\u001b[0;34m[\u001b[0m\u001b[0;34m'encoding'\u001b[0m\u001b[0;34m]\u001b[0m \u001b[0;34m=\u001b[0m \u001b[0;34m'utf-8'\u001b[0m\u001b[0;34m\u001b[0m\u001b[0;34m\u001b[0m\u001b[0m\n\u001b[1;32m    593\u001b[0m \u001b[0;34m\u001b[0m\u001b[0m\n\u001b[0;32m--> 594\u001b[0;31m     \u001b[0;32mwith\u001b[0m \u001b[0m_open_file_like\u001b[0m\u001b[0;34m(\u001b[0m\u001b[0mf\u001b[0m\u001b[0;34m,\u001b[0m \u001b[0;34m'rb'\u001b[0m\u001b[0;34m)\u001b[0m \u001b[0;32mas\u001b[0m \u001b[0mopened_file\u001b[0m\u001b[0;34m:\u001b[0m\u001b[0;34m\u001b[0m\u001b[0;34m\u001b[0m\u001b[0m\n\u001b[0m\u001b[1;32m    595\u001b[0m         \u001b[0;32mif\u001b[0m \u001b[0m_is_zipfile\u001b[0m\u001b[0;34m(\u001b[0m\u001b[0mopened_file\u001b[0m\u001b[0;34m)\u001b[0m\u001b[0;34m:\u001b[0m\u001b[0;34m\u001b[0m\u001b[0;34m\u001b[0m\u001b[0m\n\u001b[1;32m    596\u001b[0m             \u001b[0;31m# The zipfile reader is going to advance the current file position.\u001b[0m\u001b[0;34m\u001b[0m\u001b[0;34m\u001b[0m\u001b[0;34m\u001b[0m\u001b[0m\n",
      "\u001b[0;32m~/anaconda3/lib/python3.8/site-packages/torch/serialization.py\u001b[0m in \u001b[0;36m_open_file_like\u001b[0;34m(name_or_buffer, mode)\u001b[0m\n\u001b[1;32m    228\u001b[0m \u001b[0;32mdef\u001b[0m \u001b[0m_open_file_like\u001b[0m\u001b[0;34m(\u001b[0m\u001b[0mname_or_buffer\u001b[0m\u001b[0;34m,\u001b[0m \u001b[0mmode\u001b[0m\u001b[0;34m)\u001b[0m\u001b[0;34m:\u001b[0m\u001b[0;34m\u001b[0m\u001b[0;34m\u001b[0m\u001b[0m\n\u001b[1;32m    229\u001b[0m     \u001b[0;32mif\u001b[0m \u001b[0m_is_path\u001b[0m\u001b[0;34m(\u001b[0m\u001b[0mname_or_buffer\u001b[0m\u001b[0;34m)\u001b[0m\u001b[0;34m:\u001b[0m\u001b[0;34m\u001b[0m\u001b[0;34m\u001b[0m\u001b[0m\n\u001b[0;32m--> 230\u001b[0;31m         \u001b[0;32mreturn\u001b[0m \u001b[0m_open_file\u001b[0m\u001b[0;34m(\u001b[0m\u001b[0mname_or_buffer\u001b[0m\u001b[0;34m,\u001b[0m \u001b[0mmode\u001b[0m\u001b[0;34m)\u001b[0m\u001b[0;34m\u001b[0m\u001b[0;34m\u001b[0m\u001b[0m\n\u001b[0m\u001b[1;32m    231\u001b[0m     \u001b[0;32melse\u001b[0m\u001b[0;34m:\u001b[0m\u001b[0;34m\u001b[0m\u001b[0;34m\u001b[0m\u001b[0m\n\u001b[1;32m    232\u001b[0m         \u001b[0;32mif\u001b[0m \u001b[0;34m'w'\u001b[0m \u001b[0;32min\u001b[0m \u001b[0mmode\u001b[0m\u001b[0;34m:\u001b[0m\u001b[0;34m\u001b[0m\u001b[0;34m\u001b[0m\u001b[0m\n",
      "\u001b[0;32m~/anaconda3/lib/python3.8/site-packages/torch/serialization.py\u001b[0m in \u001b[0;36m__init__\u001b[0;34m(self, name, mode)\u001b[0m\n\u001b[1;32m    209\u001b[0m \u001b[0;32mclass\u001b[0m \u001b[0m_open_file\u001b[0m\u001b[0;34m(\u001b[0m\u001b[0m_opener\u001b[0m\u001b[0;34m)\u001b[0m\u001b[0;34m:\u001b[0m\u001b[0;34m\u001b[0m\u001b[0;34m\u001b[0m\u001b[0m\n\u001b[1;32m    210\u001b[0m     \u001b[0;32mdef\u001b[0m \u001b[0m__init__\u001b[0m\u001b[0;34m(\u001b[0m\u001b[0mself\u001b[0m\u001b[0;34m,\u001b[0m \u001b[0mname\u001b[0m\u001b[0;34m,\u001b[0m \u001b[0mmode\u001b[0m\u001b[0;34m)\u001b[0m\u001b[0;34m:\u001b[0m\u001b[0;34m\u001b[0m\u001b[0;34m\u001b[0m\u001b[0m\n\u001b[0;32m--> 211\u001b[0;31m         \u001b[0msuper\u001b[0m\u001b[0;34m(\u001b[0m\u001b[0m_open_file\u001b[0m\u001b[0;34m,\u001b[0m \u001b[0mself\u001b[0m\u001b[0;34m)\u001b[0m\u001b[0;34m.\u001b[0m\u001b[0m__init__\u001b[0m\u001b[0;34m(\u001b[0m\u001b[0mopen\u001b[0m\u001b[0;34m(\u001b[0m\u001b[0mname\u001b[0m\u001b[0;34m,\u001b[0m \u001b[0mmode\u001b[0m\u001b[0;34m)\u001b[0m\u001b[0;34m)\u001b[0m\u001b[0;34m\u001b[0m\u001b[0;34m\u001b[0m\u001b[0m\n\u001b[0m\u001b[1;32m    212\u001b[0m \u001b[0;34m\u001b[0m\u001b[0m\n\u001b[1;32m    213\u001b[0m     \u001b[0;32mdef\u001b[0m \u001b[0m__exit__\u001b[0m\u001b[0;34m(\u001b[0m\u001b[0mself\u001b[0m\u001b[0;34m,\u001b[0m \u001b[0;34m*\u001b[0m\u001b[0margs\u001b[0m\u001b[0;34m)\u001b[0m\u001b[0;34m:\u001b[0m\u001b[0;34m\u001b[0m\u001b[0;34m\u001b[0m\u001b[0m\n",
      "\u001b[0;31mFileNotFoundError\u001b[0m: [Errno 2] No such file or directory: 'results/mutrans.vary_leaves.pt'"
     ]
    }
   ],
   "source": [
    "loo = torch.load(\"results/mutrans.vary_leaves.pt\", map_location=\"cpu\")\n",
    "print(len(loo))\n",
    "print(list(loo)[0])\n",
    "print(list(loo.values())[0].keys())"
   ]
  },
  {
   "cell_type": "code",
   "execution_count": null,
   "metadata": {},
   "outputs": [],
   "source": [
    "print(len(mutations))\n",
    "print(best_fit[\"median\"][\"rate_loc\"].shape)\n",
    "print(list(loo.values())[0][\"median\"][\"rate_loc\"].shape)"
   ]
  },
  {
   "cell_type": "code",
   "execution_count": null,
   "metadata": {},
   "outputs": [],
   "source": [
    "loo_rate_loc = {\n",
    "    k[-1][-1][-1][-1][-1].replace(\"$\", \"\").replace(\"^\", \"\"): v[\"median\"][\"rate_loc\"]\n",
    "    for k, v in loo.items()\n",
    "}\n",
    "print(\" \".join(loo_rate_loc))"
   ]
  },
  {
   "cell_type": "code",
   "execution_count": null,
   "metadata": {},
   "outputs": [],
   "source": [
    "best_rate_loc = best_fit[\"median\"][\"rate_loc\"]"
   ]
  },
  {
   "cell_type": "code",
   "execution_count": null,
   "metadata": {},
   "outputs": [],
   "source": [
    "def plot_prediction(filenames=[], debug=False):\n",
    "    X1, Y1, X2, Y2, labels, debug_labels = [], [], [], [], [], []\n",
    "    who = {vs[0]: k for k, vs in pangolin.WHO_ALIASES.items()}\n",
    "    ancestors = set(lineage_id)\n",
    "    for child, rate_loc in loo_rate_loc.items():\n",
    "        parent = pangolin.compress(\n",
    "            pangolin.get_most_recent_ancestor(\n",
    "                pangolin.decompress(child), ancestors\n",
    "            )\n",
    "        )\n",
    "        c = lineage_id[child]\n",
    "        p = lineage_id[parent]\n",
    "        truth = best_rate_loc[c].item()\n",
    "        baseline = rate_loc[p].item()\n",
    "        guess = rate_loc[c].item()\n",
    "        X1.append(truth)\n",
    "        Y1.append(guess)\n",
    "        X2.append(truth - baseline)\n",
    "        Y2.append(guess - baseline)\n",
    "        labels.append(who.get(child))\n",
    "        debug_labels.append(child)\n",
    "    fig, axes = plt.subplots(1, 2, figsize=(7, 3.5))\n",
    "    label_offsets = {\n",
    "        \"Alpha\": (0.0, 0.012),\n",
    "        \"Beta\": (-0.03, 0.03),\n",
    "        \"Gamma\": (-0.06, 0.06),\n",
    "        \"Delta\": (-0.03, 0.03),\n",
    "        \"Eta\": (0.03, -0.03),\n",
    "        \"Iota\": (0.0, -0.012),\n",
    "        \"Kappa\": (0.04, -0.04),\n",
    "        \"Lambda\": (0.03, -0.03),\n",
    "    }\n",
    "    label_offsets = {}\n",
    "    for ax, X, Y in zip(axes, [X1, X2], [Y1, Y2]):\n",
    "        X = np.array(X)\n",
    "        Y = np.array(Y)\n",
    "        ax.scatter(X, Y, 40, lw=0, alpha=1, color=\"white\", zorder=-5)\n",
    "        ax.scatter(X, Y, 20, lw=0, alpha=0.5, color=\"darkred\")\n",
    "        lb = min(min(X), min(Y))\n",
    "        ub = max(max(X), max(Y))\n",
    "        d = ub - lb\n",
    "        lb -= 0.03 * d\n",
    "        ub += 0.05 * d\n",
    "        ax.plot([lb, ub], [lb, ub], \"k--\", alpha=0.2, zorder=-10)\n",
    "        ax.set_xlim(lb, ub)\n",
    "        ax.set_ylim(lb, ub)\n",
    "        ax.text(lb + 0.06 * d, ub - 0.1 * d, f\"ρ = {pearson_correlation(X, Y):0.2g}\",\n",
    "                backgroundcolor=\"white\")\n",
    "        for x, y, label, debug_label in zip(X, Y, labels, debug_labels):\n",
    "            if label is not None:\n",
    "                pad = 0.01\n",
    "                ax.plot([x], [y], \"ko\", mfc=\"#c77\", c=\"black\", ms=4, mew=0.5)\n",
    "                if label in label_offsets:\n",
    "                    dx, dy = label_offsets[label]\n",
    "                    ax.plot([x, x + dx], [y, y + dy], \"k-\", lw=0.5, alpha=0.25, zorder=-1)\n",
    "                    ax.text(x + dx, y + dy, label, fontsize=7, alpha=0.7,\n",
    "                            ha=\"center\" if dx == 0 else \"left\" if dx > 0 else \"right\",\n",
    "                            va=\"center\" if dy == 0 else \"bottom\" if dy > 0 else \"top\")\n",
    "                else:\n",
    "                    ax.text(x, y + pad, label, va=\"bottom\", ha=\"center\", fontsize=7)\n",
    "            if debug and abs(x - y) > 0.2:\n",
    "                ax.text(x, y - pad, debug_label, va=\"top\", ha=\"center\", fontsize=5)\n",
    "    axes[0].set_xlabel(\"full estimate\")\n",
    "    axes[0].set_ylabel(\"LOO estimate\")\n",
    "    axes[1].set_xlabel(\"full estimate − baseline\")\n",
    "    axes[1].set_ylabel(\"LOO estimate − baseline\")\n",
    "    plt.tight_layout()\n",
    "    for f in filenames:\n",
    "        plt.savefig(f)\n",
    "plot_prediction(debug=True)\n",
    "plot_prediction(filenames=[\"paper/lineage_prediction.png\"])"
   ]
  },
  {
   "cell_type": "code",
   "execution_count": null,
   "metadata": {},
   "outputs": [],
   "source": []
  },
  {
   "cell_type": "code",
   "execution_count": null,
   "metadata": {},
   "outputs": [],
   "source": []
  },
  {
   "cell_type": "code",
   "execution_count": null,
   "metadata": {},
   "outputs": [],
   "source": []
  },
  {
   "cell_type": "code",
   "execution_count": null,
   "metadata": {},
   "outputs": [],
   "source": []
  },
  {
   "cell_type": "code",
   "execution_count": null,
   "metadata": {},
   "outputs": [],
   "source": []
  }
 ],
 "metadata": {
  "kernelspec": {
   "display_name": "Python 3",
   "language": "python",
   "name": "python3"
  },
  "language_info": {
   "codemirror_mode": {
    "name": "ipython",
    "version": 3
   },
   "file_extension": ".py",
   "mimetype": "text/x-python",
   "name": "python",
   "nbconvert_exporter": "python",
   "pygments_lexer": "ipython3",
   "version": "3.8.8"
  }
 },
 "nbformat": 4,
 "nbformat_minor": 4
}
