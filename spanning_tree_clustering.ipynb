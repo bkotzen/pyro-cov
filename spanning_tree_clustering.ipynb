{
 "cells": [
  {
   "cell_type": "markdown",
   "metadata": {},
   "source": [
    "## Scalable tree clustering with Pyro"
   ]
  },
  {
   "cell_type": "code",
   "execution_count": null,
   "metadata": {},
   "outputs": [],
   "source": [
    "import torch\n",
    "import pyro\n",
    "import pyro.distributions as dist\n",
    "from opt_einsum import contract as einsum\n",
    "from pyro.infer.autoguide import AutoDelta, init_to_sample\n",
    "from pyro.infer import SVI, Trace_ELBO\n",
    "from pyro.optim import Adam\n",
    "from pyro.distributions.spanning_tree import make_complete_graph\n",
    "import matplotlib.pyplot as plt"
   ]
  },
  {
   "cell_type": "code",
   "execution_count": null,
   "metadata": {},
   "outputs": [],
   "source": [
    "result = torch.load(\"results/gisaid.align.pt\")\n",
    "features = result[\"features\"]\n",
    "data = features[:, :64].float()\n",
    "print(data.shape)"
   ]
  },
  {
   "cell_type": "code",
   "execution_count": null,
   "metadata": {},
   "outputs": [],
   "source": [
    "LOG = {}\n",
    "\n",
    "def make_tree_dist(probs, temperature=1.):\n",
    "    v1, v2 = make_complete_graph(len(probs)).unbind(0)\n",
    "    edge_distance = (probs[v1] - probs[v2]).abs().sum(-1)\n",
    "    edge_logits = edge_distance.mul(-1/temperature)\n",
    "    return dist.SpanningTree(edge_logits)\n",
    "\n",
    "def model(data, num_clusters=100, batch_size=1024, temperature=0.1):\n",
    "    N, P = data.shape\n",
    "    K = num_clusters\n",
    "    probs = pyro.sample(\"probs\", dist.Uniform(0, 1).expand([K, P]).to_event(2))\n",
    "    tree_dist = make_tree_dist(probs, temperature)\n",
    "    pyro.factor(\"internal\", tree_dist.log_partition_function)\n",
    "\n",
    "    with pyro.plate(\"data\", len(data), subsample_size=batch_size) as ind:\n",
    "        distance = (probs - data[ind, None]).abs().sum(-1)\n",
    "        logits = distance.mul(-1/temperature)\n",
    "        LOG[\"logits\"] = logits.data\n",
    "        pyro.factor(\"leaf\", logits.logsumexp(-1))\n",
    "\n",
    "num_clusters = 100\n",
    "guide = AutoDelta(model, init_loc_fn=init_to_sample)\n",
    "\n",
    "pyro.clear_param_store()\n",
    "pyro.set_rng_seed(20201223)\n",
    "svi = SVI(model, guide, Adam({\"lr\": 0.05}), Trace_ELBO(max_plate_nesting=1))\n",
    "losses = []\n",
    "for step in range(501):\n",
    "    loss = svi.step(data, num_clusters) / data.numel()\n",
    "    losses.append(loss)\n",
    "    if step % 50 == 0:\n",
    "        with torch.no_grad():\n",
    "            p = (LOG[\"logits\"] - LOG[\"logits\"].logsumexp(-1, True)).exp().mean(0)\n",
    "            perplexity = p.log().clamp(min=-100).neg().mul(p).sum().exp()\n",
    "        print(f\"step {step: >4d} loss = {loss:0.3g}\\tperplexity = {perplexity:0.2f}\")\n",
    "plt.figure(figsize=(8, 2), dpi=300)\n",
    "plt.plot(losses, lw=1);"
   ]
  },
  {
   "cell_type": "code",
   "execution_count": null,
   "metadata": {},
   "outputs": [],
   "source": [
    "with torch.no_grad():\n",
    "    probs = guide.median()[\"probs\"]\n",
    "U, S, V = torch.pca_lowrank(probs)\n",
    "x, y = U[:, 0], U[:, 1]\n",
    "edges = make_tree_dist(probs, temperature=0.01).sample()\n",
    "\n",
    "plt.figure(figsize=(8, 2), dpi=300)\n",
    "d = (probs[edges[:, 0]] - probs[edges[:, 1]]).abs().sum(-1)\n",
    "plt.plot(d.sort(descending=True).values, \"bo\", markersize=2)\n",
    "plt.ylabel(\"edge length\")\n",
    "\n",
    "plt.figure(figsize=(8, 6), dpi=300)\n",
    "xs, ys = [], []\n",
    "for v1, v2 in edges:\n",
    "    xs.extend((x[v1], x[v2], None))\n",
    "    ys.extend((y[v1], y[v2], None))\n",
    "    d = (probs[v1] - probs[v2]).abs().sum()\n",
    "    plt.text((x[v1] + x[v2]) / 2, (y[v1] + y[v2]) / 2, \"{:0.1f}\".format(d),\n",
    "             fontsize=6, horizontalalignment='center', verticalalignment='center')\n",
    "plt.plot(xs, ys, lw=0.5)\n",
    "plt.scatter(x, y)\n",
    "plt.xticks(())\n",
    "plt.yticks(())\n",
    "plt.box(False);"
   ]
  },
  {
   "cell_type": "code",
   "execution_count": null,
   "metadata": {},
   "outputs": [],
   "source": []
  }
 ],
 "metadata": {
  "kernelspec": {
   "display_name": "Python 3",
   "language": "python",
   "name": "python3"
  },
  "language_info": {
   "codemirror_mode": {
    "name": "ipython",
    "version": 3
   },
   "file_extension": ".py",
   "mimetype": "text/x-python",
   "name": "python",
   "nbconvert_exporter": "python",
   "pygments_lexer": "ipython3",
   "version": "3.6.12"
  }
 },
 "nbformat": 4,
 "nbformat_minor": 4
}
