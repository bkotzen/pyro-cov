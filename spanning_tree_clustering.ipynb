{
 "cells": [
  {
   "cell_type": "markdown",
   "metadata": {},
   "source": [
    "## Scalable soft minimax clustering"
   ]
  },
  {
   "cell_type": "markdown",
   "metadata": {},
   "source": [
    "The results in this notebook require first obtaining gisaid data, then running\n",
    "```sh\n",
    "python preprocess_gisaid.py --align\n",
    "```"
   ]
  },
  {
   "cell_type": "code",
   "execution_count": null,
   "metadata": {},
   "outputs": [],
   "source": [
    "from collections import Counter\n",
    "import logging\n",
    "import torch\n",
    "import pyro\n",
    "import pyro.distributions as dist\n",
    "from opt_einsum import contract as einsum\n",
    "from pyro.infer.autoguide import AutoDelta, init_to_sample\n",
    "from pyro.infer import SVI, Trace_ELBO\n",
    "from pyro.optim import Adam\n",
    "from pyro.distributions.spanning_tree import make_complete_graph\n",
    "from pyrophylo.cluster import SoftminimaxClustering\n",
    "import umap\n",
    "import matplotlib.pyplot as plt\n",
    "\n",
    "logging.basicConfig(format=\"%(relativeCreated) 9d %(message)s\", level=logging.INFO)"
   ]
  },
  {
   "cell_type": "code",
   "execution_count": null,
   "metadata": {},
   "outputs": [],
   "source": [
    "result = torch.load(\"results/gisaid.align.pt\")\n",
    "print(result.keys())\n",
    "features = result[\"features\"]\n",
    "data = features[:, :64].float()\n",
    "print(data.shape)"
   ]
  },
  {
   "cell_type": "markdown",
   "metadata": {},
   "source": [
    "First let's sample a diverse set of points, which we'll use for initialization below. We'll use reservoir sampling, weighting by diversity."
   ]
  },
  {
   "cell_type": "code",
   "execution_count": null,
   "metadata": {},
   "outputs": [],
   "source": [
    "%%time\n",
    "clustering = SoftminimaxClustering(num_clusters=100, p_edge=8)\n",
    "clustering.init(data, log_every=10000)"
   ]
  },
  {
   "cell_type": "code",
   "execution_count": null,
   "metadata": {},
   "outputs": [],
   "source": [
    "def plot_clustering(clustering, data):\n",
    "    # Plot cluster sizes.\n",
    "    obs = clustering.classify(data)\n",
    "    cluster_sizes = torch.zeros(obs.max() + 1)\n",
    "    cluster_sizes.scatter_add_(0, obs, torch.ones(()).expand_as(obs))\n",
    "    p = cluster_sizes / cluster_sizes.sum()\n",
    "    perplexity = p.log().neg().mul(p).sum().exp()\n",
    "    plt.figure(figsize=(8, 3), dpi=300)\n",
    "    plt.plot(cluster_sizes)\n",
    "    plt.yscale(\"log\")\n",
    "    plt.xlabel(\"rank\")\n",
    "    plt.ylabel(\"cluster size\")\n",
    "    plt.title(f\"perplexity = {perplexity:0.2f}\")\n",
    "\n",
    "    # Compute PCA coords.\n",
    "    centers = clustering.mean\n",
    "    if True:\n",
    "        U, S, V = torch.pca_lowrank(centers)\n",
    "        x, y = U[:, 0], U[:, 1]\n",
    "    else:\n",
    "        x, y = torch.from_numpy(umap.UMAP().fit_transform(centers)).T\n",
    "\n",
    "    # Find a spanning tree.\n",
    "    v1, v2 = make_complete_graph(len(centers)).unbind(0)\n",
    "    distance = (centers[v1] - centers[v2]).abs().sum(-1)\n",
    "    edges = dist.SpanningTree(-distance).sample()\n",
    "\n",
    "    # Plot distribution of edge lengths.\n",
    "    plt.figure(figsize=(8, 2), dpi=300)\n",
    "    d = (centers[edges[:, 0]] - centers[edges[:, 1]]).abs().sum(-1)\n",
    "    plt.plot(d.sort(descending=True).values, \"bo\", markersize=2)\n",
    "    plt.text(len(d) * 0.8, d.max() * 0.8, f\"total length = {d.sum():0.1f}\",\n",
    "             horizontalalignment='center', verticalalignment='center')\n",
    "    plt.ylabel(\"edge length\");\n",
    "    plt.figure(figsize=(8, 6), dpi=300)\n",
    "    \n",
    "    # Plot a spanning tree.\n",
    "    xs, ys = [], []\n",
    "    for v1, v2 in edges:\n",
    "        xs.extend((x[v1], x[v2], None))\n",
    "        ys.extend((y[v1], y[v2], None))\n",
    "        d = (centers[v1] - centers[v2]).abs().sum()\n",
    "        plt.text((x[v1] + x[v2]) / 2, (y[v1] + y[v2]) / 2, \"{:0.1f}\".format(d),\n",
    "                 fontsize=6, horizontalalignment='center', verticalalignment='center')\n",
    "    plt.plot(xs, ys, lw=0.5)\n",
    "    plt.scatter(x, y)\n",
    "    plt.xticks(())\n",
    "    plt.yticks(())\n",
    "    plt.box(False)"
   ]
  },
  {
   "cell_type": "code",
   "execution_count": null,
   "metadata": {},
   "outputs": [],
   "source": [
    "plot_clustering(clustering, data)"
   ]
  },
  {
   "cell_type": "code",
   "execution_count": null,
   "metadata": {},
   "outputs": [],
   "source": [
    "%%time\n",
    "losses = clustering.fine_tune(data)\n",
    "plt.figure(figsize=(8, 2), dpi=300)\n",
    "plt.plot(losses, lw=1);"
   ]
  },
  {
   "cell_type": "code",
   "execution_count": null,
   "metadata": {},
   "outputs": [],
   "source": [
    "plot_clustering(clustering, data)"
   ]
  },
  {
   "cell_type": "code",
   "execution_count": null,
   "metadata": {},
   "outputs": [],
   "source": []
  }
 ],
 "metadata": {
  "kernelspec": {
   "display_name": "Python 3",
   "language": "python",
   "name": "python3"
  },
  "language_info": {
   "codemirror_mode": {
    "name": "ipython",
    "version": 3
   },
   "file_extension": ".py",
   "mimetype": "text/x-python",
   "name": "python",
   "nbconvert_exporter": "python",
   "pygments_lexer": "ipython3",
   "version": "3.6.12"
  }
 },
 "nbformat": 4,
 "nbformat_minor": 4
}
