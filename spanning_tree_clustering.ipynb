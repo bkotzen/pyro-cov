{
 "cells": [
  {
   "cell_type": "markdown",
   "metadata": {},
   "source": [
    "## Scalable tree clustering with Pyro"
   ]
  },
  {
   "cell_type": "markdown",
   "metadata": {},
   "source": [
    "The results in this notebook require first obtaining gisaid data, then running\n",
    "```sh\n",
    "python preprocess_gisaid.py --align\n",
    "```"
   ]
  },
  {
   "cell_type": "code",
   "execution_count": null,
   "metadata": {},
   "outputs": [],
   "source": [
    "from collections import Counter\n",
    "import logging\n",
    "import torch\n",
    "import pyro\n",
    "import pyro.distributions as dist\n",
    "from opt_einsum import contract as einsum\n",
    "from pyro.infer.autoguide import AutoDelta, init_to_sample\n",
    "from pyro.infer import SVI, Trace_ELBO\n",
    "from pyro.optim import Adam\n",
    "from pyro.distributions.spanning_tree import make_complete_graph\n",
    "from pyrophylo.cluster import sample_diverse_clusters\n",
    "import umap\n",
    "import matplotlib.pyplot as plt\n",
    "\n",
    "logging.basicConfig(format=\"%(relativeCreated) 9d %(message)s\", level=logging.INFO)"
   ]
  },
  {
   "cell_type": "code",
   "execution_count": null,
   "metadata": {},
   "outputs": [],
   "source": [
    "result = torch.load(\"results/gisaid.align.pt\")\n",
    "print(result.keys())\n",
    "features = result[\"features\"]\n",
    "data = features[:, :512].float()\n",
    "print(data.shape)"
   ]
  },
  {
   "cell_type": "markdown",
   "metadata": {},
   "source": [
    "First let's sample a diverse set of points, which we'll use for initialization below. We'll use reservoir sampling, weighting by diversity."
   ]
  },
  {
   "cell_type": "code",
   "execution_count": null,
   "metadata": {},
   "outputs": [],
   "source": [
    "%%time\n",
    "num_clusters = 100\n",
    "radius = 10.\n",
    "init_clusters, weights = sample_diverse_clusters(\n",
    "    data, num_clusters=num_clusters, radius=radius, log_every=100000)"
   ]
  },
  {
   "cell_type": "code",
   "execution_count": null,
   "metadata": {},
   "outputs": [],
   "source": [
    "plt.figure(figsize=(8, 3), dpi=300)\n",
    "plt.plot(weights)\n",
    "plt.yscale(\"log\");"
   ]
  },
  {
   "cell_type": "markdown",
   "metadata": {},
   "source": [
    "This model aims to minimize the sum of squares of mutation distances along a coarse phylogenetic tree consisting of ``K ~ 100`` internal nodes arranged in a spanning tree plus ``N ~ 300000`` leaves connected to the internal nodes. We marginalize over the spanning tree and over leaf-internal connections, and train on minibatches of leaves."
   ]
  },
  {
   "cell_type": "code",
   "execution_count": null,
   "metadata": {},
   "outputs": [],
   "source": [
    "%%time\n",
    "LOG = {}\n",
    "\n",
    "def make_tree_dist(centers, radius=1.):\n",
    "    v1, v2 = make_complete_graph(len(centers)).unbind(0)\n",
    "    distance = (centers[v1] - centers[v2]).abs().sum(-1)\n",
    "    edge_logits = (distance / radius).square().neg()\n",
    "    return dist.SpanningTree(edge_logits)\n",
    "\n",
    "def model(data, num_clusters=100, radius=1., batch_size=1024):\n",
    "    N, P = data.shape\n",
    "    K = num_clusters\n",
    "    centers = pyro.sample(\"centers\", dist.Uniform(0, 1).expand([K, P]).to_event(2))\n",
    "    tree_dist = make_tree_dist(centers, radius)\n",
    "    pyro.factor(\"internal\", tree_dist.log_partition_function)\n",
    "\n",
    "    with pyro.plate(\"data\", len(data), subsample_size=batch_size) as ind:\n",
    "        distance = torch.cdist(data[ind], centers, p=1)\n",
    "        logits = (distance / radius).square().neg()\n",
    "        LOG[\"logits\"] = logits.data\n",
    "        pyro.factor(\"leaf\", logits.logsumexp(-1))\n",
    "\n",
    "def init_loc_fn(site):\n",
    "    if site[\"name\"] == \"centers\":\n",
    "        return init_clusters * 0.99 + 0.005\n",
    "    return init_to_sample(site)\n",
    "\n",
    "guide = AutoDelta(model, init_loc_fn=init_loc_fn)\n",
    "\n",
    "pyro.clear_param_store()\n",
    "pyro.set_rng_seed(20201223)\n",
    "optim = Adam({\"lr\": 0.01, \"betas\": (0.8, 0.99)})\n",
    "svi = SVI(model, guide, optim, Trace_ELBO(max_plate_nesting=1))\n",
    "losses = []\n",
    "for step in range(501):\n",
    "    loss = svi.step(data, num_clusters, radius) / data.numel()\n",
    "    losses.append(loss)\n",
    "    if step % 50 == 0:\n",
    "        with torch.no_grad():\n",
    "            p = (LOG[\"logits\"] - LOG[\"logits\"].logsumexp(-1, True)).exp().mean(0)\n",
    "            perplexity = p.log().clamp(min=-100).neg().mul(p).sum().exp()\n",
    "        print(f\"step {step: >4d} loss = {loss:0.3g}\\tperplexity = {perplexity:0.2f}\")\n",
    "plt.figure(figsize=(8, 2), dpi=300)\n",
    "plt.plot(losses, lw=1);"
   ]
  },
  {
   "cell_type": "code",
   "execution_count": null,
   "metadata": {},
   "outputs": [],
   "source": [
    "with torch.no_grad():\n",
    "    centers = guide.median()[\"centers\"]\n",
    "    print(f\"distance from start = {(centers - init_clusters).abs().sum():0.1f}\")\n",
    "if True:\n",
    "    U, S, V = torch.pca_lowrank(centers)\n",
    "    x, y = U[:, 0], U[:, 1]\n",
    "else:\n",
    "    x, y = torch.from_numpy(umap.UMAP().fit_transform(centers)).T\n",
    "edges = make_tree_dist(centers, radius=0.01).sample()\n",
    "\n",
    "plt.figure(figsize=(8, 2), dpi=300)\n",
    "d = (centers[edges[:, 0]] - centers[edges[:, 1]]).abs().sum(-1)\n",
    "plt.plot(d.sort(descending=True).values, \"bo\", markersize=2)\n",
    "plt.text(len(d) * 0.8, d.max() * 0.8, f\"total length = {d.sum():0.1f}\",\n",
    "         horizontalalignment='center', verticalalignment='center')\n",
    "plt.ylabel(\"edge length\")\n",
    "\n",
    "plt.figure(figsize=(8, 6), dpi=300)\n",
    "xs, ys = [], []\n",
    "for v1, v2 in edges:\n",
    "    xs.extend((x[v1], x[v2], None))\n",
    "    ys.extend((y[v1], y[v2], None))\n",
    "    d = (centers[v1] - centers[v2]).abs().sum()\n",
    "    plt.text((x[v1] + x[v2]) / 2, (y[v1] + y[v2]) / 2, \"{:0.1f}\".format(d),\n",
    "             fontsize=6, horizontalalignment='center', verticalalignment='center')\n",
    "plt.plot(xs, ys, lw=0.5)\n",
    "plt.scatter(x, y)\n",
    "plt.xticks(())\n",
    "plt.yticks(())\n",
    "plt.box(False);"
   ]
  },
  {
   "cell_type": "code",
   "execution_count": null,
   "metadata": {},
   "outputs": [],
   "source": []
  }
 ],
 "metadata": {
  "kernelspec": {
   "display_name": "Python 3",
   "language": "python",
   "name": "python3"
  },
  "language_info": {
   "codemirror_mode": {
    "name": "ipython",
    "version": 3
   },
   "file_extension": ".py",
   "mimetype": "text/x-python",
   "name": "python",
   "nbconvert_exporter": "python",
   "pygments_lexer": "ipython3",
   "version": "3.6.12"
  }
 },
 "nbformat": 4,
 "nbformat_minor": 4
}
