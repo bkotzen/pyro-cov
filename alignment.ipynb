{
 "cells": [
  {
   "cell_type": "markdown",
   "metadata": {},
   "source": [
    "# Exploring alignment tools"
   ]
  },
  {
   "cell_type": "markdown",
   "metadata": {},
   "source": [
    "See [Bio.SeqIO docs](https://biopython.org/wiki/SeqIO) and [mappy docs](https://pypi.org/project/mappy/)."
   ]
  },
  {
   "cell_type": "code",
   "execution_count": null,
   "metadata": {},
   "outputs": [],
   "source": [
    "import re\n",
    "import json\n",
    "from collections import Counter, defaultdict\n",
    "from Bio import SeqIO\n",
    "import mappy\n",
    "import matplotlib.pyplot as plt\n",
    "import numpy as np\n",
    "import torch"
   ]
  },
  {
   "cell_type": "markdown",
   "metadata": {},
   "source": [
    "## How long are the sequences?"
   ]
  },
  {
   "cell_type": "code",
   "execution_count": null,
   "metadata": {},
   "outputs": [],
   "source": [
    "for reference in SeqIO.parse(\"data/ncbi-reference-sequence.fasta\", \"fasta\"):\n",
    "    break\n",
    "print(len(reference.seq))\n",
    "print(reference.seq[:1000] + \"...\")"
   ]
  },
  {
   "cell_type": "code",
   "execution_count": null,
   "metadata": {},
   "outputs": [],
   "source": [
    "aligner = mappy.Aligner(seq=str(reference.seq), preset=\"asm10\")"
   ]
  },
  {
   "cell_type": "code",
   "execution_count": null,
   "metadata": {},
   "outputs": [],
   "source": [
    "examples = []\n",
    "with open(\"results/gisaid.000-of-012.json\") as f:\n",
    "    for i, line in enumerate(f):\n",
    "        if i == 200:\n",
    "            break\n",
    "        datum = json.loads(line)\n",
    "        seq = datum[\"sequence\"].replace(\"\\n\", \"\")\n",
    "        examples.append(seq)\n",
    "        \n",
    "plt.figure(figsize=(8, 2), dpi=300)\n",
    "plt.plot(sorted(map(len, examples), reverse=True))\n",
    "plt.yscale(\"log\")\n",
    "plt.xlabel(\"rank\")\n",
    "plt.ylabel(\"sequence length\");"
   ]
  },
  {
   "cell_type": "code",
   "execution_count": null,
   "metadata": {},
   "outputs": [],
   "source": [
    "print([len(set(seq)) for seq in examples])\n",
    "print(Counter(examples[7]))"
   ]
  },
  {
   "cell_type": "markdown",
   "metadata": {},
   "source": [
    "## How frequent are aligned features?"
   ]
  },
  {
   "cell_type": "code",
   "execution_count": null,
   "metadata": {},
   "outputs": [],
   "source": [
    "result = torch.load(\"results/gisaid.align.pt\")\n",
    "stats = result[\"stats\"]\n",
    "features = result[\"features\"]\n",
    "print(result.keys())"
   ]
  },
  {
   "cell_type": "code",
   "execution_count": null,
   "metadata": {},
   "outputs": [],
   "source": [
    "plt.figure(figsize=(8, 6), dpi=300)\n",
    "x = defaultdict(list)\n",
    "y = defaultdict(list)\n",
    "s = defaultdict(list)\n",
    "for (pos, code, size), count in stats.items():\n",
    "    x[code].append(pos)\n",
    "    y[code].append(len(size) if isinstance(size, str) else size)\n",
    "    s[code].append(count)\n",
    "plt.scatter(x[\"X\"], torch.zeros(len(x[\"X\"])), s=torch.tensor(s[\"X\"]) / 20.,\n",
    "            color=\"darkblue\", alpha=0.2, lw=0)\n",
    "plt.scatter(x[\"I\"], torch.tensor(y[\"I\"]), s=s[\"I\"],\n",
    "            color=\"darkgreen\", alpha=0.5, lw=0)\n",
    "plt.scatter(x[\"D\"], -torch.tensor(y[\"D\"]), s=s[\"D\"],\n",
    "            color=\"darkred\", alpha=0.5, lw=0)\n",
    "plt.yscale(\"symlog\")\n",
    "plt.xlabel(\"position\")\n",
    "plt.ylabel(\"⟵ deletions    SNPs    insertions ⟶\")\n",
    "plt.axvline(2000, color=\"black\", linestyle=\"--\", alpha=0.5, lw=1, zorder=0)\n",
    "plt.axvline(27000, color=\"black\", linestyle=\"--\", alpha=0.5, lw=1, zorder=0)\n",
    "plt.title(\"frequency of mutations\");"
   ]
  },
  {
   "cell_type": "code",
   "execution_count": null,
   "metadata": {},
   "outputs": [],
   "source": [
    "feature_counts = features.sum(0)\n",
    "plt.figure(figsize=(8,4), dpi=300)\n",
    "plt.plot(torch.arange(1, 1 + len(feature_counts)),ss\n",
    "         feature_counts, \"bo\", lw=0, markersize=2)\n",
    "plt.yscale(\"log\")\n",
    "plt.xscale(\"log\")\n",
    "plt.title(f\"Frequency of {features.size(1)} mutations among {features.size(0)} samples\")\n",
    "plt.xlabel(\"rank\")\n",
    "plt.ylabel(\"# occurrences\");"
   ]
  },
  {
   "cell_type": "code",
   "execution_count": null,
   "metadata": {},
   "outputs": [],
   "source": [
    "subsample = features[torch.randperm(len(features))[:10000]].float()"
   ]
  },
  {
   "cell_type": "code",
   "execution_count": null,
   "metadata": {},
   "outputs": [],
   "source": [
    "%%time\n",
    "from sklearn.cluster import DBSCAN\n",
    "db = DBSCAN(eps=3, min_samples=10, metric=\"l1\").fit(subsample[:, :20])\n",
    "print(f\"Found {1 + db.labels_.max()} clusters\")"
   ]
  },
  {
   "cell_type": "code",
   "execution_count": null,
   "metadata": {},
   "outputs": [],
   "source": [
    "labels = torch.from_numpy(db.labels_)\n",
    "ok = labels != -1\n",
    "labels = labels[ok]\n",
    "num_clusters = 1 + labels.max().item()\n",
    "counts = torch.ones(num_clusters)\n",
    "counts.scatter_add_(0, labels, torch.ones(()).expand_as(labels))\n",
    "plt.figure(figsize=(8,4), dpi=300)\n",
    "plt.plot(torch.arange(1, 1 + len(counts)),\n",
    "         counts.sort(descending=True).values, \"bo\", lw=0, markersize=2)\n",
    "plt.yscale(\"log\")\n",
    "plt.xscale(\"log\")\n",
    "plt.title(f\"Sizes of {num_clusters} clusters \"\n",
    "          f\"(dropped {(~ok).sum():d}/{len(subsample)} noisy samples)\")\n",
    "plt.xlabel(\"rank\")\n",
    "plt.ylabel(\"cluster size\");"
   ]
  },
  {
   "cell_type": "code",
   "execution_count": null,
   "metadata": {},
   "outputs": [],
   "source": []
  }
 ],
 "metadata": {
  "kernelspec": {
   "display_name": "Python 3",
   "language": "python",
   "name": "python3"
  },
  "language_info": {
   "codemirror_mode": {
    "name": "ipython",
    "version": 3
   },
   "file_extension": ".py",
   "mimetype": "text/x-python",
   "name": "python",
   "nbconvert_exporter": "python",
   "pygments_lexer": "ipython3",
   "version": "3.6.12"
  }
 },
 "nbformat": 4,
 "nbformat_minor": 4
}
