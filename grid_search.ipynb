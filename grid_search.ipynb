{
 "cells": [
  {
   "cell_type": "markdown",
   "metadata": {},
   "source": [
    "# Analyzing results of grid search\n",
    "\n",
    "This notebook assumes you've downloaded data and run a grid search experiment\n",
    "```sh\n",
    "make update  # many hours\n",
    "python mutrans.py --grid-search  # many hours\n",
    "```"
   ]
  },
  {
   "cell_type": "code",
   "execution_count": null,
   "metadata": {},
   "outputs": [],
   "source": [
    "import math\n",
    "import re\n",
    "import numpy as np\n",
    "import pandas as pd\n",
    "import matplotlib\n",
    "import matplotlib.pyplot as plt\n",
    "\n",
    "matplotlib.rcParams[\"figure.dpi\"] = 200"
   ]
  },
  {
   "cell_type": "code",
   "execution_count": null,
   "metadata": {},
   "outputs": [],
   "source": [
    "df = pd.read_csv(\"results/grid_search.tsv\", sep=\"\\t\")\n",
    "df = df.fillna(\"\")\n",
    "df"
   ]
  },
  {
   "cell_type": "code",
   "execution_count": null,
   "metadata": {},
   "outputs": [],
   "source": [
    "model_type = df[\"model_type\"].to_list()\n",
    "cond_data = df[\"cond_data\"].to_list()\n",
    "corr = df[\"ρ_mutation\"].to_numpy()\n",
    "mae = df[\"England B.1.1.7 MAE\"].to_numpy()\n",
    "\n",
    "loss = df[\"loss\"].to_numpy()\n",
    "min_loss, max_loss = loss.min(), loss.max()\n",
    "assert (loss > 0).all(), \"you'll need to switch to symlog or sth\"\n",
    "loss = np.log(loss)\n",
    "loss -= loss.min()\n",
    "loss /= loss.max()\n",
    "\n",
    "RB_1_1_7 = df[\"R(B.1.1.7)/R(A)\"].to_numpy()\n",
    "RB_1_617_2 = df[\"R(B.1.617.2)/R(A)\"].to_numpy()\n",
    "R = (RB_1_617_2 / RB_1_1_7)\n",
    "min_R, max_R = R.min(), R.max()\n",
    "R = np.log(np.clip(R, -2, 2))\n",
    "R -= R.min()\n",
    "R /= R.max()\n",
    "\n",
    "def plot_corr_vs_mae(filenames=[], colorby=\"R\", x_min=0):\n",
    "    legend = {}\n",
    "    def abbreviate_param(match):\n",
    "        k = match.group()[:-1]\n",
    "        v = k[0].upper()\n",
    "        legend[v] = k\n",
    "        return v\n",
    "    def abbreviate_sample(match):\n",
    "        k = match.group()[:-1]\n",
    "        v = k[0]\n",
    "        legend[v] = k\n",
    "        return v + \"꞊\"\n",
    "    plt.figure(figsize=(8, 6))\n",
    "    X = corr\n",
    "    Y = mae\n",
    "    mask = X >= x_min\n",
    "    plt.scatter(X[mask], Y[mask], 30, (R if colorby == \"R\" else loss)[mask],\n",
    "                lw=0, alpha=0.8, cmap=\"coolwarm\")\n",
    "    plt.xlabel(\"Pearson correlation of mutation coefficients   (higher is better)\")\n",
    "    plt.ylabel(\"England B.1.1.7 portion MAE   (lower is better)\")\n",
    "    for x, y, mt, cd, l in zip(corr, mae, model_type, cond_data, loss):\n",
    "        if x < x_min:\n",
    "            continue\n",
    "        name = f\"  {mt}-{cd}\"\n",
    "        name = re.sub(\"[a-z_]+-\", abbreviate_param, name)\n",
    "        name = re.sub(\"[a-z_]+=\", abbreviate_sample, name)\n",
    "        name = name.replace(\"-\", \"\")\n",
    "        plt.text(x, y, name, fontsize=7, va=\"center\", alpha=1 - 0.666 * l)\n",
    "    if colorby == \"R\":\n",
    "        plt.plot([], [], \"bo\", markeredgewidth=0, markersize=5, alpha=0.5,\n",
    "                 label=f\"R(B.1.617.2)/R(B.1.1.7)={min_R:0.2g}\")\n",
    "        plt.plot([], [], \"ro\", markeredgewidth=0, markersize=5, alpha=0.5,\n",
    "                 label=f\"R(B.1.617.2)/R(B.1.1.7)={max_R:0.2g}\")\n",
    "    else:\n",
    "        plt.plot([], [], \"bo\", markeredgewidth=0, markersize=5, alpha=0.5,\n",
    "                 label=f\"loss={min_loss:0.2g} (better)\")\n",
    "        plt.plot([], [], \"ro\", markeredgewidth=0, markersize=5, alpha=0.5,\n",
    "                 label=f\"loss={max_loss:0.2g} (worse)\")\n",
    "    for k, v in sorted(legend.items()):\n",
    "        plt.plot([], [], \"wo\", label=f\"{k} = {v}\")\n",
    "    plt.legend(loc=\"upper left\", fontsize=\"small\")\n",
    "    plt.xlim(x_min, 1)\n",
    "    plt.yscale(\"log\")\n",
    "    plt.tight_layout()\n",
    "    for filename in filenames:\n",
    "        plt.savefig(filename)\n",
    "        \n",
    "plot_corr_vs_mae([\"paper/grid_search.png\"])\n",
    "plot_corr_vs_mae([\"paper/grid_search_zoom.png\"], x_min=0.8)"
   ]
  },
  {
   "cell_type": "code",
   "execution_count": null,
   "metadata": {},
   "outputs": [],
   "source": []
  }
 ],
 "metadata": {
  "kernelspec": {
   "display_name": "Python 3",
   "language": "python",
   "name": "python3"
  },
  "language_info": {
   "codemirror_mode": {
    "name": "ipython",
    "version": 3
   },
   "file_extension": ".py",
   "mimetype": "text/x-python",
   "name": "python",
   "nbconvert_exporter": "python",
   "pygments_lexer": "ipython3",
   "version": "3.6.12"
  }
 },
 "nbformat": 4,
 "nbformat_minor": 4
}
